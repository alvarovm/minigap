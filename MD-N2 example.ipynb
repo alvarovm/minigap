{
 "cells": [
  {
   "cell_type": "markdown",
   "metadata": {},
   "source": [
    "## Example N2 Optimization and MD\n",
    "\n",
    "See https://wiki.fysik.dtu.dk/ase/tutorials/tutorials.html"
   ]
  },
  {
   "cell_type": "markdown",
   "metadata": {},
   "source": [
    "### Defining N2 molecule and computing atomization energy with EMT potential"
   ]
  },
  {
   "cell_type": "code",
   "execution_count": 32,
   "metadata": {},
   "outputs": [
    {
     "name": "stdout",
     "output_type": "stream",
     "text": [
      "Nitrogen atom energy:  5.10 eV\n",
      "Nitrogen molecule energy:  0.44 eV\n",
      "Atomization energy:  9.76 eV\n"
     ]
    }
   ],
   "source": [
    "from ase import Atoms\n",
    "from ase.calculators.emt import EMT\n",
    "\n",
    "atom = Atoms('N')\n",
    "atom.calc = EMT()\n",
    "e_atom = atom.get_potential_energy()\n",
    "\n",
    "d = 1.1\n",
    "molecule = Atoms('2N', [(0., 0., 0.), (0., 0., d)])\n",
    "molecule.calc = EMT()\n",
    "e_molecule = molecule.get_potential_energy()\n",
    "\n",
    "e_atomization = e_molecule - 2 * e_atom\n",
    "\n",
    "print('Nitrogen atom energy: %5.2f eV' % e_atom)\n",
    "print('Nitrogen molecule energy: %5.2f eV' % e_molecule)\n",
    "print('Atomization energy: %5.2f eV' % -e_atomization)"
   ]
  },
  {
   "cell_type": "markdown",
   "metadata": {},
   "source": [
    "### Running geometry optimization with BFGS"
   ]
  },
  {
   "cell_type": "code",
   "execution_count": 8,
   "metadata": {},
   "outputs": [
    {
     "name": "stdout",
     "output_type": "stream",
     "text": [
      "      Step     Time          Energy         fmax\n",
      "BFGS:    0 18:24:33        6.035493        5.4516\n",
      "BFGS:    1 18:24:33        5.582586        5.8694\n",
      "BFGS:    2 18:24:33        5.096836        6.2701\n",
      "BFGS:    3 18:24:33        4.580312        6.6353\n",
      "BFGS:    4 18:24:33        4.036764        6.9411\n",
      "BFGS:    5 18:24:33        3.472142        7.1563\n",
      "BFGS:    6 18:24:34        2.895239        7.2406\n",
      "BFGS:    7 18:24:34        2.318495        7.1427\n",
      "BFGS:    8 18:24:34        1.758995        6.7973\n",
      "BFGS:    9 18:24:34        1.239699        6.1222\n",
      "BFGS:   10 18:24:34        0.790959        5.0142\n",
      "BFGS:   11 18:24:34        0.452392        3.3440\n",
      "BFGS:   12 18:24:34        0.275168        0.9508\n",
      "BFGS:   13 18:24:34        0.263524        0.2435\n",
      "BFGS:   14 18:24:34        0.262779        0.0125\n"
     ]
    },
    {
     "data": {
      "text/plain": [
       "True"
      ]
     },
     "execution_count": 8,
     "metadata": {},
     "output_type": "execute_result"
    }
   ],
   "source": [
    "from ase.optimize import BFGS\n",
    "dyn = BFGS(molecule)\n",
    "dyn.run(fmax=0.05)"
   ]
  },
  {
   "cell_type": "markdown",
   "metadata": {},
   "source": [
    "#### Optimization using MDMin algorithm"
   ]
  },
  {
   "cell_type": "code",
   "execution_count": null,
   "metadata": {},
   "outputs": [],
   "source": [
    "from ase.optimize import MDMin\n",
    "optmd = MDMin(molecule)\n",
    "optmd.run(fmax=0.0005)"
   ]
  },
  {
   "cell_type": "markdown",
   "metadata": {},
   "source": [
    "### Running and NVE calculation"
   ]
  },
  {
   "cell_type": "code",
   "execution_count": 33,
   "metadata": {},
   "outputs": [],
   "source": [
    "from ase.lattice.cubic import FaceCenteredCubic\n",
    "from ase.md.velocitydistribution import MaxwellBoltzmannDistribution\n",
    "from ase.md.verlet import VelocityVerlet\n",
    "from ase import units\n",
    "# Describe the interatomic interactions with the Effective Medium Theory\n",
    "\n",
    "# Set the momenta corresponding to T=300K\n",
    "MaxwellBoltzmannDistribution(molecule, temp=500)\n",
    "\n",
    "# We want to run MD with constant energy using the VelocityVerlet algorithm.\n",
    "#dyn = VelocityVerlet(molecule, 1 * units.fs)  # 5 fs time step\n",
    "dyn = VelocityVerlet(molecule, 1 * units.fs, trajectory='md.traj', logfile='md.log')  # 5 fs time step\n",
    "\n",
    "\n",
    "\n",
    "def printenergy(a):\n",
    "    \"\"\"Function to print the potential, kinetic and total energy\"\"\"\n",
    "    epot = a.get_potential_energy() / len(a)\n",
    "    ekin = a.get_kinetic_energy() / len(a)\n",
    "    print('Energy per atom: Epot = %.3feV  Ekin = %.3feV (T=%3.0fK)  '\n",
    "          'Etot = %.3feV' % (epot, ekin, ekin / (1.5 * units.kB), epot + ekin))"
   ]
  },
  {
   "cell_type": "code",
   "execution_count": 34,
   "metadata": {},
   "outputs": [
    {
     "name": "stdout",
     "output_type": "stream",
     "text": [
      "Energy per atom: Epot = 0.220eV  Ekin = 1070.580eV (T=8282379K)  Etot = 1070.800eV\n",
      "Energy per atom: Epot = 5.012eV  Ekin = 1065.825eV (T=8245593K)  Etot = 1070.837eV\n",
      "Energy per atom: Epot = 5.100eV  Ekin = 1065.739eV (T=8244928K)  Etot = 1070.839eV\n",
      "Energy per atom: Epot = 5.100eV  Ekin = 1065.739eV (T=8244928K)  Etot = 1070.839eV\n",
      "Energy per atom: Epot = 5.100eV  Ekin = 1065.739eV (T=8244928K)  Etot = 1070.839eV\n",
      "Energy per atom: Epot = 5.100eV  Ekin = 1065.739eV (T=8244928K)  Etot = 1070.839eV\n",
      "Energy per atom: Epot = 5.100eV  Ekin = 1065.739eV (T=8244928K)  Etot = 1070.839eV\n",
      "Energy per atom: Epot = 5.100eV  Ekin = 1065.739eV (T=8244928K)  Etot = 1070.839eV\n",
      "Energy per atom: Epot = 5.100eV  Ekin = 1065.739eV (T=8244928K)  Etot = 1070.839eV\n",
      "Energy per atom: Epot = 5.100eV  Ekin = 1065.739eV (T=8244928K)  Etot = 1070.839eV\n",
      "Energy per atom: Epot = 5.100eV  Ekin = 1065.739eV (T=8244928K)  Etot = 1070.839eV\n",
      "Energy per atom: Epot = 5.100eV  Ekin = 1065.739eV (T=8244928K)  Etot = 1070.839eV\n",
      "Energy per atom: Epot = 5.100eV  Ekin = 1065.739eV (T=8244928K)  Etot = 1070.839eV\n",
      "Energy per atom: Epot = 5.100eV  Ekin = 1065.739eV (T=8244928K)  Etot = 1070.839eV\n",
      "Energy per atom: Epot = 5.100eV  Ekin = 1065.739eV (T=8244928K)  Etot = 1070.839eV\n",
      "Energy per atom: Epot = 5.100eV  Ekin = 1065.739eV (T=8244928K)  Etot = 1070.839eV\n",
      "Energy per atom: Epot = 5.100eV  Ekin = 1065.739eV (T=8244928K)  Etot = 1070.839eV\n",
      "Energy per atom: Epot = 5.100eV  Ekin = 1065.739eV (T=8244928K)  Etot = 1070.839eV\n",
      "Energy per atom: Epot = 5.100eV  Ekin = 1065.739eV (T=8244928K)  Etot = 1070.839eV\n",
      "Energy per atom: Epot = 5.100eV  Ekin = 1065.739eV (T=8244928K)  Etot = 1070.839eV\n",
      "Energy per atom: Epot = 5.100eV  Ekin = 1065.739eV (T=8244928K)  Etot = 1070.839eV\n"
     ]
    }
   ],
   "source": [
    "printenergy(molecule)\n",
    "for i in range(20):\n",
    "    dyn.run(10)\n",
    "    printenergy(molecule)"
   ]
  },
  {
   "cell_type": "markdown",
   "metadata": {},
   "source": [
    "###  Running MD with NVT (t=300K)"
   ]
  },
  {
   "cell_type": "code",
   "execution_count": 27,
   "metadata": {},
   "outputs": [],
   "source": [
    "from ase.md import Langevin\n",
    "dyn = Langevin(molecule, 5 * units.fs, 300, 0.002)"
   ]
  },
  {
   "cell_type": "code",
   "execution_count": 31,
   "metadata": {},
   "outputs": [
    {
     "name": "stdout",
     "output_type": "stream",
     "text": [
      "Energy per atom: Epot = 5.100eV  Ekin = 496.940eV (T=3844498K)  Etot = 502.040eV\n",
      "Energy per atom: Epot = 5.100eV  Ekin = 502.891eV (T=3890539K)  Etot = 507.991eV\n",
      "Energy per atom: Epot = 5.100eV  Ekin = 513.924eV (T=3975893K)  Etot = 519.024eV\n",
      "Energy per atom: Epot = 5.100eV  Ekin = 481.890eV (T=3728067K)  Etot = 486.990eV\n",
      "Energy per atom: Epot = 5.100eV  Ekin = 351.229eV (T=2717231K)  Etot = 356.329eV\n",
      "Energy per atom: Epot = 5.100eV  Ekin = 410.133eV (T=3172928K)  Etot = 415.233eV\n",
      "Energy per atom: Epot = 5.100eV  Ekin = 372.715eV (T=2883450K)  Etot = 377.815eV\n",
      "Energy per atom: Epot = 5.100eV  Ekin = 370.981eV (T=2870039K)  Etot = 376.081eV\n",
      "Energy per atom: Epot = 5.100eV  Ekin = 376.211eV (T=2910499K)  Etot = 381.311eV\n",
      "Energy per atom: Epot = 5.100eV  Ekin = 394.036eV (T=3048400K)  Etot = 399.136eV\n",
      "Energy per atom: Epot = 5.100eV  Ekin = 382.701eV (T=2960710K)  Etot = 387.801eV\n",
      "Energy per atom: Epot = 5.100eV  Ekin = 432.530eV (T=3346202K)  Etot = 437.630eV\n",
      "Energy per atom: Epot = 5.100eV  Ekin = 456.924eV (T=3534920K)  Etot = 462.024eV\n",
      "Energy per atom: Epot = 5.100eV  Ekin = 348.709eV (T=2697731K)  Etot = 353.809eV\n",
      "Energy per atom: Epot = 5.100eV  Ekin = 339.991eV (T=2630290K)  Etot = 345.091eV\n",
      "Energy per atom: Epot = 5.100eV  Ekin = 391.408eV (T=3028069K)  Etot = 396.508eV\n",
      "Energy per atom: Epot = 5.100eV  Ekin = 363.217eV (T=2809973K)  Etot = 368.317eV\n",
      "Energy per atom: Epot = 5.100eV  Ekin = 368.632eV (T=2851869K)  Etot = 373.732eV\n",
      "Energy per atom: Epot = 5.100eV  Ekin = 342.903eV (T=2652819K)  Etot = 348.003eV\n",
      "Energy per atom: Epot = 5.100eV  Ekin = 289.574eV (T=2240246K)  Etot = 294.674eV\n",
      "Energy per atom: Epot = 5.100eV  Ekin = 322.023eV (T=2491281K)  Etot = 327.123eV\n",
      "Energy per atom: Epot = 5.100eV  Ekin = 301.243eV (T=2330518K)  Etot = 306.343eV\n",
      "Energy per atom: Epot = 5.100eV  Ekin = 261.870eV (T=2025920K)  Etot = 266.970eV\n",
      "Energy per atom: Epot = 5.100eV  Ekin = 225.545eV (T=1744896K)  Etot = 230.645eV\n",
      "Energy per atom: Epot = 5.100eV  Ekin = 193.876eV (T=1499895K)  Etot = 198.976eV\n",
      "Energy per atom: Epot = 5.100eV  Ekin = 191.677eV (T=1482883K)  Etot = 196.777eV\n",
      "Energy per atom: Epot = 5.100eV  Ekin = 269.044eV (T=2081418K)  Etot = 274.144eV\n",
      "Energy per atom: Epot = 5.100eV  Ekin = 279.628eV (T=2163296K)  Etot = 284.728eV\n",
      "Energy per atom: Epot = 5.100eV  Ekin = 272.628eV (T=2109147K)  Etot = 277.728eV\n",
      "Energy per atom: Epot = 5.100eV  Ekin = 325.584eV (T=2518830K)  Etot = 330.684eV\n",
      "Energy per atom: Epot = 5.100eV  Ekin = 302.639eV (T=2341320K)  Etot = 307.739eV\n",
      "Energy per atom: Epot = 5.100eV  Ekin = 290.181eV (T=2244944K)  Etot = 295.281eV\n",
      "Energy per atom: Epot = 5.100eV  Ekin = 312.392eV (T=2416771K)  Etot = 317.492eV\n",
      "Energy per atom: Epot = 5.100eV  Ekin = 264.904eV (T=2049392K)  Etot = 270.004eV\n",
      "Energy per atom: Epot = 5.100eV  Ekin = 300.188eV (T=2322362K)  Etot = 305.288eV\n",
      "Energy per atom: Epot = 5.100eV  Ekin = 267.403eV (T=2068724K)  Etot = 272.503eV\n",
      "Energy per atom: Epot = 5.100eV  Ekin = 238.012eV (T=1841340K)  Etot = 243.112eV\n",
      "Energy per atom: Epot = 5.100eV  Ekin = 219.132eV (T=1695282K)  Etot = 224.232eV\n",
      "Energy per atom: Epot = 5.100eV  Ekin = 225.250eV (T=1742613K)  Etot = 230.350eV\n",
      "Energy per atom: Epot = 5.100eV  Ekin = 231.694eV (T=1792468K)  Etot = 236.794eV\n",
      "Energy per atom: Epot = 5.100eV  Ekin = 295.549eV (T=2286467K)  Etot = 300.649eV\n",
      "Energy per atom: Epot = 5.100eV  Ekin = 341.504eV (T=2641991K)  Etot = 346.604eV\n",
      "Energy per atom: Epot = 5.100eV  Ekin = 268.308eV (T=2075727K)  Etot = 273.408eV\n",
      "Energy per atom: Epot = 5.100eV  Ekin = 254.224eV (T=1966765K)  Etot = 259.324eV\n",
      "Energy per atom: Epot = 5.100eV  Ekin = 268.223eV (T=2075063K)  Etot = 273.323eV\n",
      "Energy per atom: Epot = 5.100eV  Ekin = 315.043eV (T=2437284K)  Etot = 320.143eV\n",
      "Energy per atom: Epot = 5.100eV  Ekin = 252.543eV (T=1953759K)  Etot = 257.643eV\n",
      "Energy per atom: Epot = 5.100eV  Ekin = 239.312eV (T=1851398K)  Etot = 244.412eV\n",
      "Energy per atom: Epot = 5.100eV  Ekin = 235.666eV (T=1823194K)  Etot = 240.766eV\n",
      "Energy per atom: Epot = 5.100eV  Ekin = 244.231eV (T=1889457K)  Etot = 249.331eV\n"
     ]
    }
   ],
   "source": [
    "for i in range(50):\n",
    "    dyn.run(10)\n",
    "    printenergy(molecule)"
   ]
  },
  {
   "cell_type": "code",
   "execution_count": 39,
   "metadata": {},
   "outputs": [],
   "source": [
    "from ase.io import read, write\n",
    "ta = read('md.traj',index=':')"
   ]
  },
  {
   "cell_type": "code",
   "execution_count": 40,
   "metadata": {},
   "outputs": [
    {
     "data": {
      "text/plain": [
       "201"
      ]
     },
     "execution_count": 40,
     "metadata": {},
     "output_type": "execute_result"
    }
   ],
   "source": [
    "len(ta)"
   ]
  },
  {
   "cell_type": "code",
   "execution_count": 41,
   "metadata": {},
   "outputs": [
    {
     "data": {
      "text/plain": [
       "0.44034357303561467"
      ]
     },
     "execution_count": 41,
     "metadata": {},
     "output_type": "execute_result"
    }
   ],
   "source": [
    "ta[0].get_potential_energy()"
   ]
  },
  {
   "cell_type": "code",
   "execution_count": 46,
   "metadata": {},
   "outputs": [
    {
     "name": "stdout",
     "output_type": "stream",
     "text": [
      "0.44034357303561467\n",
      "0.3797337310795117\n"
     ]
    }
   ],
   "source": [
    "for e in ta[:2]:\n",
    "    print(e.get_potential_energy())"
   ]
  },
  {
   "cell_type": "code",
   "execution_count": 47,
   "metadata": {},
   "outputs": [],
   "source": [
    "write('md-n2.extxyz',ta[:2],format='extxyz')"
   ]
  },
  {
   "cell_type": "code",
   "execution_count": null,
   "metadata": {},
   "outputs": [],
   "source": []
  }
 ],
 "metadata": {
  "kernelspec": {
   "display_name": "librascal",
   "language": "python",
   "name": "librascal"
  },
  "language_info": {
   "codemirror_mode": {
    "name": "ipython",
    "version": 3
   },
   "file_extension": ".py",
   "mimetype": "text/x-python",
   "name": "python",
   "nbconvert_exporter": "python",
   "pygments_lexer": "ipython3",
   "version": "3.9.1"
  }
 },
 "nbformat": 4,
 "nbformat_minor": 4
}
