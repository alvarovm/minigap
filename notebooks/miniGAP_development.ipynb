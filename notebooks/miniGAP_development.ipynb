{
 "cells": [
  {
   "cell_type": "markdown",
   "metadata": {},
   "source": [
    "***  \n",
    "<h1><center>\n",
    "    miniGAP\n",
    "</center></h1>    \n",
    "\n",
    "***  \n"
   ]
  },
  {
   "cell_type": "markdown",
   "metadata": {},
   "source": [
    "You can perform all the functions of miniGAP within this notebook or you can create a python script from the last cell of this notebook and run the script in the terminal."
   ]
  },
  {
   "cell_type": "markdown",
   "metadata": {},
   "source": [
    "## Initialization Tasks "
   ]
  },
  {
   "cell_type": "markdown",
   "metadata": {},
   "source": [
    "Debugging TensorFlow"
   ]
  },
  {
   "cell_type": "code",
   "execution_count": 1,
   "metadata": {},
   "outputs": [],
   "source": [
    "# This cell gives us a couple options for debugging Tensorflow.\n",
    "# It is the first code cell, because it must be run, before the TensorFlow library is imported and it is most convenient to import all modules in the next cell\n",
    "# To enable this debugging, you must change one of the debugging flags to True and run this cell *before* importing running later cells\n",
    "# Currently this is only done manually from the notebook, but could be included as a JSON setting in the future if desirable\n",
    "\n",
    "tf_cpu_debugging =False\n",
    "if tf_cpu_debugging:\n",
    "    import os\n",
    "    os.environ['CUDA_VISIBLE_DEVICES'] = '-1'\n",
    "    import tensorflow as tf\n",
    "    #tf.debugging.set_log_device_placement(True)\n",
    "    a = tf.constant(1)\n",
    "    \n",
    "    if tf.test.gpu_device_name():\n",
    "        print(\"GPUs recognized by tensorflow:\", tf.config.list_physical_devices('GPU'))\n",
    "    else:\n",
    "        print(\"No GPU found\")\n",
    "\n",
    "tf_gpu_debugging = False\n",
    "if tf_gpu_debugging:\n",
    "#     See here for possible option to reset memory github.com/tensorflow/tensorflow/issues/36465\n",
    "#     import os \n",
    "#     os.environ['TF_GPU_ALLOCATOR']='cuda_malloc_async'\n",
    "    import tensorflow as tf\n",
    "    tf.debugging.set_log_device_placement(True)\n",
    "    a = tf.constant(1)\n",
    "    if tf.test.gpu_device_name():\n",
    "        print(\"GPUs recognized by tensorflow:\", tf.config.list_physical_devices('GPU'))\n",
    "    else:\n",
    "        print(\"No GPU found\")\n"
   ]
  },
  {
   "cell_type": "code",
   "execution_count": 2,
   "metadata": {},
   "outputs": [],
   "source": [
    "# This cell performs a couple initialization tasks that have to start before even importing all the libraries or settings\n",
    "# 1) Defines a version of miniGAP (hardcoded)\n",
    "# 2) Determines whether this is being run as a notebook or a script with in_notebook(). Some tasks are only performed in the notebook and vice versa.\n",
    "#    in_notebook() is a function that returns True if this code is run from an ipython kernel or False otherwise\n",
    "#    I need to do this first, because the following task is performed conditional on this being run as a script\n",
    "# 3) Times the initial setup of miniGAP if we are running the miniGAP script.\n",
    "#    Initial setup refers to everything starting with this task up to and including gathering structural info (like energies)\n",
    "# 4) Import functions and libraries used by miniGAP \n",
    "# 5) Determines a path to the miniGAP home directory which can be used for reading or writing files.\n",
    "# 6) Determines the date for use in naming output files\n",
    "# 7) Imports a banner to printed at the beginning of script output\n",
    "# 8) Sets a printing format\n",
    "# 9) Compiles some functions as tf.functions\n",
    "# 10) Sets a list of values to be interpreted as Nonetype\n",
    "\n",
    "version = \"0.0.1\"\n",
    "\n",
    "import sys\n",
    "sys.path.append('../code')\n",
    "from general_helpers import *\n",
    "# True if run from ipython kernel or False otherwise\n",
    "in_notebook = check_if_in_notebook()\n",
    "\n",
    "# Time initial setup\n",
    "import time\n",
    "if not in_notebook:\n",
    "    TimeBeforeStartUp = time.time()\n",
    "\n",
    "# import functions\n",
    "## import functions from my files\n",
    "from miniGAP_helpers import *\n",
    "from general_helpers import *\n",
    "# ideally I wouldn't need to import this\n",
    "from ASE_helpers import convert_energy, convert_force\n",
    "\n",
    "\n",
    "## import functions from libraries\n",
    "import os.path as path\n",
    "import argparse\n",
    "import json\n",
    "from collections import namedtuple\n",
    "import datetime as dt \n",
    "import resource\n",
    "import numpy as np\n",
    "from sklearn.model_selection import train_test_split\n",
    "import tensorflow as tf\n",
    "import gpflow\n",
    "from itertools import islice\n",
    "import matplotlib.pyplot as plt\n",
    "from gpflow.utilities import print_summary\n",
    "    \n",
    "# Sets the miniGAP home directory. This assumes the notebook or script is located one directory below the home directory.\n",
    "if in_notebook:\n",
    "    miniGAP_parent_directory = \"../\"\n",
    "else:\n",
    "    miniGAP_parent_directory = path.dirname(path.dirname(path.realpath(__file__))) + \"/\"\n",
    "    \n",
    "# Save date for use in naming output files\n",
    "today = dt.datetime.today()\n",
    "today_string = \"_{:d}_{:02d}_{:02d}\".format(today.year, today.month, today.day)\n",
    "today_string_alt = \"{:d}/{:02d}/{:02d}\".format(today.year, today.month, today.day)\n",
    "\n",
    "# Save date for use in naming output files\n",
    "version_placeholder = \"_VERSION_PLACEHOLDER_\"\n",
    "date_placeholder = \"_DATE_PLACEHOLDER_\"\n",
    "version_formatted = \"{:{str_len}s}\".format(version, str_len=len(version_placeholder) )\n",
    "date_formatted = \"{:{str_len}s}\".format(today_string_alt, str_len=len(date_placeholder) )\n",
    "miniGAP_banner_filename = miniGAP_parent_directory + \"code/miniGAP_banner.txt\"\n",
    "with open(miniGAP_banner_filename, \"r\") as banner_file:\n",
    "    banner = banner_file.read()\n",
    "banner = banner.replace(version_placeholder, version_formatted).replace(date_placeholder, date_formatted)\n",
    "\n",
    "# Sets the printing format of gpflow model hyperparameters\n",
    "if in_notebook:\n",
    "    gpflow.config.set_default_summary_fmt(\"notebook\")\n",
    "else:\n",
    "    gpflow.config.set_default_summary_fmt(\"grid\")\n",
    "    \n",
    "# Compiles some functions as TensorFlow tf functions not all of which are currently used\n",
    "# Compiled tf functions are several times faster than normal functions\n",
    "mse_tf = tf.function(mse, autograph=False, jit_compile=False)\n",
    "mse_2factor_tf = tf.function(mse_2factor, autograph=False, jit_compile=False)\n",
    "train_hyperparams_without_forces_tf = tf.function(train_hyperparams_without_forces, autograph=False, jit_compile=False)\n",
    "predict_energies_from_weights_tf = tf.function(predict_energies_from_weights, autograph=False, jit_compile=False)\n",
    "\n",
    "# This could be used to define what input values will be interpretted as None.\n",
    "# This may be useful if there are common user-input mistakes when setting a value to None from the commandline or JSON input.\n",
    "# However, I do not use this yet.\n",
    "nonetypes = [None, \"None\", \"null\", \"\"]"
   ]
  },
  {
   "cell_type": "markdown",
   "metadata": {},
   "source": [
    "## Input parameters"
   ]
  },
  {
   "cell_type": "markdown",
   "metadata": {},
   "source": [
    "Some input parameter notes (not comprehensive):\n",
    "\n",
    "my_priority = #\"efficiency\" for experimenting with something new or otherwise \"consistency\"\n",
    "\n",
    "controls initial train_test_split breaking apart training and test data  \n",
    "split_seed = 2\n",
    "\n",
    "controls in-training train_test_split breaking apart training_j and validation_j data  \n",
    "valid_split_seed = 2\n",
    "\n",
    "controls multiple tf stochastic processes including:  \n",
    "1) Adams optimizer AND   \n",
    "2) batching through tf.data.Dataset.from_tensor_slices in training  \n",
    "tf_seed = 2\n",
    "\n",
    "controls batching through tf.data.Dataset.from_tensor_slices in training  \n",
    "shuffle_seed = 2\n",
    "\n",
    "kernel_type = #\"polynomial\" for actual GAP or \"exponentiated_quadratic\" possibly for debugging  \n",
    "\n",
    "prediction_calculation = #\"direct\" OR \"predict_f\" OR \"cholesky\" OR \"alpha\"\n",
    "\n",
    "import_fraction has priority over n_total  \n",
    "Therefore, set import_fraction = null to use n_total  \n",
    "If you are compiling your dataset in any way other than directly importing it, i.e. using MD of some sort,  \n",
    "then you can only use n_total\n",
    "\n",
    "n_train has priority over train_fraction  \n",
    "Therefore, set n_train = null to use train_fraction"
   ]
  },
  {
   "cell_type": "code",
   "execution_count": 3,
   "metadata": {},
   "outputs": [],
   "source": [
    "# This cell imports settings from the default and user JSON files and saves them to default_JSON_settings_dict and user_JSON_settings_dict respectively\n",
    "# The setting priority in descending order is: (1) commandline argument, (2) user_settings JSON, (3) default_settings JSON\n",
    "# Some settings from the JSON files may be overwritten by commandline args for use in the code, but the JSON_settings_dict dictionaries is not edited.\n",
    "# These disctionaries are currently no longer used after saving them to the namedtuple object (see a few cells down), but they might be useful in the future for debugging.\n",
    "# Note 1: You can change the input parameters in the JSON file and rerun the notebook starting from here\n",
    "# Note 2: To debug or reformat the JSON file, I recommend jsonformatter.org\n",
    "# Note 3: The settings file from which these data are imported has a nested structure. This is exclusively for ease of navigation for the user.\n",
    "#         The parent settings names such as \"debugging_settings\" are completely ignored by the code\n",
    "#         Therefore, you can also use a settings file saved from a previous run, which may not have a nested structure.\n",
    "\n",
    "settings_json_filename = miniGAP_parent_directory + \"code/default_settings.json\"\n",
    "with open(settings_json_filename, encoding = 'utf-8') as settings_file_object:\n",
    "    default_JSON_settings_dict_nested = json.load(settings_file_object)\n",
    "default_JSON_settings_dict = flatten_dict(default_JSON_settings_dict_nested)\n",
    "\n",
    "settings_json_filename = miniGAP_parent_directory + \"code/user_settings.json\"\n",
    "with open(settings_json_filename, encoding = 'utf-8') as settings_file_object:\n",
    "    user_JSON_settings_dict_nested = json.load(settings_file_object)\n",
    "user_JSON_settings_dict = flatten_dict(user_JSON_settings_dict_nested)\n"
   ]
  },
  {
   "cell_type": "code",
   "execution_count": 4,
   "metadata": {},
   "outputs": [],
   "source": [
    "# This cell allows the miniGAP script to accept commandline parameters\n",
    "# These commandline parameters have priority over the JSON settings\n",
    "# Most, but not all of the JSON settings can be overwritten using a commandline option\n",
    "\n",
    "if not in_notebook:\n",
    "    parser = argparse.ArgumentParser()\n",
    "    \n",
    "    # arguments for debugging\n",
    "    parser.add_argument('--verbose', type=bool, help=\"Print out details at each step\") \n",
    "    parser.add_argument('-vt', '--print_timings', type=bool, help=\"Print out details at each step\") \n",
    "\n",
    "    # arguments specific to forming dataset (including potentially creating md trajectory)\n",
    "    parser.add_argument('-sf', '--structure_file', help=\"Specify a structure file to import. 'None' will be interpretted as using no structure file.\")\n",
    "    parser.add_argument('-cf', '--chemical_formula',  help=\"If no structure file is supplied, you can specify a single structure here and perform md \\\n",
    "    to generate a trajectory that you will use as your dataset. If neither this nor a structure file are supplied, we will use diatomics.\")\n",
    "    parser.add_argument(\"-md\", '--molecular_dynamics', type=bool, help=\"Indicate if you want molecular dynamics performed. Will generate diatomic if no structure given\")\n",
    "    # available as a JSON parameter, but commandline argument is buggy\n",
    "#     parser.add_argument('-mdi', '--md_indices', default=[0], type=int, nargs='*', help=\"If performing molecular dynamics on a structure file with multiple structures, you can give indices of all structures to perform md on.\")\n",
    "    parser.add_argument('-mdi', '--md_index', type=int, help=\"If performing molecular dynamics on a structure file with multiple structures, you can give the index of the structure to perform md on.\")\n",
    "    parser.add_argument('-de', '--diatomic_element',  choices = [\"N\", \"O\", \"H\"], help=\"If generating diatomics, you can specify element\")\n",
    "    parser.add_argument('-dbl', '--diatomic_bond_length',  type=float, help=\"If generating diatomics, you can specify initial bond length\")\n",
    "    parser.add_argument('-mdt', '--md_temp',  type=float, help=\"If performing molecular dynamics, specify temperatutre (K) of MD\")\n",
    "    parser.add_argument('-mda', '--md_algorithm',  choices = [\"VelocityVerlet\", \"Berendsen\"], type=str, help=\"If performing molecular dynamics, specify algorithm of MD\")\n",
    "    parser.add_argument('-mts', '--md_time_step',  type=float, help=\"If performing molecular dynamics, specify time step (fs) of MD\")\n",
    "    parser.add_argument('-mds', '--md_seed',  type=int, help=\"If performing molecular dynamics, change this seed to get different trajectories\")\n",
    "    parser.add_argument('-mec', '--md_energy_calculator',  choices = [\"EMT\", \"LJ\", \"Morse\"], help = \"If performing molecular dynamics, specify ASE energy/force calculator\")\n",
    "    parser.add_argument('-n', '--n_total',  type=int, help=\"Specify # of md generated structures or # of structures to use from input file\")\n",
    "    parser.add_argument('-ns', '--n_sparse',  type=int, help=\"Specify # of characteristic sparse point to use\")\n",
    "\n",
    "    # arguments specific to soap\n",
    "    parser.add_argument('--rcut',  type=float, help= \"Choice of SOAP cut off radius\")\n",
    "    parser.add_argument('--nmax',  type=int, help=\"Choice of SOAP n_max\")\n",
    "    parser.add_argument('--lmax',  type=int, help=\"Choice of SOAP l_max\")\n",
    "\n",
    "    # arguments specific to learning\n",
    "    parser.add_argument('-ss', '--split_seed', type=int, help=\"Random seed for cross-validation\")\n",
    "    parser.add_argument('-tf', '--train_fraction', type=float, help=\"Specify the fraction of structures used in training\")\n",
    "    parser.add_argument('-ne', '--n_epochs', type=int, help=\"Number of epochs\")\n",
    "\n",
    "#     some housekeeping\n",
    "#     parser.add_argument('remainder', nargs=argparse.REMAINDER, help=argparse.SUPPRESS)\n",
    "\n",
    "    cmdline_args = parser.parse_args()\n",
    "    cmdline_args_dict = vars(cmdline_args)\n"
   ]
  },
  {
   "cell_type": "code",
   "execution_count": 5,
   "metadata": {},
   "outputs": [],
   "source": [
    "# This cell creates a namedtuple variable, 's', which stores all settings. For details on how to use a namedtuple, see next cell.\n",
    "# If this is run as a script then, prior to creating s, we check if there are commandline arguments.\n",
    "# Settings from the user_settings.JSON overwrite settings from default_settings.JSON and are stored in the dictionary 'settings_dict'\n",
    "# Any commandline argument overwrites any argument from a JSON settings file\n",
    "\n",
    "settings_dict = default_JSON_settings_dict.copy()\n",
    "settings_dict.update(user_JSON_settings_dict)\n",
    "# Synchronize the JSON and commandline settings\n",
    "if not in_notebook:\n",
    "    for setting_name in settings_dict.keys():\n",
    "        if setting_name in cmdline_args_dict.keys():\n",
    "            # I forget why the '!= None' logic is necessary\n",
    "            if cmdline_args_dict[setting_name] != None:\n",
    "                settings_dict[setting_name] = cmdline_args_dict[setting_name]\n",
    "    \n",
    "    for setting_name in cmdline_args_dict.keys():\n",
    "        if setting_name not in settings_dict.keys():\n",
    "            print(\"The commandline argument {} is currently nonfunctional because it does not exist in the JSON file.\".format(setting_name))\n",
    "\n",
    "# Created the namedtuple variable storing all the settings\n",
    "# I name the namedtuple settings object with one letter 's' instead of using 'Settings' to minimize disruption of the code\n",
    "# However, you may need for the variable name and the string assigned to 'typename' to be the same if you are pickling.\n",
    "# 'typename' is the first parameter of namedtuple() and was 'Settings' when I wrote this comment\n",
    "SettingsNamespace = namedtuple(\"Settings\", settings_dict.keys())\n",
    "s = SettingsNamespace(*settings_dict.values())"
   ]
  },
  {
   "cell_type": "code",
   "execution_count": 6,
   "metadata": {},
   "outputs": [],
   "source": [
    "# Set the flag to True to see a demonstration of how to use a namedtuple variable\n",
    "\n",
    "demonstrate_named_tuple=False\n",
    "\n",
    "if demonstrate_named_tuple:\n",
    "    # You can iterate through the elements of a named_tuple\n",
    "    # s._fields contains the setting names or fields\n",
    "    n_settings_to_print = 10\n",
    "    print(\"The first {} fields and values within s:\".format(n_settings_to_print) )\n",
    "    for setting_field, setting_value in zip(s._fields[:n_settings_to_print], s[:n_settings_to_print]):\n",
    "        print(\"\\t{} = {}\".format(setting_field, setting_value))\n",
    "    print(\"\\t...\\n\")\n",
    "    \n",
    "    # You can acccess variables of a named tuple in 2 ways\n",
    "    print(\"2 ways of accessing values stored in s:\")\n",
    "    # 1) As an attribute\n",
    "    print(\"\\t1) s.structure_file = {}\".format(s.structure_file) )\n",
    "    \n",
    "    # 2) Indexing\n",
    "    index_for_demonstration = [i for i in range(len(s._fields)) if s._fields[i] == \"structure_file\"][0]\n",
    "    print(\"\\t2) s[{}] = {}\".format(index_for_demonstration, s[index_for_demonstration]))\n",
    "\n",
    "    # I exclusively use this method in miniGAP code because this allows me to just prepend 's.' to any variable I had been using \n",
    "    #     from my previous code, which defined all variables within a notebook and had no JSON or commandline arg input.\n",
    "    # Another convenience of using a namedtuple is that I can just replace 's.' with 'self.' in the futurewhen when I convert \n",
    "    #     the majority of miniGAP code into a GAP class.\n",
    "\n",
    "# For more details see docs.python.org/3/library/collections.html#collections.namedtuple"
   ]
  },
  {
   "cell_type": "code",
   "execution_count": 7,
   "metadata": {},
   "outputs": [],
   "source": [
    "# Print banner in script unless supressed\n",
    "# Had to wait until we had the suppress setting to do this\n",
    "if not (in_notebook or s.suppress_banner):\n",
    "    print(banner, end=\"\")"
   ]
  },
  {
   "cell_type": "markdown",
   "metadata": {},
   "source": [
    "## Output files"
   ]
  },
  {
   "cell_type": "code",
   "execution_count": 8,
   "metadata": {},
   "outputs": [
    {
     "name": "stdout",
     "output_type": "stream",
     "text": [
      "Could not create '../results/Debugging_2021_12_17', because it already existed. Created '../results/Debugging_2021_12_17_21' instead.\n",
      "Input settings for this calculation stored in ../results/Debugging_2021_12_17_21/miniGAP.settings\n"
     ]
    }
   ],
   "source": [
    "# This cell allows for saving results\n",
    "# If the user so chooses:\n",
    "#     1) A new subdirectory will be created for the results output files\n",
    "#            The new subdirectory is /minigap/results/CALCULATIONTITLE where CALCULATIONTITLE is determined by user input and existing directories\n",
    "#     2) All output (stdout) printed to terminal is also saved to a file in CALCULATIONTITLE if run from a script\n",
    "#     3) The settings are saved to a file in CALCULATIONTITLE similar to the JSON input file\n",
    "\n",
    "if s.make_output_files:\n",
    "    # Make new subdirectory\n",
    "    # The name can be given by s.title or it will just be 'results'\n",
    "    # If s.append_date_to_title is set to True, the date will be added to the end\n",
    "    # If a directory already exists with the attempted name, the lowest possible integer to make a unique name is added to the end\n",
    "    calculation_results_directory = make_miniGAP_results_subdirectory(s, date=today_string, miniGAP_parent_directory=miniGAP_parent_directory)\n",
    "    \n",
    "    # Start saving output to a log file as well as printing it to the terminal\n",
    "    # Not currently implemented for notebook, because cells might not be run in order which would create a confusing log\n",
    "    if not in_notebook:\n",
    "        log_filename = calculation_results_directory + \"miniGAP.log\"\n",
    "        if s.verbose:\n",
    "            print(\"Logging all output starting after this message into {}\".format(log_filename))  \n",
    "        logger = Logger(log_filename)\n",
    "        \n",
    "        # Place banner as first entry into logfile\n",
    "        # We had to print to terminal first so we use logfile_only=True to avoid dublication \n",
    "        logger.write(banner, logfile_only=True)\n",
    "    \n",
    "    # Save settings used for this calculation for future reference\n",
    "    output_JSON_filename = calculation_results_directory + \"miniGAP.settings\"    \n",
    "    with open(output_JSON_filename, 'w', encoding='utf-8') as settings_output_file:\n",
    "        json.dump(settings_dict, settings_output_file, ensure_ascii=False, indent=4)\n",
    "    if s.verbose:\n",
    "        print(\"Input settings for this calculation stored in {}\".format(output_JSON_filename))\n",
    "else:\n",
    "    # This variable is not used, but needs to exist for positional arguments\n",
    "    # Ideally we would handle this differently\n",
    "    calculation_results_directory = \"\"\n",
    "\n"
   ]
  },
  {
   "cell_type": "markdown",
   "metadata": {},
   "source": [
    "## Initialization Tasks (continued)"
   ]
  },
  {
   "cell_type": "code",
   "execution_count": 9,
   "metadata": {},
   "outputs": [
    {
     "name": "stdout",
     "output_type": "stream",
     "text": [
      "Stack size set to unlimited\n",
      "1 GPU(s) recognized by tensorflow: [PhysicalDevice(name='/physical_device:GPU:0', device_type='GPU')]\n"
     ]
    }
   ],
   "source": [
    "# This cell handles initialization tasks which could not be completed previously.\n",
    "# These tasks potentially print out some output depending on the s.verbose setting so they could not be performed\n",
    "#     1) prior to importing the settings, or\n",
    "#     2) prior to initiating the logging (or else the outputs would not be logged.) \n",
    "\n",
    "# miniGAP uses a lot memory so it is good to allow it access to as much as possible\n",
    "try:\n",
    "    resource.setrlimit( resource.RLIMIT_STACK, ( resource.RLIM_INFINITY, resource.RLIM_INFINITY ) )\n",
    "    if s.verbose:\n",
    "        print(\"Stack size set to unlimited\")\n",
    "except:\n",
    "    print(\"Warning: Unable to raise stack size limit. Typically miniGAP uses a lot of memory and operates better if you allow the stack size to be unlimited. You can try to do this with the command 'ulimit -s unlimited'\")\n",
    "\n",
    "# Check on GPU availability\n",
    "if s.verbose:\n",
    "    print(\"{} GPU(s) recognized by tensorflow:\".format(len(tf.config.list_physical_devices('GPU'))), tf.config.list_physical_devices('GPU'))\n",
    "    \n"
   ]
  },
  {
   "cell_type": "code",
   "execution_count": 10,
   "metadata": {},
   "outputs": [
    {
     "name": "stdout",
     "output_type": "stream",
     "text": [
      "Imported 900 structures from qm7b.db. Structures were taken uniformly from throughout dataset which contains 7211 total structures.\n",
      "Compiling structures into list took 2.87 seconds\n"
     ]
    }
   ],
   "source": [
    "# This cell compiles the structure dataset to be used by miniGAP\n",
    "# You have several options for how to choosing this dataset:\n",
    "# 1) Import structure dataset directly from file\n",
    "# 2) Import a structure from a file and then run an MD simulation with ASE. \n",
    "#    The structures in the MD trajectory will be used as the dataset.\n",
    "# 3) Do not use a file ('\"structure_file\" : null' in the JSON). Specify the chemical formula of a molecule within the g2 collection and then run an MD simulation with ASE.\n",
    "#    The structures in the MD trajectory will be used as the dataset.\n",
    "#    Information about the g2 collection:\n",
    "#      - https://aip.scitation.org/doi/10.1063/1.473182\n",
    "#      - https://wiki.fysik.dtu.dk/ase/ase/build/build.html#molecules\n",
    "# 4) Do not use a file or specify a chemical formula('\"structure_file\" : null'  and '\"chemical_formula\" : null' in the JSON).\n",
    "#    This is like option 3, but the starter molecule will be a diatomic.\n",
    "#    You can specify the diatomic element and initial bond length in the JSON or commandline arguments.\n",
    "\n",
    "# Note 1: If you don't include a path in the filename, miniGAP will look in the /minigap/data/ directory \n",
    "# Note 2: Currently only the force fields with a native ASE implementation are implemented for MD generation of a dataset.\n",
    "#         These forcfield are \"EMT\", \"LJ\", and \"Morse\". All perform very poorly for nearly all molecules and structures.\n",
    "#         An exception is diatomic molecules, for which they capture the most important behavior.\n",
    "# Note 3: You can see here that I use the function 'TickTock'. The real function is 'CompileStructureList'.\n",
    "#         'TickTock' is is just for timing purposes. See the next cell for more details.\n",
    "\n",
    "StructureList, TimeCompileStructures = TickTock(CompileStructureList, s, in_notebook, miniGAP_parent_directory, calculation_results_directory)\n",
    "if s.print_timings:\n",
    "    print(\"Compiling structures into list took {:.2f} seconds\".format(TimeCompileStructures))"
   ]
  },
  {
   "cell_type": "code",
   "execution_count": 11,
   "metadata": {},
   "outputs": [
    {
     "data": {
      "text/plain": [
       "<bound method Atoms.get_forces of Atoms(symbols='CH4', pbc=False, calculator=SinglePointCalculator(...))>"
      ]
     },
     "execution_count": 11,
     "metadata": {},
     "output_type": "execute_result"
    }
   ],
   "source": [
    "StructureList[0].get_forces"
   ]
  },
  {
   "cell_type": "code",
   "execution_count": null,
   "metadata": {},
   "outputs": [],
   "source": []
  },
  {
   "cell_type": "code",
   "execution_count": null,
   "metadata": {},
   "outputs": [],
   "source": []
  },
  {
   "cell_type": "code",
   "execution_count": 12,
   "metadata": {},
   "outputs": [],
   "source": [
    "# You will see the TickTock function used throughout this notebook\n",
    "# It is a helper function that allows me to time other functions concisely.\n",
    "# For an example usage set the below flag to True and inspect the code\n",
    "\n",
    "see_example_of_TickTock_usage = False\n",
    "if see_example_of_TickTock_usage:\n",
    "    def example_function(a, b, c=\"DEFAULT_VALUE\", d=\"DEFAULT_VALUE\", function_call_type=\"normal\"):\n",
    "        summation=0\n",
    "        for i in range(a):\n",
    "            summation += b\n",
    "        print(\"This {} function call accepted the argument '{}' for the positional parameter 'a'\".format(function_call_type, a))\n",
    "        print(\"This {} function call accepted the argument '{}' for the positional parameter 'b'\".format(function_call_type, b))\n",
    "        print(\"This {} function call accepted the argument '{}' for the keyword parameter 'c'\".format(function_call_type, c))\n",
    "        print(\"This {} function call accepted the argument '{}' for the keyword parameter 'd'\".format(function_call_type, d))\n",
    "        return summation\n",
    "    \n",
    "    a_value = 1234567\n",
    "    b_value = 1\n",
    "    c_value = \"CAT\"\n",
    "    d_value = \"DOG\"\n",
    "    \n",
    "    # You can use the function the normal way:\n",
    "    normal_function_output = example_function(a_value, b_value, c=c_value, d=d_value, function_call_type=\"normal\")\n",
    "    print(\"This normal function call returned {}\\n\".format(normal_function_output) )\n",
    "    \n",
    "    # You can time the function with a slight modification, no extra lines needed\n",
    "    TickTock_function_output, function_time = TickTock(example_function, a_value, b_value, c=c_value, d=d_value, function_call_type=\"TickTock\")\n",
    "    print(\"This TickTock function call returned {}\".format(TickTock_function_output) )\n",
    "    print(\"This TickTock function call took {:.2f} seconds to run\".format(function_time) )\n",
    "        "
   ]
  },
  {
   "cell_type": "code",
   "execution_count": 13,
   "metadata": {},
   "outputs": [],
   "source": [
    "# Set convert flag to True and run this cell to convert your file to a database right now from this notebook\n",
    "# I do not recommend this. The database creation is very slow and will lock you out from running any cells for a long time.\n",
    "# It is better to do this from a terminal with the script convert_to_db.py\n",
    "# For example, you can run the command '/relative/path/to/minigap/code/convert_to_db.py structure_file_a.xyz structure_file_b.xyz structure_file_c.xyz'\n",
    "# This command would create the files structure_file_a.db, structure_file_b.db and structure_file_c.db in your /relative/path/to/minigap/data/ directory\n",
    "# To overwrite an existing .db file use the --existing_file_behavior flag\n",
    "# convert_to_db.py --help will explain some more details\n",
    "convert_to_db_here_and_now = False\n",
    "if convert_to_db_here_and_now and in_notebook:\n",
    "    !python ../code/convert_to_db.py $s.structure_file \n",
    "    # Use the following line instead of the previous line if you need to overwrite an existing database\n",
    "    # !python ../code/convert_to_db.py -efb overwrite $s.structure_file"
   ]
  },
  {
   "cell_type": "code",
   "execution_count": 14,
   "metadata": {},
   "outputs": [
    {
     "name": "stdout",
     "output_type": "stream",
     "text": [
      "Generating animation frame 0 (0% complete)\n",
      "Generating animation frame 10 (10% complete)\n",
      "Generating animation frame 20 (20% complete)\n",
      "Generating animation frame 30 (30% complete)\n",
      "Generating animation frame 40 (40% complete)\n",
      "Generating animation frame 50 (50% complete)\n",
      "Generating animation frame 60 (60% complete)\n",
      "Generating animation frame 70 (70% complete)\n",
      "Generating animation frame 80 (80% complete)\n",
      "Generating animation frame 90 (90% complete)\n",
      "Generating animation frame 100 (100% complete)\n",
      "Filename '../results/Debugging_2021_12_17_21/structure_animation.mp4' selected.\n",
      "Generating animation frame 0 (0% complete)\n",
      "Generating animation frame 10 (10% complete)\n",
      "Generating animation frame 20 (20% complete)\n",
      "Generating animation frame 30 (30% complete)\n",
      "Generating animation frame 40 (40% complete)\n",
      "Generating animation frame 50 (50% complete)\n",
      "Generating animation frame 60 (60% complete)\n",
      "Generating animation frame 70 (70% complete)\n",
      "Generating animation frame 80 (80% complete)\n",
      "Generating animation frame 90 (90% complete)\n",
      "Generating animation frame 100 (100% complete)\n",
      "Created animation of the structural dataset used in this calculation in the results directory. This might be useful to verify the correct structures are being used.\n",
      "Created animation of structures in 8.46 seconds \n"
     ]
    }
   ],
   "source": [
    "# Set this flag to True if you want to visualize your structure within this jupyter notebook (no pop-up window)\n",
    "# For more details on the plotting function, refer to the Visualize_Structures notebook\n",
    "\n",
    "visualize_structure_in_notebook = False\n",
    "\n",
    "# Having to use (s.save_dataset_animation & s.make_output_files) is tedious\n",
    "# Perhaps I can make s.make_output_files overwrite s.save_dataset_animation upon import\n",
    "if visualize_structure_in_notebook or (s.save_dataset_animation & s.make_output_files):\n",
    "    StructureDatasetAnimation, TimeVisualize = TickTock(CreateMiniGAPVisualization, StructureList, s, calculation_results_directory)\n",
    "    if visualize_structure_in_notebook and in_notebook:\n",
    "        display(StructureDatasetAnimation)\n",
    "    del StructureDatasetAnimation\n",
    "    \n",
    "    if s.verbose and (s.save_dataset_animation & s.make_output_files):\n",
    "        print(\"Created animation of the structural dataset used in this calculation in the results directory. This might be useful to verify the correct structures are being used.\")\n",
    "    \n",
    "    if s.print_timings:\n",
    "        print(\"Created animation of structures in {:.2f} seconds \".format(TimeVisualize))"
   ]
  },
  {
   "cell_type": "code",
   "execution_count": 15,
   "metadata": {},
   "outputs": [
    {
     "name": "stdout",
     "output_type": "stream",
     "text": [
      "Gathered energy and structure info in 3.03 seconds\n"
     ]
    }
   ],
   "source": [
    "# This cell \n",
    "\n",
    "[EnergyList, ForceList, PosList, NAtList, EnergyShiftList], TimeGather = TickTock(GatherStructureInfo, StructureList, gather_settings = s)\n",
    "if s.print_timings:\n",
    "    gather_forces_message= \", force\" if s.use_forces else \"\"\n",
    "    print(\"Gathered energy{} and structure info in {:.2f} seconds\".format(gather_forces_message, TimeGather))"
   ]
  },
  {
   "cell_type": "code",
   "execution_count": 16,
   "metadata": {},
   "outputs": [],
   "source": [
    "# This cell completes the timing started in the first cell if this code is executed from a script\n",
    "\n",
    "if s.print_timings and not in_notebook:\n",
    "    TimeAfterStartUp = time.time()\n",
    "    TimeStartUp = TimeAfterStartUp - TimeBeforeStartUp\n",
    "    print(\"Completed the initial setup of miniGAP (including compiling structural data) in {:.2f} seconds\".format(TimeStartUp))"
   ]
  },
  {
   "cell_type": "code",
   "execution_count": 17,
   "metadata": {},
   "outputs": [
    {
     "name": "stdout",
     "output_type": "stream",
     "text": [
      "Generated SOAP descriptors in 0.80 seconds\n"
     ]
    }
   ],
   "source": [
    "[SoapDerivativeList, SoapList], TimeSoap = TickTock(GenerateDescriptorsAndDerivatives, StructureList, s.nmax, s.lmax, s.rcut, s.smear, s.attach_SOAP_center, s.is_periodic, s.use_forces)\n",
    "calculate_derivatives_message = \" and derivatives\" if s.use_forces else \"\"\n",
    "if s.print_timings:\n",
    "    print(\"Generated SOAP descriptors{} in {:.2f} seconds\".format(calculate_derivatives_message, TimeSoap))\n",
    "elif s.verbose:\n",
    "    print(\"Generated SOAP descriptors{}.\".format(calculate_derivatives_message))"
   ]
  },
  {
   "cell_type": "code",
   "execution_count": 18,
   "metadata": {},
   "outputs": [
    {
     "name": "stdout",
     "output_type": "stream",
     "text": [
      "Split the 900-structure dataset into a 500-structure training dataset and a 400-structure test dataset.\n",
      "The test dataset will be set aside until the model is trained and ready for prediction.\n",
      "Reformatted data to build model in 0.27 seconds.\n"
     ]
    }
   ],
   "source": [
    "out_data, TimePrepare = TickTock(PrepareDataForTraining, \n",
    "                                sp_list=SoapList, \n",
    "                                dsp_dx_list = SoapDerivativeList, \n",
    "                                en_list = EnergyList,\n",
    "                                frc_list = ForceList ,\n",
    "                                pos_list = PosList, \n",
    "                                nat_list = NAtList,\n",
    "                                en_shift_list = EnergyShiftList,\n",
    "                                prep_settings = s\n",
    "                                )\n",
    "\n",
    "if s.print_timings:\n",
    "    print(\"Reformatted data to build model in {:.2f} seconds.\".format(TimePrepare))\n",
    "\n",
    "if not s.use_forces:\n",
    "    train_sps_full, test_sps_full, train_ens, test_ens, train_nats, test_nats, train_en_shfts, test_en_shfts, train_indices, test_indices, train_struct_bools, test_struct_bools, soap_scaler, ens_scaler, ens_var = out_data\n",
    "else:\n",
    "    train_sps_full, test_sps_full, train_ens, test_ens, train_nats, test_nats, train_en_shfts, test_en_shfts, train_indices, test_indices, train_struct_bools, test_struct_bools, soap_scaler, ens_scaler, ens_var, train_dsp_dx, test_dsp_dx, train_frcs, test_frcs, frcs_var = out_data \n"
   ]
  },
  {
   "cell_type": "code",
   "execution_count": 19,
   "metadata": {},
   "outputs": [
    {
     "name": "stdout",
     "output_type": "stream",
     "text": [
      "Not using any sparsity.\n"
     ]
    }
   ],
   "source": [
    "n_samples_full, n_features_full = train_sps_full.shape\n",
    "SparsifySoapsOutput, TimeSparsify = TickTock( SparsifySoaps, train_soaps = train_sps_full, test_soaps = test_sps_full, train_energies=train_ens, sparsify_samples=s.sparse_gpflow, \n",
    "                                    n_samples=s.n_sparse, sparsify_features=s.sparse_features, n_features=s.n_sparse_features, selection_method=\"PCovCUR\",\n",
    "                                    score_tolerance=1e-5, score_threshold=1e-5, iterative_selection=False, plot_importances=False) \n",
    "train_sps, sparse_train_sps, test_sps = SparsifySoapsOutput\n",
    "if s.sparse_gpflow or s.sparse_features:\n",
    "    sparsity_samples_message = \"\" if not s.sparse_gpflow else \"samples ({} --> {})\".format(n_samples_full, sparse_train_sps.shape[0])\n",
    "    sparsity_features_message = \"\" if not s.sparse_features else \"features ({} --> {})\".format(n_features_full, train_sps.shape[-1])\n",
    "    sparsity_both_message = \" and \" if (s.sparse_gpflow and s.sparse_features) else \"\"\n",
    "    if s.print_timings:\n",
    "        print(\"Sparsified model {}{}{} in {:.2f} seconds.\".format( sparsity_samples_message, sparsity_both_message, sparsity_features_message, TimeSparsify) )\n",
    "    elif s.verbose:\n",
    "        print(\"Sparsified model {}{}{}\".format( sparsity_samples_message, sparsity_both_message, sparsity_features_message) )\n",
    "else:\n",
    "    if s.verbose:\n",
    "        print(\"Not using any sparsity.\")\n"
   ]
  },
  {
   "cell_type": "markdown",
   "metadata": {},
   "source": [
    "### Future investigations for hyperparameter training\n",
    "---\n",
    "1. Does Adam optimizer have problems sometimes within a tf.function?\n",
    "2. Custom loss function vs optimizer.minimize\n",
    "3. Set certain variable untrainable"
   ]
  },
  {
   "cell_type": "code",
   "execution_count": 20,
   "metadata": {
    "scrolled": true
   },
   "outputs": [
    {
     "name": "stderr",
     "output_type": "stream",
     "text": [
      "2021-12-17 18:28:45.989025: I tensorflow/core/platform/cpu_feature_guard.cc:151] This TensorFlow binary is optimized with oneAPI Deep Neural Network Library (oneDNN) to use the following CPU instructions in performance-critical operations:  AVX2 FMA\n",
      "To enable them in other operations, rebuild TensorFlow with the appropriate compiler flags.\n",
      "2021-12-17 18:28:46.520061: I tensorflow/core/common_runtime/gpu/gpu_device.cc:1525] Created device /job:localhost/replica:0/task:0/device:GPU:0 with 10005 MB memory:  -> device: 0, name: NVIDIA TITAN V, pci bus id: 0000:01:00.0, compute capability: 7.0\n",
      "2021-12-17 18:28:46.680003: W tensorflow/python/util/util.cc:368] Sets are not currently considered sequences, but this may change in the future, so consider avoiding using them.\n"
     ]
    },
    {
     "name": "stdout",
     "output_type": "stream",
     "text": [
      "Using a degree 2 polynomial kernel.\n",
      "Alert: Double check the training validity for degree =/= 1 when not using predict_f\n",
      "Training using 6894 atoms without batching.\n"
     ]
    }
   ],
   "source": [
    "# Initialize kernels and model hyperparameters\n",
    "tf.random.set_seed(s.tf_seed)\n",
    "\n",
    "TimeBeforePreEpoch = time.time()\n",
    "\n",
    "\n",
    "noise_init = 1e-4 #.001# 0.0005499093576274776 #1.625e-4\n",
    "obs_noise = tf.Variable(noise_init, dtype=s.dtype, name=\"noise\")\n",
    "\n",
    "degree=2\n",
    "kernel = pick_kernel(s.kernel_type, amplitude=1, verbose=s.verbose, degree=degree)\n",
    "\n",
    "\n",
    "\n",
    "\n",
    "# Split training data into training and validation sets\n",
    "# Now validation set acts as temporary est set\n",
    "# train_test_split and tensorflow tensors don't get along so I temporarily convert them back to numpy arrays\n",
    "\n",
    "train_indices_j, valid_indices_j  = train_test_split(np.arange(len(train_sps)), random_state = s.valid_split_seed, test_size=(1-s.valid_fraction))\n",
    "\n",
    "train_sps_j, valid_sps_j = train_sps[train_indices_j], train_sps[valid_indices_j]\n",
    "train_ens_j, valid_ens_j = train_ens[train_indices_j], train_ens[valid_indices_j]\n",
    "\n",
    "if s.use_forces: \n",
    "    train_dsp_dx_j, valid_dsp_dx_j = train_dsp_dx[train_indices_j], train_dsp_dx[valid_indices_j]\n",
    "    train_frcs_j, valid_frcs_j = train_frcs[train_indices_j], train_frcs[valid_indices_j]\n",
    "    train_nats_j, valid_nats_j = train_nats[train_indices_j], train_nats[valid_indices_j]\n",
    "\n",
    "# Convert to tensorflow constant tensors\n",
    "# train_sps_j = tf.constant(train_sps_j, dtype=s.dtype)\n",
    "# train_ens_j = tf.constant(train_ens_j, dtype=s.dtype)\n",
    "valid_sps_j = tf.constant(valid_sps_j, dtype=s.dtype)\n",
    "# valid_ens_j = tf.constant(valid_ens_j, dtype=s.dtype)\n",
    "\n",
    "if s.sparse_gpflow:\n",
    "    sparse_train_sps = tf.Variable(sparse_train_sps, shape=sparse_train_sps.shape, dtype=s.dtype, trainable=False)\n",
    "\n",
    "if s.use_forces:\n",
    "    train_dsp_dx_j = tf.constant(train_dsp_dx_j, dtype=s.dtype)\n",
    "    train_frcs_j = tf.constant(train_frcs_j, dtype=s.dtype)    \n",
    "    valid_dsp_dx_j = tf.constant(valid_dsp_dx_j, dtype=s.dtype)\n",
    "    valid_frcs_j = tf.constant(valid_frcs_j, dtype=s.dtype)        \n",
    "\n",
    "test_sps = tf.constant(test_sps, dtype=s.dtype)\n",
    "\n",
    "\n",
    "# Batch data if  training set is larger than batch_size_max\n",
    "if len(train_sps_j) < s.batch_size_max:\n",
    "    iterations_per_epoch = 1\n",
    "    batch_size = len(train_sps_j)\n",
    "    if s.verbose:\n",
    "        print(\"Training using {} atoms without batching.\".format(len(train_sps_j)))\n",
    "else:\n",
    "    iterations_per_epoch = int(np.ceil(len(train_sps_j)/s.batch_size_max))\n",
    "    batch_size = int(np.ceil(len(train_sps_j)/iterations_per_epoch))\n",
    "    if s.verbose:\n",
    "        print(\"Training using {} atoms total using {} batches with {} atoms per batch.\".format( len(train_sps_j), iterations_per_epoch, batch_size ))\n",
    "\n",
    "# training(out_data)\n",
    "        \n",
    "TimeBeforeEpoch0 = time.time()\n",
    "\n",
    "\n",
    "mse_history = []    \n",
    "hyperparam_history = []\n",
    "\n",
    "\n",
    "\n",
    "# import warnings\n",
    "# \n",
    "# from gpflow.models import VGP, GPR, SGPR, SVGP\n",
    "# from gpflow.optimizers import NaturalGradient\n",
    "# from gpflow.optimizers.natgrad import XiSqrtMeanVar\n",
    "# from gpflow import set_trainable\n",
    "\n",
    "\n",
    "if s.my_priority == \"efficiency\":\n",
    "    # I don't know what this does\n",
    "    autotune = tf.data.experimental.AUTOTUNE\n",
    "    \n",
    "    \n",
    "    batches = (\n",
    "        tf.data.Dataset.from_tensor_slices((train_sps_j, train_ens_j))\n",
    "        .prefetch(autotune) \n",
    "        .shuffle(buffer_size=len(train_sps_j), seed=s.shuffle_seed)\n",
    "        .repeat(count=None)\n",
    "        .batch(batch_size)\n",
    "    )\n",
    "    \n",
    "    batch_iterator = iter(batches)\n",
    "\n",
    "    # I also don't know why we use this\n",
    "    from gpflow.ci_utils import ci_niter, ci_range\n",
    "    \n",
    "    optimizer = tf.keras.optimizers.Adam(learning_rate=s.learn_rate)\n",
    "    \n",
    "else:\n",
    "    batches = (\n",
    "        tf.data.Dataset.from_tensor_slices((train_sps_j, train_ens_j)) \n",
    "        .shuffle(buffer_size=len(train_sps_j), seed=s.shuffle_seed) \n",
    "        .repeat(count=None)\n",
    "        .batch(batch_size)\n",
    "    )    \n",
    "    \n",
    "    optimizer = tf.keras.optimizers.Adam(learning_rate=s.learn_rate)\n",
    "#     optimizer = tf.keras.optimizers.SGD(learning_rate=s.learn_rate)\n",
    "    \n",
    "train_hyperparams_without_forces_tf = tf.function(train_hyperparams_without_forces, autograph=False, jit_compile=False)\n",
    "\n",
    "# new code to make tf.function training work\n",
    "# --------------------------------------------\n",
    "train_sps_j_i = tf.Variable(train_sps[:batch_size], shape=(batch_size, train_sps.shape[-1]), dtype=s.dtype, trainable=False )\n",
    "train_ens_j_i = tf.Variable(train_ens[:batch_size], shape=(batch_size, 1), dtype=s.dtype, trainable=False ) \n",
    "if s.sparse_gpflow:\n",
    "    if sparse_train_sps.shape[0] >= batch_size:\n",
    "        print(\"Warning: Batch size is not greater than sparse soap size.\\nThis may cause errors in the predict_f function which assumes the inducing points to be fewer than the data points.\")\n",
    "    if s.my_priority == \"efficiency\":\n",
    "        gpr_model = gpflow.models.SVGP( kernel=kernel, likelihood=gpflow.likelihoods.Gaussian(),  inducing_variable=sparse_train_sps)\n",
    "        gpr_model.likelihood.variance.assign(obs_noise)\n",
    "        gpflow.set_trainable(gpr_model.q_mu, False)\n",
    "        gpflow.set_trainable(gpr_model.q_sqrt, False)\n",
    "    else:\n",
    "        gpr_model = gpflow.models.SGPR(data=(train_sps_j_i, train_ens_j_i), kernel=kernel, noise_variance=obs_noise, inducing_variable=sparse_train_sps)\n",
    "else:\n",
    "    if s.my_priority == \"efficiency\":\n",
    "        # it seems I cannot use  noise_variance=obs_noise for this which makes it not GAP...\n",
    "        gpr_model = gpflow.models.VGP( data=(train_sps_j_i, train_ens_j_i), kernel=kernel, likelihood=gpflow.likelihoods.Gaussian())\n",
    "    else:\n",
    "        gpr_model = gpflow.models.GPR( data=(train_sps_j_i, train_ens_j_i), kernel=kernel, noise_variance=obs_noise)\n",
    "# --------------------------------------------\n",
    "\n",
    "\n",
    "print_frequency = max(s.min_print_frequency, int(s.n_epochs/10))\n",
    "\n",
    "if s.my_priority == \"efficiency\":\n",
    "    hyperparam_history.append([(0, np.exp(var.numpy() )) for var in gpr_model.trainable_variables])  \n",
    "    gpr_objective = gpr_model.training_loss_closure(batch_iterator,  compile=True)\n",
    "    for j in range(ci_niter(s.n_epochs)):\n",
    "        if not j % print_frequency:\n",
    "            print(\"Epoch {}\".format(j))\n",
    "        optimizer.minimize(gpr_objective, var_list=gpr_model.trainable_variables)\n",
    "        mse_history.append((j+1, gpr_model.elbo(data=(train_sps, train_ens))))\n",
    "        hyperparam_history.append([(j+1, np.exp(var.numpy()) ) for var in gpr_model.trainable_variables]) \n",
    "    #optimizer.minimize(gpr_model.training_loss, gpr_model.trainable_variables, options=dict(maxiter=s.n_epochs))\n",
    "        \n",
    "elif s.my_priority == \"consistency\":\n",
    "\n",
    "    hyperparam_history.append([(0, var.numpy()) for var in gpr_model.trainable_parameters])  \n",
    "    for j in range(s.n_epochs):\n",
    "        if not j % print_frequency:\n",
    "            print(\"Epoch {}\".format(j))\n",
    "            #print(\" \".join([\"{} = {:.2e} \".format(var.name, np.exp(var.numpy())) for var in trainable_variables]))\n",
    "\n",
    "        mse_ens_j = 0\n",
    "        for i, (train_sps_j_i, train_ens_j_i) in enumerate(islice(batches, iterations_per_epoch)):\n",
    "            if not s.use_forces: #and not s.sparse_gpflow :\n",
    "                gpr_model.data[0].assign(train_sps_j_i)\n",
    "                gpr_model.data[1].assign(train_ens_j_i)        \n",
    "                mse_ens_j_i = train_hyperparams_without_forces_tf(gpr_model, valid_sps_j, valid_ens_j, optimizer)\n",
    "                print(\"valid_ens[:3] = {}\".format( valid_ens_j[:3].flatten()) )\n",
    "#                 print(mse_ens_j_i.numpy(), valid_ens_j[:3].numpy().flatten(), train_ens_j_i[:3].numpy().flatten()  )\n",
    "\n",
    "\n",
    "            else:\n",
    "                print(\"Using older approach (not converted to tf.function yet)\")\n",
    "                with tf.GradientTape() as tape:\n",
    "                    with tf.GradientTape(watch_accessed_variables=False) as tape_sps:\n",
    "                        tape_sps.watch(valid_sps_j)\n",
    "                        if s.sparse_gpflow:\n",
    "                            gpr_model = gpflow.models.SGPR(data=(train_sps_j_i, train_ens_j_i), kernel=kernel, inducing_variable=sparse_train_sps)\n",
    "    #                         gpflow.set_trainable(gpr_model.inducing_variable, False)\n",
    "                            if i < 3:\n",
    "                                print_summary(gpr_model)            \n",
    "                        else:\n",
    "                            gpr_model.data[0].assign(train_sps_j_i)\n",
    "                            gpr_model.data[1].assign(train_ens_j_i)\n",
    "                            #gpr_model = gpflow.models.GPR(data=(train_sps_j_i, train_ens_j_i), kernel=kernel)\n",
    "                        #gpr_model.likelihood.variance.assign(obs_noise)                \n",
    "                        predict_ens_j_i = gpr_model.predict_f(valid_sps_j)[0]\n",
    "\n",
    "        #                 gpr_model = gpflow.models.GPR(data=(sps_j_i, train_ens_j_i), kernel=kernel_gpf)\n",
    "        #                 gpr_model.likelihood.variance.assign(obs_noise_gpf)\n",
    "        #                 predict_ens_j_i_gpf = gpr_model.predict_f(valid_sps_j)\n",
    "\n",
    "                    if s.use_forces:\n",
    "                        predict_d_ens_j_i = tape_sps.gradient(predict_ens_j_i, valid_sps_j)\n",
    "                        # In the following line I needed to include '* n_atoms' after breaking energies into local energies\n",
    "                        # The reason is that I am effectively breaking the connection between E and F when breaking energies into local energies\n",
    "                        # F = -dE/dx =/= -dE_local/dx where E_local = E/n_atoms - E_free\n",
    "                        # When I split energies into local energies I initially calculated -dE_local/dx which is -dE/dx / n_atoms\n",
    "                        # We can't just rescale the validation_frcs beforehand, by dividing them by n_atoms, because this \n",
    "                        # rescales their weight in the mse by n_atoms which\n",
    "                        # would lead to forces from smaller structures being overweighted in importances to mse\n",
    "#                         print(valid_dsp_dx_j.shape, predict_d_ens_j_i.shape, valid_nats_j.shape)\n",
    "#                         print(valid_nats_j)\n",
    "                        predict_frcs_j_i = -1*np.einsum('ijk,ik->ij', valid_dsp_dx_j, predict_d_ens_j_i)  * valid_nats_j\n",
    "                        mse_j_i = mse_2factor_tf(predict_ens_j_i, valid_ens_j, 1/ens_var,\n",
    "                                                predict_frcs_j_i, valid_frcs_j, 1/frcs_var)\n",
    "                        mse_ens_j_i = mse_tf(predict_ens_j_i, valid_ens_j)\n",
    "                    else:\n",
    "                        mse_j_i = mse_tf(predict_ens_j_i, valid_ens_j)\n",
    "                        mse_ens_j_i = mse_j_i\n",
    "\n",
    "\n",
    "        #         grads = tape.gradient(mse_j_i, trainable_variables)\n",
    "        #         optimizer.apply_gradients(zip(grads, trainable_variables))\n",
    "                grads = tape.gradient(mse_j_i, gpr_model.trainable_variables)\n",
    "                # print(gpr_model.trainable_variables[0])#grads[0])\n",
    "                optimizer.apply_gradients(zip(grads, gpr_model.trainable_variables))\n",
    "                if i < 3:\n",
    "                    print_summary(gpr_model)\n",
    "\n",
    "                if not gpr_model.data[0][0,0].numpy() == train_sps_j_i[0,0].numpy() :\n",
    "                    print(\"ERRORERRORERRORERRORERRORERRORERROR\")\n",
    "\n",
    "            print(\"Adding mse_ens_j_i to mse_ens_j: {} + {} = {} \".format(mse_ens_j_i.numpy(), mse_ens_j , mse_ens_j_i.numpy() + mse_ens_j  ))\n",
    "            mse_ens_j += mse_ens_j_i\n",
    "\n",
    "        mse_ens_j /= iterations_per_epoch\n",
    "        print(\"Epoch {},  mse = {}\".format(j, mse_ens_j))\n",
    "        mse_history.append((j+1, mse_ens_j))\n",
    "        hyperparam_history.append([(j+1, var.numpy()) for var in gpr_model.trainable_parameters])    \n",
    "else:\n",
    "    print(\"{} is not a reconized value for my_priority.\\n Training did not occur.\".format(s.my_priority))\n",
    "\n",
    "\n",
    "\n",
    "TimeBeforeWeights = time.time()\n"
   ]
  },
  {
   "cell_type": "code",
   "execution_count": 21,
   "metadata": {
    "scrolled": true
   },
   "outputs": [
    {
     "name": "stdout",
     "output_type": "stream",
     "text": [
      "Calculating weights\n"
     ]
    },
    {
     "data": {
      "text/html": [
       "<table>\n",
       "<thead>\n",
       "<tr><th>name                   </th><th>class    </th><th>transform       </th><th>prior  </th><th>trainable  </th><th>shape  </th><th>dtype  </th><th style=\"text-align: right;\">       value</th></tr>\n",
       "</thead>\n",
       "<tbody>\n",
       "<tr><td>GPR.kernel.variance    </td><td>Parameter</td><td>Softplus        </td><td>       </td><td>True       </td><td>()     </td><td>float64</td><td style=\"text-align: right;\">1           </td></tr>\n",
       "<tr><td>GPR.kernel.degree      </td><td>Parameter</td><td>Identity        </td><td>       </td><td>False      </td><td>()     </td><td>float64</td><td style=\"text-align: right;\">2           </td></tr>\n",
       "<tr><td>GPR.kernel.offset      </td><td>Parameter</td><td>Softplus        </td><td>       </td><td>False      </td><td>()     </td><td>float64</td><td style=\"text-align: right;\">2.22507e-308</td></tr>\n",
       "<tr><td>GPR.likelihood.variance</td><td>Parameter</td><td>Softplus + Shift</td><td>       </td><td>True       </td><td>()     </td><td>float64</td><td style=\"text-align: right;\">0.0001      </td></tr>\n",
       "</tbody>\n",
       "</table>"
      ],
      "text/plain": [
       "<IPython.core.display.HTML object>"
      ]
     },
     "metadata": {},
     "output_type": "display_data"
    },
    {
     "name": "stdout",
     "output_type": "stream",
     "text": [
      "Predicting final energies\n"
     ]
    },
    {
     "name": "stderr",
     "output_type": "stream",
     "text": [
      "2021-12-17 18:28:47.916481: I tensorflow/core/util/cuda_solvers.cc:179] Creating GpuSolver handles for stream 0x55ef48965c50\n"
     ]
    }
   ],
   "source": [
    "\n",
    "TimeBeforeWeights = time.time()\n",
    "print(\"Calculating weights\")\n",
    "\n",
    "if s.my_priority == \"efficiency\" and s.sparse_gpflow == True:\n",
    "    gpr_model = gpr_model\n",
    "elif s.my_priority == \"consistency\":\n",
    "    if s.sparse_gpflow:\n",
    "        gpr_model = gpflow.models.SGPR(data=(train_sps, train_ens), kernel=kernel, noise_variance = gpr_model.likelihood.variance, inducing_variable  = sparse_train_sps)\n",
    "    else:\n",
    "        gpr_model = gpflow.models.GPR( data=(train_sps, train_ens), kernel=kernel, noise_variance = gpr_model.likelihood.variance)      \n",
    "\n",
    "print_summary(gpr_model)\n",
    "\n",
    "if s.sparse_gpflow:\n",
    "    if s.prediction_calculation in (\"direct\", \"cholesky\"):\n",
    "        print(\"Alert: {} prediction approach not implemented for sparse model. Using alpha approach instead.\".format(s.prediction_calculation))\n",
    "        trained_weights = gpr_model.posterior().alpha\n",
    "    elif s.prediction_calculation == \"alpha\":\n",
    "        print(\"Attempting to calculate trained weights using alpha method for sparse gpr model.\")\n",
    "        trained_weights = gpr_model.posterior().alpha\n",
    "        print(\"Successfully calculated trained weights using alpha method for sparse gpr model.\")\n",
    "else:\n",
    "    if s.prediction_calculation in (\"direct\", \"cholesky\"):\n",
    "        KNN = gpr_model.kernel(train_sps)\n",
    "        KNN_diag = tf.linalg.diag_part(KNN)\n",
    "        variance_diag = tf.fill(tf.shape(KNN_diag), gpr_model.likelihood.variance)\n",
    "        KNN_plus_variance = tf.linalg.set_diag(KNN, KNN_diag + variance_diag)\n",
    "        if s.prediction_calculation == \"direct\":\n",
    "            KNN_inv =  tf.linalg.inv(KNN_plus_variance)\n",
    "            trained_weights = tf.matmul(KNN_inv, train_ens)\n",
    "        else:\n",
    "            LNN = tf.linalg.cholesky(KNN_plus_variance)\n",
    "            LNN_inv = tf.linalg.inv(LNN)\n",
    "            KNN_inv_from_L = tf.matmul(LNN_inv, LNN_inv,transpose_a=True)\n",
    "            trained_weights = tf.matmul(KNN_inv_from_L, train_ens)\n",
    "    elif s.prediction_calculation == \"alpha\":\n",
    "        print(\"ERROR: alpha not implemented for gpflow GPR. Skipping prediction\")\n",
    "    \n",
    "TimeAfterTraining = time.time()\n",
    "\n",
    "\n",
    "with tf.GradientTape(watch_accessed_variables=False) as tape_sps:\n",
    "    tape_sps.watch(test_sps)  \n",
    "    print(\"Predicting final energies\")\n",
    "    if s.prediction_calculation == \"predict_f\":\n",
    "        predict_ens, predict_ens_var = gpr_model.predict_f(test_sps)\n",
    "    else:\n",
    "        if s.sparse_gpflow:\n",
    "            predict_ens = tf.reshape( predict_energies_from_weights_tf(trained_weights, sparse_train_sps, test_sps, degree), [-1,1])\n",
    "        else:\n",
    "            predict_ens = tf.reshape( predict_energies_from_weights_tf(trained_weights,        train_sps, test_sps, degree), [-1,1])\n",
    "    \n",
    "if s.use_forces:\n",
    "    print(\"Predicting final forces\")    \n",
    "    predict_d_ens = tape_sps.gradient(predict_ens, test_sps)\n",
    "    predict_frcs = -1*np.einsum('ijk,ik->ij', test_dsp_dx, predict_d_ens) * test_nats\n",
    "\n",
    "TimeAfterPrediction = time.time()\n"
   ]
  },
  {
   "cell_type": "code",
   "execution_count": 22,
   "metadata": {},
   "outputs": [],
   "source": [
    "# rescale\n",
    "test_ens_rescaled = ens_scaler.inverse_transform(test_ens).flatten()\n",
    "predict_ens_rescaled = ens_scaler.inverse_transform(predict_ens).flatten()\n",
    "# convert to final units if necessary\n",
    "test_ens_rescaled = convert_energy(test_ens_rescaled, \"eV\", s.output_energy_units)\n",
    "predict_ens_rescaled = convert_energy(predict_ens_rescaled, \"eV\", s.output_energy_units)\n",
    "# isolated energies to be added back a the end\n",
    "train_en_shfts = convert_energy(train_en_shfts, \"eV\", s.output_energy_units)\n",
    "test_en_shfts = convert_energy(test_en_shfts, \"eV\", s.output_energy_units)\n",
    "\n",
    "if s.prediction_calculation == \"predict_f\":\n",
    "    # rescale\n",
    "    predict_ens_var_rescaled =  np.array(predict_ens_var * ens_scaler.scale_ **2).flatten()\n",
    "    # convert to final units if necessary\n",
    "    # Apply the conversion twice to account because the energy variance has units of energy squared\n",
    "    predict_ens_var_rescaled = convert_energy(predict_ens_var_rescaled, \"eV\", s.output_energy_units)\n",
    "    predict_ens_var_rescaled = convert_energy(predict_ens_var_rescaled, \"eV\", s.output_energy_units)\n",
    "    \n",
    "if s.use_forces:\n",
    "    # rescale\n",
    "    test_frcs_rescaled = test_frcs * ens_scaler.scale_\n",
    "    predict_frcs_rescaled = predict_frcs * ens_scaler.scale_\n",
    "    # convert to final units if necessary\n",
    "    test_frcs_rescaled = convert_force(test_frcs_rescaled, \"eV/ang\", s.output_force_units)\n",
    "    predict_frcs_rescaled = convert_force(predict_frcs_rescaled, \"eV/ang\", s.output_force_units)"
   ]
  },
  {
   "cell_type": "code",
   "execution_count": 23,
   "metadata": {},
   "outputs": [],
   "source": [
    "# make a regroup function\n",
    "\n",
    "test_global_ens = (test_struct_bools @ test_ens_rescaled ).flatten() + test_en_shfts\n",
    "predict_global_ens = ( test_struct_bools @ predict_ens_rescaled ).flatten() + test_en_shfts\n",
    "test_global_nats = NAtList[test_indices]"
   ]
  },
  {
   "cell_type": "code",
   "execution_count": 24,
   "metadata": {},
   "outputs": [
    {
     "name": "stdout",
     "output_type": "stream",
     "text": [
      "Training time outside of epochs in training cell  : 0.996\n",
      "Prediction time                                   : 0.735\n"
     ]
    }
   ],
   "source": [
    "TrainingCellNonEpochsTraining = TimeBeforeEpoch0 - TimeBeforePreEpoch + TimeAfterTraining - TimeBeforeWeights \n",
    "if s.n_epochs:\n",
    "    TimePerEpoch = (TimeBeforeWeights - TimeBeforeEpoch0)/s.n_epochs\n",
    "else:\n",
    "    TimePerEpoch = \"N/A\"\n",
    "PredictionTime = TimeAfterPrediction - TimeAfterTraining\n",
    "\n",
    "if s.print_timings:\n",
    "    print(\"{:50s}: {:.3f}\".format(\"Training time outside of epochs in training cell\", TrainingCellNonEpochsTraining))\n",
    "    if s.n_epochs:\n",
    "        print(\"{:50s}: {:.3f}\".format( \"Training time per epoch\", TimePerEpoch))\n",
    "    print(\"{:50s}: {:.3f}\".format(\"Prediction time\", PredictionTime) )\n",
    "\n"
   ]
  },
  {
   "cell_type": "code",
   "execution_count": 25,
   "metadata": {},
   "outputs": [
    {
     "name": "stdout",
     "output_type": "stream",
     "text": [
      "Stored the hyperparameters and mse values for plotting under n=900\n"
     ]
    }
   ],
   "source": [
    "if True:\n",
    "    if 'mse_history_by_n' not in locals():\n",
    "        mse_history_by_n = {}\n",
    "    if 'hyperparam_history_by_n' not in locals():\n",
    "        hyperparam_history_by_n = {}\n",
    "\n",
    "    hyperparam_history_by_n[s.n_total] = hyperparam_history\n",
    "    mse_history_by_n[s.n_total] = mse_history\n",
    "\n",
    "    print(\"Stored the hyperparameters and mse values for plotting under n={}\".format(s.n_total) )"
   ]
  },
  {
   "cell_type": "code",
   "execution_count": 26,
   "metadata": {},
   "outputs": [
    {
     "name": "stdout",
     "output_type": "stream",
     "text": [
      "The title axes are not assigned correctly. Currently fixing.\n"
     ]
    },
    {
     "data": {
      "image/png": "[encoded data removed]",
      "text/plain": [
       "<Figure size 1152x864 with 4 Axes>"
      ]
     },
     "metadata": {
      "needs_background": "light"
     },
     "output_type": "display_data"
    }
   ],
   "source": [
    "plot_hyperparam_training = (in_notebook or s.n_epochs > 0)\n",
    "\n",
    "if plot_hyperparam_training:\n",
    "\n",
    "    palette = plt.get_cmap('gist_ncar')#'nipy_spectral')#\"viridis\")\n",
    "    palette_size = palette.N#len(palette.colors)\n",
    "    palette_itr = 0\n",
    "\n",
    "    fig, [[ax00, ax01], [ax10, ax11]] = plt.subplots(nrows=2, ncols = 2, figsize=(16,12))\n",
    "\n",
    "    hyperparam_names = [\"kernel offset\", \"kernel amplitude\", \"observation noise variance\"]\n",
    "\n",
    "    for n in np.sort(list(mse_history_by_n.keys())):\n",
    "        mse_history = mse_history_by_n[n]\n",
    "        hyperparam_history = hyperparam_history_by_n[n]\n",
    "        if not len(hyperparam_history):\n",
    "            continue\n",
    "        color = palette(palette_itr)\n",
    "        palette_itr = (palette_itr + 30) % palette_size\n",
    "        print(\"The title axes are not assigned correctly. Currently fixing.\")\n",
    "\n",
    "\n",
    "        # hyperparameters on axes 00, 01, 10\n",
    "        hyperparams = np.swapaxes(hyperparam_history, 0, 1)\n",
    "\n",
    "        ax00.plot(*zip(*hyperparams[0]), color=color, label=\"{}\".format(n), lw=3)\n",
    "        ax00.plot(*hyperparams[0][-1], \"o\", color=color)\n",
    "        label00 = hyperparam_names[0]\n",
    "        ax00.set_ylabel(\"{}\".format(label00))\n",
    "    #     #ax00.set_yscale('log')\n",
    "    #     annotation00 = ax00.annotate('{:.1f}'.format(amplitudes[-1][1]) , xy=amplitudes[-1], xycoords='data', xytext=(-30,100),\n",
    "    #                                  textcoords='offset points', bbox={'fc':\"1\"}, arrowprops={'fc':'k'}, zorder=2)\n",
    "        ax00.legend()\n",
    "        ax00.ticklabel_format(useOffset=False)\n",
    "\n",
    "        ax01.plot(*zip(*hyperparams[1]), color=color, label=\"{}\".format(n), lw=3)\n",
    "        ax01.plot(*hyperparams[1][-1], \"o\", color=color)\n",
    "        label01 = hyperparam_names[1]\n",
    "        ax01.set_ylabel(\"{}\".format(label01))\n",
    "    #     #ax01.set_yscale('log')\n",
    "    #     annotation01 = ax01.annotate('{:.1f}'.format(lengths[-1][1]) , xy=lengths[-1], xycoords='data', xytext=(100,-30), \n",
    "    #                                  textcoords='offset points', bbox={'fc':\"1\"}, arrowprops={'fc':'k'}, zorder=2)\n",
    "        ax01.legend()\n",
    "        ax01.ticklabel_format(useOffset=False)\n",
    "\n",
    "        ax10.plot(*zip(*hyperparams[-1]), color=color, label=\"{}\".format(n), lw=3)\n",
    "        ax10.plot(*hyperparams[-1][-1], \"o\", color=color)\n",
    "        label10 = hyperparam_names[-1]\n",
    "        ax10.set_ylabel(\"{}\".format(label10))\n",
    "        #ax10.set_yscale('log')\n",
    "    #     annotation01 = ax10.annotate('{:.1e}'.format(noises[-1][1]) , xy=noises[-1], xycoords='data', xytext=(-30,100),\n",
    "    #                                  textcoords='offset points', bbox={'fc':\"1\"}, arrowprops={'fc':'k'}, zorder=2)\n",
    "    #     ax10.legend()\n",
    "        ax10.ticklabel_format(useOffset=False)\n",
    "\n",
    "        if not len(mse_history):\n",
    "            continue\n",
    "\n",
    "        #loss on axis 11\n",
    "        ax11.plot(*zip(*mse_history), color = color, label=\"{}\".format(n), lw=3)\n",
    "        ax11.plot(*mse_history[-1], \"o\", color=color)\n",
    "        #ax11.set_yscale('log')\n",
    "        bottom, top = ax11.get_ylim()\n",
    "        bottom2, top2 = ax11.get_ylim()\n",
    "        ax11.set_ylabel(\"mse\")\n",
    "        ax11.legend()\n",
    "        ax11.ticklabel_format(useOffset=False)\n",
    "\n",
    "        #fig.suptitle(\"{}\".format(s.n_total))\n",
    "        \n",
    "        if s.make_output_files:\n",
    "            hyperparameter_results_filename = \"hyperparameter_training\"\n",
    "            plt.savefig(calculation_results_directory + hyperparameter_results_filename)    "
   ]
  },
  {
   "cell_type": "code",
   "execution_count": 27,
   "metadata": {},
   "outputs": [
    {
     "name": "stdout",
     "output_type": "stream",
     "text": [
      "Our observation noise variance implies our reference error is +/- 0.317 /atom\n",
      "Calculated the following error statistics: ('rmse', 'mae', 'mxae', 'r2', 'logvae', 'm', 'b')\n",
      "Calculated the following error statistics: ('rmse', 'mae', 'mxae', 'r2', 'logvae', 'm', 'b')\n",
      "Calculated the following error statistics: ('rmse', 'mae', 'mxae', 'r2', 'logvae', 'm', 'b')\n",
      "Checking if outliers exists among energy predictions.\n",
      "Outliers of error defined to exist outside the range (25th percentile - 1.5*25th-75th percentile range, 75th percentile + 1.5*25th-75th percentile range), i.e. (-62.00, 59.27).\n",
      "Additionally, error was not considered an outlier if it fell outside that range, but was within 0.2 * 25th-75th percentile range ( = 6.06) of non-outlier error\n",
      "5/400 error were found to be outliers.\n",
      "Cropping energy plots determined to be unnecessary.\n"
     ]
    },
    {
     "data": {
      "text/html": [
       "<div>\n",
       "<style scoped>\n",
       "    .dataframe tbody tr th:only-of-type {\n",
       "        vertical-align: middle;\n",
       "    }\n",
       "\n",
       "    .dataframe tbody tr th {\n",
       "        vertical-align: top;\n",
       "    }\n",
       "\n",
       "    .dataframe thead th {\n",
       "        text-align: right;\n",
       "    }\n",
       "</style>\n",
       "<table border=\"1\" class=\"dataframe\">\n",
       "  <thead>\n",
       "    <tr style=\"text-align: right;\">\n",
       "      <th></th>\n",
       "      <th>Global Energy</th>\n",
       "      <th>Global Energy/Atom</th>\n",
       "      <th>Local Energy</th>\n",
       "    </tr>\n",
       "  </thead>\n",
       "  <tbody>\n",
       "    <tr>\n",
       "      <th>Units</th>\n",
       "      <td>eV</td>\n",
       "      <td>eV/Atom</td>\n",
       "      <td>eV/Atom</td>\n",
       "    </tr>\n",
       "    <tr>\n",
       "      <th>Root Mean Squared Error</th>\n",
       "      <td>27.917969</td>\n",
       "      <td>2.123507</td>\n",
       "      <td>4.896604</td>\n",
       "    </tr>\n",
       "    <tr>\n",
       "      <th>Mean Absolute Error</th>\n",
       "      <td>20.21235</td>\n",
       "      <td>1.413064</td>\n",
       "      <td>3.119042</td>\n",
       "    </tr>\n",
       "    <tr>\n",
       "      <th>Max Absolute Error</th>\n",
       "      <td>192.9267</td>\n",
       "      <td>16.077225</td>\n",
       "      <td>79.812399</td>\n",
       "    </tr>\n",
       "    <tr>\n",
       "      <th>r²</th>\n",
       "      <td>0.985271</td>\n",
       "      <td>0.861485</td>\n",
       "      <td>0.975392</td>\n",
       "    </tr>\n",
       "    <tr>\n",
       "      <th>Variance of Log Absolute Error</th>\n",
       "      <td>1.496758</td>\n",
       "      <td>1.569782</td>\n",
       "      <td>1.542377</td>\n",
       "    </tr>\n",
       "    <tr>\n",
       "      <th>Linear Fit Slope</th>\n",
       "      <td>1.011536</td>\n",
       "      <td>0.831146</td>\n",
       "      <td>0.971874</td>\n",
       "    </tr>\n",
       "    <tr>\n",
       "      <th>Linear Fit y-Intercept</th>\n",
       "      <td>15.751592</td>\n",
       "      <td>-17.329067</td>\n",
       "      <td>-2.403315</td>\n",
       "    </tr>\n",
       "  </tbody>\n",
       "</table>\n",
       "</div>"
      ],
      "text/plain": [
       "                               Global Energy Global Energy/Atom Local Energy\n",
       "Units                                     eV            eV/Atom      eV/Atom\n",
       "Root Mean Squared Error            27.917969           2.123507     4.896604\n",
       "Mean Absolute Error                 20.21235           1.413064     3.119042\n",
       "Max Absolute Error                  192.9267          16.077225    79.812399\n",
       "r²                                  0.985271           0.861485     0.975392\n",
       "Variance of Log Absolute Error      1.496758           1.569782     1.542377\n",
       "Linear Fit Slope                    1.011536           0.831146     0.971874\n",
       "Linear Fit y-Intercept             15.751592         -17.329067    -2.403315"
      ]
     },
     "metadata": {},
     "output_type": "display_data"
    },
    {
     "name": "stdout",
     "output_type": "stream",
     "text": [
      "Filename '../results/Debugging_2021_12_17_21/energy_prediction_plots.png' selected.\n",
      "Filename '../results/Debugging_2021_12_17_21/energy_errors.csv' selected.\n"
     ]
    },
    {
     "data": {
      "image/png": "[encoded data removed]",
      "text/plain": [
       "<Figure size 2016x360 with 4 Axes>"
      ]
     },
     "metadata": {
      "needs_background": "light"
     },
     "output_type": "display_data"
    }
   ],
   "source": [
    "# Print outputs\n",
    "if s.prediction_calculation == \"predict_f\" and s.energy_error_bars:\n",
    "    predict_global_ens_var = (test_struct_bools @ predict_ens_var_rescaled ).flatten()\n",
    "    predict_global_ens_std = predict_global_ens_var ** 0.5 \n",
    "    input_std = (gpr_model.likelihood.variance.numpy() * ens_scaler.scale_[0] **2) ** 0.5\n",
    "    print(\"Our observation noise variance implies our reference error is +/- {:.3} /atom\".format( input_std) )\n",
    "else:\n",
    "    predict_global_ens_std = None\n",
    "\n",
    "# Creates plots and tables\n",
    "AnalyzeEnergyResults(test_global_ens, predict_global_ens, s,\n",
    "                true_local_ens = test_ens_rescaled, predicted_local_ens = predict_ens_rescaled,\n",
    "                predicted_stdev=predict_global_ens_std, n_atoms = test_global_nats, in_notebook=in_notebook, output_directory=calculation_results_directory)"
   ]
  },
  {
   "cell_type": "code",
   "execution_count": 28,
   "metadata": {},
   "outputs": [],
   "source": [
    "# Creates plots and tables\n",
    "\n",
    "if s.use_forces:\n",
    "    AnalyzeForceResults(test_frcs_rescaled, predict_frcs_rescaled, s, predicted_force_stdevs=None, in_notebook=in_notebook,\n",
    "                        output_directory=calculation_results_directory)"
   ]
  },
  {
   "cell_type": "code",
   "execution_count": 29,
   "metadata": {},
   "outputs": [],
   "source": [
    "# This closes the log file. Probably not necessary since it is at the end of the script, but it's best practice.\n",
    "if s.make_output_files and not in_notebook:\n",
    "    logger.stop()"
   ]
  },
  {
   "cell_type": "markdown",
   "metadata": {},
   "source": [
    "When converting notebook to script, this line acts as a delimiter. Everything above it will remain. Everything below it will be removed."
   ]
  },
  {
   "cell_type": "markdown",
   "metadata": {},
   "source": [
    "# Save as script "
   ]
  },
  {
   "cell_type": "code",
   "execution_count": 30,
   "metadata": {},
   "outputs": [
    {
     "ename": "AssertionError",
     "evalue": "",
     "output_type": "error",
     "traceback": [
      "\u001b[0;31m---------------------------------------------------------------------------\u001b[0m",
      "\u001b[0;31mAssertionError\u001b[0m                            Traceback (most recent call last)",
      "\u001b[0;32m/tmp/ipykernel_13366/3619837826.py\u001b[0m in \u001b[0;36m<module>\u001b[0;34m\u001b[0m\n\u001b[1;32m      1\u001b[0m \u001b[0mabort_before_saving_script\u001b[0m \u001b[0;34m=\u001b[0m \u001b[0;32mTrue\u001b[0m\u001b[0;34m\u001b[0m\u001b[0;34m\u001b[0m\u001b[0m\n\u001b[0;32m----> 2\u001b[0;31m \u001b[0;32massert\u001b[0m \u001b[0;32mnot\u001b[0m \u001b[0mabort_before_saving_script\u001b[0m\u001b[0;34m\u001b[0m\u001b[0;34m\u001b[0m\u001b[0m\n\u001b[0m",
      "\u001b[0;31mAssertionError\u001b[0m: "
     ]
    }
   ],
   "source": [
    "abort_before_saving_script = True\n",
    "assert not abort_before_saving_script"
   ]
  },
  {
   "cell_type": "markdown",
   "metadata": {},
   "source": [
    "The following cell will save this notebook as a python script with today's date in the code directory"
   ]
  },
  {
   "cell_type": "code",
   "execution_count": 31,
   "metadata": {},
   "outputs": [
    {
     "name": "stdout",
     "output_type": "stream",
     "text": [
      "Attempting to convert miniGAP_functional.ipynb to a notebook.\n",
      "If this fails, check to be sure this notebook is in fact named miniGAP_functional.ipynb.\n",
      "\n",
      "[NbConvertApp] Converting notebook miniGAP_functional.ipynb to script\n",
      "[NbConvertApp] Writing 51740 bytes to ../code/miniGAP_from_notebook_2021_12_17.py\n"
     ]
    },
    {
     "name": "stderr",
     "output_type": "stream",
     "text": [
      "sys:1: ResourceWarning: unclosed socket <zmq.Socket(zmq.PUSH) at 0x152a3f6c96a0>\n",
      "ResourceWarning: Enable tracemalloc to get the object allocation traceback\n"
     ]
    }
   ],
   "source": [
    "current_notebook_filename = \"miniGAP_development.ipynb\"\n",
    "converted_script_filename = \"../code/miniGAP_from_development_notebook\" + today_string \n",
    "print(\"Attempting to convert {} to a notebook.\\nIf this fails, check to be sure this notebook is in fact named {}.\\n\".format(current_notebook_filename, current_notebook_filename))\n",
    "!jupyter nbconvert --to script \"{current_notebook_filename}\" --output \"{converted_script_filename}\"\n",
    "!sed -i '/When converting notebook to script, this line acts as a delimiter/,$d' \"{converted_script_filename}.py\""
   ]
  },
  {
   "cell_type": "code",
   "execution_count": null,
   "metadata": {},
   "outputs": [],
   "source": []
  }
 ],
 "metadata": {
  "kernelspec": {
   "display_name": "Python [conda env:minigap]",
   "language": "python",
   "name": "conda-env-minigap-py"
  },
  "language_info": {
   "codemirror_mode": {
    "name": "ipython",
    "version": 3
   },
   "file_extension": ".py",
   "mimetype": "text/x-python",
   "name": "python",
   "nbconvert_exporter": "python",
   "pygments_lexer": "ipython3",
   "version": "3.9.7"
  }
 },
 "nbformat": 4,
 "nbformat_minor": 4
}
