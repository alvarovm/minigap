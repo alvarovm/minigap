{
 "cells": [
  {
   "cell_type": "markdown",
   "metadata": {},
   "source": [
    "main miniGAP notebook"
   ]
  },
  {
   "cell_type": "code",
   "execution_count": 2,
   "metadata": {},
   "outputs": [],
   "source": [
    "import sys\n",
    "sys.path.append('../code')\n",
    "from Molecular_Dynamics import generate_md_traj, make_diatomic\n",
    "from Generate_Descriptors import get_dscribe_descriptors\n",
    "\n",
    "import numpy as np\n",
    "from sklearn.model_selection import train_test_split\n",
    "from sklearn.preprocessing import StandardScaler\n",
    "import tensorflow as tf\n",
    "import gpflow\n",
    "import tensorflow_probability as tfp\n",
    "tfb = tfp.bijectors\n",
    "tfk = tfp.math.psd_kernels\n",
    "from gpflow.kernels import SquaredExponential, Polynomial\n",
    "from itertools import islice\n",
    "from  tensorflow_probability import distributions as tfd\n",
    "import matplotlib.pyplot as plt\n",
    "from ase.io import read\n",
    "import pandas as pd"
   ]
  },
  {
   "cell_type": "code",
   "execution_count": 19,
   "metadata": {},
   "outputs": [
    {
     "name": "stdout",
     "output_type": "stream",
     "text": [
      "GPUs recognized by tensorflow: []\n"
     ]
    }
   ],
   "source": [
    "print(\"GPUs recognized by tensorflow:\", tf.config.list_physical_devices('GPU'))"
   ]
  },
  {
   "cell_type": "code",
   "execution_count": 3,
   "metadata": {},
   "outputs": [],
   "source": [
    "# some basic helper functions\n",
    "import time\n",
    "\n",
    "def PrintNoScientificNotation(*x):\n",
    "    np.set_printoptions(suppress=True) # Do not print in scientific notation\n",
    "    print(*x)\n",
    "    np.set_printoptions(suppress=False)\n",
    "       \n",
    "def TickTock(func, *args, **kwargs):\n",
    "    tick = time.time()\n",
    "    func_output = func(*args, **kwargs)\n",
    "    tock = time.time()\n",
    "    return func_output, tock - tick"
   ]
  },
  {
   "cell_type": "code",
   "execution_count": 4,
   "metadata": {},
   "outputs": [],
   "source": [
    "# These plotting settings make graphs easier to read\n",
    "# This is a very clunky way to do this so I want to move this soon, but haven't had much of a chance\n",
    "\n",
    "SMALL_SIZE = 11\n",
    "MEDIUM_SIZE = 13\n",
    "BIG_SIZE = 15\n",
    "\n",
    "plt.rc('font', size=SMALL_SIZE)          # controls default text sizes\n",
    "plt.rc('axes', titlesize=BIG_SIZE)       # fontsize of the axes title\n",
    "plt.rc('axes', labelsize=MEDIUM_SIZE)    # fontsize of the x and y labels\n",
    "plt.rc('xtick', labelsize=SMALL_SIZE)    # fontsize of the tick labels\n",
    "plt.rc('ytick', labelsize=SMALL_SIZE)    # fontsize of the tick labels\n",
    "plt.rc('legend', fontsize=SMALL_SIZE)    # legend fontsize\n",
    "plt.rc('figure', titlesize=BIG_SIZE)     # fontsize of the figure title"
   ]
  },
  {
   "cell_type": "markdown",
   "metadata": {},
   "source": [
    "---\n",
    "\n",
    "# Current Training (As of 10/27)\n",
    "### Broken into a bunch of steps with comments"
   ]
  },
  {
   "cell_type": "markdown",
   "metadata": {},
   "source": [
    "---\n",
    "\n",
    "## Prep work"
   ]
  },
  {
   "cell_type": "code",
   "execution_count": 5,
   "metadata": {},
   "outputs": [
    {
     "name": "stdout",
     "output_type": "stream",
     "text": [
      "Loaded 2000 structures into FullStructureList\n"
     ]
    }
   ],
   "source": [
    "FullStructureList = read(\"../data/distorted_propanol.extxyz.gz\", \":\")#, \":{}\".format(my_n))\n",
    "print(\"Loaded {} structures into FullStructureList\".format(len(FullStructureList)))"
   ]
  },
  {
   "cell_type": "markdown",
   "metadata": {},
   "source": [
    "Define all settings now"
   ]
  },
  {
   "cell_type": "code",
   "execution_count": 37,
   "metadata": {},
   "outputs": [],
   "source": [
    "# I only use these settings if I am training on diatomic structures\n",
    "# ------------------------------------------------------------------------\n",
    "use_diatomics = True\n",
    "if use_diatomics:\n",
    "    my_element = \"O\"\n",
    "    my_temp=10\n",
    "    my_calc = \"EMT\"\n",
    "    my_md_seed = 1\n",
    "\n",
    "# Number of structures    \n",
    "# ------------------------------------------------------------------------\n",
    "my_n = 200\n",
    "\n",
    "# Energy parameters\n",
    "# ------------------------------------------------------------------------\n",
    "use_self_energies = False\n",
    "\n",
    "# SOAP parameters\n",
    "# ------------------------------------------------------------------------\n",
    "my_rcut = 5\n",
    "my_nmax = 8\n",
    "my_lmax = 8\n",
    "my_smear = 0.3\n",
    "attach_SOAP_center = True\n",
    "is_periodic = False\n",
    "\n",
    "# Training parameters\n",
    "# ------------------------------------------------------------------------\n",
    "sparse_gpflow = False\n",
    "n_sparse = 80\n",
    "use_forces = False\n",
    "scale_soaps = False\n",
    "# controls initial train_test_split breaking apart training and test data\n",
    "split_seed = 2\n",
    "# controls in-training train_test_split breaking apart training_j and validation_j data\n",
    "valid_split_seed = 2\n",
    "# controls multiple tf stochastic processes including:\n",
    "# 1) Adams optimizer AND \n",
    "# 2) batching through tf.data.Dataset.from_tensor_slices in training\n",
    "tf_seed = 2\n",
    "# controls batching through tf.data.Dataset.from_tensor_slices in training\n",
    "shuffle_seed = 2\n",
    "kernel_type = \"polynomial\"#\"exponentiated_quadratic\"#\"polynomial\"\n",
    "training_frac = 0.9\n",
    "valid_fract = 0.9\n",
    "batch_size_max = 5000#00\n",
    "learn_rate = 2e-2 # 1e5#.01#10#0.5\n",
    "n_epochs_max = 0#300\n",
    "print_frequency = 1\n",
    "prediction_calculation = \"direct\" #\"direct\" OR \"predict_f\" OR \"cholesky\" OR \"alpha\"\n",
    "\n",
    "# Does nothing\n",
    "no_forces_string = \"Not Using Forces\"\n"
   ]
  },
  {
   "cell_type": "markdown",
   "metadata": {},
   "source": [
    "Pick which structures to train"
   ]
  },
  {
   "cell_type": "code",
   "execution_count": 38,
   "metadata": {},
   "outputs": [
    {
     "name": "stdout",
     "output_type": "stream",
     "text": [
      "Using 200 structures.\n"
     ]
    }
   ],
   "source": [
    "# Diatomic molecule with evenly spaced bond lengths\n",
    "#StructureList = [make_diatomic(element = my_element, verbose=False, bond_length=L, calc_type=my_calc) for L in np.linspace(.6,1.8, my_n)]\n",
    "\n",
    "# Diatomic molecule in MD trajectory\n",
    "#StructureList = generate_md_traj(from_diatomic=True, element=my_element, temperature=my_temp, nsteps=my_n, md_type = \"VelocityVerlet\", calc_type=my_calc, md_seed= my_md_seed, time_step=.6)\n",
    "\n",
    "# 2000 distorted propanols (librascal structures)\n",
    "#   Forces included\n",
    "#StructureList = read(\"../data/distorted_propanol.extxyz.gz\", \":{}\".format(my_n))\n",
    "StructureList = FullStructureList[::len(FullStructureList)//my_n][:my_n]\n",
    "# 10000 graphenes from Alvaro\n",
    "#   Forces included\n",
    "# StructureList = read(\"../data/ManyGraphenes.gz\", \":{}\".format(my_n))\n",
    "\n",
    "# 6095 isomers of C7O2H10 (subset of QM9)\n",
    "#   No forces\n",
    "# StructureList = read(\"../data/C7O2H10.extxyz.gz\", \":{}\".format(my_n))\n",
    "\n",
    "print(\"Using {} structures.\".format(len(StructureList)))"
   ]
  },
  {
   "cell_type": "markdown",
   "metadata": {},
   "source": [
    "Parse data from dataset"
   ]
  },
  {
   "cell_type": "code",
   "execution_count": 39,
   "metadata": {},
   "outputs": [],
   "source": [
    "def self_energy(element, use_librascal_values=False):\n",
    "    if use_librascal_values:\n",
    "        self_contributions = {\n",
    "            \"H\": -6.492647589968434,\n",
    "            \"C\": -38.054950840332474,\n",
    "            \"O\": -83.97955098636527,\n",
    "        }\n",
    "        return self_contributions[element]\n",
    "    else:\n",
    "        return np.float64(0)"
   ]
  },
  {
   "cell_type": "code",
   "execution_count": 40,
   "metadata": {},
   "outputs": [],
   "source": [
    "def GatherStructureInfo(struct_list = StructureList, gather_forces = use_forces, use_self_energies=use_self_energies ):\n",
    "\n",
    "    pos_list =  np.array([atoms.positions for atoms in struct_list])\n",
    "    \n",
    "    en_list = np.array([[struct.get_potential_energy()/len(struct) - self_energy(atom.symbol, use_self_energies) for atom in struct] for struct in struct_list], dtype=np.float64)\n",
    "\n",
    "    if gather_forces:\n",
    "        frc_list = np.array([atom.get_forces() for atom in struct_list], dtype=np.float64)\n",
    "    else:\n",
    "        frc_list = [no_forces_string] * len(en_list)\n",
    "        \n",
    "    return en_list, frc_list, pos_list\n",
    "\n",
    "EnergyList, ForceList, PosList = GatherStructureInfo(StructureList,gather_forces = use_forces, use_self_energies=use_self_energies )"
   ]
  },
  {
   "cell_type": "markdown",
   "metadata": {},
   "source": [
    "Generate SOAP descriptors"
   ]
  },
  {
   "cell_type": "code",
   "execution_count": 41,
   "metadata": {},
   "outputs": [],
   "source": [
    "def GenerateDescriptorsAndDerivatives(struct_list = StructureList,\n",
    "                                     attach = attach_SOAP_center,\n",
    "                                     is_periodic = is_periodic,\n",
    "                                     return_derivatives = use_forces,\n",
    "                                     nmax = my_nmax,\n",
    "                                     lmax = my_lmax,\n",
    "                                     rcut = my_rcut,\n",
    "                                     smear = my_smear,\n",
    "                                     get_local_descriptors = True):\n",
    "    \n",
    "    relevant_species = np.unique(struct_list[0].get_chemical_symbols())\n",
    "    \n",
    "    dscribe_output = get_dscribe_descriptors(\n",
    "                                            struct_list, \n",
    "                                            species=relevant_species, \n",
    "                                            attach=attach, \n",
    "                                            is_periodic = is_periodic,\n",
    "                                            is_global= not get_local_descriptors,\n",
    "                                            return_derivatives= return_derivatives, \n",
    "                                            nmax=nmax, \n",
    "                                            lmax=lmax,\n",
    "                                            rcut=rcut,\n",
    "                                            smear=smear\n",
    "    )\n",
    "\n",
    "    if return_derivatives:\n",
    "        dsp_dx_list, sp_list = dscribe_output\n",
    "        dsp_dx_list = np.moveaxis(dsp_dx_list.diagonal(axis1=1, axis2=2), -1, 1)\n",
    "        #SoapList = SoapList.reshape(-1, 1, SoapList.shape[-1])\n",
    "        #SoapDerivativeList = SoapDerivativeList.reshape(-1, 1,  *SoapDerivativeList.shape[2:])\n",
    "    else:\n",
    "        sp_list = dscribe_output#.reshape(-1, 1, SoapList.shape[-1])\n",
    "        dsp_dx_list = [no_forces_string] * len(sp_list)#sum(len(struct) for struct in struct_list)\n",
    "    \n",
    "    return dsp_dx_list, sp_list\n",
    "        \n",
    "[SoapDerivativeList, SoapList], TimeSoap = TickTock(GenerateDescriptorsAndDerivatives, StructureList, attach_SOAP_center, is_periodic, use_forces, my_nmax, my_lmax, my_rcut, my_smear)\n"
   ]
  },
  {
   "cell_type": "code",
   "execution_count": 42,
   "metadata": {},
   "outputs": [
    {
     "name": "stdout",
     "output_type": "stream",
     "text": [
      "0.19413375854492188\n"
     ]
    }
   ],
   "source": [
    "print(TimeSoap)"
   ]
  },
  {
   "cell_type": "markdown",
   "metadata": {},
   "source": [
    "---\n",
    "\n",
    "## Now the training starts"
   ]
  },
  {
   "cell_type": "markdown",
   "metadata": {},
   "source": [
    "Preparing the energies, forces, soap descriptors and derivatives into a format usable for tensorflow training\n",
    "\n",
    "---\n",
    "\n",
    "1. Split all data into training and test sets.  \n",
    "Test sets will not be viewed until training is done  \n",
    "2. Scale soaps and energies separately to have zero mean and unit variance.  \n",
    "Divide the derivatives by the same scale factor but don't subtract the mean\n",
    "3. Convert data to tensorflow tensors where necessary  "
   ]
  },
  {
   "cell_type": "code",
   "execution_count": 83,
   "metadata": {},
   "outputs": [
    {
     "name": "stdout",
     "output_type": "stream",
     "text": [
      "0.05041003227233887\n"
     ]
    }
   ],
   "source": [
    "def PrepareDataForTraining(sp_list = SoapList,\n",
    "                           dsp_dx_list = SoapDerivativeList,\n",
    "                           en_list = EnergyList,\n",
    "                           frc_list = ForceList,\n",
    "                           pos_list = PosList,\n",
    "                           split_seed = split_seed,\n",
    "                           prepare_forces = use_forces,\n",
    "                           train_fract = training_frac,\n",
    "                           scale_soaps = scale_soaps\n",
    "                          ):\n",
    "    # This comment itself needs to be split up now haha\n",
    "    \n",
    "    # Split all data into training and test sets.\n",
    "    # Test sets will not be viewed until training is done\n",
    "    # Intra-structural information is not reshaped into local atomic information until after splitting\n",
    "    # This means structures will be fully in the training or test sets, not split between both\n",
    "    # It also means it will be possible to predict global energies in the test set\n",
    "    \n",
    "    train_indices, test_indices  = train_test_split(np.arange(len(sp_list)), random_state = split_seed, test_size = 1 - train_fract )\n",
    "    \n",
    "    train_ens, test_ens = en_list[train_indices], en_list[test_indices] #, test_ens, train_frcs, test_frcs\n",
    "    train_ens, test_ens = train_ens.reshape(-1, 1), test_ens.reshape(-1, 1)\n",
    "    \n",
    "    # Scale energies to have zero mean and unit variance.\n",
    "    # Divide forces by the same scale factor but don't subtract the mean\n",
    "\n",
    "    ens_scaler = StandardScaler().fit(train_ens)\n",
    "    train_ens, test_ens = ens_scaler.transform(train_ens), ens_scaler.transform(test_ens)\n",
    "    # The following line is for the tensorflow code. If it is commented out, it is for the gpflow code\n",
    "    #train_ens, test_ens = train_ens.flatten(), test_ens.flatten()\n",
    "    ens_var = train_ens.var()\n",
    "    \n",
    "    if prepare_forces:\n",
    "        train_frcs, test_frcs = frc_list[train_indices], frc_list[test_indices]\n",
    "        train_frcs, test_frcs = train_frcs.reshape(-1, 3), test_frcs.reshape(-1, 3)\n",
    "        train_frcs, test_frcs = train_frcs / ens_scaler.scale_, test_frcs / ens_scaler.scale_\n",
    "        frcs_var = train_frcs.var()\n",
    "            \n",
    "    \n",
    "#     split_data = train_test_split(sp_list, dsp_dx_list, en_list, frc_list, pos_list, np.arange(len(sp_list)), random_state = split_seed, test_size = 1 - train_fract )\n",
    "#     print([np.array(x).shape for x in split_data])\n",
    "#     split_data = [np.array]\n",
    "#     train_sps, test_sps, train_dsp_dx, test_dsp_dx, train_ens, test_ens, train_frcs, test_frcs, train_pos, test_pos, train_indices, test_indices = split_data\n",
    "    \n",
    "    train_sps, test_sps = sp_list[train_indices], sp_list[test_indices]\n",
    "    train_sps, test_sps = train_sps.reshape(-1, sp_list.shape[-1]), test_sps.reshape(-1, sp_list.shape[-1])  \n",
    "    \n",
    "    # Scale soaps to have zero mean and unit variance.\n",
    "    # Divide derivatives by the same scale factor but don't subtract the mean\n",
    "    \n",
    "    soap_scaler = StandardScaler().fit(train_sps)\n",
    "    if scale_soaps:\n",
    "        train_sps, test_sps = soap_scaler.transform(train_sps), soap_scaler.transform(test_sps)\n",
    "    \n",
    "    if prepare_forces:\n",
    "        train_dsp_dx, test_dsp_dx = dsp_dx_list[train_indices], dsp_dx_list[test_indices]\n",
    "        train_dsp_dx, test_dsp_dx = train_dsp_dx.reshape(-1, 3, dsp_dx_list.shape[-1]), test_dsp_dx.reshape(-1, 3, dsp_dx_list.shape[-1])\n",
    "        if scale_soaps:\n",
    "            train_dsp_dx, test_dsp_dx = train_dsp_dx/soap_scaler.scale_, test_dsp_dx/soap_scaler.scale_\n",
    "\n",
    "    # Convert data to tensorflow tensors where necessary\n",
    "    \n",
    "    # Maybe it makes sense to wait to do this since I have to convert them back to numpy to split them into validation/training sets anyway\n",
    "    # (The only one I didn't have to convert is test_sps, but I can just do this later if I'm moving the rest to later)\n",
    "#     train_sps = tf.constant(train_sps, dtype=np.float64)\n",
    "#     train_ens = tf.constant(train_ens, dtype=np.float64)\n",
    "#     test_sps = tf.constant(test_sps, dtype=np.float64)\n",
    "\n",
    "#     if prepare_forces:\n",
    "#         train_frcs = tf.constant(train_frcs, dtype=np.float64)\n",
    "\n",
    "    if not prepare_forces:\n",
    "        return train_sps, test_sps, train_ens, test_ens, train_indices, test_indices, soap_scaler, ens_scaler, ens_var\n",
    "    else:\n",
    "        return train_sps, test_sps, train_ens, test_ens, train_indices, test_indices, soap_scaler, ens_scaler, ens_var, train_dsp_dx, test_dsp_dx, train_frcs, test_frcs, frcs_var\n",
    "\n",
    "out_data, TimePrepare = TickTock(PrepareDataForTraining, SoapList, SoapDerivativeList, EnergyList, ForceList, PosList, split_seed, use_forces, training_frac)\n",
    "\n",
    "print(TimePrepare)\n",
    "\n",
    "if not use_forces:\n",
    "    train_sps, test_sps, train_ens, test_ens, train_indices, test_indices, soap_scaler, ens_scaler, ens_var = out_data\n",
    "else:\n",
    "    train_sps, test_sps, train_ens, test_ens, train_indices, test_indices, soap_scaler, ens_scaler, ens_var, train_dsp_dx, test_dsp_dx, train_frcs, test_frcs, frcs_var = out_data \n"
   ]
  },
  {
   "cell_type": "code",
   "execution_count": 84,
   "metadata": {},
   "outputs": [],
   "source": [
    "if sparse_gpflow:\n",
    "    from skcosmo.sample_selection import CUR\n",
    "    from sklearn.decomposition import PCA\n",
    "    \n",
    "    PCA_model = PCA(2).fit(train_sps)\n",
    "    train_sps_2D = PCA_model.transform(train_sps)\n",
    "    \n",
    "        \n",
    "    selector2 = CUR(\n",
    "                        n_to_select=n_sparse,\n",
    "                        progress_bar=True,\n",
    "                        score_threshold=1E-12,\n",
    "                        full=False,\n",
    "\n",
    "                        # int, number of eigenvectors to use in computing pi\n",
    "                        k = 1,\n",
    "\n",
    "                        # boolean, whether to orthogonalize after each selection, defaults to true\n",
    "                        iterative = True,\n",
    "\n",
    "                        # float, threshold below which scores will be considered 0, defaults to 1E-12\n",
    "                        tolerance=1E-12,\n",
    "                        )\n",
    "    \n",
    "    selector2.fit(train_sps_2D)\n",
    "    sparse_train_sps_2D_2 = selector2.transform(train_sps_2D)\n",
    "    \n",
    "    \n",
    "    selector1 = CUR(\n",
    "                        n_to_select=n_sparse,\n",
    "                        progress_bar=True,\n",
    "                        score_threshold=1E-12,\n",
    "                        full=False,\n",
    "\n",
    "                        # int, number of eigenvectors to use in computing pi\n",
    "                        k = 1,\n",
    "\n",
    "                        # boolean, whether to orthogonalize after each selection, defaults to true\n",
    "                        iterative = True,\n",
    "\n",
    "                        # float, threshold below which scores will be considered 0, defaults to 1E-12\n",
    "                        tolerance=1E-12,\n",
    "                        )\n",
    "    selector1.fit(train_sps)\n",
    "    sparse_train_sps = selector1.transform(train_sps)\n",
    "    sparse_train_sps_2D = PCA_model.transform(sparse_train_sps)\n",
    "\n",
    "\n",
    "    \n",
    "    plt.plot(train_sps_2D.transpose()[0],train_sps_2D.transpose()[1], \"o\" , c='r', ms=1)\n",
    "    plt.plot(sparse_train_sps_2D.transpose()[0],sparse_train_sps_2D.transpose()[1], \"o\" ,c='b')\n",
    "    plt.plot(sparse_train_sps_2D_2.transpose()[0],sparse_train_sps_2D_2.transpose()[1], \"o\" , c='g')\n",
    "    \n",
    "    print(\n",
    "        sparse_train_sps.shape,\n",
    "        train_sps.shape,\n",
    "        sparse_train_sps_2D.shape,\n",
    "        sparse_train_sps_2D_2.shape\n",
    "        )"
   ]
  },
  {
   "cell_type": "markdown",
   "metadata": {},
   "source": [
    "Reshape energies, soaps, etc so that local data can be separated"
   ]
  },
  {
   "cell_type": "markdown",
   "metadata": {},
   "source": [
    "Scale soaps and energies separately to have zero mean and unit variance.\n",
    "\n",
    "Divide the derivatives by the same scale factor but don't subtract the mean"
   ]
  },
  {
   "cell_type": "markdown",
   "metadata": {},
   "source": [
    "Convert data to tensorflow tensors where necessary"
   ]
  },
  {
   "cell_type": "markdown",
   "metadata": {},
   "source": [
    "Define a few things used in training loop\n",
    "\n",
    "* loss/error function\n",
    "* optimizer"
   ]
  },
  {
   "cell_type": "code",
   "execution_count": 85,
   "metadata": {},
   "outputs": [],
   "source": [
    "from gpflow.utilities import print_summary\n",
    "gpflow.config.set_default_summary_fmt(\"notebook\")"
   ]
  },
  {
   "cell_type": "code",
   "execution_count": 86,
   "metadata": {},
   "outputs": [],
   "source": [
    "# Note: I still need to add the Tikhonov regularization term for loss to make the mse equivalent to negative log likelihood\n",
    "\n",
    "@tf.function(autograph=False, experimental_compile=False)\n",
    "def mse(y_predict, y_true):\n",
    "    return tf.math.reduce_mean(tf.math.squared_difference(y_predict, y_true))\n",
    "\n",
    "@tf.function(autograph=False, experimental_compile=False)\n",
    "def mse_2factor(y1_predict, y1_true, weight1, y2_predict, y2_true, weight2):\n",
    "    mse1 = mse(y1_predict, y1_true)\n",
    "    mse2 = mse(y2_predict, y2_true)*3\n",
    "\n",
    "    return mse1 * weight1 + mse2 * weight2\n",
    "\n"
   ]
  },
  {
   "cell_type": "code",
   "execution_count": 87,
   "metadata": {},
   "outputs": [],
   "source": [
    "#@tf.function(autograph=False, experimental_compile=False)\n",
    "def train_step_without_forces_full(model, valid_soap, valid_energy): #, optimizer):\n",
    "    with tf.GradientTape() as tape:\n",
    "        predict_energy = model.predict_f(valid_soap)[0]\n",
    "        tf.print(\"predict energies = \", predict_energy[:3])\n",
    "        my_mse = mse(predict_energy, valid_energy)\n",
    "    gradients = tape.gradient(my_mse, model.trainable_variables)\n",
    "    tf.print(\"gradients = \", gradients)\n",
    "    optimizer.apply_gradients(zip(gradients, model.trainable_variables))\n",
    "    print(\"TRACING train_step_without_forces_full\")\n",
    "    return my_mse"
   ]
  },
  {
   "cell_type": "code",
   "execution_count": 88,
   "metadata": {},
   "outputs": [],
   "source": [
    "@tf.function(autograph=False, experimental_compile=False)\n",
    "def predict_energies_from_weights(c, soaps_old, soaps_new):\n",
    "    k = tf.tensordot(soaps_old, tf.transpose(soaps_new), axes=1)\n",
    "    return tf.linalg.matmul(c, k, transpose_a=True)"
   ]
  },
  {
   "cell_type": "markdown",
   "metadata": {},
   "source": [
    "### Possible improvements to my GPflow training\n",
    "---\n",
    "1. Use Adam optimizer\n",
    "2. Custom loss function vs optimizer.minimize\n",
    "3. Don't use constrain_positive\n",
    "4. Set certain variable untrainable"
   ]
  },
  {
   "cell_type": "markdown",
   "metadata": {},
   "source": [
    "Perform training loop"
   ]
  },
  {
   "cell_type": "code",
   "execution_count": 146,
   "metadata": {},
   "outputs": [
    {
     "name": "stdout",
     "output_type": "stream",
     "text": [
      "Raising linear kernel to the power of 1 creating a polynomial kernel\n",
      "Training using 1620 atoms without batching.\n"
     ]
    },
    {
     "data": {
      "text/html": [
       "<table>\n",
       "<thead>\n",
       "<tr><th>name                   </th><th>class           </th><th>transform       </th><th>prior  </th><th>trainable  </th><th>shape       </th><th>dtype  </th><th>value                                               </th></tr>\n",
       "</thead>\n",
       "<tbody>\n",
       "<tr><td>GPR.kernel.variance    </td><td>Parameter       </td><td>Softplus        </td><td>       </td><td>True       </td><td>()          </td><td>float64</td><td>1.0                                                 </td></tr>\n",
       "<tr><td>GPR.kernel.offset      </td><td>Parameter       </td><td>Softplus        </td><td>       </td><td>True       </td><td>()          </td><td>float64</td><td>1.000000000000002e-24                               </td></tr>\n",
       "<tr><td>GPR.likelihood.variance</td><td>Parameter       </td><td>Softplus + Shift</td><td>       </td><td>True       </td><td>()          </td><td>float64</td><td>0.00010000000000000011                              </td></tr>\n",
       "<tr><td>GPR.data[0]            </td><td>ResourceVariable</td><td>                </td><td>       </td><td>False      </td><td>(1620, 2700)</td><td>float64</td><td>[[1.71329899e-03, 3.23732481e-03, -6.96002674e-03...</td></tr>\n",
       "<tr><td>GPR.data[1]            </td><td>ResourceVariable</td><td>                </td><td>       </td><td>False      </td><td>(1620, 1)   </td><td>float64</td><td>[[-0.64663941...                                    </td></tr>\n",
       "</tbody>\n",
       "</table>"
      ],
      "text/plain": [
       "<IPython.core.display.HTML object>"
      ]
     },
     "metadata": {},
     "output_type": "display_data"
    },
    {
     "name": "stdout",
     "output_type": "stream",
     "text": [
      "Calculating weights\n",
      "Predicting final energies\n"
     ]
    }
   ],
   "source": [
    "# Initialize kernels and model hyperparameters\n",
    "verbose = True\n",
    "tf.random.set_seed(tf_seed)\n",
    "\n",
    "TimeBeforePreEpoch = time.time()\n",
    "\n",
    "\n",
    "train_step_without_forces_full_tf = tf.function(train_step_without_forces_full)\n",
    "\n",
    "#optimizer = tf.keras.optimizers.Adam(learning_rate=learn_rate)\n",
    "optimizer = tf.keras.optimizers.SGD(learning_rate=learn_rate)\n",
    "\n",
    "\n",
    "constrain_positive = tfb.Shift(np.finfo(np.float64).tiny)(tfb.Exp())\n",
    "noise_init = 1e-4\n",
    "obs_noise = tfp.util.TransformedVariable(initial_value=noise_init, bijector=constrain_positive, dtype=np.float64, name=\"noise\")\n",
    "\n",
    "if kernel_type == \"exponentiated_quadratic\":\n",
    "    amp_init = 2\n",
    "    # The following line tries to control for the size and natural spread of the data\n",
    "    len_init = 0.1*train_sps.shape[-1]/np.mean(soap_scaler.scale_ )\n",
    "    amplitude = tfp.util.TransformedVariable(initial_value=amp_init, bijector=constrain_positive, dtype=np.float64, name=\"amplitude\")\n",
    "    len_scale = tfp.util.TransformedVariable(initial_value=len_init, bijector=constrain_positive, dtype=np.float64, name=\"len_scale\")\n",
    "#     kernel = tfk.ExponentiatedQuadratic(amplitude=amplitude, length_scale=len_scale, name=\"exponentiated_quadratic_kernel\", feature_ndims=1)\n",
    "    kernel = SquaredExponential(variance=amplitude, lengthscales=len_scale, name=\"exponentiated_quadratic_kernel_gpf\")\n",
    "#     trainable_variables = [var.variables[0] for var in [amplitude, len_scale, obs_noise]]\n",
    "elif kernel_type == \"polynomial\":\n",
    "    slope_init = 1\n",
    "#    slope = tfp.util.TransformedVariable(initial_value=slope_init, bijector=constrain_positive, dtype=np.float64, name=\"slope\")\n",
    "    offset_init =  1e-24#1e-10\n",
    "    offset = tf.Variable(offset_init, dtype=np.float64, name=\"offset\")\n",
    "#    offset = tfp.util.TransformedVariable(initial_value=offset_init, bijector=constrain_positive, dtype=np.float64, name=\"offset\")\n",
    "    degree_init = 1\n",
    "    degree = tf.constant(degree_init, dtype=np.float64, name=\"degree\")\n",
    "    print(\"Raising linear kernel to the power of {} creating a polynomial kernel\".format(degree_init))\n",
    "#    degree = tfp.util.TransformedVariable(initial_value=degree_init, bijector=constrain_positive, dtype=np.float64, name=\"degree\")\n",
    "    kernel = Polynomial(variance=slope_init, offset=offset, degree=degree_init)\n",
    "#     kernel = tfk.Polynomial(slope_variance=slope, name=\"polynomial_kernel\", feature_ndims=1)\n",
    "\n",
    "#     trainable_variables = [var.variables[0] for var in [slope, obs_noise]]\n",
    "else:\n",
    "    print(\"Warning: Do not recognize kernel_type={}\".format(kernel_type))\n",
    "\n",
    "    \n",
    "\n",
    "\n",
    "# Split training data into training and validation sets\n",
    "# Now validation set acts as temporary est set\n",
    "# train_test_split and tensorflow tensors don't get along so I temporarily convert them back to numpy arrays\n",
    "\n",
    "train_indices_j, valid_indices_j  = train_test_split(np.arange(len(train_sps)), random_state = valid_split_seed, test_size=(1-valid_fract))\n",
    "\n",
    "train_sps_j, valid_sps_j = train_sps[train_indices_j], train_sps[valid_indices_j]\n",
    "train_ens_j, valid_ens_j = train_ens[train_indices_j], train_ens[valid_indices_j]\n",
    "\n",
    "if use_forces: \n",
    "    train_dsp_dx_j, valid_dsp_dx_j = train_dsp_dx[train_indices_j], train_dsp_dx[valid_indices_j]\n",
    "    train_frcs_j, valid_frcs_j = train_frcs[train_indices_j], train_frcs[valid_indices_j]\n",
    "\n",
    "# Convert to tensorflow constant tensors\n",
    "train_sps_j = tf.constant(train_sps_j, dtype=np.float64)\n",
    "train_ens_j = tf.constant(train_ens_j, dtype=np.float64)\n",
    "valid_sps_j = tf.constant(valid_sps_j, dtype=np.float64)\n",
    "valid_ens_j = tf.constant(valid_ens_j, dtype=np.float64)\n",
    "if sparse_gpflow:\n",
    "    sparse_train_sps = tf.Variable(sparse_train_sps, shape=sparse_train_sps.shape, dtype=np.float64, trainable=False)\n",
    "\n",
    "if use_forces:\n",
    "    train_dsp_dx_j = tf.constant(train_dsp_dx_j, dtype=np.float64)\n",
    "    train_frcs_j = tf.constant(train_frcs_j, dtype=np.float64)    \n",
    "    valid_dsp_dx_j = tf.constant(valid_dsp_dx_j, dtype=np.float64)\n",
    "    valid_frcs_j = tf.constant(valid_frcs_j, dtype=np.float64)        \n",
    "\n",
    "test_sps = tf.constant(test_sps, dtype=np.float64)\n",
    "\n",
    "\n",
    "# Batch data if  training set is larger than batch_size_max\n",
    "if len(train_sps_j) < batch_size_max:\n",
    "    iterations_per_epoch = 1\n",
    "    batch_size = len(train_sps_j)\n",
    "    if verbose:\n",
    "        print(\"Training using {} atoms without batching.\".format(len(train_sps_j)))\n",
    "else:\n",
    "    iterations_per_epoch = int(np.ceil(len(train_sps_j)/batch_size_max))\n",
    "    batch_size = int(np.ceil(len(train_sps_j)/iterations_per_epoch))\n",
    "    if verbose:\n",
    "        print(\"Training using {} atoms total using {} batches with {} atoms per batch.\".format( len(train_sps_j), iterations_per_epoch, batch_size ))\n",
    "\n",
    "# training(out_data)\n",
    "        \n",
    "TimeBeforeEpoch0 = time.time()\n",
    "\n",
    "\n",
    "mse_history = []    \n",
    "hyperparam_history = []\n",
    "\n",
    "\n",
    "\n",
    "batches_j = (\n",
    "    tf.data.Dataset.from_tensor_slices((train_sps_j, train_ens_j)) \n",
    "    .shuffle(buffer_size=len(train_sps_j), seed=shuffle_seed) \n",
    "    .repeat(count=None)\n",
    "    .batch(batch_size)\n",
    ")    \n",
    "\n",
    "# new code to make tf.function training work\n",
    "# --------------------------------------------\n",
    "train_sps_j_i = tf.Variable(train_sps[:batch_size], shape=(batch_size, train_sps.shape[-1]), dtype=np.float64, trainable=False )\n",
    "train_ens_j_i = tf.Variable(train_ens[:batch_size], shape=(batch_size, 1), dtype=np.float64, trainable=False ) \n",
    "if sparse_gpflow:\n",
    "    if n_sparse >= batch_size:\n",
    "        print(\"Warning: Batch size is not greater than sparse soap size.\\nThis may cause errors in the predict_f function which assumes the inducing points to be fewer than the data points.\")\n",
    "    gpr_model = gpflow.models.SGPR(data=(train_sps_j_i, train_ens_j_i), kernel=kernel, noise_variance=obs_noise, inducing_variable=sparse_train_sps)\n",
    "else:\n",
    "    gpr_model = gpflow.models.GPR( data=(train_sps_j_i, train_ens_j_i), kernel=kernel, noise_variance=obs_noise)\n",
    "# --------------------------------------------\n",
    "\n",
    "\n",
    "hyperparam_history.append([(0, var.numpy()) for var in gpr_model.trainable_parameters])  \n",
    "for j in range(n_epochs_max):\n",
    "    if not j % print_frequency:\n",
    "        print(\"Epoch {}\".format(j))\n",
    "        #print(\" \".join([\"{} = {:.2e} \".format(var.name, np.exp(var.numpy())) for var in trainable_variables]))\n",
    "\n",
    "\n",
    "\n",
    "    mse_ens_j = 0\n",
    "    for i, (train_sps_j_i, train_ens_j_i) in enumerate(islice(batches_j, iterations_per_epoch)):\n",
    "        if not use_forces: #and not sparse_gpflow :\n",
    "            gpr_model.data[0].assign(train_sps_j_i)\n",
    "            gpr_model.data[1].assign(train_ens_j_i)        \n",
    "            mse_ens_j_i = train_step_without_forces_full_tf(gpr_model, valid_sps_j, valid_ens_j)\n",
    "#             mse_ens_j_i = train_step_without_forces_full_tf(gpr_model, valid_sps_j, valid_ens_j)\n",
    "            print(mse_ens_j_i.numpy(), valid_ens_j[:3].numpy().flatten(), train_ens_j_i[:3].numpy().flatten()  )\n",
    "        else:\n",
    "            print(\"Using normal approach\")\n",
    "            with tf.GradientTape() as tape:\n",
    "                with tf.GradientTape(watch_accessed_variables=False) as tape_sps:\n",
    "                    tape_sps.watch(valid_sps_j)\n",
    "    #                 gprm_j_i = tfd.GaussianProcessRegressionModel(\n",
    "    #                     kernel = kernel,\n",
    "    #                     index_points = valid_sps_j,\n",
    "    #                     observation_index_points = train_sps_j_i,\n",
    "    #                     observations = train_ens_j_i, #tf.constant(train_ens_j_i.numpy().flatten(), dtype=np.float64),#train_ens_j_i,\n",
    "    #                     observation_noise_variance = obs_noise)\n",
    "    #                 predict_ens_j_i = gprm_j_i.mean()\n",
    "                    if sparse_gpflow:\n",
    "                        gpr_model = gpflow.models.SGPR(data=(train_sps_j_i, train_ens_j_i), kernel=kernel, inducing_variable=sparse_train_sps)\n",
    "#                         gpflow.set_trainable(gpr_model.inducing_variable, False)\n",
    "                        if i < 3:\n",
    "                            print_summary(gpr_model)            \n",
    "                    else:\n",
    "                        gpr_model.data[0].assign(train_sps_j_i)\n",
    "                        gpr_model.data[1].assign(train_ens_j_i)\n",
    "                        #gpr_model = gpflow.models.GPR(data=(train_sps_j_i, train_ens_j_i), kernel=kernel)\n",
    "                    #gpr_model.likelihood.variance.assign(obs_noise)                \n",
    "                    predict_ens_j_i = gpr_model.predict_f(valid_sps_j)[0]\n",
    "\n",
    "\n",
    "\n",
    "    #                 gpr_model = gpflow.models.GPR(data=(sps_j_i, train_ens_j_i), kernel=kernel_gpf)\n",
    "    #                 gpr_model.likelihood.variance.assign(obs_noise_gpf)\n",
    "    #                 predict_ens_j_i_gpf = gpr_model.predict_f(valid_sps_j)\n",
    "\n",
    "                if use_forces:\n",
    "                    predict_d_ens_j_i = tape_sps.gradient(predict_ens_j_i, valid_sps_j)\n",
    "                    # In the following line I needed to include '* n_atoms' after breaking energies into local energies\n",
    "                    # The reason is that I am effectively breaking the connection between E and F when doing that\n",
    "                    # F = -dE/dx =/= -dE_local/dx where E_local = E/n_atoms - E_free\n",
    "                    # When I split energies into local energies I initially calculated -dE_local/dx which is -dE/dx / n_atoms\n",
    "                    # This fix is prone to breaking the code and is not robust to systems with different structure size\n",
    "                    # Need to improve this with a better fix\n",
    "                    n_atoms = len(StructureList[0])\n",
    "                    predict_frcs_j_i = -1*np.einsum('ijk,ik->ij', valid_dsp_dx_j, predict_d_ens_j_i) * n_atoms\n",
    "                    mse_j_i = mse_2factor(predict_ens_j_i, valid_ens_j, 1/ens_var,\n",
    "                                            predict_frcs_j_i, valid_frcs_j, 1/frcs_var)\n",
    "                    mse_ens_j_i = mse(predict_ens_j_i, valid_ens_j)\n",
    "                else:\n",
    "                    mse_j_i = mse(predict_ens_j_i, valid_ens_j)\n",
    "                    mse_ens_j_i = mse_j_i\n",
    "\n",
    "\n",
    "    #         grads = tape.gradient(mse_j_i, trainable_variables)\n",
    "    #         optimizer.apply_gradients(zip(grads, trainable_variables))\n",
    "            grads = tape.gradient(mse_j_i, gpr_model.trainable_variables)\n",
    "            # print(gpr_model.trainable_variables[0])#grads[0])\n",
    "            optimizer.apply_gradients(zip(grads, gpr_model.trainable_variables))\n",
    "            if i < 3:\n",
    "                print_summary(gpr_model)\n",
    "                \n",
    "            if not gpr_model.data[0][0,0].numpy() == train_sps_j_i[0,0].numpy() :\n",
    "                print(\"ERRORERRORERRORERRORERRORERRORERROR\")\n",
    "\n",
    "        print(\"Adding mse_ens_j_i to mse_ens_j: {} + {} = {} \".format(mse_ens_j_i.numpy(), mse_ens_j , mse_ens_j_i.numpy() + mse_ens_j  ))\n",
    "        mse_ens_j += mse_ens_j_i\n",
    "\n",
    "    mse_ens_j /= iterations_per_epoch\n",
    "    #print(\"Epoch {},  mse = {}\".format(j, mse_ens_j))\n",
    "    mse_history.append((j+1, mse_ens_j))\n",
    "    hyperparam_history.append([(j+1, var.numpy()) for var in gpr_model.trainable_parameters])    \n",
    "\n",
    "print_summary(gpr_model)\n",
    "\n",
    "TimeBeforeWeights = time.time()\n",
    "print(\"Calculating weights\")\n",
    "\n",
    "if sparse_gpflow:\n",
    "    gpr_model = gpflow.models.SGPR(data=(train_sps, train_ens), kernel=kernel, noise_variance = gpr_model.likelihood.variance, inducing_variable  = sparse_train_sps)\n",
    "else:\n",
    "    gpr_model = gpflow.models.GPR( data=(train_sps, train_ens), kernel=kernel, noise_variance = gpr_model.likelihood.variance)      \n",
    "\n",
    "if sparse_gpflow:\n",
    "    if prediction_calculation in (\"direct\", \"cholesky\"):\n",
    "        print(\"Alert: {} prediction approach not implemented for sparse model. Using alpha approach instead.\".format(prediction_calculation))\n",
    "        trained_weights = gpr_model.posterior().alpha\n",
    "    elif prediction_calculation == \"alpha\":\n",
    "        trained_weights = gpr_model.posterior().alpha\n",
    "else:\n",
    "    if prediction_calculation in (\"direct\", \"cholesky\"):\n",
    "        KNN = gpr_model.kernel(train_sps)\n",
    "        KNN_diag = tf.linalg.diag_part(KNN)\n",
    "        variance_diag = tf.fill(tf.shape(KNN_diag), gpr_model.likelihood.variance)\n",
    "        KNN_plus_variance = tf.linalg.set_diag(KNN, KNN_diag + variance_diag)\n",
    "        if prediction_calculation == \"direct\":\n",
    "            KNN_inv =  tf.linalg.inv(KNN_plus_variance)\n",
    "            trained_weights = tf.matmul(KNN_inv, train_ens)\n",
    "        else:\n",
    "            LNN = tf.linalg.cholesky(KNN_plus_variance)\n",
    "            LNN_inv = tf.linalg.inv(LNN)\n",
    "            KNN_inv_from_L = tf.matmul(LNN_inv, LNN_inv,transpose_a=True)\n",
    "            trained_weights = tf.matmul(KNN_inv_from_L, train_ens)\n",
    "    elif prediction_calculation == \"alpha\":\n",
    "        print(\"ERROR: alpha not implemented for gpflow GPR. Skipping prediction\")\n",
    "\n",
    "    \n",
    "TimeAfterTraining = time.time()\n",
    "\n",
    "\n",
    "with tf.GradientTape(watch_accessed_variables=False) as tape_sps:\n",
    "    tape_sps.watch(test_sps)  \n",
    "    print(\"Predicting final energies\")\n",
    "    if prediction_calculation == \"predict_f\":\n",
    "        predict_ens = gpr_model.predict_f(test_sps)[0]\n",
    "    else:\n",
    "        if sparse_gpflow:\n",
    "            predict_ens = tf.reshape( predict_energies_from_weights(trained_weights, sparse_train_sps, test_sps), [-1,1])\n",
    "        else:\n",
    "            predict_ens = tf.reshape( predict_energies_from_weights(trained_weights,        train_sps, test_sps), [-1,1])\n",
    "\n",
    "test_ens_rescaled = ens_scaler.inverse_transform(test_ens)\n",
    "predict_ens_rescaled = ens_scaler.inverse_transform(predict_ens)\n",
    "\n",
    "if use_forces:\n",
    "    print(\"Predicting final forces\")    \n",
    "    predict_d_ens = tape_sps.gradient(predict_ens, test_sps)\n",
    "    n_atoms = len(StructureList[0])\n",
    "    predict_frcs = -1*np.einsum('ijk,ik->ij', test_dsp_dx, predict_d_ens) * n_atoms\n",
    "\n",
    "    test_frcs_rescaled = test_frcs * ens_scaler.scale_\n",
    "    predict_frcs_rescaled = predict_frcs * ens_scaler.scale_\n",
    "\n",
    "TimeAfterPrediction = time.time()\n",
    "\n",
    "\n"
   ]
  },
  {
   "cell_type": "code",
   "execution_count": 153,
   "metadata": {},
   "outputs": [
    {
     "name": "stdout",
     "output_type": "stream",
     "text": [
      "255 ms ± 11.4 ms per loop (mean ± std. dev. of 7 runs, 1 loop each)\n",
      "222 ms ± 5.95 ms per loop (mean ± std. dev. of 7 runs, 1 loop each)\n"
     ]
    }
   ],
   "source": [
    "%timeit KNN = gpr_model.kernel(train_sps)\n",
    "\n",
    "%timeit get_KNN(train_sps)"
   ]
  },
  {
   "cell_type": "code",
   "execution_count": 163,
   "metadata": {},
   "outputs": [
    {
     "name": "stdout",
     "output_type": "stream",
     "text": [
      "1.23 s ± 9.35 ms per loop (mean ± std. dev. of 7 runs, 1 loop each)\n",
      "1.6 s ± 11.5 ms per loop (mean ± std. dev. of 7 runs, 1 loop each)\n",
      "1.25 s ± 7.36 ms per loop (mean ± std. dev. of 7 runs, 1 loop each)\n"
     ]
    }
   ],
   "source": [
    "@tf.function(autograph=False, experimental_compile=False)\n",
    "def direct_weight_calculation(KNN, variance, y):\n",
    "    KNN_diag = tf.linalg.diag_part(KNN)\n",
    "    variance_diag = tf.fill(tf.shape(KNN_diag), variance)\n",
    "    KNN_plus_variance = tf.linalg.set_diag(KNN, KNN_diag + variance_diag)\n",
    "    KNN_inv =  tf.linalg.inv(KNN_plus_variance)\n",
    "    return tf.matmul(KNN_inv, y)\n",
    "\n",
    "@tf.function(autograph=False, experimental_compile=False)\n",
    "def cholesky_weight_calculation(KNN, variance, y):\n",
    "    KNN_diag = tf.linalg.diag_part(KNN)\n",
    "    variance_diag = tf.fill(tf.shape(KNN_diag), variance)\n",
    "    KNN_plus_variance = tf.linalg.set_diag(KNN, KNN_diag + variance_diag)\n",
    "    LNN = tf.linalg.cholesky(KNN_plus_variance)\n",
    "    LNN_inv = tf.linalg.inv(LNN)\n",
    "    KNN_inv_from_L = tf.matmul(LNN_inv, LNN_inv,transpose_a=True)\n",
    "    return tf.matmul(KNN_inv_from_L, y)\n",
    "\n",
    "train_ens_tf = tf.constant(train_ens, dtype=np.float64)\n",
    "\n",
    "%timeit direct_weight_calculation(KNN, gpr_model.likelihood.variance, train_ens_tf)\n",
    "\n",
    "%timeit cholesky_weight_calculation(KNN, gpr_model.likelihood.variance, train_ens_tf)\n",
    "\n",
    "%timeit get_coefficients(KNN, gpr_model.likelihood.variance, train_ens_tf)"
   ]
  },
  {
   "cell_type": "code",
   "execution_count": 90,
   "metadata": {},
   "outputs": [
    {
     "name": "stdout",
     "output_type": "stream",
     "text": [
      "Training time outside of epochs in training cell  : 1.490\n",
      "Prediction time                                   : 0.055\n"
     ]
    }
   ],
   "source": [
    "TrainingCellNonEpochsTraining = TimeBeforeEpoch0 - TimeBeforePreEpoch + TimeAfterTraining - TimeBeforeWeights \n",
    "if n_epochs_max:\n",
    "    TimePerEpoch = (TimeBeforeWeights - TimeBeforeEpoch0)/n_epochs_max\n",
    "else:\n",
    "    TimePerEpoch = \"N/A\"\n",
    "PredictionTime = TimeAfterPrediction - TimeAfterTraining\n",
    "\n",
    "print(\"{:50s}: {:.3f}\".format(\"Training time outside of epochs in training cell\", TrainingCellNonEpochsTraining))\n",
    "if n_epochs_max:\n",
    "    print(\"{:50s}: {:.3f}\".format( \"Training time per epoch\", TimePerEpoch))\n",
    "print(\"{:50s}: {:.3f}\".format(\"Prediction time\", PredictionTime) )\n",
    "\n"
   ]
  },
  {
   "cell_type": "code",
   "execution_count": 91,
   "metadata": {},
   "outputs": [
    {
     "name": "stdout",
     "output_type": "stream",
     "text": [
      "Stored the hyperparameters and mse values for plotting under n=200\n"
     ]
    }
   ],
   "source": [
    "if 'mse_history_by_n' not in locals():\n",
    "    mse_history_by_n = {}\n",
    "if 'hyperparam_history_by_n' not in locals():\n",
    "    hyperparam_history_by_n = {}\n",
    "    \n",
    "hyperparam_history_by_n[my_n] = hyperparam_history\n",
    "mse_history_by_n[my_n] = mse_history\n",
    "\n",
    "print(\"Stored the hyperparameters and mse values for plotting under n={}\".format(my_n) )"
   ]
  },
  {
   "cell_type": "markdown",
   "metadata": {},
   "source": [
    "Plot results"
   ]
  },
  {
   "cell_type": "code",
   "execution_count": 92,
   "metadata": {},
   "outputs": [
    {
     "data": {
      "image/png": "[encoded data removed]",
      "text/plain": [
       "<Figure size 1152x864 with 4 Axes>"
      ]
     },
     "metadata": {
      "needs_background": "light"
     },
     "output_type": "display_data"
    }
   ],
   "source": [
    "\n",
    "palette = plt.get_cmap('gist_ncar')#'nipy_spectral')#\"viridis\")\n",
    "palette_size = palette.N#len(palette.colors)\n",
    "palette_itr = 0\n",
    "\n",
    "fig, [[ax00, ax01], [ax10, ax11]] = plt.subplots(nrows=2, ncols = 2, figsize=(16,12))\n",
    "\n",
    "hyperparam_names = [\"kernel offset\", \"kernel amplitude\", \"observation noise variance\"]\n",
    "\n",
    "for n in np.sort(list(mse_history_by_n.keys())):\n",
    "    mse_history = mse_history_by_n[n]\n",
    "    hyperparam_history = hyperparam_history_by_n[n]\n",
    "    if not len(mse_history):\n",
    "        continue\n",
    "    color = palette(palette_itr)\n",
    "    palette_itr = (palette_itr + 30) % palette_size\n",
    "    \n",
    "\n",
    "    \n",
    "    # hyperparameters on axes 00, 01, 10\n",
    "    hyperparams = np.swapaxes(hyperparam_history, 0, 1)\n",
    "\n",
    "    ax00.plot(*zip(*hyperparams[0]), color=color, label=\"{}\".format(n), lw=3)\n",
    "    ax00.plot(*hyperparams[0][-1], \"o\", color=color)\n",
    "    label00 = hyperparam_names[0]\n",
    "    ax00.set_ylabel(\"{}\".format(label00))\n",
    "#     #ax00.set_yscale('log')\n",
    "#     annotation00 = ax00.annotate('{:.1f}'.format(amplitudes[-1][1]) , xy=amplitudes[-1], xycoords='data', xytext=(-30,100),\n",
    "#                                  textcoords='offset points', bbox={'fc':\"1\"}, arrowprops={'fc':'k'}, zorder=2)\n",
    "    ax00.legend()\n",
    "\n",
    "    ax01.plot(*zip(*hyperparams[1]), color=color, label=\"{}\".format(n), lw=3)\n",
    "    ax01.plot(*hyperparams[1][-1], \"o\", color=color)\n",
    "    label01 = hyperparam_names[1]\n",
    "    ax01.set_ylabel(\"{}\".format(label01))\n",
    "#     #ax01.set_yscale('log')\n",
    "#     annotation01 = ax01.annotate('{:.1f}'.format(lengths[-1][1]) , xy=lengths[-1], xycoords='data', xytext=(100,-30), \n",
    "#                                  textcoords='offset points', bbox={'fc':\"1\"}, arrowprops={'fc':'k'}, zorder=2)\n",
    "    ax01.legend()\n",
    "\n",
    "    ax10.plot(*zip(*hyperparams[-1]), color=color, label=\"{}\".format(n), lw=3)\n",
    "    ax10.plot(*hyperparams[-1][-1], \"o\", color=color)\n",
    "    label10 = hyperparam_names[-1]\n",
    "    ax10.set_ylabel(\"{}\".format(label10))\n",
    "    #ax10.set_yscale('log')\n",
    "#     annotation01 = ax10.annotate('{:.1e}'.format(noises[-1][1]) , xy=noises[-1], xycoords='data', xytext=(-30,100),\n",
    "#                                  textcoords='offset points', bbox={'fc':\"1\"}, arrowprops={'fc':'k'}, zorder=2)\n",
    "#     ax10.legend()\n",
    "\n",
    "    #loss on axis 11\n",
    "    ax11.plot(*zip(*mse_history), color = color, label=\"{}\".format(n), lw=3)\n",
    "    ax11.plot(*mse_history[-1], \"o\", color=color)\n",
    "    #ax11.set_yscale('log')\n",
    "    bottom, top = ax11.get_ylim()\n",
    "    bottom2, top2 = ax11.get_ylim()\n",
    "    ax11.set_ylabel(\"mse\")\n",
    "    ax11.legend()\n",
    "\n",
    "    #fig.suptitle(\"{}\".format(my_n))"
   ]
  },
  {
   "cell_type": "code",
   "execution_count": 139,
   "metadata": {},
   "outputs": [],
   "source": [
    "def plot_errors(global_ens, predicted_global_ens, model_description = \"model\", use_local=False, local_ens=[], predicted_local_ens=[], color=\"mediumseagreen\"):\n",
    "    n_atoms = 10\n",
    "    \n",
    "    global_ens, predicted_global_ens, local_ens, predicted_local_ens = np.array(global_ens), np.array(predicted_global_ens), np.array(local_ens), np.array(predicted_local_ens)\n",
    "    \n",
    "    if use_local:\n",
    "        fig, axs = plt.subplots(figsize=(20,4.5), ncols=3)\n",
    "    else:\n",
    "        fig, axs = plt.subplots(figsize=(12, 5), ncols=2)\n",
    "\n",
    "    axs[0].set_title(\"Predicted Global Energy vs True Global Energy\\nfor {}\".format(model_description))\n",
    "    axs[0].set_xlabel(\"True Global Energy \")\n",
    "    axs[0].set_ylabel(\"Predicted Global Energy \")\n",
    "    axs[0].plot(global_ens, global_ens, \"-\", c=\"k\")\n",
    "    axs[0].plot(global_ens, predicted_global_ens ,\"o\", c=color, ms=7)\n",
    "    \n",
    "    global_errors = abs(global_ens-predicted_global_ens)/n_atoms\n",
    "    errors = abs(predicted_local_ens-local_ens) if use_local else global_errors\n",
    "    max_err_exp = max(-1, int(np.ceil(np.log10(max(global_errors)))), int(np.ceil(np.log10(max(errors)))) )\n",
    "    min_err_exp = min(-5, int(np.ceil(np.log10(min(global_errors)))), int(np.ceil(np.log10(min(errors)))) )\n",
    "\n",
    "    rmse = np.sqrt(np.mean(errors ** 2))\n",
    "    mae = np.mean(errors)\n",
    "    max_abs_error = np.max(errors)\n",
    "    error_dataframe = pd.DataFrame(data={\"Local Energy\":[rmse, mae, max_abs_error]}, index = [\"Root Mean Squared Error\", \"Mean Absolute Error\", \"Max Absolute Error\"])\n",
    "    #print(\"For LOCAL energies the rms error = {:.3e}, the mean absolute error = {:.3e} and the max absolute error = {:.3e}\".format(rmse, mae, max_abs_error))\n",
    "\n",
    "    global_rmse = np.sqrt(np.mean(global_errors ** 2))\n",
    "    global_mae = np.mean(global_errors)\n",
    "    global_max_abs_error = np.max(global_errors)\n",
    "    error_dataframe[\"Global Energy\"] = [global_rmse, global_mae, global_max_abs_error]\n",
    "    #print(\"For GLOBAL energies the rms error = {:.3e}, the mean absolute error = {:.3e} and the max absolute error = {:.3e}\".format(global_rmse, global_mae, global_max_abs_error))\n",
    "    display(error_dataframe)\n",
    "    \n",
    "    logbins = np.logspace(min_err_exp, max_err_exp, 4*(max_err_exp - min_err_exp))\n",
    "    logticklabels = np.logspace(min_err_exp, max_err_exp, max_err_exp - min_err_exp + 1)\n",
    "    axs[1].hist(global_errors, bins=logbins, color=color)\n",
    "    axs[1].set_xscale('log')\n",
    "    axs[1].set_xticks(logticklabels)\n",
    "    axs[1].set_xticklabels(logticklabels)\n",
    "    axs[1].set_xlabel(\"Error in Predicted Global Energy/Atom\")\n",
    "    axs[1].set_ylabel(\"Frequency\")\n",
    "    axs[1].set_title(\"Error Histogram of Global Energy Predictions\\nfor {}\".format(model_description))\n",
    "    \n",
    "    if use_local:\n",
    "        logbins = np.logspace(min_err_exp, max_err_exp, 4*(max_err_exp - min_err_exp))\n",
    "        logticklabels = np.logspace(min_err_exp, max_err_exp, max_err_exp - min_err_exp + 1)\n",
    "        axs[2].hist(errors, bins=logbins, color=color)\n",
    "        axs[2].set_xscale('log')\n",
    "        axs[2].set_xticks(logticklabels)\n",
    "        axs[2].set_xticklabels(logticklabels)\n",
    "        axs[2].set_xlabel(\"Error in Predicted Local Energy/Atom\")\n",
    "        axs[2].set_ylabel(\"Frequency\")\n",
    "        axs[2].set_title(\"Error Histogram of Local Energy Predictions\\nfor {}\".format(model_description))"
   ]
  },
  {
   "cell_type": "code",
   "execution_count": 140,
   "metadata": {},
   "outputs": [
    {
     "data": {
      "text/html": [
       "<div>\n",
       "<style scoped>\n",
       "    .dataframe tbody tr th:only-of-type {\n",
       "        vertical-align: middle;\n",
       "    }\n",
       "\n",
       "    .dataframe tbody tr th {\n",
       "        vertical-align: top;\n",
       "    }\n",
       "\n",
       "    .dataframe thead th {\n",
       "        text-align: right;\n",
       "    }\n",
       "</style>\n",
       "<table border=\"1\" class=\"dataframe\">\n",
       "  <thead>\n",
       "    <tr style=\"text-align: right;\">\n",
       "      <th></th>\n",
       "      <th>Local Energy</th>\n",
       "      <th>Global Energy</th>\n",
       "    </tr>\n",
       "  </thead>\n",
       "  <tbody>\n",
       "    <tr>\n",
       "      <th>Root Mean Squared Error</th>\n",
       "      <td>0.027976</td>\n",
       "      <td>0.015295</td>\n",
       "    </tr>\n",
       "    <tr>\n",
       "      <th>Mean Absolute Error</th>\n",
       "      <td>0.018832</td>\n",
       "      <td>0.012472</td>\n",
       "    </tr>\n",
       "    <tr>\n",
       "      <th>Max Absolute Error</th>\n",
       "      <td>0.116240</td>\n",
       "      <td>0.030404</td>\n",
       "    </tr>\n",
       "  </tbody>\n",
       "</table>\n",
       "</div>"
      ],
      "text/plain": [
       "                         Local Energy  Global Energy\n",
       "Root Mean Squared Error      0.027976       0.015295\n",
       "Mean Absolute Error          0.018832       0.012472\n",
       "Max Absolute Error           0.116240       0.030404"
      ]
     },
     "metadata": {},
     "output_type": "display_data"
    },
    {
     "data": {
      "image/png": "[encoded data removed]",
      "text/plain": [
       "<Figure size 1440x324 with 3 Axes>"
      ]
     },
     "metadata": {
      "needs_background": "light"
     },
     "output_type": "display_data"
    }
   ],
   "source": [
    "\n",
    "test_ens_regrouped = test_ens_rescaled.reshape(-1, len(StructureList[0]))\n",
    "predict_ens_regrouped = predict_ens_rescaled.reshape(-1, len(StructureList[0]))\n",
    "self_energies_regrouped = [[self_energy(atom.symbol) for atom in StructureList[i]] for i in test_indices]\n",
    "test_global_ens = np.sum(test_ens_regrouped + self_energies_regrouped, axis=1)\n",
    "predict_global_ens = np.sum(predict_ens_regrouped + self_energies_regrouped, axis=1)\n",
    "\n",
    "\n",
    "\n",
    "plot_errors(model_description = \"gpflow model\",\n",
    "            use_local=True,\n",
    "            global_ens=test_global_ens,   predicted_global_ens= predict_global_ens,\n",
    "            local_ens= test_ens_rescaled, predicted_local_ens = predict_ens_rescaled,\n",
    "            color=\"mediumseagreen\")\n",
    "#plt.savefig(\"../media/librascal_database_local_energy_learning_gpflow_polynomial_kernel\")"
   ]
  },
  {
   "cell_type": "code",
   "execution_count": 141,
   "metadata": {},
   "outputs": [],
   "source": [
    "if use_forces:\n",
    "    predict_frcs_rescaled\n",
    "\n",
    "\n",
    "    fig, axs = plt.subplots(ncols=3, figsize=(20,5))\n",
    "    components = [\"x\", \"y\", \"z\"]\n",
    "    force_max = max(np.max(test_frcs_rescaled), np.max(predict_frcs_rescaled)) + np.std(test_frcs_rescaled)/2\n",
    "    force_min = min(np.min(test_frcs_rescaled), np.min(predict_frcs_rescaled)) - np.std(test_frcs_rescaled)/2\n",
    "\n",
    "    for i in range(3):\n",
    "\n",
    "        axs[i].plot([force_min, force_max], [force_min, force_max], \"-\", c=\"k\")\n",
    "        axs[i].plot(test_frcs_rescaled[:,i], test_frcs_rescaled[:,i], \"o\", c=\"k\", ms=4)\n",
    "        axs[i].plot(test_frcs_rescaled[:,i], predict_frcs_rescaled[:,i], \"o\", label=\"custom\", c=\"mediumseagreen\", ms=5, alpha=.1)\n",
    "        #axs[i].legend()\n",
    "        axs[i].set_xlim(force_min, force_max); axs[i].set_ylim(force_min, force_max)\n",
    "\n",
    "        try:\n",
    "            m, b = np.polyfit(test_frcs_rescaled[:,i], predict_frcs_rescaled[:,i], 1)\n",
    "            r2 = np.corrcoef(test_frcs_rescaled[:,i], predict_frcs_rescaled[:,i])[0,1]\n",
    "            print(\"Least-squares regresion for F{}({}) produces the line line m {}+b with m = {:.5f} and b = {:.5f} which has r2 = {:.5f} \".format(components[i],components[i],components[i],m,b, r2))\n",
    "        except:\n",
    "            pass    \n",
    "\n",
    "    #plt.savefig(\"../media/librascal_database_local_energy_force_learning\")"
   ]
  },
  {
   "cell_type": "code",
   "execution_count": null,
   "metadata": {},
   "outputs": [],
   "source": []
  },
  {
   "cell_type": "markdown",
   "metadata": {},
   "source": [
    "# Linear Algebra Only Model"
   ]
  },
  {
   "cell_type": "code",
   "execution_count": 96,
   "metadata": {},
   "outputs": [],
   "source": [
    "\n",
    "@tf.function(autograph=False, experimental_compile=False)\n",
    "def get_KNN(soaps):\n",
    "    dot_product_matrix = tf.tensordot(soaps, tf.transpose(soaps), axes=1)\n",
    "    return dot_product_matrix\n",
    "\n",
    "\n",
    "@tf.function(autograph=False, experimental_compile=False)\n",
    "def get_coefficients(KNN, variance, y):\n",
    "    KNNi = tf.linalg.inv(KNN + tf.eye(KNN.shape[0], dtype=np.float64) * variance )\n",
    "    return tf.linalg.matmul(KNNi, y)\n"
   ]
  },
  {
   "cell_type": "markdown",
   "metadata": {},
   "source": [
    "---\n",
    "Local soap + energies tensorflow linear algebra method"
   ]
  },
  {
   "cell_type": "code",
   "execution_count": 107,
   "metadata": {},
   "outputs": [],
   "source": [
    "GlobalEnergies_Train = np.float64(EnergyList[train_indices].sum(axis=1, dtype=np.float128))\n",
    "GlobalEnergies_Test = np.float64(EnergyList[test_indices].sum(axis=1, dtype=np.float128))\n",
    "LocalSoaps_Train = SoapList[train_indices]\n",
    "LocalSoaps_Test = SoapList[test_indices]\n",
    "ObservationNoiseVariance = noise_init#1e-5"
   ]
  },
  {
   "cell_type": "code",
   "execution_count": 108,
   "metadata": {},
   "outputs": [
    {
     "name": "stdout",
     "output_type": "stream",
     "text": [
      "calculated KNN\n",
      "calculated coefficients\n",
      "Predicted local energies\n",
      "Predicted global energies\n"
     ]
    }
   ],
   "source": [
    "TimePreTrainingLinAlg = time.time()\n",
    "\n",
    "AtomCounts_Train = [len(soap_list_i) for soap_list_i in LocalSoaps_Train]#, dtype=np.float64)\n",
    "LocalBools_Train = tf.repeat(tf.eye(len(AtomCounts_Train), dtype=np.float64), AtomCounts_Train, axis=1)\n",
    "GlobalEnergies_Train_tf = tf.constant(GlobalEnergies_Train, dtype=np.float64)\n",
    "AtomCounts_Train_tf = tf.constant(AtomCounts_Train, dtype=np.float64)\n",
    "LocalEnergies_Train = tf.reshape(tf.repeat(tf.math.divide(GlobalEnergies_Train_tf, AtomCounts_Train_tf), AtomCounts_Train), [-1, 1])\n",
    "#LocalEnergies_Train = tf.linalg.matmul(LocalBools_Train, GlobalEnergies_Train_tf, transpose_a=True)\n",
    "\n",
    "LocalSoaps_Train_tf = tf.constant(LocalSoaps_Train, dtype=np.float64)\n",
    "LocalSoaps_Train_tf = tf.reshape(LocalSoaps_Train_tf, [-1, LocalSoaps_Train_tf.shape[-1]])\n",
    "KNN_Local = get_KNN(LocalSoaps_Train_tf)\n",
    "print(\"calculated KNN\")\n",
    "\n",
    "ObservationNoiseVariance_tf = tf.constant(ObservationNoiseVariance, dtype=np.float64)\n",
    "Coefficients_Local = get_coefficients(KNN_Local, ObservationNoiseVariance_tf, LocalEnergies_Train)\n",
    "print(\"calculated coefficients\")\n",
    "\n",
    "TimePrePredictionLinAlg = time.time()\n",
    "\n",
    "AtomCounts_Test = [len(soap_list_i) for soap_list_i in LocalSoaps_Test]\n",
    "LocalBools_Test = tf.repeat(tf.eye(len(AtomCounts_Test), dtype=np.float64), AtomCounts_Test, axis=1)\n",
    "GlobalEnergies_Test_tf = tf.constant(GlobalEnergies_Test, dtype=np.float64)\n",
    "AtomCounts_Test_tf = tf.constant(AtomCounts_Test, dtype=np.float64)\n",
    "LocalEnergies_Test = tf.reshape(tf.repeat(tf.math.divide(GlobalEnergies_Test_tf, AtomCounts_Test_tf), AtomCounts_Test), -1)\n",
    "LocalEnergies_Test = tf.reshape(LocalEnergies_Test, -1)\n",
    "\n",
    "LocalSoaps_Test_tf = tf.constant(LocalSoaps_Test, dtype=np.float64)\n",
    "LocalSoaps_Test_tf = tf.reshape(LocalSoaps_Test_tf, [-1, LocalSoaps_Test_tf.shape[-1]])\n",
    "\n",
    "PredictedLocalEnergies = predict_energies_from_weights(Coefficients_Local, LocalSoaps_Train_tf, LocalSoaps_Test_tf)\n",
    "PredictedLocalEnergies = tf.reshape(PredictedLocalEnergies, [-1, 1])\n",
    "print(\"Predicted local energies\")\n",
    "PredictedGlobalEnergies = tf.linalg.matmul(LocalBools_Test, PredictedLocalEnergies)\n",
    "PredictedLocalEnergies = tf.reshape(PredictedLocalEnergies, -1)\n",
    "PredictedGlobalEnergies = tf.reshape(PredictedGlobalEnergies, -1)\n",
    "print(\"Predicted global energies\")\n",
    "\n",
    "\n",
    "TimePostPredictionLinAlg = time.time()"
   ]
  },
  {
   "cell_type": "code",
   "execution_count": 109,
   "metadata": {},
   "outputs": [
    {
     "name": "stdout",
     "output_type": "stream",
     "text": [
      "2.074242353439331 0.052350759506225586\n"
     ]
    }
   ],
   "source": [
    "TrainingTimeLinAlg = TimePrePredictionLinAlg - TimePreTrainingLinAlg\n",
    "PredictionTime = TimePostPredictionLinAlg - TimePrePredictionLinAlg\n",
    "\n",
    "print(TrainingTimeLinAlg, PredictionTime)"
   ]
  },
  {
   "cell_type": "code",
   "execution_count": 142,
   "metadata": {},
   "outputs": [
    {
     "data": {
      "text/html": [
       "<div>\n",
       "<style scoped>\n",
       "    .dataframe tbody tr th:only-of-type {\n",
       "        vertical-align: middle;\n",
       "    }\n",
       "\n",
       "    .dataframe tbody tr th {\n",
       "        vertical-align: top;\n",
       "    }\n",
       "\n",
       "    .dataframe thead th {\n",
       "        text-align: right;\n",
       "    }\n",
       "</style>\n",
       "<table border=\"1\" class=\"dataframe\">\n",
       "  <thead>\n",
       "    <tr style=\"text-align: right;\">\n",
       "      <th></th>\n",
       "      <th>Local Energy</th>\n",
       "      <th>Global Energy</th>\n",
       "    </tr>\n",
       "  </thead>\n",
       "  <tbody>\n",
       "    <tr>\n",
       "      <th>Root Mean Squared Error</th>\n",
       "      <td>0.028280</td>\n",
       "      <td>0.004826</td>\n",
       "    </tr>\n",
       "    <tr>\n",
       "      <th>Mean Absolute Error</th>\n",
       "      <td>0.019045</td>\n",
       "      <td>0.003141</td>\n",
       "    </tr>\n",
       "    <tr>\n",
       "      <th>Max Absolute Error</th>\n",
       "      <td>0.114966</td>\n",
       "      <td>0.014826</td>\n",
       "    </tr>\n",
       "  </tbody>\n",
       "</table>\n",
       "</div>"
      ],
      "text/plain": [
       "                         Local Energy  Global Energy\n",
       "Root Mean Squared Error      0.028280       0.004826\n",
       "Mean Absolute Error          0.019045       0.003141\n",
       "Max Absolute Error           0.114966       0.014826"
      ]
     },
     "metadata": {},
     "output_type": "display_data"
    },
    {
     "data": {
      "image/png": "[encoded data removed]",
      "text/plain": [
       "<Figure size 1440x324 with 3 Axes>"
      ]
     },
     "metadata": {
      "needs_background": "light"
     },
     "output_type": "display_data"
    }
   ],
   "source": [
    "\n",
    "plot_errors(model_description = \"Tensorflow Linear Algebra + Local Training\",\n",
    "            use_local=True,\n",
    "            global_ens=GlobalEnergies_Test,   predicted_global_ens= PredictedGlobalEnergies,\n",
    "            local_ens= LocalEnergies_Test,    predicted_local_ens = PredictedLocalEnergies,\n",
    "            color=\"violet\")"
   ]
  },
  {
   "cell_type": "markdown",
   "metadata": {},
   "source": [
    "# ---"
   ]
  },
  {
   "cell_type": "markdown",
   "metadata": {},
   "source": [
    "Local soap + energies tensorflow linear algebra method (sparse)"
   ]
  },
  {
   "cell_type": "code",
   "execution_count": 144,
   "metadata": {},
   "outputs": [],
   "source": [
    "GlobalEnergies_Train = EnergyList[train_indices].sum(axis=1)\n",
    "GlobalEnergies_Test = EnergyList[test_indices].sum(axis=1)\n",
    "LocalSoaps_Train = SoapList[train_indices]\n",
    "LocalSoaps_Test = SoapList[test_indices]\n",
    "ObservationNoiseVariance = 1e-5"
   ]
  },
  {
   "cell_type": "code",
   "execution_count": 140,
   "metadata": {},
   "outputs": [
    {
     "name": "stdout",
     "output_type": "stream",
     "text": [
      "calculated KNN\n",
      "calculated coefficients\n",
      "Predicted local energies\n",
      "Predicted global energies\n"
     ]
    }
   ],
   "source": [
    "TimePreTrainingLinAlg = time.time()\n",
    "\n",
    "AtomCounts_Train = [len(soap_list_i) for soap_list_i in LocalSoaps_Train]#, dtype=np.float64)\n",
    "LocalBools_Train = tf.repeat(tf.eye(len(AtomCounts_Train), dtype=np.float64), AtomCounts_Train, axis=1)\n",
    "GlobalEnergies_Train_tf = tf.constant(GlobalEnergies_Train, dtype=np.float64)\n",
    "AtomCounts_Train_tf = tf.constant(AtomCounts_Train, dtype=np.float64)\n",
    "LocalEnergies_Train = tf.reshape(tf.repeat(tf.math.divide(GlobalEnergies_Train_tf, AtomCounts_Train_tf), AtomCounts_Train), [-1, 1])\n",
    "#LocalEnergies_Train = tf.linalg.matmul(LocalBools_Train, GlobalEnergies_Train_tf, transpose_a=True)\n",
    "\n",
    "LocalSoaps_Train_tf = tf.constant(LocalSoaps_Train, dtype=np.float64)\n",
    "LocalSoaps_Train_tf = tf.reshape(LocalSoaps_Train_tf, [-1, LocalSoaps_Train_tf.shape[-1]])\n",
    "KNN_Local = get_KNN(LocalSoaps_Train_tf)\n",
    "print(\"calculated KNN\")\n",
    "\n",
    "ObservationNoiseVariance_tf = tf.constant(ObservationNoiseVariance, dtype=np.float64)\n",
    "Coefficients_Local = get_coefficients(KNN_Local, ObservationNoiseVariance_tf, LocalEnergies_Train)\n",
    "print(\"calculated coefficients\")\n",
    "\n",
    "TimePrePredictionLinAlg = time.time()\n",
    "\n",
    "AtomCounts_Test = [len(soap_list_i) for soap_list_i in LocalSoaps_Test]\n",
    "LocalBools_Test = tf.repeat(tf.eye(len(AtomCounts_Test), dtype=np.float64), AtomCounts_Test, axis=1)\n",
    "GlobalEnergies_Test_tf = tf.constant(GlobalEnergies_Test, dtype=np.float64)\n",
    "AtomCounts_Test_tf = tf.constant(AtomCounts_Test, dtype=np.float64)\n",
    "LocalEnergies_Test = tf.reshape(tf.repeat(tf.math.divide(GlobalEnergies_Test_tf, AtomCounts_Test_tf), AtomCounts_Test), -1)\n",
    "LocalEnergies_Test = tf.reshape(LocalEnergies_Test, -1)\n",
    "\n",
    "LocalSoaps_Test_tf = tf.constant(LocalSoaps_Test, dtype=np.float64)\n",
    "LocalSoaps_Test_tf = tf.reshape(LocalSoaps_Test_tf, [-1, LocalSoaps_Test_tf.shape[-1]])\n",
    "\n",
    "PredictedLocalEnergies = predict_energies_from_weights(Coefficients_Local, LocalSoaps_Train_tf, LocalSoaps_Test_tf)\n",
    "PredictedLocalEnergies = tf.reshape(PredictedLocalEnergies, [-1, 1])\n",
    "print(\"Predicted local energies\")\n",
    "PredictedGlobalEnergies = tf.linalg.matmul(LocalBools_Test, PredictedLocalEnergies)\n",
    "PredictedLocalEnergies = tf.reshape(PredictedLocalEnergies, -1)\n",
    "PredictedGlobalEnergies = tf.reshape(PredictedGlobalEnergies, -1)\n",
    "print(\"Predicted global energies\")\n",
    "\n",
    "\n",
    "TimePostPredictionLinAlg = time.time()"
   ]
  },
  {
   "cell_type": "code",
   "execution_count": 137,
   "metadata": {},
   "outputs": [
    {
     "name": "stdout",
     "output_type": "stream",
     "text": [
      "0.01116633415222168 0.0019211769104003906\n"
     ]
    }
   ],
   "source": [
    "TrainingTimeLinAlg = TimePrePredictionLinAlg - TimePreTrainingLinAlg\n",
    "PredictionTime = TimePostPredictionLinAlg - TimePrePredictionLinAlg\n",
    "\n",
    "print(TrainingTimeLinAlg, PredictionTime)"
   ]
  },
  {
   "cell_type": "code",
   "execution_count": null,
   "metadata": {},
   "outputs": [],
   "source": [
    "\n",
    "plot_errors(model_description = \"Tensorflow Linear Algebra + Sparse Local Training\",\n",
    "            use_local=True,\n",
    "            global_ens=GlobalEnergies_Test,   predicted_global_ens= PredictedGlobalEnergies,\n",
    "            local_ens= LocalEnergies_Test,    predicted_local_ens = PredictedLocalEnergies,\n",
    "            color=\"violet\")"
   ]
  },
  {
   "cell_type": "markdown",
   "metadata": {},
   "source": [
    "---\n",
    "Global soaps and energies only  \n",
    "This may be useful for debugging/testing purposes, but it is not as relavent to miniGAP because GAP requires local properties"
   ]
  },
  {
   "cell_type": "code",
   "execution_count": 29,
   "metadata": {},
   "outputs": [],
   "source": [
    "# librascal sums soaps of a given structure and element\n",
    "# and dots them with sparse soaps of the same element\n",
    "# To reproduce this in not sparse form, I will sum soaps of\n",
    "# the whole structure and dot them with every other soap"
   ]
  },
  {
   "cell_type": "code",
   "execution_count": 127,
   "metadata": {},
   "outputs": [],
   "source": [
    "# Because I split them into local energies and soaps\n",
    "# But I am using the global versions for this linear algebra implementation\n",
    "# I have to reform the global soaps and energies that I split above for my training\n",
    "\n",
    "GlobalEnergies_Train = EnergyList[train_indices].sum(axis=1)\n",
    "GlobalEnergies_Test = EnergyList[test_indices].sum(axis=1)\n",
    "GlobalSoaps_Train = SoapList[train_indices].sum(axis=1)\n",
    "GlobalSoaps_Test = SoapList[test_indices].sum(axis=1)\n",
    "# Define this for regularization\n",
    "ObservationNoiseVariance = 1e-5"
   ]
  },
  {
   "cell_type": "code",
   "execution_count": 128,
   "metadata": {},
   "outputs": [],
   "source": [
    "\n",
    "TimePreTrainingLinAlg = time.time()\n",
    "GlobalSoaps_Train_tf = tf.constant(GlobalSoaps_Train, dtype=np.float64)\n",
    "KNN = get_KNN(GlobalSoaps_Train_tf)\n",
    "\n",
    "ObservationNoiseVariance_tf = tf.constant(ObservationNoiseVariance, dtype=np.float64)\n",
    "GlobalEnergies_Train_tf = tf.reshape(tf.constant(GlobalEnergies_Train, dtype=np.float64), [-1, 1])\n",
    "Coefficients = get_coefficients(KNN, ObservationNoiseVariance_tf, GlobalEnergies_Train_tf)\n",
    "\n",
    "TimePrePredictionLinAlg = time.time()\n",
    "\n",
    "GlobalSoaps_Test_tf = tf.constant(GlobalSoaps_Test, dtype=np.float64)\n",
    "PredictedGlobalEnergies = predict_energies_from_weights(Coefficients, GlobalSoaps_Train_tf, GlobalSoaps_Test_tf)\n",
    "PredictedGlobalEnergies = tf.reshape(PredictedGlobalEnergies, -1)\n",
    "\n",
    "TimePostPredictionLinAlg = time.time()\n"
   ]
  },
  {
   "cell_type": "code",
   "execution_count": 129,
   "metadata": {},
   "outputs": [
    {
     "name": "stdout",
     "output_type": "stream",
     "text": [
      "0.01116633415222168 0.0019211769104003906\n"
     ]
    }
   ],
   "source": [
    "TrainingTimeLinAlg = TimePrePredictionLinAlg - TimePreTrainingLinAlg\n",
    "PredictionTime = TimePostPredictionLinAlg - TimePrePredictionLinAlg\n",
    "\n",
    "print(TrainingTimeLinAlg, PredictionTime)"
   ]
  },
  {
   "cell_type": "code",
   "execution_count": 143,
   "metadata": {},
   "outputs": [
    {
     "data": {
      "text/html": [
       "<div>\n",
       "<style scoped>\n",
       "    .dataframe tbody tr th:only-of-type {\n",
       "        vertical-align: middle;\n",
       "    }\n",
       "\n",
       "    .dataframe tbody tr th {\n",
       "        vertical-align: top;\n",
       "    }\n",
       "\n",
       "    .dataframe thead th {\n",
       "        text-align: right;\n",
       "    }\n",
       "</style>\n",
       "<table border=\"1\" class=\"dataframe\">\n",
       "  <thead>\n",
       "    <tr style=\"text-align: right;\">\n",
       "      <th></th>\n",
       "      <th>Local Energy</th>\n",
       "      <th>Global Energy</th>\n",
       "    </tr>\n",
       "  </thead>\n",
       "  <tbody>\n",
       "    <tr>\n",
       "      <th>Root Mean Squared Error</th>\n",
       "      <td>0.004826</td>\n",
       "      <td>0.004826</td>\n",
       "    </tr>\n",
       "    <tr>\n",
       "      <th>Mean Absolute Error</th>\n",
       "      <td>0.003141</td>\n",
       "      <td>0.003141</td>\n",
       "    </tr>\n",
       "    <tr>\n",
       "      <th>Max Absolute Error</th>\n",
       "      <td>0.014826</td>\n",
       "      <td>0.014826</td>\n",
       "    </tr>\n",
       "  </tbody>\n",
       "</table>\n",
       "</div>"
      ],
      "text/plain": [
       "                         Local Energy  Global Energy\n",
       "Root Mean Squared Error      0.004826       0.004826\n",
       "Mean Absolute Error          0.003141       0.003141\n",
       "Max Absolute Error           0.014826       0.014826"
      ]
     },
     "metadata": {},
     "output_type": "display_data"
    },
    {
     "data": {
      "image/png": "[encoded data removed]",
      "text/plain": [
       "<Figure size 864x360 with 2 Axes>"
      ]
     },
     "metadata": {
      "needs_background": "light"
     },
     "output_type": "display_data"
    }
   ],
   "source": [
    "plot_errors(model_description = \"Tensorflow Linear Algebra + Global Training\",\n",
    "            use_local=False,\n",
    "            global_ens=GlobalEnergies_Test,   predicted_global_ens= PredictedGlobalEnergies,\n",
    "            color=\"violet\")"
   ]
  },
  {
   "cell_type": "code",
   "execution_count": null,
   "metadata": {},
   "outputs": [],
   "source": []
  },
  {
   "cell_type": "markdown",
   "metadata": {},
   "source": [
    "# Save as script "
   ]
  },
  {
   "cell_type": "markdown",
   "metadata": {},
   "source": [
    "The following cell will save this notebook as a python script with today's date in the code directory "
   ]
  },
  {
   "cell_type": "code",
   "execution_count": 127,
   "metadata": {},
   "outputs": [
    {
     "name": "stdout",
     "output_type": "stream",
     "text": [
      "[NbConvertApp] Converting notebook miniGAP.ipynb to script\n",
      "[NbConvertApp] Writing 26218 bytes to ../code/miniGAP_from_notebook_09_27_2021.py\n"
     ]
    }
   ],
   "source": [
    "import datetime as dt \n",
    "today = dt.datetime.today()\n",
    "converted_notebook_path = \"../code/miniGAP_from_notebook_{:02d}_{:02d}_{:d}\".format(today.month, today.day, today.year)\n",
    "!jupyter nbconvert --to script miniGAP.ipynb --output \"{converted_notebook_path}\""
   ]
  }
 ],
 "metadata": {
  "kernelspec": {
   "display_name": "Python [conda env:gpflow]",
   "language": "python",
   "name": "conda-env-gpflow-py"
  },
  "language_info": {
   "codemirror_mode": {
    "name": "ipython",
    "version": 3
   },
   "file_extension": ".py",
   "mimetype": "text/x-python",
   "name": "python",
   "nbconvert_exporter": "python",
   "pygments_lexer": "ipython3",
   "version": "3.8.12"
  }
 },
 "nbformat": 4,
 "nbformat_minor": 4
}
