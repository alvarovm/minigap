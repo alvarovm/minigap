{
 "cells": [
  {
   "cell_type": "code",
   "execution_count": 1,
   "metadata": {},
   "outputs": [],
   "source": [
    "from ase.io import read\n",
    "import time\n",
    "import sys\n",
    "sys.path.append('../code')\n",
    "from Generate_Descriptors import get_dscribe_descriptors"
   ]
  },
  {
   "cell_type": "code",
   "execution_count": 33,
   "metadata": {},
   "outputs": [],
   "source": [
    "C7O2H10_structs = read(\"../data/C7O2H10.extxyz.gz\", \":2000\")"
   ]
  },
  {
   "cell_type": "code",
   "execution_count": 3,
   "metadata": {},
   "outputs": [],
   "source": [
    "graphenes = read(\"../data/ManyGraphenes.extxyz.gz\")"
   ]
  },
  {
   "cell_type": "code",
   "execution_count": 12,
   "metadata": {},
   "outputs": [],
   "source": [
    "def TickTock(func, *args, **kwargs):\n",
    "    tick = time.time()\n",
    "    func_output = func(*args, **kwargs)\n",
    "    tock = time.time()\n",
    "    return func_output, tock - tick"
   ]
  },
  {
   "cell_type": "code",
   "execution_count": 34,
   "metadata": {},
   "outputs": [
    {
     "name": "stdout",
     "output_type": "stream",
     "text": [
      "23.963632822036743\n"
     ]
    }
   ],
   "source": [
    "species = [\"C\", \"O\", \"H\", \"N\", \"Ca\", \"Li\"]\n",
    "rcut = 3\n",
    "nmax = 12\n",
    "lmax = 9\n",
    "SoapList, SoapTime = TickTock(get_dscribe_descriptors, C7O2H10_structs, species = species, rcut = rcut, nmax = nmax, lmax = lmax, is_global=False, return_derivatives = False)\n",
    "print(SoapTime)"
   ]
  },
  {
   "cell_type": "code",
   "execution_count": 41,
   "metadata": {},
   "outputs": [
    {
     "name": "stdout",
     "output_type": "stream",
     "text": [
      "0.09846997261047363\n"
     ]
    }
   ],
   "source": [
    "species = [\"C\", \"O\", \"H\", \"N\", \"Ca\", \"Li\"]\n",
    "rcut = 3\n",
    "nmax = 12\n",
    "lmax = 9\n",
    "SoapList, SoapTime = TickTock(get_dscribe_descriptors, graphenes, species = species, rcut = rcut, nmax = nmax, lmax = lmax, is_global=False, return_derivatives = False)\n",
    "print(SoapTime)"
   ]
  },
  {
   "cell_type": "code",
   "execution_count": 44,
   "metadata": {},
   "outputs": [
    {
     "data": {
      "text/plain": [
       "Atoms(symbols='C2', pbc=True, cell=[[0.0, 1.785, 1.785], [1.785, 0.0, 1.785], [1.785, 1.785, 0.0]])"
      ]
     },
     "execution_count": 44,
     "metadata": {},
     "output_type": "execute_result"
    }
   ],
   "source": [
    "from ase.build import bulk\n",
    "diamond = bulk(\"C\", 'diamond')\n",
    "diamond\n",
    "Structure3DPlot(diamond).Plot()"
   ]
  },
  {
   "cell_type": "code",
   "execution_count": null,
   "metadata": {},
   "outputs": [],
   "source": [
    "# Breakdown of the derivatives output tensor from soap.derivatives(). This explains what the different indices mean in different situations\n",
    "\n",
    "use_atom_centers = True\n",
    "use_local_descriptors = True\n",
    "n_structures = 5\n",
    "\n",
    "averaging_keyword = \"off\" if use_local_descriptors else \"outer\"\n",
    "my_water_molecule = ase.build.molecule('H2O')\n",
    "if n_structures == 1:\n",
    "    my_atoms_list = my_water_molecule\n",
    "    print(\"This breakdown of the derivatives tensor is for a single (1) water molecule.\")\n",
    "elif n_structures > 1:\n",
    "    my_atoms_list = [my_water_molecule] * n_structures\n",
    "    print(\"This breakdown of the derivatives tensor is for {} water molecules.\".format(n_structures))\n",
    "    print(\"To access the tensor values without defining a tensor for each molecule, add an extra index in front. I didn't do this here because it was easier not to.\")\n",
    "\n",
    "\n",
    "soap = SOAP(average=averaging_keyword,  species=[\"H\", \"O\"], periodic=False, rcut=1.2, nmax=1, lmax=1)\n",
    "\n",
    "if use_atom_centers:\n",
    "    positions = my_water_molecule.get_positions()\n",
    "else:\n",
    "    positions = [[0, 0, 0],[5,2,3]]\n",
    "\n",
    "if n_structures == 1:\n",
    "    positions_list = positions\n",
    "elif n_structures > 1:\n",
    "    positions_list = [positions]*len(my_atoms_list)\n",
    "\n",
    "my_soap = soap.create(my_atoms_list)\n",
    "derivatives, descriptors = soap.derivatives(my_atoms_list, positions=positions_list , method=\"auto\")\n",
    "\n",
    "print(\"\")\n",
    "\n",
    "for k in range(n_structures):\n",
    "    if n_structures == 1:\n",
    "        derivative_k = derivatives\n",
    "        print(\"For the water molecule soap.derivatives() output, D (soap derivatives) and S (soaps):\")\n",
    "    elif n_structures > 1:\n",
    "        derivative_k = derivatives[k]\n",
    "        print(\"For water molecule #{} soap.derivatives() output, D (soap derivatives) and S (soaps):\".format(k))\n",
    "    for i in range(len(derivative_k)):\n",
    "        print(\"---------------------------------------------------------------------------------------------\")\n",
    "        print(\"---------------------------------------------------------------------------------------------\")\n",
    "        if use_local_descriptors:\n",
    "            atom_i = \"atom \" + my_water_molecule[i].symbol + str(my_water_molecule[i].index) + \" \" if use_atom_centers else \"\"\n",
    "            print(\"D[{}] = derivatives of S[{}], a local soap descriptor centered at {}({:5.2f}, {:5.2f}, {:5.2f})\".format(i, i, atom_i, *positions[i]))\n",
    "        else:\n",
    "            print(\"D[{}] = derivative of S[{}], the global soap descriptor averaged over {} centers\".format(i, i, len(positions[i])))\n",
    "        print(\"---------------------------------------------------------------------------------------------\")\n",
    "        print(\"---------------------------------------------------------------------------------------------\")\n",
    "        for j in range(len(my_water_molecule)):\n",
    "            atom_j = my_water_molecule[j].symbol + str(my_water_molecule[j].index)\n",
    "            print(\"D[{}, {}] = derivative of S[{}] with respect to atom {} positions\".format(i, j, i, atom_j))\n",
    "            print(\"--------------------------------------------------------------\")\n",
    "\n",
    "            print(\"D[{}, {}, {}] = dS[{}]/dX{}: \".format(i, j, 0, i, j), \"[\" + \"  \".join([\"{:7.4f}\".format(p) for p in derivative_k[i,j,0]]) + \"]\")\n",
    "            print(\"D[{}, {}, {}] = dS[{}]/dY{}: \".format(i, j, 1, i,j), \"[\" + \"  \".join([\"{:7.4f}\".format(p) for p in derivative_k[i,j,1]]) + \"]\")\n",
    "            print(\"D[{}, {}, {}] = dS[{}]/dZ{}: \".format(i, j, 2, i,j), \"[\" + \"  \".join([\"{:7.4f}\".format(p) for p in derivative_k[i,j,2]]) + \"]\")\n",
    "            #print(\"\")\n",
    "            print(\"--------------------------------------------------------------\\n\")\n",
    "\n"
   ]
  },
  {
   "cell_type": "markdown",
   "metadata": {},
   "source": [
    "Fiddling with the code from https://github.com/SINGROUP/dscribe/issues/63 to explore the new 'attach' flag\n",
    "\n",
    "This was in the main miniGAP notebook and I moved it to make that more usable\n",
    "\n",
    "The dscribe author made an interesting point on this issue page about why there are 0s in the derivative output (l=0)"
   ]
  },
  {
   "cell_type": "code",
   "execution_count": 1,
   "metadata": {},
   "outputs": [
    {
     "name": "stdout",
     "output_type": "stream",
     "text": [
      "\n",
      "SOAP.create:\n",
      "[    6.25    0.00    4.15    0.00    2.75    0.18  ]\n",
      "[    2.75    0.18    4.15    0.00    6.25    0.00  ]\n",
      "\n",
      "SOAP.derivatives:\n",
      "0.06721823726990594\n",
      "[    0.00    0.00    0.00    0.00    0.00    0.00  ]\n",
      "[    0.00    0.00    0.00    0.00    0.00    0.00  ]\n",
      "[    0.00    0.00    0.00    0.00    0.00   -3.63  ]\n",
      "[    0.00    0.00    0.28    0.00    0.00    0.00  ]\n",
      "[    0.00    0.00    0.00    0.00    0.00   -4.81  ]\n",
      "[    0.00    0.00    0.00    0.00    0.00    0.07  ]\n",
      "[    0.00    0.00    4.81    0.00    0.00    0.00  ]\n",
      "[    0.00    0.00   -0.07    0.00    0.00    0.00  ]\n",
      "[    0.00    0.00    3.63    0.00    0.00    0.00  ]\n",
      "[    0.00    0.00    0.00    0.00    0.00   -0.28  ]\n",
      "[    0.00    0.00    0.00    0.00    0.00    0.00  ]\n",
      "[    0.00    0.00    0.00    0.00    0.00    0.00  ]\n",
      "\n",
      "Derivatives by finite displacements:\n",
      "[    0.00    0.00    0.00    0.00    0.00    0.00  ]\n",
      "[    0.00    0.00    0.00    0.00    0.00    0.00  ]\n",
      "[    0.00    0.00    3.63    0.00    0.00   -3.63  ]\n",
      "[    0.00    0.00    0.00    0.00    0.00    0.00  ]\n",
      "[    0.00    0.00    4.81    0.00    0.00   -4.81  ]\n",
      "[    0.00    0.00   -0.07    0.00    0.00    0.07  ]\n",
      "[    0.00    0.00    4.81    0.00    0.00   -4.81  ]\n",
      "[    0.00    0.00   -0.07    0.00    0.00    0.07  ]\n",
      "[    0.00    0.00    3.63    0.00    0.00   -3.63  ]\n",
      "[    0.00    0.00    0.00    0.00    0.00    0.00  ]\n",
      "[    0.00    0.00    0.00    0.00    0.00    0.00  ]\n",
      "[    0.00    0.00    0.00    0.00    0.00    0.00  ]\n"
     ]
    }
   ],
   "source": [
    "import numpy as np\n",
    "from ase import Atoms\n",
    "from ase.vibrations import Vibrations\n",
    "from dscribe.descriptors import SOAP\n",
    "\n",
    "atoms = Atoms(symbols='HF', positions=[[0, 0, 0], [0, 0, .9382]], pbc=False)\n",
    "soap = SOAP(rcut = 6.0, nmax = 1, lmax = 1, species = atoms.get_chemical_symbols(), dtype=\"float64\" )\n",
    "\n",
    "print('\\nSOAP.create:')\n",
    "soaps = soap.create(atoms)  # 6 features in total\n",
    "\n",
    "for i in range(len(soaps)):\n",
    "    print(\"[ \", end=\"\")\n",
    "    for j in range(len(soaps[i])):\n",
    "        print(\" {:6.2f} \".format(soaps[i,j]), end=\"\")\n",
    "    print(\" ]\")\n",
    "\n",
    "# DSCRIBE derivatives\n",
    "atom_coordinates = [[0,0,0], [0,0,.9382]]# + np.ones(atoms.positions.shape)*1e-6#atoms.positions + np.ones(atoms.positions.shape)*1e-8\n",
    "dscribe_derivs = soap.derivatives(atoms, method='numerical', return_descriptor=False, attach=True, positions=atom_coordinates)\n",
    "nonzero_min =np.min(np.abs(np.ma.masked_equal(dscribe_derivs, 0, copy=True)))\n",
    "print('\\nSOAP.derivatives:')\n",
    "print(nonzero_min)\n",
    "#PrintNoScientificNotation(dscribe_derivs)\n",
    "n_centers, n_atoms, _, n_features = dscribe_derivs.shape\n",
    "dscribe_derivs = np.moveaxis(dscribe_derivs, 0, 2).reshape(( 3 * n_atoms, n_atoms * n_features)).T\n",
    "\n",
    "#PrintNoScientificNotation(dscribe_derivs)\n",
    "for i in range(len(dscribe_derivs)):\n",
    "    print(\"[ \", end=\"\")\n",
    "    for j in range(len(dscribe_derivs[i])):\n",
    "        print(\" {:6.2f} \".format(dscribe_derivs[i,j]), end=\"\")\n",
    "    print(\" ]\")\n",
    "\n",
    "\n",
    "# Numerical derivatives using finite displacements\n",
    "eps = 1e-5  # finite difference\n",
    "vib = Vibrations(atoms, delta=eps, nfree=2)\n",
    "atoms_displacements = list(vib.iterimages())  # create finite displacements\n",
    "\n",
    "s = soap.create(atoms_displacements)\n",
    "s -= s[0]  # subtract soap for unperturbed structure\n",
    "s = s[1:]  # pop unperturbed structure\n",
    "numerical_derivs = 0.5 * (s[1::2] - s[::2]) / eps  # centered finite difference scheme\n",
    "numerical_derivs = numerical_derivs.reshape((3 * len(atoms), len(s[0].ravel()))).T\n",
    "print('\\nDerivatives by finite displacements:')\n",
    "#print(numerical_derivs)\n",
    "for i in range(len(numerical_derivs)):\n",
    "    print(\"[ \", end=\"\")\n",
    "    for j in range(len(numerical_derivs[i])):\n",
    "        print(\" {:6.2f} \".format(numerical_derivs[i,j]), end=\"\")\n",
    "    print(\" ]\")"
   ]
  },
  {
   "cell_type": "code",
   "execution_count": 2,
   "metadata": {},
   "outputs": [
    {
     "name": "stdout",
     "output_type": "stream",
     "text": [
      "\n",
      "SOAP.create:\n",
      "[[6.25043443 4.14642847 2.75066786]\n",
      " [2.75066786 4.14642847 6.25043443]]\n",
      "\n",
      "SOAP.derivatives:\n",
      "[[ 0.          0.          0.          0.          0.          0.        ]\n",
      " [ 0.          0.          0.          0.          0.         -3.62760443]\n",
      " [ 0.          0.          0.          0.          0.         -4.81297819]\n",
      " [ 0.          0.          4.81297819  0.          0.          0.        ]\n",
      " [ 0.          0.          3.62760443  0.          0.          0.        ]\n",
      " [ 0.          0.          0.          0.          0.          0.        ]]\n"
     ]
    }
   ],
   "source": [
    "atoms = Atoms(symbols='HF', positions=[[7.5, 7.5, 7.5], [7.5, 7.5, 8.4382]], pbc=False)\n",
    "soap = SOAP(rcut = 6.0, nmax = 1, lmax = 0, species = atoms.get_chemical_symbols())\n",
    "\n",
    "print('\\nSOAP.create:')\n",
    "print(soap.create(atoms))  # 6 features in total\n",
    "\n",
    "\n",
    "# DSCRIBE derivatives\n",
    "dscribe_derivs = soap.derivatives(atoms, method='auto', return_descriptor=False)\n",
    "n_centers, n_atoms, _, n_features = dscribe_derivs.shape\n",
    "dscribe_derivs = np.moveaxis(dscribe_derivs, 0, 2).reshape(( 3 * n_atoms, n_atoms * n_features)).T\n",
    "print('\\nSOAP.derivatives:')\n",
    "print(dscribe_derivs)"
   ]
  },
  {
   "cell_type": "code",
   "execution_count": 3,
   "metadata": {},
   "outputs": [
    {
     "name": "stdout",
     "output_type": "stream",
     "text": [
      "\n",
      "SOAP.create:\n",
      "[[6.25043443 0.         4.14642847 0.         2.75066786 0.17596734]\n",
      " [2.75066786 0.17596734 4.14642847 0.         6.25043443 0.        ]]\n",
      "\n",
      "SOAP.derivatives:\n",
      "[[ 0.          0.          0.          0.          0.          0.        ]\n",
      " [ 0.          0.          0.          0.          0.          0.        ]\n",
      " [ 0.          0.          0.          0.          0.         -3.62760443]\n",
      " [ 0.          0.          0.28273051  0.          0.          0.        ]\n",
      " [ 0.          0.          0.          0.          0.         -4.81297819]\n",
      " [ 0.          0.          0.          0.          0.          0.06721824]\n",
      " [ 0.          0.          4.81297819  0.          0.          0.        ]\n",
      " [ 0.          0.         -0.06721824  0.          0.          0.        ]\n",
      " [ 0.          0.          3.62760443  0.          0.          0.        ]\n",
      " [ 0.          0.          0.          0.          0.         -0.28273051]\n",
      " [ 0.          0.          0.          0.          0.          0.        ]\n",
      " [ 0.          0.          0.          0.          0.          0.        ]]\n"
     ]
    }
   ],
   "source": [
    "positions=[[7.5, 7.5, 7.5], [7.5, 7.5, 8.4382]]\n",
    "atoms = Atoms(symbols='HF', positions=positions, pbc=False)\n",
    "soap = SOAP(rcut = 6.0, nmax = 1, lmax = 1, species = atoms.get_chemical_symbols(), dtype=\"float64\")\n",
    "\n",
    "print('\\nSOAP.create:')\n",
    "print(soap.create(atoms))  # 6 features in total\n",
    "\n",
    "# DSCRIBE derivatives\n",
    "dscribe_derivs = soap.derivatives(atoms, method='auto', return_descriptor=False)\n",
    "n_centers, n_atoms, _, n_features = dscribe_derivs.shape\n",
    "dscribe_derivs = np.moveaxis(dscribe_derivs, 0, 2).reshape(( 3 * n_atoms, n_atoms * n_features)).T\n",
    "print('\\nSOAP.derivatives:')\n",
    "print(dscribe_derivs)"
   ]
  }
 ],
 "metadata": {
  "kernelspec": {
   "display_name": "Python 3",
   "language": "python",
   "name": "python3"
  },
  "language_info": {
   "codemirror_mode": {
    "name": "ipython",
    "version": 3
   },
   "file_extension": ".py",
   "mimetype": "text/x-python",
   "name": "python",
   "nbconvert_exporter": "python",
   "pygments_lexer": "ipython3",
   "version": "3.7.4"
  }
 },
 "nbformat": 4,
 "nbformat_minor": 4
}
