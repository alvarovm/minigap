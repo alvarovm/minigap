{
 "cells": [
  {
   "cell_type": "code",
   "execution_count": 1,
   "metadata": {},
   "outputs": [],
   "source": [
    "from ase.io import read\n",
    "import time\n",
    "import sys\n",
    "sys.path.append('../code')\n",
    "from Generate_Descriptors import get_dscribe_descriptors"
   ]
  },
  {
   "cell_type": "code",
   "execution_count": 33,
   "metadata": {},
   "outputs": [],
   "source": [
    "C7O2H10_structs = read(\"../data/C7O2H10.extxyz.gz\", \":2000\")"
   ]
  },
  {
   "cell_type": "code",
   "execution_count": 3,
   "metadata": {},
   "outputs": [],
   "source": [
    "graphenes = read(\"../data/ManyGraphenes.extxyz.gz\")"
   ]
  },
  {
   "cell_type": "code",
   "execution_count": 12,
   "metadata": {},
   "outputs": [],
   "source": [
    "def TickTock(func, *args, **kwargs):\n",
    "    tick = time.time()\n",
    "    func_output = func(*args, **kwargs)\n",
    "    tock = time.time()\n",
    "    return func_output, tock - tick"
   ]
  },
  {
   "cell_type": "code",
   "execution_count": 34,
   "metadata": {},
   "outputs": [
    {
     "name": "stdout",
     "output_type": "stream",
     "text": [
      "23.963632822036743\n"
     ]
    }
   ],
   "source": [
    "species = [\"C\", \"O\", \"H\", \"N\", \"Ca\", \"Li\"]\n",
    "rcut = 3\n",
    "nmax = 12\n",
    "lmax = 9\n",
    "SoapList, SoapTime = TickTock(get_dscribe_descriptors, C7O2H10_structs, species = species, rcut = rcut, nmax = nmax, lmax = lmax, is_global=False, return_derivatives = False)\n",
    "print(SoapTime)"
   ]
  },
  {
   "cell_type": "code",
   "execution_count": 41,
   "metadata": {},
   "outputs": [
    {
     "name": "stdout",
     "output_type": "stream",
     "text": [
      "0.09846997261047363\n"
     ]
    }
   ],
   "source": [
    "species = [\"C\", \"O\", \"H\", \"N\", \"Ca\", \"Li\"]\n",
    "rcut = 3\n",
    "nmax = 12\n",
    "lmax = 9\n",
    "SoapList, SoapTime = TickTock(get_dscribe_descriptors, graphenes, species = species, rcut = rcut, nmax = nmax, lmax = lmax, is_global=False, return_derivatives = False)\n",
    "print(SoapTime)"
   ]
  },
  {
   "cell_type": "code",
   "execution_count": 44,
   "metadata": {},
   "outputs": [
    {
     "data": {
      "text/plain": [
       "Atoms(symbols='C2', pbc=True, cell=[[0.0, 1.785, 1.785], [1.785, 0.0, 1.785], [1.785, 1.785, 0.0]])"
      ]
     },
     "execution_count": 44,
     "metadata": {},
     "output_type": "execute_result"
    }
   ],
   "source": [
    "from ase.build import bulk\n",
    "diamond = bulk(\"C\", 'diamond')\n",
    "diamond\n",
    "Structure3DPlot(diamond).Plot()"
   ]
  },
  {
   "cell_type": "code",
   "execution_count": null,
   "metadata": {},
   "outputs": [],
   "source": [
    "# Breakdown of the derivatives output tensor from soap.derivatives(). This explains what the different indices mean in different situations\n",
    "\n",
    "use_atom_centers = True\n",
    "use_local_descriptors = True\n",
    "n_structures = 5\n",
    "\n",
    "averaging_keyword = \"off\" if use_local_descriptors else \"outer\"\n",
    "my_water_molecule = ase.build.molecule('H2O')\n",
    "if n_structures == 1:\n",
    "    my_atoms_list = my_water_molecule\n",
    "    print(\"This breakdown of the derivatives tensor is for a single (1) water molecule.\")\n",
    "elif n_structures > 1:\n",
    "    my_atoms_list = [my_water_molecule] * n_structures\n",
    "    print(\"This breakdown of the derivatives tensor is for {} water molecules.\".format(n_structures))\n",
    "    print(\"To access the tensor values without defining a tensor for each molecule, add an extra index in front. I didn't do this here because it was easier not to.\")\n",
    "\n",
    "\n",
    "soap = SOAP(average=averaging_keyword,  species=[\"H\", \"O\"], periodic=False, rcut=1.2, nmax=1, lmax=1)\n",
    "\n",
    "if use_atom_centers:\n",
    "    positions = my_water_molecule.get_positions()\n",
    "else:\n",
    "    positions = [[0, 0, 0],[5,2,3]]\n",
    "\n",
    "if n_structures == 1:\n",
    "    positions_list = positions\n",
    "elif n_structures > 1:\n",
    "    positions_list = [positions]*len(my_atoms_list)\n",
    "\n",
    "my_soap = soap.create(my_atoms_list)\n",
    "derivatives, descriptors = soap.derivatives(my_atoms_list, positions=positions_list , method=\"auto\")\n",
    "\n",
    "print(\"\")\n",
    "\n",
    "for k in range(n_structures):\n",
    "    if n_structures == 1:\n",
    "        derivative_k = derivatives\n",
    "        print(\"For the water molecule soap.derivatives() output, D (soap derivatives) and S (soaps):\")\n",
    "    elif n_structures > 1:\n",
    "        derivative_k = derivatives[k]\n",
    "        print(\"For water molecule #{} soap.derivatives() output, D (soap derivatives) and S (soaps):\".format(k))\n",
    "    for i in range(len(derivative_k)):\n",
    "        print(\"---------------------------------------------------------------------------------------------\")\n",
    "        print(\"---------------------------------------------------------------------------------------------\")\n",
    "        if use_local_descriptors:\n",
    "            atom_i = \"atom \" + my_water_molecule[i].symbol + str(my_water_molecule[i].index) + \" \" if use_atom_centers else \"\"\n",
    "            print(\"D[{}] = derivatives of S[{}], a local soap descriptor centered at {}({:5.2f}, {:5.2f}, {:5.2f})\".format(i, i, atom_i, *positions[i]))\n",
    "        else:\n",
    "            print(\"D[{}] = derivative of S[{}], the global soap descriptor averaged over {} centers\".format(i, i, len(positions[i])))\n",
    "        print(\"---------------------------------------------------------------------------------------------\")\n",
    "        print(\"---------------------------------------------------------------------------------------------\")\n",
    "        for j in range(len(my_water_molecule)):\n",
    "            atom_j = my_water_molecule[j].symbol + str(my_water_molecule[j].index)\n",
    "            print(\"D[{}, {}] = derivative of S[{}] with respect to atom {} positions\".format(i, j, i, atom_j))\n",
    "            print(\"--------------------------------------------------------------\")\n",
    "\n",
    "            print(\"D[{}, {}, {}] = dS[{}]/dX{}: \".format(i, j, 0, i, j), \"[\" + \"  \".join([\"{:7.4f}\".format(p) for p in derivative_k[i,j,0]]) + \"]\")\n",
    "            print(\"D[{}, {}, {}] = dS[{}]/dY{}: \".format(i, j, 1, i,j), \"[\" + \"  \".join([\"{:7.4f}\".format(p) for p in derivative_k[i,j,1]]) + \"]\")\n",
    "            print(\"D[{}, {}, {}] = dS[{}]/dZ{}: \".format(i, j, 2, i,j), \"[\" + \"  \".join([\"{:7.4f}\".format(p) for p in derivative_k[i,j,2]]) + \"]\")\n",
    "            #print(\"\")\n",
    "            print(\"--------------------------------------------------------------\\n\")\n",
    "\n"
   ]
  }
 ],
 "metadata": {
  "kernelspec": {
   "display_name": "Python 3",
   "language": "python",
   "name": "python3"
  },
  "language_info": {
   "codemirror_mode": {
    "name": "ipython",
    "version": 3
   },
   "file_extension": ".py",
   "mimetype": "text/x-python",
   "name": "python",
   "nbconvert_exporter": "python",
   "pygments_lexer": "ipython3",
   "version": "3.7.4"
  }
 },
 "nbformat": 4,
 "nbformat_minor": 4
}
