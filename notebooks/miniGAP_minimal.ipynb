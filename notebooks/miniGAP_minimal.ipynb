{
 "cells": [
  {
   "cell_type": "code",
   "execution_count": 1,
   "metadata": {},
   "outputs": [],
   "source": [
    "def in_notebook():\n",
    "    try:\n",
    "        shell = get_ipython().__class__.__name__\n",
    "        if shell == 'ZMQInteractiveShell':\n",
    "            return True   # Jupyter notebook or qtconsole\n",
    "        elif shell == 'TerminalInteractiveShell':\n",
    "            return False  # Terminal running IPython\n",
    "        else:\n",
    "            return False  # Other type (?)\n",
    "    except NameError:\n",
    "        return False      # Probably standard Python interpreter"
   ]
  },
  {
   "cell_type": "code",
   "execution_count": 2,
   "metadata": {},
   "outputs": [],
   "source": [
    "tf_cpu_debugging =False\n",
    "if tf_cpu_debugging:\n",
    "    import os\n",
    "    os.environ['CUDA_VISIBLE_DEVICES'] = '-1'\n",
    "    import tensorflow as tf\n",
    "    #tf.debugging.set_log_device_placement(True)\n",
    "    a = tf.constant(1)\n",
    "    \n",
    "    if tf.test.gpu_device_name():\n",
    "        print(\"GPUs recognized by tensorflow:\", tf.config.list_physical_devices('GPU'))\n",
    "    else:\n",
    "        print(\"No GPU found\")\n",
    "\n",
    "tf_gpu_debugging = False\n",
    "if tf_gpu_debugging:\n",
    "    import os \n",
    "    os.environ['TF_GPU_ALLOCATOR']='cuda_malloc_async'\n",
    "    import tensorflow as tf\n",
    "    tf.debugging.set_log_device_placement(True)\n",
    "    a = tf.constant(1)\n",
    "    \n",
    "    if tf.test.gpu_device_name():\n",
    "        print(\"GPUs recognized by tensorflow:\", tf.config.list_physical_devices('GPU'))\n",
    "    else:\n",
    "        print(\"No GPU found\")"
   ]
  },
  {
   "cell_type": "code",
   "execution_count": 3,
   "metadata": {},
   "outputs": [],
   "source": [
    "if in_notebook():\n",
    "    !ulimit -s unlimited\n",
    "else:\n",
    "    print(\"Be sure ulimit -s is set to unlimited!\")\n",
    "        "
   ]
  },
  {
   "cell_type": "markdown",
   "metadata": {},
   "source": [
    "main miniGAP notebook"
   ]
  },
  {
   "cell_type": "code",
   "execution_count": 4,
   "metadata": {},
   "outputs": [],
   "source": [
    "import sys\n",
    "sys.path.append('../code')\n",
    "from Molecular_Dynamics import generate_md_traj, make_diatomic\n",
    "from miniGAP_helper_functions import PrepareDataForTraining, self_energy, GatherStructureInfo, GenerateDescriptorsAndDerivatives, SparsifySoaps\n",
    "\n",
    "import numpy as np\n",
    "from sklearn.model_selection import train_test_split\n",
    "from sklearn.preprocessing import StandardScaler\n",
    "import tensorflow as tf\n",
    "import gpflow\n",
    "import tensorflow_probability as tfp\n",
    "tfb = tfp.bijectors\n",
    "tfk = tfp.math.psd_kernels\n",
    "from gpflow.kernels import SquaredExponential, Polynomial\n",
    "from itertools import islice\n",
    "from  tensorflow_probability import distributions as tfd\n",
    "import matplotlib.pyplot as plt\n",
    "from ase.io import read\n",
    "import pandas as pd\n",
    "from gpflow.utilities import print_summary\n",
    "if in_notebook():\n",
    "    gpflow.config.set_default_summary_fmt(\"notebook\")\n",
    "else:\n",
    "    gpflow.config.set_default_summary_fmt(\"grid\")"
   ]
  },
  {
   "cell_type": "code",
   "execution_count": 5,
   "metadata": {},
   "outputs": [
    {
     "name": "stdout",
     "output_type": "stream",
     "text": [
      "1 GPU(s) recognized by tensorflow: [PhysicalDevice(name='/physical_device:GPU:0', device_type='GPU')]\n"
     ]
    }
   ],
   "source": [
    "print(\"{} GPU(s) recognized by tensorflow:\".format(len(tf.config.list_physical_devices('GPU'))), tf.config.list_physical_devices('GPU'))"
   ]
  },
  {
   "cell_type": "code",
   "execution_count": 6,
   "metadata": {},
   "outputs": [],
   "source": [
    "# some basic helper functions\n",
    "import time\n",
    "\n",
    "def PrintNoScientificNotation(*x):\n",
    "    np.set_printoptions(suppress=True) # Do not print in scientific notation\n",
    "    print(*x)\n",
    "    np.set_printoptions(suppress=False)\n",
    "       \n",
    "def TickTock(func, *args, **kwargs):\n",
    "    tick = time.time()\n",
    "    func_output = func(*args, **kwargs)\n",
    "    tock = time.time()\n",
    "    return func_output, tock - tick"
   ]
  },
  {
   "cell_type": "code",
   "execution_count": 7,
   "metadata": {},
   "outputs": [],
   "source": [
    "# These plotting settings make graphs easier to read\n",
    "# This is a very clunky way to do this so I want to move this soon, but haven't had much of a chance\n",
    "\n",
    "SMALL_SIZE = 11\n",
    "MEDIUM_SIZE = 13\n",
    "BIG_SIZE = 15\n",
    "\n",
    "plt.rc('font', size=SMALL_SIZE)          # controls default text sizes\n",
    "plt.rc('axes', titlesize=BIG_SIZE)       # fontsize of the axes title\n",
    "plt.rc('axes', labelsize=MEDIUM_SIZE)    # fontsize of the x and y labels\n",
    "plt.rc('xtick', labelsize=SMALL_SIZE)    # fontsize of the tick labels\n",
    "plt.rc('ytick', labelsize=SMALL_SIZE)    # fontsize of the tick labels\n",
    "plt.rc('legend', fontsize=SMALL_SIZE)    # legend fontsize\n",
    "plt.rc('figure', titlesize=BIG_SIZE)     # fontsize of the figure title"
   ]
  },
  {
   "cell_type": "markdown",
   "metadata": {},
   "source": [
    "---\n",
    "\n",
    "# Current Training (As of 11/17)\n",
    "### Broken into a bunch of steps with comments"
   ]
  },
  {
   "cell_type": "markdown",
   "metadata": {},
   "source": [
    "---\n",
    "\n",
    "## Prep work"
   ]
  },
  {
   "cell_type": "code",
   "execution_count": 8,
   "metadata": {},
   "outputs": [],
   "source": [
    "\n",
    "if not in_notebook():\n",
    "    import argparse\n",
    "    \n",
    "    # --------------------------------------------  commandline argument code   -----------------------------------------------------------------------\n",
    "    parser = argparse.ArgumentParser()\n",
    "\n",
    "#     parser.add_argument('--verbose', action='store_true', help=\"Print out details at each step\") \n",
    "\n",
    "    #parser.add_argument('-t', '--time', action='store_true', help=\"Option to time tasks\")\n",
    "\n",
    "    parser.add_argument('-sf', '--structure_file',  help=\"Specify a structure file to import. If none given and -md used, will generate diatomics.\")\n",
    "\n",
    "    parser.add_argument(\"-md\", '--molecular_dynamics', action='store_true', help=\"Indicate if you want molecular dynamics performed. Will generate diatomic if no structure given\")\n",
    "#     parser.add_argument('-mdi', '--md_indices', default=[0], type=int, nargs='*', help=\"If performing molecular dynamics on a structure file with multiple structures, you can give indices of all structures to perform md on.\")\n",
    "\n",
    "    #structure_source = parser.add_mutually_exclusive_group(required=True)\n",
    "    #structure_source.add_argument('-gd', '--generate_diatomics', action='store_true', help=\"Option to generate a MD trajectory of diatomic molecules\")\n",
    "    #structure_source.add_argument('-is', '--import_structure', help=\"Specify a structure file to import\")\n",
    "\n",
    "    parser.add_argument('-n', '--n_structs',  type=int, help=\"Specify # of diatomic molecules or # of structures to use from input file\")\n",
    "\n",
    "    # arguments specific to generating diatomics\n",
    "    parser.add_argument('-el', '--element',  choices = [\"N\", \"O\", \"H\"], help=\"If generating diatomics, specify element\")\n",
    "    parser.add_argument('--temp',  type=float, help=\"If generating diatomics, specify temperatutre (K) of MD\")\n",
    "    parser.add_argument('-mds', '--md_seed',  type=int, help=\"If generating diatomics, change this seed to get different trajectories\")\n",
    "    parser.add_argument('-ec', '--energy_calculator',  choices = [\"EMT\", \"LJ\", \"Morse\"], help = \"If generating diatomics, specify ASE energy/force calculator\")\n",
    "\n",
    "    # arguments specific to soap\n",
    "    parser.add_argument('--rcut',  type=float, help= \"Choice of SOAP cut off radius\")\n",
    "    parser.add_argument('--nmax',  type=int, help=\"Choice of SOAP n_max\")\n",
    "    parser.add_argument('--lmax',  type=int, help=\"Choice of SOAP l_max\")\n",
    "\n",
    "    # arguments specific to learning\n",
    "    parser.add_argument('-ss', '--split_seed', type=int, help=\"Random seed for cross-validation\")\n",
    "    parser.add_argument('-tf', '--train_fraction', type=float, help=\"Specify the fraction of structures used in training\")\n",
    "    parser.add_argument('-ne', '--n_epochs', type=int, help=\"Number of epochs\")\n",
    "\n",
    "    # some housekeeping\n",
    "#     parser.add_argument('remainder', nargs=argparse.REMAINDER, help=argparse.SUPPRESS)\n",
    "\n",
    "    cmdline_args = parser.parse_args()\n",
    "    cmdline_args_dict = vars(cmdline_args)\n"
   ]
  },
  {
   "cell_type": "code",
   "execution_count": 9,
   "metadata": {},
   "outputs": [
    {
     "name": "stdout",
     "output_type": "stream",
     "text": [
      "Loaded 200 structures into FullStructureList\n"
     ]
    }
   ],
   "source": []
  },
  {
   "cell_type": "code",
   "execution_count": 10,
   "metadata": {},
   "outputs": [],
   "source": [
    "# Input parameter important notes:\n",
    "\n",
    "# energy_encoding=#\"info\" for QM9 or \"normal\" for distorted propenols\n",
    "# energy_keyword=\"U0\" for QM9 or ignored for distorted propenols\n",
    "\n",
    "# my_priority = #\"efficiency\" for experimenting with something new or otherwise \"consistency\"\n",
    "\n",
    "# # controls initial train_test_split breaking apart training and test data\n",
    "# split_seed = 2\n",
    "\n",
    "# # controls in-training train_test_split breaking apart training_j and validation_j data\n",
    "# valid_split_seed = 2\n",
    "\n",
    "# # controls multiple tf stochastic processes including:\n",
    "# # 1) Adams optimizer AND \n",
    "# # 2) batching through tf.data.Dataset.from_tensor_slices in training\n",
    "# tf_seed = 2\n",
    "\n",
    "# # controls batching through tf.data.Dataset.from_tensor_slices in training\n",
    "# shuffle_seed = 2\n",
    "\n",
    "# kernel_type = #\"polynomial\" for actual GAP or \"exponentiated_quadratic\" possibly for debugging\n",
    "\n",
    "# prediction_calculation = #\"direct\" OR \"predict_f\" OR \"cholesky\" OR \"alpha\""
   ]
  },
  {
   "cell_type": "markdown",
   "metadata": {},
   "source": [
    "# Complete this on 11/24 morning  \n",
    "\n",
    "1. What I need to still do today is just convert reference to direct names to references to the s. names  \n",
    "2. Implement that structure filename choice from commandline"
   ]
  },
  {
   "cell_type": "code",
   "execution_count": 11,
   "metadata": {},
   "outputs": [],
   "source": [
    "import json\n",
    "from collections import namedtuple\n",
    "\n",
    "settings_json_filename = \"../code/miniGAP_settings.json\"\n",
    "with open(settings_json_filename, encoding = 'utf-8') as settings_file_object:\n",
    "    default_settings_dict = json.load(settings_file_object)\n",
    "\n",
    "settings_dict = default_settings_dict\n",
    "if not in_notebook():\n",
    "    for setting_name in settings_dict.keys():\n",
    "        if setting_name in cmdline_args_dict.keys():\n",
    "            if cmdline_args_dict[setting_name] != None:\n",
    "                settings_dict[setting_name] = cmdline_args_dict[setting_name]\n",
    "SettingsNamespace = namedtuple(\"Settings\", settings_dict.keys())\n",
    "s = SettingsNamespace(*settings_dict.values())"
   ]
  },
  {
   "cell_type": "code",
   "execution_count": null,
   "metadata": {},
   "outputs": [],
   "source": [
    "if in_notebok():\n",
    "    FullStructureList = read(\"../data/distorted_propanol.extxyz.gz\", \":200\")#, \":{}\".format(s.n_structs))\n",
    "    # FullStructureList = read(\"../data/C7O2H10.extxyz.gz\",            \":\")\n",
    "    print(\"Loaded {} structures into FullStructureList\".format(len(FullStructureList)))"
   ]
  },
  {
   "cell_type": "markdown",
   "metadata": {},
   "source": [
    "Pick which structures to train"
   ]
  },
  {
   "cell_type": "code",
   "execution_count": 12,
   "metadata": {},
   "outputs": [
    {
     "name": "stdout",
     "output_type": "stream",
     "text": [
      "Using 200 structures.\n"
     ]
    }
   ],
   "source": [
    "# Diatomic molecule with evenly spaced bond lengths\n",
    "# StructureList = [make_diatomic(element = s.element, verbose=False, bond_length=L, calc_type=s.energy_calculator) for L in np.linspace(.6,1.8, s.n_structs)]\n",
    "\n",
    "# Diatomic molecule in MD trajectory\n",
    "# StructureList = generate_md_traj(from_diatomic=True, preoptimize=False, bond_length=1.5, element=s.element, temperature=s.temp, nsteps=s.n_structs, md_type = \"VelocityVerlet\", calc_type=s.energy_calculator, md_seed= s.md_seed, time_step=.6)\n",
    "\n",
    "# ethanol molecule in MD trajectory\n",
    "# from ase.build import molecule\n",
    "# StructureList = generate_md_traj(from_diatomic=False, structure=molecule(\"CH3CH2OH\"), temperature=s.temp, nsteps=s.n_structs, md_type = \"VelocityVerlet\", calc_type=s.energy_calculator, md_seed= s.md_seed, time_step=.05)\n",
    "\n",
    "print(\"s.n_structs =\",  s.n_structs)\n",
    "# 2000 distorted propanols (librascal structures)\n",
    "#   Forces included\n",
    "#StructureList = read(\"../data/distorted_propanol.extxyz.gz\", \":{}\".format(s.n_structs))\n",
    "StructureList = FullStructureList[::len(FullStructureList)//s.n_structs][:s.n_structs]\n",
    "\n",
    "# 10000 graphenes from Alvaro\n",
    "#   Forces included\n",
    "# StructureList = read(\"../data/ManyGraphenes.gz\", \":{}\".format(s.n_structs))\n",
    "\n",
    "# 6095 isomers of C7O2H10 (subset of QM9)\n",
    "#   No forces\n",
    "# StructureList = read(\"../data/C7O2H10.extxyz.gz\", \":{}\".format(s.n_structs))\n",
    "# StructureList = FullStructureList[::len(FullStructureList)//s.n_structs][:s.n_structs]\n",
    "\n",
    "print(\"Using {} structures.\".format(len(StructureList)))\n",
    "\n",
    "ns_atoms = np.unique([len(struct) for struct in StructureList])\n",
    "assert len(ns_atoms) == 1\n",
    "n_atoms = ns_atoms[0]"
   ]
  },
  {
   "cell_type": "code",
   "execution_count": null,
   "metadata": {},
   "outputs": [],
   "source": []
  },
  {
   "cell_type": "code",
   "execution_count": 13,
   "metadata": {},
   "outputs": [],
   "source": [
    "check_structures_visually = False\n",
    "if check_structures_visually:\n",
    "    from Visualize_Structures import Structure3DAnimation, Structure3DPlot\n",
    "    html_animation = Structure3DAnimation(StructureList, azimuth=0, elevation=90).Plot()\n",
    "    display(html_animation)"
   ]
  },
  {
   "cell_type": "markdown",
   "metadata": {},
   "source": [
    "Parse data from dataset"
   ]
  },
  {
   "cell_type": "code",
   "execution_count": 14,
   "metadata": {},
   "outputs": [],
   "source": [
    "EnergyList, ForceList, PosList = GatherStructureInfo(StructureList,gather_forces = s.use_forces, use_self_energies=s.use_self_energies, \n",
    "                                                     energy_encoding = s.energy_encoding,  energy_keyword = s.energy_keyword)"
   ]
  },
  {
   "cell_type": "markdown",
   "metadata": {},
   "source": [
    "Generate SOAP descriptors"
   ]
  },
  {
   "cell_type": "code",
   "execution_count": 15,
   "metadata": {},
   "outputs": [
    {
     "name": "stdout",
     "output_type": "stream",
     "text": [
      "0.0702824592590332\n"
     ]
    }
   ],
   "source": [
    "[SoapDerivativeList, SoapList], TimeSoap = TickTock(GenerateDescriptorsAndDerivatives, StructureList, s.nmax, s.lmax, s.rcut, s.smear, s.attach_SOAP_center, s.is_periodic, s.use_forces)\n",
    "print(TimeSoap)"
   ]
  },
  {
   "cell_type": "markdown",
   "metadata": {},
   "source": [
    "---\n",
    "\n",
    "## Now the training starts"
   ]
  },
  {
   "cell_type": "markdown",
   "metadata": {},
   "source": [
    "Preparing the energies, forces, soap descriptors and derivatives into a format usable for tensorflow training\n",
    "\n",
    "---\n",
    "\n",
    "1. Split all data into training and test sets.  \n",
    "Test sets will not be viewed until training is done  \n",
    "2. Scale soaps and energies separately to have zero mean and unit variance.  \n",
    "Divide the derivatives by the same scale factor but don't subtract the mean\n",
    "3. Convert data to tensorflow tensors where necessary  "
   ]
  },
  {
   "cell_type": "code",
   "execution_count": 16,
   "metadata": {},
   "outputs": [
    {
     "name": "stdout",
     "output_type": "stream",
     "text": [
      "0.018133878707885742\n"
     ]
    }
   ],
   "source": [
    "out_data, TimePrepare = TickTock(PrepareDataForTraining, \n",
    "                                sp_list=SoapList, \n",
    "                                dsp_dx_list = SoapDerivativeList, \n",
    "                                en_list = EnergyList,\n",
    "                                frc_list = ForceList ,\n",
    "                                pos_list = PosList, \n",
    "                                split_seed = s.split_seed, \n",
    "                                prepare_forces = s.use_forces, \n",
    "                                train_fract = s.train_fraction,\n",
    "                                scale_soaps = s.scale_soaps\n",
    "                                )\n",
    "\n",
    "print(TimePrepare)\n",
    "\n",
    "if not s.use_forces:\n",
    "    train_sps_full, test_sps_full, train_ens, test_ens, train_indices, test_indices, soap_scaler, ens_scaler, ens_var = out_data\n",
    "else:\n",
    "    train_sps_full, test_sps_full, train_ens, test_ens, train_indices, test_indices, soap_scaler, ens_scaler, ens_var, train_dsp_dx, test_dsp_dx, train_frcs, test_frcs, frcs_var = out_data \n"
   ]
  },
  {
   "cell_type": "code",
   "execution_count": 17,
   "metadata": {},
   "outputs": [
    {
     "name": "stdout",
     "output_type": "stream",
     "text": [
      "Sparsification time =  0.0001652240753173828\n"
     ]
    }
   ],
   "source": [
    "TimeBeforeSparsification = time.time()     \n",
    "SparsifySoapsOutput = SparsifySoaps(train_soaps = train_sps_full, test_soaps = test_sps_full, train_energies=train_ens, sparsify_samples=s.sparse_gpflow, \n",
    "                                    n_samples=s.n_sparse, sparsify_features=s.sparse_features, n_features=s.n_sparse_features, selection_method=\"PCovCUR\",\n",
    "                                    score_tolerance=1e-5, score_threshold=1e-5, iterative_selection=False) \n",
    "train_sps, sparse_train_sps, test_sps = SparsifySoapsOutput\n",
    "TimeAfterSparsification = time.time()\n",
    "\n",
    "print(\"Sparsification time = \", TimeAfterSparsification - TimeBeforeSparsification)\n"
   ]
  },
  {
   "cell_type": "code",
   "execution_count": 18,
   "metadata": {},
   "outputs": [],
   "source": [
    "plot_importances = False\n",
    "if plot_importances and s.sparse_gpflow:\n",
    "#     feature_scores = feature_selector._compute_pi(train_sps_full, train_ens)\n",
    "    feature_scores = feature_selector.score(train_sps)\n",
    "#     sample_scores = sample_selector._compute_pi(train_sps_full, train_ens)\n",
    "    sample_scores = sample_selector.score(train_sps)\n",
    "\n",
    "    fig, axs = plt.subplots(ncols = 2, figsize=(12, 5))\n",
    "\n",
    "    axs[0].plot(np.sort(feature_scores)[::-1])\n",
    "    axs[0].set_ylabel(\"Feature Scores\")\n",
    "    axs[1].plot(np.sort(sample_scores)[::-1] )\n",
    "    axs[1].set_ylabel(\"Sample Scores\")\n",
    "    for ax in axs:\n",
    "        ax.set_ylim(bottom=0)"
   ]
  },
  {
   "cell_type": "markdown",
   "metadata": {},
   "source": [
    "Reshape energies, soaps, etc so that local data can be separated"
   ]
  },
  {
   "cell_type": "markdown",
   "metadata": {},
   "source": [
    "Scale soaps and energies separately to have zero mean and unit variance.\n",
    "\n",
    "Divide the derivatives by the same scale factor but don't subtract the mean"
   ]
  },
  {
   "cell_type": "markdown",
   "metadata": {},
   "source": [
    "Convert data to tensorflow tensors where necessary"
   ]
  },
  {
   "cell_type": "markdown",
   "metadata": {},
   "source": [
    "Define a few things used in training loop\n",
    "\n",
    "* loss/error function\n",
    "* optimizer"
   ]
  },
  {
   "cell_type": "code",
   "execution_count": 19,
   "metadata": {},
   "outputs": [],
   "source": [
    "# Note: I still need to add the Tikhonov regularization term for loss to make the mse equivalent to negative log likelihood\n",
    "\n",
    "@tf.function(autograph=False, experimental_compile=False)\n",
    "def mse(y_predict, y_true):\n",
    "    return tf.math.reduce_mean(tf.math.squared_difference(y_predict, y_true))\n",
    "\n",
    "@tf.function(autograph=False, experimental_compile=False)\n",
    "def mse_2factor(y1_predict, y1_true, weight1, y2_predict, y2_true, weight2):\n",
    "    mse1 = mse(y1_predict, y1_true)\n",
    "    mse2 = mse(y2_predict, y2_true)*3\n",
    "\n",
    "    return mse1 * weight1 + mse2 * weight2\n",
    "\n",
    "#@tf.function(autograph=False, experimental_compile=False)\n",
    "def train_step_without_forces_full(model, valid_soap, valid_energy): #, optimizer):\n",
    "    with tf.GradientTape() as tape:\n",
    "        predict_energy = model.predict_f(valid_soap)[0]\n",
    "        tf.print(\"predict energies = \", predict_energy[:3])\n",
    "        my_mse = mse(predict_energy, valid_energy)\n",
    "    gradients = tape.gradient(my_mse, model.trainable_variables)\n",
    "    tf.print(\"gradients = \", gradients)\n",
    "    optimizer.apply_gradients(zip(gradients, model.trainable_variables))\n",
    "    print(\"TRACING train_step_without_forces_full\")\n",
    "    return my_mse\n",
    "\n",
    "@tf.function(autograph=False, experimental_compile=False)\n",
    "def predict_energies_from_weights(c, soaps_old, soaps_new, degree):\n",
    "    k = tf.math.pow( tf.tensordot(soaps_old, tf.transpose(soaps_new), axes=1), degree )\n",
    "    return tf.linalg.matmul(c, k, transpose_a=True)"
   ]
  },
  {
   "cell_type": "markdown",
   "metadata": {},
   "source": [
    "### Possible improvements to my GPflow training\n",
    "---\n",
    "1. Use Adam optimizer\n",
    "2. Custom loss function vs optimizer.minimize\n",
    "3. Don't use constrain_positive\n",
    "4. Set certain variable untrainable"
   ]
  },
  {
   "cell_type": "markdown",
   "metadata": {},
   "source": [
    "Perform training loop"
   ]
  },
  {
   "cell_type": "markdown",
   "metadata": {},
   "source": [
    "GPFlow test with many data points"
   ]
  },
  {
   "cell_type": "code",
   "execution_count": 20,
   "metadata": {},
   "outputs": [
    {
     "name": "stdout",
     "output_type": "stream",
     "text": [
      "Raising linear kernel to degree 2 creating a polynomial kernel. The training is broken for degree =/= 1 unless we use predict_f\n",
      "Training using 1620 atoms without batching.\n"
     ]
    },
    {
     "name": "stderr",
     "output_type": "stream",
     "text": [
      "2021-11-24 09:46:44.433017: I tensorflow/core/platform/cpu_feature_guard.cc:151] This TensorFlow binary is optimized with oneAPI Deep Neural Network Library (oneDNN) to use the following CPU instructions in performance-critical operations:  AVX2 FMA\n",
      "To enable them in other operations, rebuild TensorFlow with the appropriate compiler flags.\n",
      "2021-11-24 09:46:44.970224: I tensorflow/core/common_runtime/gpu/gpu_device.cc:1525] Created device /job:localhost/replica:0/task:0/device:GPU:0 with 9686 MB memory:  -> device: 0, name: NVIDIA TITAN V, pci bus id: 0000:01:00.0, compute capability: 7.0\n",
      "2021-11-24 09:46:45.123582: W tensorflow/python/util/util.cc:368] Sets are not currently considered sequences, but this may change in the future, so consider avoiding using them.\n"
     ]
    },
    {
     "data": {
      "text/html": [
       "<table>\n",
       "<thead>\n",
       "<tr><th>name                   </th><th>class           </th><th>transform       </th><th>prior  </th><th>trainable  </th><th>shape      </th><th>dtype  </th><th>value                                    </th></tr>\n",
       "</thead>\n",
       "<tbody>\n",
       "<tr><td>GPR.kernel.variance    </td><td>Parameter       </td><td>Softplus        </td><td>       </td><td>True       </td><td>()         </td><td>float64</td><td>1.0                                      </td></tr>\n",
       "<tr><td>GPR.kernel.offset      </td><td>Parameter       </td><td>Softplus        </td><td>       </td><td>True       </td><td>()         </td><td>float64</td><td>2.2250738585072626e-308                  </td></tr>\n",
       "<tr><td>GPR.likelihood.variance</td><td>Parameter       </td><td>Softplus + Shift</td><td>       </td><td>True       </td><td>()         </td><td>float64</td><td>0.00010000000000000011                   </td></tr>\n",
       "<tr><td>GPR.data[0]            </td><td>ResourceVariable</td><td>                </td><td>       </td><td>False      </td><td>(1620, 390)</td><td>float64</td><td>[[-1.24413767, -1.18190928, -0.7666605...</td></tr>\n",
       "<tr><td>GPR.data[1]            </td><td>ResourceVariable</td><td>                </td><td>       </td><td>False      </td><td>(1620, 1)  </td><td>float64</td><td>[[2.45236228...                          </td></tr>\n",
       "</tbody>\n",
       "</table>"
      ],
      "text/plain": [
       "<IPython.core.display.HTML object>"
      ]
     },
     "metadata": {},
     "output_type": "display_data"
    },
    {
     "name": "stdout",
     "output_type": "stream",
     "text": [
      "Calculating weights\n",
      "Predicting final energies\n",
      "Acknowledge direct\n"
     ]
    },
    {
     "name": "stderr",
     "output_type": "stream",
     "text": [
      "2021-11-24 09:46:45.538504: I tensorflow/core/util/cuda_solvers.cc:179] Creating GpuSolver handles for stream 0x55b4eadd5b90\n"
     ]
    }
   ],
   "source": [
    "# Initialize kernels and model hyperparameters\n",
    "verbose = True\n",
    "tf.random.set_seed(s.tf_seed)\n",
    "\n",
    "TimeBeforePreEpoch = time.time()\n",
    "\n",
    "\n",
    "train_step_without_forces_full_tf = tf.function(train_step_without_forces_full)\n",
    "\n",
    "noise_init = 1e-4 #.001# 0.0005499093576274776 #1.625e-4\n",
    "obs_noise = tf.Variable(noise_init, dtype=s.dtype, name=\"noise\")\n",
    "\n",
    "if s.kernel_type == \"exponentiated_quadratic\":\n",
    "    amp_init = 2\n",
    "    \n",
    "    # The following line tries to control for the size and natural spread of the data\n",
    "    len_init = 1#0.1*train_sps.shape[-1]/np.mean(soap_scaler.scale_ )\n",
    "    amplitude = tf.Variable(initial_value=amp_init, dtype=s.dtype)\n",
    "    len_scale = tf.Variable(initial_value=len_init,  dtype=s.dtype)\n",
    "    kernel = SquaredExponential(variance=amplitude, lengthscales=len_scale, name=\"exponentiated_quadratic_kernel_gpf\")\n",
    "elif s.kernel_type == \"polynomial\":\n",
    "    slope_init = 1 #600#1#1e-2#1e-8#0.0004530304664784989\n",
    "    slope = tf.Variable(slope_init, dtype=s.dtype, name=\"kernel_amplitude\")\n",
    "    offset_init = np.finfo(np.float64).tiny# 1e-24#1e-10\n",
    "    offset = tf.constant(offset_init, dtype=s.dtype, name=\"offset\")\n",
    "    degree_init = 2\n",
    "    degree = tf.constant(degree_init, dtype=s.dtype, name=\"degree\")\n",
    "    print(\"Raising linear kernel to degree {} creating a polynomial kernel. The training is broken for degree =/= 1 unless we use predict_f\".format(degree_init))\n",
    "    kernel = Polynomial(variance=slope, offset=offset, degree=degree)\n",
    "else:\n",
    "    print(\"Warning: Do not recognize kernel_type={}\".format(s.kernel_type))\n",
    "\n",
    "    \n",
    "\n",
    "\n",
    "# Split training data into training and validation sets\n",
    "# Now validation set acts as temporary est set\n",
    "# train_test_split and tensorflow tensors don't get along so I temporarily convert them back to numpy arrays\n",
    "\n",
    "train_indices_j, valid_indices_j  = train_test_split(np.arange(len(train_sps)), random_state = s.valid_split_seed, test_size=(1-s.valid_fract))\n",
    "\n",
    "train_sps_j, valid_sps_j = train_sps[train_indices_j], train_sps[valid_indices_j]\n",
    "train_ens_j, valid_ens_j = train_ens[train_indices_j], train_ens[valid_indices_j]\n",
    "\n",
    "if s.use_forces: \n",
    "    train_dsp_dx_j, valid_dsp_dx_j = train_dsp_dx[train_indices_j], train_dsp_dx[valid_indices_j]\n",
    "    train_frcs_j, valid_frcs_j = train_frcs[train_indices_j], train_frcs[valid_indices_j]\n",
    "\n",
    "# Convert to tensorflow constant tensors\n",
    "train_sps_j = tf.constant(train_sps_j, dtype=s.dtype)\n",
    "train_ens_j = tf.constant(train_ens_j, dtype=s.dtype)\n",
    "valid_sps_j = tf.constant(valid_sps_j, dtype=s.dtype)\n",
    "valid_ens_j = tf.constant(valid_ens_j, dtype=s.dtype)\n",
    "if s.sparse_gpflow:\n",
    "    sparse_train_sps = tf.Variable(sparse_train_sps, shape=sparse_train_sps.shape, dtype=s.dtype, trainable=False)\n",
    "\n",
    "if s.use_forces:\n",
    "    train_dsp_dx_j = tf.constant(train_dsp_dx_j, dtype=s.dtype)\n",
    "    train_frcs_j = tf.constant(train_frcs_j, dtype=s.dtype)    \n",
    "    valid_dsp_dx_j = tf.constant(valid_dsp_dx_j, dtype=s.dtype)\n",
    "    valid_frcs_j = tf.constant(valid_frcs_j, dtype=s.dtype)        \n",
    "\n",
    "test_sps = tf.constant(test_sps, dtype=s.dtype)\n",
    "\n",
    "\n",
    "# Batch data if  training set is larger than batch_size_max\n",
    "if len(train_sps_j) < s.batch_size_max:\n",
    "    iterations_per_epoch = 1\n",
    "    batch_size = len(train_sps_j)\n",
    "    if verbose:\n",
    "        print(\"Training using {} atoms without batching.\".format(len(train_sps_j)))\n",
    "else:\n",
    "    iterations_per_epoch = int(np.ceil(len(train_sps_j)/s.batch_size_max))\n",
    "    batch_size = int(np.ceil(len(train_sps_j)/iterations_per_epoch))\n",
    "    if verbose:\n",
    "        print(\"Training using {} atoms total using {} batches with {} atoms per batch.\".format( len(train_sps_j), iterations_per_epoch, batch_size ))\n",
    "\n",
    "# training(out_data)\n",
    "        \n",
    "TimeBeforeEpoch0 = time.time()\n",
    "\n",
    "\n",
    "mse_history = []    \n",
    "hyperparam_history = []\n",
    "\n",
    "\n",
    "\n",
    "# import warnings\n",
    "# \n",
    "# from gpflow.models import VGP, GPR, SGPR, SVGP\n",
    "# from gpflow.optimizers import NaturalGradient\n",
    "# from gpflow.optimizers.natgrad import XiSqrtMeanVar\n",
    "# from gpflow import set_trainable\n",
    "\n",
    "\n",
    "if s.my_priority == \"efficiency\":\n",
    "    # I don't know what this does\n",
    "    autotune = tf.data.experimental.AUTOTUNE\n",
    "    \n",
    "    \n",
    "    batches = (\n",
    "        tf.data.Dataset.from_tensor_slices((train_sps_j, train_ens_j))\n",
    "        .prefetch(autotune) \n",
    "        .shuffle(buffer_size=len(train_sps_j), seed=s.shuffle_seed)\n",
    "        .repeat(count=None)\n",
    "        .batch(batch_size)\n",
    "    )\n",
    "    \n",
    "    batch_iterator = iter(batches)\n",
    "\n",
    "    # I also don't know why we use this\n",
    "    from gpflow.ci_utils import ci_niter, ci_range\n",
    "    \n",
    "    optimizer = tf.keras.optimizers.Adam(learning_rate=s.learn_rate)\n",
    "    \n",
    "else:\n",
    "    batches = (\n",
    "        tf.data.Dataset.from_tensor_slices((train_sps_j, train_ens_j)) \n",
    "        .shuffle(buffer_size=len(train_sps_j), seed=s.shuffle_seed) \n",
    "        .repeat(count=None)\n",
    "        .batch(batch_size)\n",
    "    )    \n",
    "    \n",
    "    optimizer = tf.keras.optimizers.Adam(learning_rate=s.learn_rate)\n",
    "    #optimizer = tf.keras.optimizers.SGD(learning_rate=s.learn_rate)\n",
    "    \n",
    "\n",
    "\n",
    "# new code to make tf.function training work\n",
    "# --------------------------------------------\n",
    "train_sps_j_i = tf.Variable(train_sps[:batch_size], shape=(batch_size, train_sps.shape[-1]), dtype=s.dtype, trainable=False )\n",
    "train_ens_j_i = tf.Variable(train_ens[:batch_size], shape=(batch_size, 1), dtype=s.dtype, trainable=False ) \n",
    "if s.sparse_gpflow:\n",
    "    if len(sparse_train_sps) >= batch_size:\n",
    "        print(\"Warning: Batch size is not greater than sparse soap size.\\nThis may cause errors in the predict_f function which assumes the inducing points to be fewer than the data points.\")\n",
    "    if s.my_priority == \"efficiency\":\n",
    "        gpr_model = gpflow.models.SVGP( kernel=kernel, likelihood=gpflow.likelihoods.Gaussian(),  inducing_variable=sparse_train_sps)\n",
    "        gpr_model.likelihood.variance.assign(obs_noise)\n",
    "        gpflow.set_trainable(gpr_model.q_mu, False)\n",
    "        gpflow.set_trainable(gpr_model.q_sqrt, False)\n",
    "    else:\n",
    "        gpr_model = gpflow.models.SGPR(data=(train_sps_j_i, train_ens_j_i), kernel=kernel, noise_variance=obs_noise, inducing_variable=sparse_train_sps)\n",
    "else:\n",
    "    if s.my_priority == \"efficiency\":\n",
    "        # it seems I cannot use  noise_variance=obs_noise for this which makes it not GAP...\n",
    "        gpr_model = gpflow.models.VGP( data=(train_sps_j_i, train_ens_j_i), kernel=kernel, likelihood=gpflow.likelihoods.Gaussian())\n",
    "    else:\n",
    "        gpr_model = gpflow.models.GPR( data=(train_sps_j_i, train_ens_j_i), kernel=kernel, noise_variance=obs_noise)\n",
    "# --------------------------------------------\n",
    "\n",
    "\n",
    "print_frequency = max(s.min_print_frequency, int(s.n_epochs/10))\n",
    "\n",
    "if s.my_priority == \"efficiency\":\n",
    "    hyperparam_history.append([(0, np.exp(var.numpy() )) for var in gpr_model.trainable_variables])  \n",
    "    gpr_objective = gpr_model.training_loss_closure(batch_iterator,  compile=True)\n",
    "    for j in range(ci_niter(s.n_epochs)):\n",
    "        if not j % print_frequency:\n",
    "            print(\"Epoch {}\".format(j))\n",
    "        optimizer.minimize(gpr_objective, var_list=gpr_model.trainable_variables)\n",
    "        mse_history.append((j+1, gpr_model.elbo(data=(train_sps, train_ens))))\n",
    "        hyperparam_history.append([(j+1, np.exp(var.numpy()) ) for var in gpr_model.trainable_variables]) \n",
    "    #optimizer.minimize(gpr_model.training_loss, gpr_model.trainable_variables, options=dict(maxiter=s.n_epochs))\n",
    "        \n",
    "elif s.my_priority == \"consistency\":\n",
    "\n",
    "    hyperparam_history.append([(0, var.numpy()) for var in gpr_model.trainable_parameters])  \n",
    "    for j in range(s.n_epochs):\n",
    "        if not j % print_frequency:\n",
    "            print(\"Epoch {}\".format(j))\n",
    "            #print(\" \".join([\"{} = {:.2e} \".format(var.name, np.exp(var.numpy())) for var in trainable_variables]))\n",
    "\n",
    "        mse_ens_j = 0\n",
    "        for i, (train_sps_j_i, train_ens_j_i) in enumerate(islice(batches, iterations_per_epoch)):\n",
    "            if not s.use_forces: #and not s.sparse_gpflow :\n",
    "                gpr_model.data[0].assign(train_sps_j_i)\n",
    "                gpr_model.data[1].assign(train_ens_j_i)        \n",
    "                mse_ens_j_i = train_step_without_forces_full_tf(gpr_model, valid_sps_j, valid_ens_j)\n",
    "                print(\"valid_ens[:3] = {}\".format( valid_ens_j[:3].numpy().flatten()) )\n",
    "#                 print(mse_ens_j_i.numpy(), valid_ens_j[:3].numpy().flatten(), train_ens_j_i[:3].numpy().flatten()  )\n",
    "\n",
    "\n",
    "            else:\n",
    "                print(\"Using normal approach\")\n",
    "                with tf.GradientTape() as tape:\n",
    "                    with tf.GradientTape(watch_accessed_variables=False) as tape_sps:\n",
    "                        tape_sps.watch(valid_sps_j)\n",
    "        #                 gprm_j_i = tfd.GaussianProcessRegressionModel(\n",
    "        #                     kernel = kernel,\n",
    "        #                     index_points = valid_sps_j,\n",
    "        #                     observation_index_points = train_sps_j_i,\n",
    "        #                     observations = train_ens_j_i, #tf.constant(train_ens_j_i.numpy().flatten(), dtype=s.dtype),#train_ens_j_i,\n",
    "        #                     observation_noise_variance = obs_noise)\n",
    "        #                 predict_ens_j_i = gprm_j_i.mean()\n",
    "                        if s.sparse_gpflow:\n",
    "                            gpr_model = gpflow.models.SGPR(data=(train_sps_j_i, train_ens_j_i), kernel=kernel, inducing_variable=sparse_train_sps)\n",
    "    #                         gpflow.set_trainable(gpr_model.inducing_variable, False)\n",
    "                            if i < 3:\n",
    "                                print_summary(gpr_model)            \n",
    "                        else:\n",
    "                            gpr_model.data[0].assign(train_sps_j_i)\n",
    "                            gpr_model.data[1].assign(train_ens_j_i)\n",
    "                            #gpr_model = gpflow.models.GPR(data=(train_sps_j_i, train_ens_j_i), kernel=kernel)\n",
    "                        #gpr_model.likelihood.variance.assign(obs_noise)                \n",
    "                        predict_ens_j_i = gpr_model.predict_f(valid_sps_j)[0]\n",
    "\n",
    "\n",
    "\n",
    "        #                 gpr_model = gpflow.models.GPR(data=(sps_j_i, train_ens_j_i), kernel=kernel_gpf)\n",
    "        #                 gpr_model.likelihood.variance.assign(obs_noise_gpf)\n",
    "        #                 predict_ens_j_i_gpf = gpr_model.predict_f(valid_sps_j)\n",
    "\n",
    "                    if s.use_forces:\n",
    "                        predict_d_ens_j_i = tape_sps.gradient(predict_ens_j_i, valid_sps_j)\n",
    "                        # In the following line I needed to include '* n_atoms' after breaking energies into local energies\n",
    "                        # The reason is that I am effectively breaking the connection between E and F when doing that\n",
    "                        # F = -dE/dx =/= -dE_local/dx where E_local = E/n_atoms - E_free\n",
    "                        # When I split energies into local energies I initially calculated -dE_local/dx which is -dE/dx / n_atoms\n",
    "                        # This fix is prone to breaking the code and is not robust to systems with different structure size\n",
    "                        # Need to improve this with a better fix\n",
    "                        predict_frcs_j_i = -1*np.einsum('ijk,ik->ij', valid_dsp_dx_j, predict_d_ens_j_i) * n_atoms\n",
    "                        mse_j_i = mse_2factor(predict_ens_j_i, valid_ens_j, 1/ens_var,\n",
    "                                                predict_frcs_j_i, valid_frcs_j, 1/frcs_var)\n",
    "                        mse_ens_j_i = mse(predict_ens_j_i, valid_ens_j)\n",
    "                    else:\n",
    "                        mse_j_i = mse(predict_ens_j_i, valid_ens_j)\n",
    "                        mse_ens_j_i = mse_j_i\n",
    "\n",
    "\n",
    "        #         grads = tape.gradient(mse_j_i, trainable_variables)\n",
    "        #         optimizer.apply_gradients(zip(grads, trainable_variables))\n",
    "                grads = tape.gradient(mse_j_i, gpr_model.trainable_variables)\n",
    "                # print(gpr_model.trainable_variables[0])#grads[0])\n",
    "                optimizer.apply_gradients(zip(grads, gpr_model.trainable_variables))\n",
    "                if i < 3:\n",
    "                    print_summary(gpr_model)\n",
    "\n",
    "                if not gpr_model.data[0][0,0].numpy() == train_sps_j_i[0,0].numpy() :\n",
    "                    print(\"ERRORERRORERRORERRORERRORERRORERROR\")\n",
    "\n",
    "            print(\"Adding mse_ens_j_i to mse_ens_j: {} + {} = {} \".format(mse_ens_j_i.numpy(), mse_ens_j , mse_ens_j_i.numpy() + mse_ens_j  ))\n",
    "            mse_ens_j += mse_ens_j_i\n",
    "\n",
    "        mse_ens_j /= iterations_per_epoch\n",
    "        print(\"Epoch {},  mse = {}\".format(j, mse_ens_j))\n",
    "        mse_history.append((j+1, mse_ens_j))\n",
    "        hyperparam_history.append([(j+1, var.numpy()) for var in gpr_model.trainable_parameters])    \n",
    "\n",
    "    \n",
    "\n",
    "else:\n",
    "    print(\"{} is not a reconized value for my_priority.\\n Training did not occur.\".format(s.my_priority))\n",
    "\n",
    "print_summary(gpr_model)\n",
    "\n",
    "TimeBeforeWeights = time.time()\n",
    "print(\"Calculating weights\")\n",
    "\n",
    "if s.my_priority == \"efficiency\" and s.sparse_gpflow == True:\n",
    "    gpr_model =gpr_model\n",
    "elif s.my_priority == \"consistency\":\n",
    "    if s.sparse_gpflow:\n",
    "        gpr_model = gpflow.models.SGPR(data=(train_sps, train_ens), kernel=kernel, noise_variance = gpr_model.likelihood.variance, inducing_variable  = sparse_train_sps)\n",
    "    else:\n",
    "        gpr_model = gpflow.models.GPR( data=(train_sps, train_ens), kernel=kernel, noise_variance = gpr_model.likelihood.variance)      \n",
    "\n",
    "if s.sparse_gpflow:\n",
    "    if s.prediction_calculation in (\"direct\", \"cholesky\"):\n",
    "        print(\"Alert: {} prediction approach not implemented for sparse model. Using alpha approach instead.\".format(s.prediction_calculation))\n",
    "        trained_weights = gpr_model.posterior().alpha\n",
    "    elif s.prediction_calculation == \"alpha\":\n",
    "        trained_weights = gpr_model.posterior().alpha\n",
    "else:\n",
    "    if s.prediction_calculation in (\"direct\", \"cholesky\"):\n",
    "        KNN = gpr_model.kernel(train_sps)\n",
    "        KNN_diag = tf.linalg.diag_part(KNN)\n",
    "        variance_diag = tf.fill(tf.shape(KNN_diag), gpr_model.likelihood.variance)\n",
    "        KNN_plus_variance = tf.linalg.set_diag(KNN, KNN_diag + variance_diag)\n",
    "        if s.prediction_calculation == \"direct\":\n",
    "            KNN_inv =  tf.linalg.inv(KNN_plus_variance)\n",
    "            trained_weights = tf.matmul(KNN_inv, train_ens)\n",
    "        else:\n",
    "            LNN = tf.linalg.cholesky(KNN_plus_variance)\n",
    "            LNN_inv = tf.linalg.inv(LNN)\n",
    "            KNN_inv_from_L = tf.matmul(LNN_inv, LNN_inv,transpose_a=True)\n",
    "            trained_weights = tf.matmul(KNN_inv_from_L, train_ens)\n",
    "    elif s.prediction_calculation == \"alpha\":\n",
    "        print(\"ERROR: alpha not implemented for gpflow GPR. Skipping prediction\")\n",
    "    \n",
    "TimeAfterTraining = time.time()\n",
    "\n",
    "\n",
    "with tf.GradientTape(watch_accessed_variables=False) as tape_sps:\n",
    "    tape_sps.watch(test_sps)  \n",
    "    print(\"Predicting final energies\")\n",
    "    if s.prediction_calculation == \"predict_f\":\n",
    "        predict_ens, predict_ens_var = gpr_model.predict_f(test_sps)\n",
    "    else:\n",
    "        if s.sparse_gpflow:\n",
    "            predict_ens = tf.reshape( predict_energies_from_weights(trained_weights, sparse_train_sps, test_sps, degree), [-1,1])\n",
    "        else:\n",
    "            predict_ens = tf.reshape( predict_energies_from_weights(trained_weights,        train_sps, test_sps, degree), [-1,1])\n",
    "\n",
    "test_ens_rescaled = ens_scaler.inverse_transform(test_ens)\n",
    "predict_ens_rescaled = ens_scaler.inverse_transform(predict_ens)\n",
    "if s.prediction_calculation == \"predict_f\":\n",
    "    predict_ens_var_rescaled =  np.array(predict_ens_var * ens_scaler.scale_ **2)\n",
    "    \n",
    "if s.use_forces:\n",
    "    print(\"Predicting final forces\")    \n",
    "    predict_d_ens = tape_sps.gradient(predict_ens, test_sps)\n",
    "    predict_frcs = -1*np.einsum('ijk,ik->ij', test_dsp_dx, predict_d_ens) * n_atoms\n",
    "\n",
    "    test_frcs_rescaled = test_frcs * ens_scaler.scale_\n",
    "    predict_frcs_rescaled = predict_frcs * ens_scaler.scale_\n",
    "\n",
    "TimeAfterPrediction = time.time()\n",
    "\n",
    "\n"
   ]
  },
  {
   "cell_type": "code",
   "execution_count": 22,
   "metadata": {},
   "outputs": [
    {
     "name": "stdout",
     "output_type": "stream",
     "text": [
      "Training time outside of epochs in training cell  : 1.153\n",
      "Prediction time                                   : 0.075\n"
     ]
    }
   ],
   "source": [
    "TrainingCellNonEpochsTraining = TimeBeforeEpoch0 - TimeBeforePreEpoch + TimeAfterTraining - TimeBeforeWeights \n",
    "if s.n_epochs:\n",
    "    TimePerEpoch = (TimeBeforeWeights - TimeBeforeEpoch0)/s.n_epochs\n",
    "else:\n",
    "    TimePerEpoch = \"N/A\"\n",
    "PredictionTime = TimeAfterPrediction - TimeAfterTraining\n",
    "\n",
    "print(\"{:50s}: {:.3f}\".format(\"Training time outside of epochs in training cell\", TrainingCellNonEpochsTraining))\n",
    "if s.n_epochs:\n",
    "    print(\"{:50s}: {:.3f}\".format( \"Training time per epoch\", TimePerEpoch))\n",
    "print(\"{:50s}: {:.3f}\".format(\"Prediction time\", PredictionTime) )\n",
    "\n"
   ]
  },
  {
   "cell_type": "code",
   "execution_count": 23,
   "metadata": {},
   "outputs": [
    {
     "name": "stdout",
     "output_type": "stream",
     "text": [
      "Stored the hyperparameters and mse values for plotting under n=200\n"
     ]
    }
   ],
   "source": [
    "if 'mse_history_by_n' not in locals():\n",
    "    mse_history_by_n = {}\n",
    "if 'hyperparam_history_by_n' not in locals():\n",
    "    hyperparam_history_by_n = {}\n",
    "    \n",
    "hyperparam_history_by_n[s.n_structs] = hyperparam_history\n",
    "mse_history_by_n[s.n_structs] = mse_history\n",
    "\n",
    "print(\"Stored the hyperparameters and mse values for plotting under n={}\".format(s.n_structs) )"
   ]
  },
  {
   "cell_type": "markdown",
   "metadata": {},
   "source": [
    "Plot results"
   ]
  },
  {
   "cell_type": "code",
   "execution_count": 24,
   "metadata": {},
   "outputs": [
    {
     "data": {
      "image/png": "[encoded data removed]",
      "text/plain": [
       "<Figure size 1152x864 with 4 Axes>"
      ]
     },
     "metadata": {
      "needs_background": "light"
     },
     "output_type": "display_data"
    }
   ],
   "source": [
    "\n",
    "palette = plt.get_cmap('gist_ncar')#'nipy_spectral')#\"viridis\")\n",
    "palette_size = palette.N#len(palette.colors)\n",
    "palette_itr = 0\n",
    "\n",
    "fig, [[ax00, ax01], [ax10, ax11]] = plt.subplots(nrows=2, ncols = 2, figsize=(16,12))\n",
    "\n",
    "hyperparam_names = [\"kernel offset\", \"kernel amplitude\", \"observation noise variance\"]\n",
    "\n",
    "for n in np.sort(list(mse_history_by_n.keys())):\n",
    "    mse_history = mse_history_by_n[n]\n",
    "    hyperparam_history = hyperparam_history_by_n[n]\n",
    "    if not len(hyperparam_history):\n",
    "        continue\n",
    "    color = palette(palette_itr)\n",
    "    palette_itr = (palette_itr + 30) % palette_size\n",
    "    \n",
    "\n",
    "    \n",
    "    # hyperparameters on axes 00, 01, 10\n",
    "    hyperparams = np.swapaxes(hyperparam_history, 0, 1)\n",
    "\n",
    "    ax00.plot(*zip(*hyperparams[0]), color=color, label=\"{}\".format(n), lw=3)\n",
    "    ax00.plot(*hyperparams[0][-1], \"o\", color=color)\n",
    "    label00 = hyperparam_names[0]\n",
    "    ax00.set_ylabel(\"{}\".format(label00))\n",
    "#     #ax00.set_yscale('log')\n",
    "#     annotation00 = ax00.annotate('{:.1f}'.format(amplitudes[-1][1]) , xy=amplitudes[-1], xycoords='data', xytext=(-30,100),\n",
    "#                                  textcoords='offset points', bbox={'fc':\"1\"}, arrowprops={'fc':'k'}, zorder=2)\n",
    "    ax00.legend()\n",
    "    ax00.ticklabel_format(useOffset=False)\n",
    "\n",
    "    ax01.plot(*zip(*hyperparams[1]), color=color, label=\"{}\".format(n), lw=3)\n",
    "    ax01.plot(*hyperparams[1][-1], \"o\", color=color)\n",
    "    label01 = hyperparam_names[1]\n",
    "    ax01.set_ylabel(\"{}\".format(label01))\n",
    "#     #ax01.set_yscale('log')\n",
    "#     annotation01 = ax01.annotate('{:.1f}'.format(lengths[-1][1]) , xy=lengths[-1], xycoords='data', xytext=(100,-30), \n",
    "#                                  textcoords='offset points', bbox={'fc':\"1\"}, arrowprops={'fc':'k'}, zorder=2)\n",
    "    ax01.legend()\n",
    "    ax01.ticklabel_format(useOffset=False)\n",
    "\n",
    "    ax10.plot(*zip(*hyperparams[-1]), color=color, label=\"{}\".format(n), lw=3)\n",
    "    ax10.plot(*hyperparams[-1][-1], \"o\", color=color)\n",
    "    label10 = hyperparam_names[-1]\n",
    "    ax10.set_ylabel(\"{}\".format(label10))\n",
    "    #ax10.set_yscale('log')\n",
    "#     annotation01 = ax10.annotate('{:.1e}'.format(noises[-1][1]) , xy=noises[-1], xycoords='data', xytext=(-30,100),\n",
    "#                                  textcoords='offset points', bbox={'fc':\"1\"}, arrowprops={'fc':'k'}, zorder=2)\n",
    "#     ax10.legend()\n",
    "    ax10.ticklabel_format(useOffset=False)\n",
    "    \n",
    "    if not len(mse_history):\n",
    "        continue\n",
    "    \n",
    "    #loss on axis 11\n",
    "    ax11.plot(*zip(*mse_history), color = color, label=\"{}\".format(n), lw=3)\n",
    "    ax11.plot(*mse_history[-1], \"o\", color=color)\n",
    "    #ax11.set_yscale('log')\n",
    "    bottom, top = ax11.get_ylim()\n",
    "    bottom2, top2 = ax11.get_ylim()\n",
    "    ax11.set_ylabel(\"mse\")\n",
    "    ax11.legend()\n",
    "    ax11.ticklabel_format(useOffset=False)\n",
    "\n",
    "    #fig.suptitle(\"{}\".format(s.n_structs))"
   ]
  },
  {
   "cell_type": "code",
   "execution_count": 25,
   "metadata": {},
   "outputs": [],
   "source": [
    "def plot_errors(global_ens, predicted_global_ens, model_description = \"model\", \n",
    "                use_local=False, local_ens=[], predicted_local_ens=[],\n",
    "                color=\"mediumseagreen\", predicted_stdev=None, n_atoms=10):\n",
    "   \n",
    "    global_ens, predicted_global_ens, local_ens, predicted_local_ens = np.array(global_ens), np.array(predicted_global_ens), np.array(local_ens), np.array(predicted_local_ens)\n",
    "    \n",
    "    if use_local:\n",
    "        fig, axs = plt.subplots(figsize=(20,4.5), ncols=3)\n",
    "    else:\n",
    "        fig, axs = plt.subplots(figsize=(12, 5), ncols=2)\n",
    "    \n",
    "    global_r2 = np.corrcoef(global_ens, predicted_global_ens)[0,1]\n",
    "    axs[0].set_title(\"Predicted Global Energy vs True Global Energy\\nfor {}\".format(model_description))\n",
    "    axs[0].set_xlabel(\"True Global Energy \")\n",
    "    axs[0].set_ylabel(\"Predicted Global Energy \")\n",
    "    axs[0].plot(global_ens, global_ens, \"-\", c=\"k\")\n",
    "    if type(predicted_stdev) != type(None):\n",
    "        axs[0].errorbar(global_ens, predicted_global_ens, yerr=predicted_stdev, fmt=\"o\", c=color, ms=3, label= \"mean -/+ std\")\n",
    "        axs[0].legend()\n",
    "    else:\n",
    "        axs[0].plot(global_ens, predicted_global_ens ,\"o\", c=color, ms=3)\n",
    "    axs[0].text(0.25, 0.75, \"r2 = {:.3f}\".format(global_r2), horizontalalignment='center', verticalalignment='center', transform=axs[0].transAxes)\n",
    "    \n",
    "\n",
    "    \n",
    "    global_errors = abs(global_ens-predicted_global_ens)/n_atoms\n",
    "    errors = abs(predicted_local_ens-local_ens) if use_local else global_errors\n",
    "    \n",
    "    # For generating tickmarks on axes\n",
    "    max_err_exp = max(-1, int(np.ceil(np.log10(max(global_errors)))), int(np.ceil(np.log10(max(errors)))) )\n",
    "    min_err_exp = min(-5, int(np.ceil(np.log10(min(global_errors)))), int(np.ceil(np.log10(min(errors)))) )\n",
    "\n",
    "    rmse = np.sqrt(np.mean(errors ** 2))\n",
    "    mae = np.mean(errors)\n",
    "    max_abs_error = np.max(errors)\n",
    "    error_dataframe = pd.DataFrame(data={\"Local Energy\":[rmse, mae, max_abs_error]}, index = [\"Root Mean Squared Error\", \"Mean Absolute Error\", \"Max Absolute Error\"])\n",
    "    #print(\"For LOCAL energies the rms error = {:.3e}, the mean absolute error = {:.3e} and the max absolute error = {:.3e}\".format(rmse, mae, max_abs_error))\n",
    "\n",
    "    global_rmse = np.sqrt(np.mean(global_errors ** 2))\n",
    "    global_mae = np.mean(global_errors)\n",
    "    global_max_abs_error = np.max(global_errors)\n",
    "    error_dataframe[\"Global Energy\"] = [global_rmse, global_mae, global_max_abs_error]\n",
    "    #print(\"For GLOBAL energies the rms error = {:.3e}, the mean absolute error = {:.3e} and the max absolute error = {:.3e}\".format(global_rmse, global_mae, global_max_abs_error))\n",
    "    if in_notebook():\n",
    "        display(error_dataframe)\n",
    "    else:\n",
    "        print(error_dataframe)\n",
    "    \n",
    "    logbins = np.logspace(min_err_exp, max_err_exp, 4*(max_err_exp - min_err_exp))\n",
    "    logticklabels = np.logspace(min_err_exp, max_err_exp, max_err_exp - min_err_exp + 1)\n",
    "    axs[1].hist(global_errors, bins=logbins, color=color)\n",
    "    axs[1].set_xscale('log')\n",
    "    axs[1].set_xticks(logticklabels)\n",
    "    axs[1].set_xticklabels(logticklabels)\n",
    "    axs[1].set_xlabel(\"Error in Predicted Global Energy/Atom\")\n",
    "    axs[1].set_ylabel(\"Frequency\")\n",
    "    axs[1].set_title(\"Error Histogram of Global Energy Predictions\\nfor {}\".format(model_description))\n",
    "    \n",
    "    if use_local:\n",
    "        logbins = np.logspace(min_err_exp, max_err_exp, 4*(max_err_exp - min_err_exp))\n",
    "        logticklabels = np.logspace(min_err_exp, max_err_exp, max_err_exp - min_err_exp + 1)\n",
    "        axs[2].hist(errors, bins=logbins, color=color)\n",
    "        axs[2].set_xscale('log')\n",
    "        axs[2].set_xticks(logticklabels)\n",
    "        axs[2].set_xticklabels(logticklabels)\n",
    "        axs[2].set_xlabel(\"Error in Predicted Local Energy/Atom\")\n",
    "        axs[2].set_ylabel(\"Frequency\")\n",
    "        axs[2].set_title(\"Error Histogram of Local Energy Predictions\\nfor {}\".format(model_description))"
   ]
  },
  {
   "cell_type": "code",
   "execution_count": 26,
   "metadata": {},
   "outputs": [
    {
     "data": {
      "text/html": [
       "<div>\n",
       "<style scoped>\n",
       "    .dataframe tbody tr th:only-of-type {\n",
       "        vertical-align: middle;\n",
       "    }\n",
       "\n",
       "    .dataframe tbody tr th {\n",
       "        vertical-align: top;\n",
       "    }\n",
       "\n",
       "    .dataframe thead th {\n",
       "        text-align: right;\n",
       "    }\n",
       "</style>\n",
       "<table border=\"1\" class=\"dataframe\">\n",
       "  <thead>\n",
       "    <tr style=\"text-align: right;\">\n",
       "      <th></th>\n",
       "      <th>Local Energy</th>\n",
       "      <th>Global Energy</th>\n",
       "    </tr>\n",
       "  </thead>\n",
       "  <tbody>\n",
       "    <tr>\n",
       "      <th>Root Mean Squared Error</th>\n",
       "      <td>0.115925</td>\n",
       "      <td>0.046622</td>\n",
       "    </tr>\n",
       "    <tr>\n",
       "      <th>Mean Absolute Error</th>\n",
       "      <td>0.074562</td>\n",
       "      <td>0.034577</td>\n",
       "    </tr>\n",
       "    <tr>\n",
       "      <th>Max Absolute Error</th>\n",
       "      <td>0.415270</td>\n",
       "      <td>0.111838</td>\n",
       "    </tr>\n",
       "  </tbody>\n",
       "</table>\n",
       "</div>"
      ],
      "text/plain": [
       "                         Local Energy  Global Energy\n",
       "Root Mean Squared Error      0.115925       0.046622\n",
       "Mean Absolute Error          0.074562       0.034577\n",
       "Max Absolute Error           0.415270       0.111838"
      ]
     },
     "metadata": {},
     "output_type": "display_data"
    },
    {
     "data": {
      "image/png": "[encoded data removed]",
      "text/plain": [
       "<Figure size 1440x324 with 3 Axes>"
      ]
     },
     "metadata": {
      "needs_background": "light"
     },
     "output_type": "display_data"
    }
   ],
   "source": [
    "# make a regroup function\n",
    "test_ens_regrouped = test_ens_rescaled.reshape(-1, len(StructureList[0]))\n",
    "predict_ens_regrouped = predict_ens_rescaled.reshape(-1, len(StructureList[0]))\n",
    "self_energies_regrouped = [[self_energy(atom.symbol, use_librascal_values=True) for atom in StructureList[i]] for i in test_indices]\n",
    "test_global_ens = np.sum(test_ens_regrouped + self_energies_regrouped, axis=1)\n",
    "predict_global_ens = np.sum(predict_ens_regrouped + self_energies_regrouped, axis=1)\n",
    "\n",
    "if s.prediction_calculation == \"predict_f\":\n",
    "    predict_ens_var_regrouped = predict_ens_var_rescaled.reshape(-1, len(StructureList[0]))\n",
    "    predict_global_ens_var = np.sum(predict_ens_var_regrouped, axis=1)\n",
    "    predict_global_ens_std = predict_global_ens_var ** 0.5 \n",
    "    input_std = (gpr_model.likelihood.variance.numpy() * ens_scaler.scale_[0] **2) ** 0.5\n",
    "    print(\"Our observation noise variance implies our reference error is +/- {:.3} /atom\".format( input_std) )\n",
    "else:\n",
    "    predict_global_ens_std = None\n",
    "plot_errors(model_description = \"gpflow model\",\n",
    "            use_local=True,\n",
    "            global_ens=test_global_ens,   predicted_global_ens= predict_global_ens,\n",
    "            local_ens= test_ens_rescaled, predicted_local_ens = predict_ens_rescaled,\n",
    "            color=\"mediumseagreen\", predicted_stdev = None, n_atoms=n_atoms )\n",
    "#plt.savefig(\"../media/librascal_database_local_energy_learning_gpflow_polynomial_kernel\")"
   ]
  },
  {
   "cell_type": "code",
   "execution_count": 27,
   "metadata": {},
   "outputs": [],
   "source": [
    "if s.use_forces:\n",
    "    predict_frcs_rescaled\n",
    "\n",
    "\n",
    "    fig, axs = plt.subplots(ncols=3, figsize=(20,5))\n",
    "    components = [\"x\", \"y\", \"z\"]\n",
    "    force_max = max(np.max(test_frcs_rescaled), np.max(predict_frcs_rescaled)) + np.std(test_frcs_rescaled)/2\n",
    "    force_min = min(np.min(test_frcs_rescaled), np.min(predict_frcs_rescaled)) - np.std(test_frcs_rescaled)/2\n",
    "\n",
    "    for i in range(3):\n",
    "\n",
    "        axs[i].plot([force_min, force_max], [force_min, force_max], \"-\", c=\"k\")\n",
    "        axs[i].plot(test_frcs_rescaled[:,i], test_frcs_rescaled[:,i], \"o\", c=\"k\", ms=4)\n",
    "        axs[i].plot(test_frcs_rescaled[:,i], predict_frcs_rescaled[:,i], \"o\", label=\"custom\", c=\"mediumseagreen\", ms=5, alpha=.5)\n",
    "        #axs[i].legend()\n",
    "        axs[i].set_xlim(force_min, force_max); axs[i].set_ylim(force_min, force_max)\n",
    "\n",
    "        try:\n",
    "            m, b = np.polyfit(test_frcs_rescaled[:,i], predict_frcs_rescaled[:,i], 1)\n",
    "            r2 = np.corrcoef(test_frcs_rescaled[:,i], predict_frcs_rescaled[:,i])[0,1]\n",
    "            print(\"Least-squares regresion for F{}({}) produces the line line m {}+b with m = {:.5f} and b = {:.5f} which has r2 = {:.5f} \".format(components[i],components[i],components[i],m,b, r2))\n",
    "        except:\n",
    "            pass    \n",
    "\n",
    "    #plt.savefig(\"../media/librascal_database_local_energy_force_learning\")"
   ]
  },
  {
   "cell_type": "markdown",
   "metadata": {},
   "source": [
    "# Save as script "
   ]
  },
  {
   "cell_type": "markdown",
   "metadata": {},
   "source": [
    "The following cell will save this notebook as a python script with today's date in the code directory "
   ]
  },
  {
   "cell_type": "code",
   "execution_count": 1,
   "metadata": {},
   "outputs": [
    {
     "name": "stdout",
     "output_type": "stream",
     "text": [
      "[NbConvertApp] Converting notebook miniGAP_minimal.ipynb to script\n",
      "[NbConvertApp] Writing 42103 bytes to ../code/miniGAP_from_notebook_11_24_2021.py\n"
     ]
    }
   ],
   "source": [
    "import datetime as dt \n",
    "today = dt.datetime.today()\n",
    "converted_notebook_path = \"../code/miniGAP_from_notebook_{:02d}_{:02d}_{:d}\".format(today.month, today.day, today.year)\n",
    "!jupyter nbconvert --to script miniGAP_minimal.ipynb --output \"{converted_notebook_path}\""
   ]
  },
  {
   "cell_type": "code",
   "execution_count": null,
   "metadata": {},
   "outputs": [],
   "source": []
  }
 ],
 "metadata": {
  "kernelspec": {
   "display_name": "Python [conda env:minigap]",
   "language": "python",
   "name": "conda-env-minigap-py"
  },
  "language_info": {
   "codemirror_mode": {
    "name": "ipython",
    "version": 3
   },
   "file_extension": ".py",
   "mimetype": "text/x-python",
   "name": "python",
   "nbconvert_exporter": "python",
   "pygments_lexer": "ipython3",
   "version": "3.9.7"
  }
 },
 "nbformat": 4,
 "nbformat_minor": 4
}
