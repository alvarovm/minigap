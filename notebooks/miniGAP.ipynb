{
 "cells": [
  {
   "cell_type": "markdown",
   "metadata": {},
   "source": [
    "main miniGAP notebook"
   ]
  },
  {
   "cell_type": "code",
   "execution_count": 1,
   "metadata": {},
   "outputs": [],
   "source": [
    "import sys\n",
    "sys.path.append('../code')\n",
    "from Molecular_Dynamics import generate_md_traj, make_diatomic\n",
    "from Generate_Descriptors import get_dscribe_descriptors\n",
    "\n",
    "import numpy as np\n",
    "from sklearn.model_selection import train_test_split\n",
    "from sklearn.preprocessing import StandardScaler\n",
    "import tensorflow as tf\n",
    "import tensorflow_probability as tfp\n",
    "tfb = tfp.bijectors\n",
    "tfk = tfp.math.psd_kernels\n",
    "from itertools import islice\n",
    "from  tensorflow_probability import distributions as tfd\n",
    "import matplotlib.pyplot as plt\n",
    "from ase.io import read"
   ]
  },
  {
   "cell_type": "code",
   "execution_count": 2,
   "metadata": {},
   "outputs": [],
   "source": [
    "# I previously used these imports and I'm keeping them here for convenience\n",
    "# until I'm ready to move the training out of the notebook\n",
    "# just in case I need them\n",
    "\n",
    "if False:\n",
    "    from miniGAP_functions import LearnEnergyFromSoap, LearnFromSoap\n",
    "\n",
    "    import matplotlib\n",
    "    import numpy.random as rand\n",
    "    import time\n",
    "    from ase import Atoms\n",
    "    from ase.calculators.emt import EMT\n",
    "    from ase.calculators.lj import LennardJones\n",
    "    from ase.calculators.morse import MorsePotential\n",
    "    #from xtb.ase.calculator import XTB\n",
    "    from ase.optimize import BFGS\n",
    "    from ase.optimize import MDMin\n",
    "    from ase.io import read\n",
    "    from ase.md.velocitydistribution import MaxwellBoltzmannDistribution\n",
    "    from ase.md.verlet import VelocityVerlet\n",
    "    from ase.md.nvtberendsen import NVTBerendsen\n",
    "    from ase import units\n",
    "    from dscribe.descriptors import SOAP\n",
    "    from numpy import polyfit\n",
    "    from numpy import poly1d\n",
    "    import os\n",
    "    os.environ[\"CUDA_VISIBLE_DEVICES\"]=\"-1\"    \n",
    "    import tensorflow as tf\n",
    "    import tensorflow_probability as tfp\n",
    "    from  tensorflow_probability import distributions as tfd\n",
    "    import gpflow.optimizers as gpopts\n",
    "    import numpy.random as rand\n",
    "    from sklearn.gaussian_process.kernels import RBF\n",
    "    from sklearn.gaussian_process import GaussianProcessRegressor\n",
    "    from sklearn.metrics.pairwise import rbf_kernel\n",
    "    tfk = tfp.math.psd_kernels\n",
    "    from sklearn.metrics import mean_squared_error\n",
    "    from matplotlib import animation\n",
    "    from IPython.display import HTML\n",
    "    from matplotlib.colors import LogNorm\n",
    "    from matplotlib.ticker import LogFormatterMathtext\n",
    "    from mpl_toolkits import mplot3d\n",
    "    from matplotlib import cm\n",
    "    from os.path import join"
   ]
  },
  {
   "cell_type": "code",
   "execution_count": 3,
   "metadata": {},
   "outputs": [],
   "source": [
    "# some basic helper functions\n",
    "\n",
    "def PrintNoScientificNotation(*x):\n",
    "    np.set_printoptions(suppress=True) # Do not print in scientific notation\n",
    "    print(*x)\n",
    "    np.set_printoptions(suppress=False)\n",
    "       \n",
    "def TickTock(func, *args, **kwargs):\n",
    "    tick = time.time()\n",
    "    func_output = func(*args, **kwargs)\n",
    "    tock = time.time()\n",
    "    return func_output, tock - tick"
   ]
  },
  {
   "cell_type": "code",
   "execution_count": 4,
   "metadata": {},
   "outputs": [],
   "source": [
    "# These plotting settings make graphs easier to read\n",
    "# This is a very clunky way to do this so I want to move this soon, but haven't had much of a chance\n",
    "\n",
    "SMALL_SIZE = 11\n",
    "MEDIUM_SIZE = 13\n",
    "BIG_SIZE = 15\n",
    "\n",
    "plt.rc('font', size=SMALL_SIZE)          # controls default text sizes\n",
    "plt.rc('axes', titlesize=BIG_SIZE)       # fontsize of the axes title\n",
    "plt.rc('axes', labelsize=MEDIUM_SIZE)    # fontsize of the x and y labels\n",
    "plt.rc('xtick', labelsize=SMALL_SIZE)    # fontsize of the tick labels\n",
    "plt.rc('ytick', labelsize=SMALL_SIZE)    # fontsize of the tick labels\n",
    "plt.rc('legend', fontsize=SMALL_SIZE)    # legend fontsize\n",
    "plt.rc('figure', titlesize=BIG_SIZE)     # fontsize of the figure title"
   ]
  },
  {
   "cell_type": "markdown",
   "metadata": {},
   "source": [
    "---\n",
    "\n",
    "# Current Training (As of 9/21)\n",
    "### Broken into a bunch of steps with comments"
   ]
  },
  {
   "cell_type": "markdown",
   "metadata": {},
   "source": [
    "---\n",
    "\n",
    "## Prep work"
   ]
  },
  {
   "cell_type": "markdown",
   "metadata": {},
   "source": [
    "Define all settings now"
   ]
  },
  {
   "cell_type": "code",
   "execution_count": 16,
   "metadata": {},
   "outputs": [],
   "source": [
    "# I only use these settings if I am training on diatomic structures\n",
    "use_diatomics = False\n",
    "if use_diatomics:\n",
    "    my_element = \"O\"\n",
    "    my_temp=300\n",
    "    my_calc = \"EMT\"\n",
    "    my_md_seed = 1\n",
    "\n",
    "# Number of structures    \n",
    "my_n = 100\n",
    "\n",
    "# SOAP parameters\n",
    "get_local_descriptors = True\n",
    "my_rcut = 3.2\n",
    "my_nmax = 5\n",
    "my_lmax = 5\n",
    "attach_SOAP_center = True\n",
    "is_periodic = False\n",
    "\n",
    "# Training parameters\n",
    "use_forces = True\n",
    "split_seed = 1\n",
    "valid_split_seed = 1\n",
    "training_frac = 0.9\n",
    "valid_fract = 0.9\n",
    "shuffle_seed = 1\n",
    "batch_size_max = 100\n",
    "learn_rate = 0.025\n",
    "n_epochs_max = 40\n",
    "print_frequency = 10\n"
   ]
  },
  {
   "cell_type": "markdown",
   "metadata": {},
   "source": [
    "Pick which structures to train"
   ]
  },
  {
   "cell_type": "code",
   "execution_count": 6,
   "metadata": {},
   "outputs": [],
   "source": [
    "# Diatomic molecule with evenly spaced bond lengths\n",
    "# AtomsList = [make_diatomic(element = my_element, verbose=False, bond_length=L, calc_type=my_calc) for L in np.linspace(.6,1.8, my_n)]\n",
    "\n",
    "# Diatomic molecule in MD trajectory\n",
    "# AtomsList = generate_md_traj(from_diatomic=True, element=my_element, temperature=my_temp, nsteps=my_n, md_type = \"VelocityVerlet\", calc_type=my_calc, md_seed= my_md_seed)\n",
    "\n",
    "# 2000 distorted propanols (librascal structures)\n",
    "#   Forces included\n",
    "AtomsList = read(\"../data/distorted_propanol.extxyz.gz\", \":{}\".format(my_n))\n",
    "\n",
    "# 10000 graphenes from Alvaro\n",
    "#   Forces included\n",
    "# AtomsList = read(\"../data/ManyGraphenes.gz\", \":{}\".format(my_n))\n",
    "\n",
    "# 6095 isomers of C7O2H10 (subset of QM9)\n",
    "#   No forces\n",
    "# AtomsList = read(\"../data/C7O2H10.extxyz.gz\", \":{}\".format(my_n))"
   ]
  },
  {
   "cell_type": "markdown",
   "metadata": {},
   "source": [
    "Parse data from dataset"
   ]
  },
  {
   "cell_type": "code",
   "execution_count": 7,
   "metadata": {},
   "outputs": [],
   "source": [
    "PosList =  np.array([atoms.positions for atoms in AtomsList])\n",
    "\n",
    "EnergyList = np.array([atom.get_potential_energy() for atom in AtomsList], dtype=np.float64)\n",
    "\n",
    "if use_forces:\n",
    "    ForceList = np.array([atom.get_forces() for atom in AtomsList], dtype=np.float64)\n",
    "else:\n",
    "    ForceList = [\"Not Using Forces\"] * my_n"
   ]
  },
  {
   "cell_type": "markdown",
   "metadata": {},
   "source": [
    "Generate SOAP descriptors"
   ]
  },
  {
   "cell_type": "code",
   "execution_count": 8,
   "metadata": {},
   "outputs": [],
   "source": [
    "dscribe_output = get_dscribe_descriptors(\n",
    "                                        AtomsList,\n",
    "                                        species=np.unique(AtomsList[0].get_chemical_symbols()), \n",
    "                                        attach=attach_SOAP_center, \n",
    "                                        is_periodic = is_periodic,\n",
    "                                        is_global= not get_local_descriptors,\n",
    "                                        return_derivatives= use_forces, \n",
    "                                        nmax=my_nmax, \n",
    "                                        lmax=my_lmax,\n",
    "                                        rcut=my_rcut\n",
    "                                        )\n",
    "\n",
    "if use_forces:\n",
    "    SoapDerivativeList, SoapList = dscribe_output\n",
    "else:\n",
    "    SoapList = dscribe_output\n",
    "    SoapDerivativeList = [\"Not Using Forces\"] * my_n"
   ]
  },
  {
   "cell_type": "markdown",
   "metadata": {},
   "source": [
    "---\n",
    "\n",
    "## Now the training starts"
   ]
  },
  {
   "cell_type": "markdown",
   "metadata": {},
   "source": [
    "Split all data into training and test sets.\n",
    "\n",
    "Test sets will not be viewed until training is done"
   ]
  },
  {
   "cell_type": "code",
   "execution_count": 9,
   "metadata": {},
   "outputs": [],
   "source": [
    "split_data = train_test_split(SoapList, \n",
    "                              SoapDerivativeList, \n",
    "                              EnergyList, \n",
    "                              ForceList, \n",
    "                              PosList, \n",
    "                              range(len(SoapList)), \n",
    "                              random_state=split_seed, \n",
    "                              test_size=(1-training_frac))\n",
    "\n",
    "train_sps, test_sps, train_dsp_dx, test_dsp_dx, train_ens, test_ens, train_frcs, test_frcs, train_pos, test_pos, train_indices, test_indices = split_data"
   ]
  },
  {
   "cell_type": "markdown",
   "metadata": {},
   "source": [
    "Scale soaps and energies separately to have zero mean and unit variance.\n",
    "\n",
    "Divide the derivatives by the same scale factor but don't subtract the mean"
   ]
  },
  {
   "cell_type": "code",
   "execution_count": 10,
   "metadata": {},
   "outputs": [],
   "source": [
    "\n",
    "train_sps, test_sps = train_sps.reshape(-1, SoapList.shape[-1]), test_sps.reshape(-1, SoapList.shape[-1])\n",
    "soap_scaler = StandardScaler().fit(train_sps)\n",
    "train_sps, test_sps = soap_scaler.transform(train_sps), soap_scaler.transform(test_sps)\n",
    "train_sps, test_sps = train_sps.reshape(-1, *SoapList.shape[1:]), test_sps.reshape(-1, *SoapList.shape[1:])\n",
    "if use_forces:\n",
    "    test_dsp_dx /= soap_scaler.scale_[None, None, None, None, :]\n",
    "    train_dsp_dx /= soap_scaler.scale_[None, None, None, None, :]\n",
    "\n",
    "\n",
    "ens_scaler = StandardScaler().fit(train_ens[:,None])\n",
    "train_ens, test_ens = ens_scaler.transform(train_ens[:,None])[:,0], ens_scaler.transform(test_ens[:,None])[:,0]\n",
    "if use_forces:\n",
    "    train_frcs = train_frcs / ens_scaler.scale_\n",
    "    test_frcs = test_frcs / ens_scaler.scale_\n",
    "\n",
    "ens_var = train_ens.var()\n",
    "if use_forces:\n",
    "    frcs_var = train_frcs.var()"
   ]
  },
  {
   "cell_type": "markdown",
   "metadata": {},
   "source": [
    "Convert data to tensorflow tensors where necessary"
   ]
  },
  {
   "cell_type": "code",
   "execution_count": 11,
   "metadata": {},
   "outputs": [],
   "source": [
    "train_sps = tf.constant(train_sps, dtype=np.float64)\n",
    "train_ens = tf.constant(train_ens, dtype=np.float64)\n",
    "test_sps = tf.constant(test_sps, dtype=np.float64)\n",
    "\n",
    "if use_forces:\n",
    "    train_frcs = tf.constant(train_frcs, dtype=np.float64)\n",
    "else:\n",
    "    train_frcs = tf.constant(train_frcs)    "
   ]
  },
  {
   "cell_type": "markdown",
   "metadata": {},
   "source": [
    "Initialize kernels and model hyperparameters"
   ]
  },
  {
   "cell_type": "code",
   "execution_count": 12,
   "metadata": {},
   "outputs": [],
   "source": [
    "noise_init = 1e-5\n",
    "amp_init = 0.1\n",
    "# The following line tries to control for the size and natural spread of the data\n",
    "len_init = 10 * train_sps.shape[1] * train_sps.shape[2]/np.sum(soap_scaler.scale_ )\n",
    "\n",
    "constrain_positive = tfb.Shift(np.finfo(np.float64).tiny)(tfb.Exp())\n",
    "\n",
    "obs_noise = tfp.util.TransformedVariable(initial_value=noise_init, bijector=constrain_positive, dtype=np.float64, name=\"noise\")\n",
    "amplitude = tfp.util.TransformedVariable(initial_value=amp_init, bijector=constrain_positive, dtype=np.float64, name=\"amplitude\")\n",
    "len_scale = tfp.util.TransformedVariable(initial_value=len_init, bijector=constrain_positive, dtype=np.float64, name=\"len_scale\")\n",
    "kernel = tfk.ExponentiatedQuadratic(amplitude=amplitude, length_scale=len_scale, name=\"kernel\", feature_ndims=2)\n",
    "trainable_variables = [var.variables[0] for var in [amplitude, len_scale, obs_noise]]\n"
   ]
  },
  {
   "cell_type": "markdown",
   "metadata": {},
   "source": [
    "Define a few things used in training loop\n",
    "\n",
    "* loss/error function\n",
    "* optimizer"
   ]
  },
  {
   "cell_type": "code",
   "execution_count": 13,
   "metadata": {},
   "outputs": [],
   "source": [
    "# Note: I still need to add the Tikhonov regularization term for loss to make the mse equivalent to negative log likelihood\n",
    "\n",
    "@tf.function(autograph=False, experimental_compile=False)\n",
    "def mse(y_predict, y_true):\n",
    "    return tf.math.reduce_mean(tf.math.squared_difference(y_predict, y_true))\n",
    "\n",
    "@tf.function(autograph=False, experimental_compile=False)\n",
    "def mse_2factor(y1_predict, y1_true, weight1, y2_predict, y2_true, weight2):\n",
    "    mse1 = mse(y1_predict, y1_true)\n",
    "    mse2 = mse(y2_predict, y2_true)*3\n",
    "    return mse1 * weight1 + mse2 * weight2\n",
    "\n",
    "optimizer = tf.keras.optimizers.Adam(learning_rate=learn_rate)"
   ]
  },
  {
   "cell_type": "markdown",
   "metadata": {},
   "source": [
    "Perform training loop"
   ]
  },
  {
   "cell_type": "code",
   "execution_count": 14,
   "metadata": {},
   "outputs": [
    {
     "name": "stdout",
     "output_type": "stream",
     "text": [
      "Epoch 1\n",
      "amplitude:0 = 1.00e-01  len_scale:0 = 2.88e+03  noise:0 = 1.00e-05 \n",
      "Epoch 11\n",
      "amplitude:0 = 1.04e-01  len_scale:0 = 2.77e+03  noise:0 = 9.63e-06 \n",
      "Epoch 21\n",
      "amplitude:0 = 1.22e-01  len_scale:0 = 2.36e+03  noise:0 = 8.22e-06 \n",
      "Epoch 31\n",
      "amplitude:0 = 1.43e-01  len_scale:0 = 2.01e+03  noise:0 = 7.02e-06 \n"
     ]
    }
   ],
   "source": [
    "for j in range(n_epochs_max):\n",
    "    if not j % print_frequency:\n",
    "        print(\"Epoch {}\".format(j+1))\n",
    "        print(\" \".join([\"{} = {:.2e} \".format(var.name, np.exp(var.numpy())) for var in trainable_variables]))\n",
    "    \n",
    "    # Split training data into training and validation sets\n",
    "    # Now validation set acts as temporary est set\n",
    "    # train_test_split and tensorflow tensors don't get along so I temporarily convert them back to numpy arrays\n",
    "    split_data_j = train_test_split(train_sps.numpy(), \n",
    "                                    train_ens.numpy(), \n",
    "                                    train_dsp_dx, \n",
    "                                    train_frcs.numpy(), \n",
    "                                    random_state =valid_split_seed+j,\n",
    "                                    test_size=(1-valid_fract))\n",
    "    train_sps_j, valid_sp_j, train_ens_j, valid_ens_j, train_dsp_dx_j, valid_dsp_dx_j, train_frcs_j, valid_frcs_j = split_data_j\n",
    "    \n",
    "    # Convert to tensorflow constant tensors\n",
    "    train_sps_j = tf.constant(train_sps_j, dtype=np.float64)\n",
    "    train_ens_j = tf.constant(train_ens_j, dtype=np.float64)\n",
    "    valid_sp_j = tf.constant(valid_sp_j, dtype=np.float64)\n",
    "    valid_ens_j = tf.constant(valid_ens_j, dtype=np.float64)\n",
    "    \n",
    "    if use_forces:\n",
    "        train_dsp_dx_j = tf.constant(train_dsp_dx_j, dtype=np.float64)\n",
    "        train_frcs_j = tf.constant(train_frcs_j, dtype=np.float64)    \n",
    "        valid_dsp_dx_j = tf.constant(valid_dsp_dx_j, dtype=np.float64)\n",
    "        valid_frcs_j = tf.constant(valid_frcs_j, dtype=np.float64)        \n",
    "    \n",
    "    \n",
    "    # Batch data if  training set is larger than batch_size_max\n",
    "    if len(train_sps_j) < batch_size_max:\n",
    "        iterations_per_epoch = 1\n",
    "        batch_size = len(train_sps_j)\n",
    "    else:\n",
    "        iterations_per_epoch = int(np.ceil(len(train_sps_j)/batch_size_max))\n",
    "        batch_size = int(np.ceil(len(train_sps_j)/iterations_per_epoch))\n",
    "\n",
    "    batches_j = (\n",
    "        tf.data.Dataset.from_tensor_slices((train_sps_j, train_ens_j, train_dsp_dx_j, train_frcs_j)) \n",
    "        .shuffle(buffer_size=len(train_sps_j), seed=shuffle_seed) \n",
    "        .repeat(count=None)\n",
    "        .batch(batch_size)\n",
    "    )\n",
    "    \n",
    "    \n",
    "    for i, (index_points_j_i, train_ens_j_i, train_dsp_dx_j_i, train_frcs_j_i) in enumerate(islice(batches_j, iterations_per_epoch)):\n",
    "        with tf.GradientTape() as tape:\n",
    "            with tf.GradientTape(watch_accessed_variables=False) as tape_sps:\n",
    "                tape_sps.watch(valid_sp_j)    \n",
    "                gprm_j_i = tfd.GaussianProcessRegressionModel(\n",
    "                    kernel = kernel,\n",
    "                    index_points = valid_sp_j,\n",
    "                    observation_index_points = index_points_j_i,\n",
    "                    observations = train_ens_j_i,\n",
    "                    observation_noise_variance = obs_noise)\n",
    "                predict_ens_j_i = gprm_j_i.sample()\n",
    "                \n",
    "            if use_forces:\n",
    "                predict_d_ens_j_i = tape_sps.gradient(predict_ens_j_i, valid_sp_j)\n",
    "                predict_frcs_j_i = -1*np.einsum('imjkl,iml->ijk', valid_dsp_dx_j, predict_d_ens_j_i)\n",
    "                mse_j_i = mse_2factor(predict_ens_j_i, valid_ens_j, 1/ens_var,\n",
    "                                        predict_frcs_j_i, valid_frcs_j, 1/frcs_var)\n",
    "            else:\n",
    "                mse_j_i = mse(predict_ens_j_i, valid_ens_j)\n",
    "                \n",
    "        grads = tape.gradient(mse_j_i, trainable_variables)\n",
    "        optimizer.apply_gradients(zip(grads, trainable_variables))\n",
    "\n",
    "\n",
    "with tf.GradientTape(watch_accessed_variables=False) as tape_sps:\n",
    "    tape_sps.watch(test_sps)    \n",
    "\n",
    "    gprm = tfd.GaussianProcessRegressionModel(\n",
    "        kernel=kernel,\n",
    "        index_points=test_sps,\n",
    "        observation_index_points=train_sps,\n",
    "        observations=train_ens,\n",
    "        observation_noise_variance=obs_noise)\n",
    "\n",
    "    predict_ens = gprm.mean()\n",
    "\n",
    "\n",
    "test_ens_rescaled = ens_scaler.inverse_transform(test_ens)\n",
    "predict_ens_rescaled = ens_scaler.inverse_transform(predict_ens)\n",
    "\n",
    "if use_forces:\n",
    "    predict_d_ens = tape_sps.gradient(predict_ens, test_sps)\n",
    "    predict_frcs = -1*np.einsum('imjkl,iml->ijk', test_dsp_dx, predict_d_ens)\n",
    "    \n",
    "    test_frcs_rescaled = test_frcs * ens_scaler.scale_\n",
    "    predict_frcs_rescaled = predict_frcs * ens_scaler.scale_\n"
   ]
  },
  {
   "cell_type": "markdown",
   "metadata": {},
   "source": [
    "Plot results"
   ]
  },
  {
   "cell_type": "code",
   "execution_count": 15,
   "metadata": {},
   "outputs": [
    {
     "data": {
      "text/plain": [
       "Text(0.5, 1.0, 'Error Histogram for Energy Predictions')"
      ]
     },
     "execution_count": 15,
     "metadata": {},
     "output_type": "execute_result"
    },
    {
     "data": {
      "image/png": "[encoded data removed]",
      "text/plain": [
       "<Figure size 1152x360 with 2 Axes>"
      ]
     },
     "metadata": {
      "needs_background": "light"
     },
     "output_type": "display_data"
    }
   ],
   "source": [
    "fig, axs = plt.subplots(figsize=(16,5), ncols=2)\n",
    "\n",
    "axs[0].set_title(\"Predicted Energy vs True Energy\")\n",
    "axs[0].set_xlabel(\"True Energy \")\n",
    "axs[0].set_ylabel(\"Predicted Energy \")\n",
    "axs[0].plot(test_ens_rescaled, test_ens_rescaled, \"-\", c=\"k\")\n",
    "axs[0].plot(test_ens_rescaled, predict_ens_rescaled ,\"o\", c=\"mediumseagreen\", ms=7)\n",
    "\n",
    "errors = abs(predict_ens_rescaled-test_ens_rescaled)/len(AtomsList[0])\n",
    "logbins = np.logspace(-5,-1,16)\n",
    "logticklabels = np.logspace(-5,-1,5)\n",
    "axs[1].hist(errors, bins=logbins, color=\"mediumseagreen\")\n",
    "axs[1].set_xscale('log')\n",
    "axs[1].set_xticks(logticklabels)\n",
    "axs[1].set_xticklabels(logticklabels)\n",
    "axs[1].set_xlabel(\"Error in Predicted Energy/Atom\")\n",
    "axs[1].set_ylabel(\"Frequency\")\n",
    "axs[1].set_title(\"Error Histogram for Energy Predictions\")"
   ]
  },
  {
   "cell_type": "code",
   "execution_count": null,
   "metadata": {},
   "outputs": [],
   "source": []
  },
  {
   "cell_type": "markdown",
   "metadata": {},
   "source": [
    "# Save as script "
   ]
  },
  {
   "cell_type": "markdown",
   "metadata": {},
   "source": [
    "The following cell will save this notebook as a python script"
   ]
  },
  {
   "cell_type": "code",
   "execution_count": 1,
   "metadata": {},
   "outputs": [
    {
     "name": "stdout",
     "output_type": "stream",
     "text": [
      "[NbConvertApp] Converting notebook miniGAP.ipynb to script\n",
      "[NbConvertApp] Writing 69372 bytes to latest_miniGAP.py\n"
     ]
    }
   ],
   "source": [
    "!jupyter nbconvert --to script miniGAP.ipynb --output latest_miniGAP"
   ]
  }
 ],
 "metadata": {
  "kernelspec": {
   "display_name": "Python 3",
   "language": "python",
   "name": "python3"
  },
  "language_info": {
   "codemirror_mode": {
    "name": "ipython",
    "version": 3
   },
   "file_extension": ".py",
   "mimetype": "text/x-python",
   "name": "python",
   "nbconvert_exporter": "python",
   "pygments_lexer": "ipython3",
   "version": "3.7.4"
  }
 },
 "nbformat": 4,
 "nbformat_minor": 4
}
