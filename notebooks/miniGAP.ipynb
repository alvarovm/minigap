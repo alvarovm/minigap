{
 "cells": [
  {
   "cell_type": "markdown",
   "metadata": {},
   "source": [
    "miniGAP (in repository)  \n",
    "currently compartmentalizing this into multiple notebooks"
   ]
  },
  {
   "cell_type": "code",
   "execution_count": 1,
   "metadata": {},
   "outputs": [],
   "source": [
    "# Import everything immediately\n",
    "# This looks messy right now. I can sort it by type of packages later\n",
    "import sys\n",
    "sys.path.append('../code')\n",
    "from Molecular_Dynamics import generate_md_traj\n",
    "from Generate_Descriptors import get_dscribe_descriptors\n",
    "\n",
    "import numpy as np\n",
    "from sklearn.model_selection import train_test_split\n",
    "from sklearn.preprocessing import StandardScaler\n",
    "import tensorflow as tf\n",
    "import tensorflow_probability as tfp\n",
    "tfb = tfp.bijectors\n",
    "tfk = tfp.math.psd_kernels\n",
    "from itertools import islice\n",
    "from  tensorflow_probability import distributions as tfd\n",
    "import matplotlib.pyplot as plt\n",
    "from ase.io import read"
   ]
  },
  {
   "cell_type": "code",
   "execution_count": 2,
   "metadata": {},
   "outputs": [],
   "source": [
    "\n",
    "\n",
    "if False:\n",
    "    from miniGAP_functions import LearnEnergyFromSoap, LearnFromSoap\n",
    "\n",
    "    import matplotlib\n",
    "    import numpy.random as rand\n",
    "    import time\n",
    "    from ase import Atoms\n",
    "    from ase.calculators.emt import EMT\n",
    "    from ase.calculators.lj import LennardJones\n",
    "    from ase.calculators.morse import MorsePotential\n",
    "    #from xtb.ase.calculator import XTB\n",
    "    from ase.optimize import BFGS\n",
    "    from ase.optimize import MDMin\n",
    "    from ase.io import read\n",
    "    from ase.md.velocitydistribution import MaxwellBoltzmannDistribution\n",
    "    from ase.md.verlet import VelocityVerlet\n",
    "    from ase.md.nvtberendsen import NVTBerendsen\n",
    "    from ase import units\n",
    "    from dscribe.descriptors import SOAP\n",
    "    from numpy import polyfit\n",
    "    from numpy import poly1d\n",
    "    import os\n",
    "    os.environ[\"CUDA_VISIBLE_DEVICES\"]=\"-1\"    \n",
    "    import tensorflow as tf\n",
    "    import tensorflow_probability as tfp\n",
    "    from  tensorflow_probability import distributions as tfd\n",
    "    import gpflow.optimizers as gpopts\n",
    "    import numpy.random as rand\n",
    "    from sklearn.gaussian_process.kernels import RBF\n",
    "    from sklearn.gaussian_process import GaussianProcessRegressor\n",
    "    from sklearn.metrics.pairwise import rbf_kernel\n",
    "    tfk = tfp.math.psd_kernels\n",
    "    from sklearn.metrics import mean_squared_error\n",
    "    from matplotlib import animation\n",
    "    from IPython.display import HTML\n",
    "    from matplotlib.colors import LogNorm\n",
    "    from matplotlib.ticker import LogFormatterMathtext\n",
    "    from mpl_toolkits import mplot3d\n",
    "    from matplotlib import cm\n",
    "    from os.path import join"
   ]
  },
  {
   "cell_type": "code",
   "execution_count": 202,
   "metadata": {},
   "outputs": [],
   "source": [
    "# some basic helper functions\n",
    "\n",
    "def PrintNoScientificNotation(*x, digits=5):\n",
    "    np.set_printoptions(suppress=True) # Do not print in scientific notation\n",
    "    print(*x)\n",
    "    np.set_printoptions(suppress=False)\n",
    "       \n",
    "def TickTock(func, *args, **kwargs):\n",
    "    tick = time.time()\n",
    "    func_output = func(*args, **kwargs)\n",
    "    tock = time.time()\n",
    "    return func_output, tock - tick\n",
    "\n",
    "def Distance(x1, x2):\n",
    "    x1 = np.array(x1); x2 = np.array(x2)\n",
    "    return np.sqrt(((x1 - x2) ** 2).sum())"
   ]
  },
  {
   "cell_type": "code",
   "execution_count": 3,
   "metadata": {},
   "outputs": [],
   "source": [
    "SMALL_SIZE = 11\n",
    "MEDIUM_SIZE = 13\n",
    "BIG_SIZE = 15\n",
    "\n",
    "plt.rc('font', size=SMALL_SIZE)          # controls default text sizes\n",
    "plt.rc('axes', titlesize=BIG_SIZE)     # fontsize of the axes title\n",
    "plt.rc('axes', labelsize=MEDIUM_SIZE)    # fontsize of the x and y labels\n",
    "plt.rc('xtick', labelsize=SMALL_SIZE)    # fontsize of the tick labels\n",
    "plt.rc('ytick', labelsize=SMALL_SIZE)    # fontsize of the tick labels\n",
    "plt.rc('legend', fontsize=SMALL_SIZE)    # legend fontsize\n",
    "plt.rc('figure', titlesize=BIG_SIZE)  # fontsize of the figure title"
   ]
  },
  {
   "cell_type": "code",
   "execution_count": 255,
   "metadata": {},
   "outputs": [
    {
     "name": "stdout",
     "output_type": "stream",
     "text": [
      "\n",
      "SOAP.create:\n",
      "[    6.25    0.00    4.15    0.00    2.75    0.18  ]\n",
      "[    2.75    0.18    4.15    0.00    6.25    0.00  ]\n",
      "\n",
      "SOAP.derivatives:\n",
      "0.06721823726990594\n",
      "[    0.00    0.00    0.00    0.00    0.00    0.00  ]\n",
      "[    0.00    0.00    0.00    0.00    0.00    0.00  ]\n",
      "[    0.00    0.00    0.00    0.00    0.00   -3.63  ]\n",
      "[    0.00    0.00    0.28    0.00    0.00    0.00  ]\n",
      "[    0.00    0.00    0.00    0.00    0.00   -4.81  ]\n",
      "[    0.00    0.00    0.00    0.00    0.00    0.07  ]\n",
      "[    0.00    0.00    4.81    0.00    0.00    0.00  ]\n",
      "[    0.00    0.00   -0.07    0.00    0.00    0.00  ]\n",
      "[    0.00    0.00    3.63    0.00    0.00    0.00  ]\n",
      "[    0.00    0.00    0.00    0.00    0.00   -0.28  ]\n",
      "[    0.00    0.00    0.00    0.00    0.00    0.00  ]\n",
      "[    0.00    0.00    0.00    0.00    0.00    0.00  ]\n",
      "\n",
      "Derivatives by finite displacements:\n",
      "[    0.00    0.00    0.00    0.00    0.00    0.00  ]\n",
      "[    0.00    0.00    0.00    0.00    0.00    0.00  ]\n",
      "[    0.00    0.00    3.63    0.00    0.00   -3.63  ]\n",
      "[    0.00    0.00    0.00    0.00    0.00    0.00  ]\n",
      "[    0.00    0.00    4.81    0.00    0.00   -4.81  ]\n",
      "[    0.00    0.00   -0.07    0.00    0.00    0.07  ]\n",
      "[    0.00    0.00    4.81    0.00    0.00   -4.81  ]\n",
      "[    0.00    0.00   -0.07    0.00    0.00    0.07  ]\n",
      "[    0.00    0.00    3.63    0.00    0.00   -3.63  ]\n",
      "[    0.00    0.00    0.00    0.00    0.00    0.00  ]\n",
      "[    0.00    0.00    0.00    0.00    0.00    0.00  ]\n",
      "[    0.00    0.00    0.00    0.00    0.00    0.00  ]\n"
     ]
    }
   ],
   "source": [
    "import numpy as np\n",
    "from ase import Atoms\n",
    "from ase.vibrations import Vibrations\n",
    "from dscribe.descriptors import SOAP\n",
    "\n",
    "atoms = Atoms(symbols='HF', positions=[[0, 0, 0], [0, 0, .9382]], pbc=False)\n",
    "soap = SOAP(rcut = 6.0, nmax = 1, lmax = 1, species = atoms.get_chemical_symbols(), dtype=\"float64\" )\n",
    "\n",
    "print('\\nSOAP.create:')\n",
    "soaps = soap.create(atoms)  # 6 features in total\n",
    "\n",
    "for i in range(len(soaps)):\n",
    "    print(\"[ \", end=\"\")\n",
    "    for j in range(len(soaps[i])):\n",
    "        print(\" {:6.2f} \".format(soaps[i,j]), end=\"\")\n",
    "    print(\" ]\")\n",
    "\n",
    "# DSCRIBE derivatives\n",
    "atom_coordinates = [[0,0,0], [0,0,.9382]]# + np.ones(atoms.positions.shape)*1e-6#atoms.positions + np.ones(atoms.positions.shape)*1e-8\n",
    "dscribe_derivs = soap.derivatives(atoms, method='numerical', return_descriptor=False, attach=True, positions=atom_coordinates)\n",
    "nonzero_min =np.min(np.abs(np.ma.masked_equal(dscribe_derivs, 0, copy=True)))\n",
    "print('\\nSOAP.derivatives:')\n",
    "print(nonzero_min)\n",
    "#PrintNoScientificNotation(dscribe_derivs)\n",
    "n_centers, n_atoms, _, n_features = dscribe_derivs.shape\n",
    "dscribe_derivs = np.moveaxis(dscribe_derivs, 0, 2).reshape(( 3 * n_atoms, n_atoms * n_features)).T\n",
    "\n",
    "#PrintNoScientificNotation(dscribe_derivs)\n",
    "for i in range(len(dscribe_derivs)):\n",
    "    print(\"[ \", end=\"\")\n",
    "    for j in range(len(dscribe_derivs[i])):\n",
    "        print(\" {:6.2f} \".format(dscribe_derivs[i,j]), end=\"\")\n",
    "    print(\" ]\")\n",
    "\n",
    "\n",
    "# Numerical derivatives using finite displacements\n",
    "eps = 1e-5  # finite difference\n",
    "vib = Vibrations(atoms, delta=eps, nfree=2)\n",
    "atoms_displacements = list(vib.iterimages())  # create finite displacements\n",
    "\n",
    "s = soap.create(atoms_displacements)\n",
    "s -= s[0]  # subtract soap for unperturbed structure\n",
    "s = s[1:]  # pop unperturbed structure\n",
    "numerical_derivs = 0.5 * (s[1::2] - s[::2]) / eps  # centered finite difference scheme\n",
    "numerical_derivs = numerical_derivs.reshape((3 * len(atoms), len(s[0].ravel()))).T\n",
    "print('\\nDerivatives by finite displacements:')\n",
    "#print(numerical_derivs)\n",
    "for i in range(len(numerical_derivs)):\n",
    "    print(\"[ \", end=\"\")\n",
    "    for j in range(len(numerical_derivs[i])):\n",
    "        print(\" {:6.2f} \".format(numerical_derivs[i,j]), end=\"\")\n",
    "    print(\" ]\")"
   ]
  },
  {
   "cell_type": "code",
   "execution_count": null,
   "metadata": {},
   "outputs": [],
   "source": [
    "atoms = Atoms(symbols='HF', positions=[[7.5, 7.5, 7.5], [7.5, 7.5, 8.4382]], pbc=False)\n",
    "soap = SOAP(rcut = 6.0, nmax = 1, lmax = 0, species = atoms.get_chemical_symbols())\n",
    "\n",
    "print('\\nSOAP.create:')\n",
    "print(soap.create(atoms))  # 6 features in total\n",
    "\n",
    "\n",
    "# DSCRIBE derivatives\n",
    "dscribe_derivs = soap.derivatives(atoms, method='auto', return_descriptor=False)\n",
    "n_centers, n_atoms, _, n_features = dscribe_derivs.shape\n",
    "dscribe_derivs = np.moveaxis(dscribe_derivs, 0, 2).reshape(( 3 * n_atoms, n_atoms * n_features)).T\n",
    "print('\\nSOAP.derivatives:')\n",
    "print(dscribe_derivs)"
   ]
  },
  {
   "cell_type": "code",
   "execution_count": 232,
   "metadata": {},
   "outputs": [
    {
     "name": "stdout",
     "output_type": "stream",
     "text": [
      "\n",
      "SOAP.create:\n",
      "[[6.25043443 0.         4.14642847 0.         2.75066786 0.17596734]\n",
      " [2.75066786 0.17596734 4.14642847 0.         6.25043443 0.        ]]\n",
      "\n",
      "SOAP.derivatives:\n",
      "[[ 0.          0.          0.          0.          0.          0.        ]\n",
      " [ 0.          0.          0.          0.          0.          0.        ]\n",
      " [ 0.          0.          0.          0.          0.         -3.62760443]\n",
      " [ 0.          0.          0.28273051  0.          0.          0.        ]\n",
      " [ 0.          0.          0.          0.          0.         -4.81297819]\n",
      " [ 0.          0.          0.          0.          0.          0.06721824]\n",
      " [ 0.          0.          4.81297819  0.          0.          0.        ]\n",
      " [ 0.          0.         -0.06721824  0.          0.          0.        ]\n",
      " [ 0.          0.          3.62760443  0.          0.          0.        ]\n",
      " [ 0.          0.          0.          0.          0.         -0.28273051]\n",
      " [ 0.          0.          0.          0.          0.          0.        ]\n",
      " [ 0.          0.          0.          0.          0.          0.        ]]\n"
     ]
    }
   ],
   "source": [
    "positions=[[7.5, 7.5, 7.5], [7.5, 7.5, 8.4382]]\n",
    "atoms = Atoms(symbols='HF', positions=positions, pbc=False)\n",
    "soap = SOAP(rcut = 6.0, nmax = 1, lmax = 1, species = atoms.get_chemical_symbols(), dtype=\"float64\")\n",
    "\n",
    "print('\\nSOAP.create:')\n",
    "print(soap.create(atoms))  # 6 features in total\n",
    "\n",
    "# DSCRIBE derivatives\n",
    "dscribe_derivs = soap.derivatives(atoms, method='auto', return_descriptor=False)\n",
    "n_centers, n_atoms, _, n_features = dscribe_derivs.shape\n",
    "dscribe_derivs = np.moveaxis(dscribe_derivs, 0, 2).reshape(( 3 * n_atoms, n_atoms * n_features)).T\n",
    "print('\\nSOAP.derivatives:')\n",
    "print(dscribe_derivs)"
   ]
  },
  {
   "cell_type": "code",
   "execution_count": 17,
   "metadata": {},
   "outputs": [
    {
     "ename": "TypeError",
     "evalue": "Distance() takes 2 positional arguments but 112 were given",
     "output_type": "error",
     "traceback": [
      "\u001b[0;31m---------------------------------------------------------------------------\u001b[0m",
      "\u001b[0;31mTypeError\u001b[0m                                 Traceback (most recent call last)",
      "\u001b[0;32m<ipython-input-17-4aad5b38e148>\u001b[0m in \u001b[0;36m<module>\u001b[0;34m\u001b[0m\n\u001b[1;32m     19\u001b[0m \u001b[0;31m#AtomsList = generate_md_traj(from_diatomic=True, element=my_element, temperature=my_temp, nsteps=my_n, md_type = \"VelocityVerlet\", calc_type=my_calc, md_seed= my_md_seed)\u001b[0m\u001b[0;34m\u001b[0m\u001b[0;34m\u001b[0m\u001b[0;34m\u001b[0m\u001b[0m\n\u001b[1;32m     20\u001b[0m \u001b[0mPosList\u001b[0m \u001b[0;34m=\u001b[0m  \u001b[0mnp\u001b[0m\u001b[0;34m.\u001b[0m\u001b[0marray\u001b[0m\u001b[0;34m(\u001b[0m\u001b[0;34m[\u001b[0m\u001b[0matoms\u001b[0m\u001b[0;34m.\u001b[0m\u001b[0mpositions\u001b[0m \u001b[0;32mfor\u001b[0m \u001b[0matoms\u001b[0m \u001b[0;32min\u001b[0m \u001b[0mAtomsList\u001b[0m\u001b[0;34m]\u001b[0m\u001b[0;34m)\u001b[0m\u001b[0;31m#[:,1]# only get position of one atom while we are doing global soap\u001b[0m\u001b[0;34m\u001b[0m\u001b[0;34m\u001b[0m\u001b[0m\n\u001b[0;32m---> 21\u001b[0;31m \u001b[0mDistanceList\u001b[0m \u001b[0;34m=\u001b[0m \u001b[0mnp\u001b[0m\u001b[0;34m.\u001b[0m\u001b[0marray\u001b[0m\u001b[0;34m(\u001b[0m\u001b[0;34m[\u001b[0m\u001b[0mDistance\u001b[0m\u001b[0;34m(\u001b[0m\u001b[0;34m*\u001b[0m\u001b[0matoms\u001b[0m\u001b[0;34m.\u001b[0m\u001b[0mpositions\u001b[0m\u001b[0;34m)\u001b[0m \u001b[0;32mfor\u001b[0m \u001b[0matoms\u001b[0m \u001b[0;32min\u001b[0m \u001b[0mAtomsList\u001b[0m\u001b[0;34m]\u001b[0m\u001b[0;34m)\u001b[0m\u001b[0;34m\u001b[0m\u001b[0;34m\u001b[0m\u001b[0m\n\u001b[0m\u001b[1;32m     22\u001b[0m \u001b[0;31m#EnergyList= test_energy_function(DistanceList)\u001b[0m\u001b[0;34m\u001b[0m\u001b[0;34m\u001b[0m\u001b[0;34m\u001b[0m\u001b[0m\n\u001b[1;32m     23\u001b[0m \u001b[0mEnergyList\u001b[0m \u001b[0;34m=\u001b[0m \u001b[0mnp\u001b[0m\u001b[0;34m.\u001b[0m\u001b[0marray\u001b[0m\u001b[0;34m(\u001b[0m\u001b[0;34m[\u001b[0m\u001b[0matom\u001b[0m\u001b[0;34m.\u001b[0m\u001b[0mget_potential_energy\u001b[0m\u001b[0;34m(\u001b[0m\u001b[0;34m)\u001b[0m \u001b[0;32mfor\u001b[0m \u001b[0matom\u001b[0m \u001b[0;32min\u001b[0m \u001b[0mAtomsList\u001b[0m\u001b[0;34m]\u001b[0m\u001b[0;34m,\u001b[0m \u001b[0mdtype\u001b[0m\u001b[0;34m=\u001b[0m\u001b[0mnp\u001b[0m\u001b[0;34m.\u001b[0m\u001b[0mfloat64\u001b[0m\u001b[0;34m)\u001b[0m \u001b[0;31m# I had to change this to potential energy or the derivative doesn't work\u001b[0m\u001b[0;34m\u001b[0m\u001b[0;34m\u001b[0m\u001b[0m\n",
      "\u001b[0;32m<ipython-input-17-4aad5b38e148>\u001b[0m in \u001b[0;36m<listcomp>\u001b[0;34m(.0)\u001b[0m\n\u001b[1;32m     19\u001b[0m \u001b[0;31m#AtomsList = generate_md_traj(from_diatomic=True, element=my_element, temperature=my_temp, nsteps=my_n, md_type = \"VelocityVerlet\", calc_type=my_calc, md_seed= my_md_seed)\u001b[0m\u001b[0;34m\u001b[0m\u001b[0;34m\u001b[0m\u001b[0;34m\u001b[0m\u001b[0m\n\u001b[1;32m     20\u001b[0m \u001b[0mPosList\u001b[0m \u001b[0;34m=\u001b[0m  \u001b[0mnp\u001b[0m\u001b[0;34m.\u001b[0m\u001b[0marray\u001b[0m\u001b[0;34m(\u001b[0m\u001b[0;34m[\u001b[0m\u001b[0matoms\u001b[0m\u001b[0;34m.\u001b[0m\u001b[0mpositions\u001b[0m \u001b[0;32mfor\u001b[0m \u001b[0matoms\u001b[0m \u001b[0;32min\u001b[0m \u001b[0mAtomsList\u001b[0m\u001b[0;34m]\u001b[0m\u001b[0;34m)\u001b[0m\u001b[0;31m#[:,1]# only get position of one atom while we are doing global soap\u001b[0m\u001b[0;34m\u001b[0m\u001b[0;34m\u001b[0m\u001b[0m\n\u001b[0;32m---> 21\u001b[0;31m \u001b[0mDistanceList\u001b[0m \u001b[0;34m=\u001b[0m \u001b[0mnp\u001b[0m\u001b[0;34m.\u001b[0m\u001b[0marray\u001b[0m\u001b[0;34m(\u001b[0m\u001b[0;34m[\u001b[0m\u001b[0mDistance\u001b[0m\u001b[0;34m(\u001b[0m\u001b[0;34m*\u001b[0m\u001b[0matoms\u001b[0m\u001b[0;34m.\u001b[0m\u001b[0mpositions\u001b[0m\u001b[0;34m)\u001b[0m \u001b[0;32mfor\u001b[0m \u001b[0matoms\u001b[0m \u001b[0;32min\u001b[0m \u001b[0mAtomsList\u001b[0m\u001b[0;34m]\u001b[0m\u001b[0;34m)\u001b[0m\u001b[0;34m\u001b[0m\u001b[0;34m\u001b[0m\u001b[0m\n\u001b[0m\u001b[1;32m     22\u001b[0m \u001b[0;31m#EnergyList= test_energy_function(DistanceList)\u001b[0m\u001b[0;34m\u001b[0m\u001b[0;34m\u001b[0m\u001b[0;34m\u001b[0m\u001b[0m\n\u001b[1;32m     23\u001b[0m \u001b[0mEnergyList\u001b[0m \u001b[0;34m=\u001b[0m \u001b[0mnp\u001b[0m\u001b[0;34m.\u001b[0m\u001b[0marray\u001b[0m\u001b[0;34m(\u001b[0m\u001b[0;34m[\u001b[0m\u001b[0matom\u001b[0m\u001b[0;34m.\u001b[0m\u001b[0mget_potential_energy\u001b[0m\u001b[0;34m(\u001b[0m\u001b[0;34m)\u001b[0m \u001b[0;32mfor\u001b[0m \u001b[0matom\u001b[0m \u001b[0;32min\u001b[0m \u001b[0mAtomsList\u001b[0m\u001b[0;34m]\u001b[0m\u001b[0;34m,\u001b[0m \u001b[0mdtype\u001b[0m\u001b[0;34m=\u001b[0m\u001b[0mnp\u001b[0m\u001b[0;34m.\u001b[0m\u001b[0mfloat64\u001b[0m\u001b[0;34m)\u001b[0m \u001b[0;31m# I had to change this to potential energy or the derivative doesn't work\u001b[0m\u001b[0;34m\u001b[0m\u001b[0;34m\u001b[0m\u001b[0m\n",
      "\u001b[0;31mTypeError\u001b[0m: Distance() takes 2 positional arguments but 112 were given"
     ]
    }
   ],
   "source": [
    "# Collect input data for soap->energy/forces learning model without looping\n",
    "# Unlike above (in the Plottable_Model_Errors cell) I am collecting forces here as well\n",
    "\n",
    "# MD parameters\n",
    "my_element=\"H\"\n",
    "my_temp=300\n",
    "my_n = 100\n",
    "my_calc = \"EMT\"\n",
    "my_md_seed = 1\n",
    "\n",
    "# SOAP parameters\n",
    "get_local_descriptors = True\n",
    "my_nmax=1\n",
    "my_lmax=1\n",
    "\n",
    "\n",
    "AtomsList = read(\"../data/ManyGraphenes.gz\", \":{}\".format(my_n))\n",
    "#AtomsList = [make_diatomic(element = my_element, verbose=False, bond_length=L, calc_type=my_calc) for L in np.linspace(.6,1.8,my_n)]\n",
    "#AtomsList = generate_md_traj(from_diatomic=True, element=my_element, temperature=my_temp, nsteps=my_n, md_type = \"VelocityVerlet\", calc_type=my_calc, md_seed= my_md_seed)\n",
    "PosList =  np.array([atoms.positions for atoms in AtomsList])#[:,1]# only get position of one atom while we are doing global soap\n",
    "DistanceList = np.array([Distance(*atoms.positions) for atoms in AtomsList])\n",
    "#EnergyList= test_energy_function(DistanceList)\n",
    "EnergyList = np.array([atom.get_potential_energy() for atom in AtomsList], dtype=np.float64) # I had to change this to potential energy or the derivative doesn't work\n",
    "ForceList = np.array([atom.get_forces() for atom in AtomsList], dtype=np.float64)#[:,1] # only get force of one atom while we are doing global soap\n",
    "#ForceList= np.array([test_force_function(dist) for dist in DistanceList])\n",
    "SoapDerivativeList, SoapList = get_dscribe_descriptors(AtomsList, species=[my_element], is_global= not get_local_descriptors, return_derivatives=True, nmax=my_nmax, lmax=my_lmax)\n",
    "#SoapDerivativeList = SoapDerivativeList[:,0,:,:,:]; SoapList = SoapList[:,0,:] # Using global soap right now so we can remove the local descriptor index\n",
    "SoapList = SoapList[:,0,:] \n",
    "#SoapList = SoapList.reshape(len(SoapList),-1)"
   ]
  },
  {
   "cell_type": "code",
   "execution_count": 4,
   "metadata": {},
   "outputs": [
    {
     "name": "stdout",
     "output_type": "stream",
     "text": [
      "(100, 2)\n",
      "(100, 2, 2, 3, 2)\n"
     ]
    }
   ],
   "source": [
    "print(SoapList.shape)\n",
    "print(SoapDerivativeList.shape)"
   ]
  },
  {
   "cell_type": "code",
   "execution_count": 42,
   "metadata": {
    "scrolled": true
   },
   "outputs": [
    {
     "data": {
      "text/plain": [
       "array([[[[  0.        ,   0.        ],\n",
       "         [  0.        ,   0.        ],\n",
       "         [  0.        ,   0.53334999]],\n",
       "\n",
       "        [[  0.        ,   0.        ],\n",
       "         [  0.        ,   0.        ],\n",
       "         [-11.99982983,   0.17444568]]],\n",
       "\n",
       "\n",
       "       [[[  0.        ,   0.        ],\n",
       "         [  0.        ,   0.        ],\n",
       "         [ 11.99982983,  -0.17444568]],\n",
       "\n",
       "        [[  0.        ,   0.        ],\n",
       "         [  0.        ,   0.        ],\n",
       "         [  0.        ,  -0.53334999]]]])"
      ]
     },
     "execution_count": 42,
     "metadata": {},
     "output_type": "execute_result"
    }
   ],
   "source": [
    "SoapDerivativeList[0]"
   ]
  },
  {
   "cell_type": "code",
   "execution_count": 43,
   "metadata": {
    "scrolled": true
   },
   "outputs": [
    {
     "data": {
      "text/plain": [
       "array([[[[  0.        ,   0.        ],\n",
       "         [  0.        ,   0.        ],\n",
       "         [  0.        ,   0.53334999]],\n",
       "\n",
       "        [[  0.        ,   0.        ],\n",
       "         [  0.        ,   0.        ],\n",
       "         [-11.99982983,   0.17444568]]],\n",
       "\n",
       "\n",
       "       [[[  0.        ,   0.        ],\n",
       "         [  0.        ,   0.        ],\n",
       "         [ 11.99982983,  -0.17444568]],\n",
       "\n",
       "        [[  0.        ,   0.        ],\n",
       "         [  0.        ,   0.        ],\n",
       "         [  0.        ,  -0.53334999]]]])"
      ]
     },
     "execution_count": 43,
     "metadata": {},
     "output_type": "execute_result"
    }
   ],
   "source": [
    "SoapDerivativeList[0]"
   ]
  },
  {
   "cell_type": "code",
   "execution_count": 10,
   "metadata": {
    "scrolled": true
   },
   "outputs": [],
   "source": [
    "if False:\n",
    "    SoapList = SoapList.reshape(-1,SoapList.shape[-1])\n",
    "    SoapDerivativeList = SoapDerivativeList.reshape(-1, SoapDerivativeList.shape[2], SoapDerivativeList.shape[3], SoapDerivativeList.shape[4] )\n",
    "    EnergyList = EnergyList.repeat(len(AtomsList[0]))/len(AtomsList[0])\n",
    "    ForceList = ForceList.reshape(-1,ForceList.shape[-1])\n",
    "    PosList = PosList.reshape(-1, PosList.shape[-1])\n",
    "    DistanceList = DistanceList.repeat(len(AtomsList[0]))"
   ]
  },
  {
   "cell_type": "code",
   "execution_count": 45,
   "metadata": {},
   "outputs": [],
   "source": [
    "if False:\n",
    "\n",
    "    EnergyList = EnergyList[None,:].repeat(2, axis=0)#EnergyList.repeat(len(AtomsList[0])).reshape(-1, len(AtomsList[0]))/len(AtomsList[0])"
   ]
  },
  {
   "cell_type": "code",
   "execution_count": 5,
   "metadata": {},
   "outputs": [],
   "source": [
    "collapsable = True"
   ]
  },
  {
   "cell_type": "code",
   "execution_count": 14,
   "metadata": {},
   "outputs": [
    {
     "name": "stdout",
     "output_type": "stream",
     "text": [
      "Old learning, epoch 0\n",
      "index_points.shape =  (3, 2)\n",
      "observations.shape =  (3,)\n",
      "(25, 2)\n",
      "(75, 2)\n",
      "(75,)\n",
      "predict_d_ens_nll.shape = (25, 2)\n",
      "test_d_sps.shape =  (25, 2, 2, 3, 2)\n",
      "\n",
      "test_d_sps[0][:,:,0] = \n",
      " [[[  0.          0.4532948]\n",
      "  [-10.234376    0.1550579]]\n",
      "\n",
      " [[ 10.234376   -0.1550579]\n",
      "  [  0.         -0.4532948]]]\n",
      "\n",
      "predict_d_ens_nll[0] = \n",
      " tf.Tensor([ 6.9097753  -0.10570767], shape=(2,), dtype=float64)\n",
      "\n",
      "predict_frcs_nll[0][:,0] = \n",
      " [-70.68571227  70.68571227]\n"
     ]
    }
   ],
   "source": [
    "# This is my attempt at learning forces \n",
    "# Doesn't use LearnEnergyFromSoap because force learning is not yet implemented there (as of July 13th)\n",
    "\n",
    "split_seed = 1\n",
    "valid_split_seed = 1\n",
    "training_frac = 0.75\n",
    "valid_fract = 0.75\n",
    "\n",
    "split_data = train_test_split(SoapList, SoapDerivativeList, EnergyList, ForceList, PosList, DistanceList, range(len(SoapList)), \n",
    "                              random_state=split_seed, test_size=(1-training_frac))\n",
    "train_sps, test_sps, train_d_sps, test_d_sps, train_ens, test_ens, train_frcs, test_frcs, train_pos, test_pos, train_dist, test_dist, train_indices, test_indices = split_data\n",
    "\n",
    "# scaling\n",
    "# Standardize input for improved learning. Fit is done only on training data, scaling is applied to \n",
    "# both descriptors and their derivatives on training and test sets.\n",
    "# # pass with_mean=False to avoid breaking sparsity structure of data\n",
    "# soap_scaler = StandardScaler().fit(train_sps.reshape(-1,train_sps.shape[-1]))\n",
    "# train_sps, test_sps = soap_scaler.transform(train_sps), soap_scaler.transform(test_sps)\n",
    "# train_d_sps = train_d_sps / soap_scaler.scale_[None, None, None, :]\n",
    "# test_d_sps = test_d_sps / soap_scaler.scale_[None, None, None, :]\n",
    "\n",
    "# # Should I also rescale energies and/or forces?\n",
    "# # For now I will\n",
    "# ens_scaler = StandardScaler().fit(train_ens)\n",
    "# train_ens, test_ens = ens_scaler.transform(train_ens), ens_scaler.transform(test_ens)\n",
    "# train_frcs = train_frcs / ens_scaler.scale_#[None, :, None]\n",
    "# test_frcs = test_frcs / ens_scaler.scale_#[None, :, None]\n",
    "\n",
    "ens_scaler = StandardScaler().fit(train_ens[:,None])\n",
    "train_ens, test_ens = ens_scaler.transform(train_ens[:,None])[:,0], ens_scaler.transform(test_ens[:,None])[:,0]\n",
    "train_frcs = train_frcs / ens_scaler.scale_#[None, :, None]\n",
    "test_frcs = test_frcs / ens_scaler.scale_#[None, :, None]\n",
    "\n",
    "# # Should the variance be calculated before the rescaling?\n",
    "ens_var = train_ens.var(); frcs_var = train_frcs.var()\n",
    "\n",
    "#observation_index_points= tf.constant(np.array(train_pos), dtype=np.float64)\n",
    "observation_index_points= tf.constant(train_sps, dtype=np.float64)\n",
    "ens_observations = tf.constant(train_ens, dtype=np.float64)\n",
    "frcs_observations = tf.constant(train_frcs, dtype=np.float64)\n",
    "#index_points = tf.constant(np.array(test_pos), dtype=np.float64)\n",
    "index_points = tf.constant(test_sps, dtype=np.float64)\n",
    "#\n",
    "shuffle_seed = 1\n",
    "batch_size = 3\n",
    "batch_size_custom_mse_max = 100\n",
    "learn_rate = 0.05\n",
    "n_epochs = 5; n_epochs_nll = n_epochs; n_epochs_custom = n_epochs\n",
    "iterations_per_epoch = int(len(train_ens)/batch_size)\n",
    "#\n",
    "\n",
    "\n",
    "# initialize kernels and model hyperparameters\n",
    "# ----------------------------------------------------------------------------------------\n",
    "noise_init = 1e-5; amp_init = 0.1; len_init = .5\n",
    "constrain_positive = tfb.Shift(np.finfo(np.float64).tiny)(tfb.Exp())\n",
    "# nll (old approach)\n",
    "obs_noise_nll = tfp.util.TransformedVariable(initial_value=noise_init, bijector=constrain_positive, dtype=np.float64, name=\"noise_nll\")\n",
    "amplitude_nll = tfp.util.TransformedVariable(initial_value=amp_init, bijector=constrain_positive, dtype=np.float64, name=\"amplitude_nll\")\n",
    "len_scale_nll = tfp.util.TransformedVariable(initial_value=len_init, bijector=constrain_positive, dtype=np.float64, name=\"len_scale_nll\")\n",
    "kernel_nll = tfk.ExponentiatedQuadratic(amplitude=amplitude_nll, length_scale=len_scale_nll, name=\"kernel_nll\", feature_ndims=1)#SoapList.shape[1])\n",
    "trainable_variables_nll = [var.variables[0] for var in [amplitude_nll, len_scale_nll, obs_noise_nll]]\n",
    "# mostly mse, my custom approach\n",
    "# allows for forces to be considered during training\n",
    "obs_noise_custom = tfp.util.TransformedVariable(initial_value=noise_init, bijector=constrain_positive, dtype=np.float64, name=\"noise_custom\")\n",
    "amplitude_custom = tfp.util.TransformedVariable(initial_value=amp_init, bijector=constrain_positive, dtype=np.float64, name=\"amplitude_custom\")\n",
    "len_scale_custom = tfp.util.TransformedVariable(initial_value=len_init, bijector=constrain_positive, dtype=np.float64, name=\"len_scale_custom\")\n",
    "kernel_custom = tfk.ExponentiatedQuadratic(amplitude=amplitude_custom, length_scale=len_scale_custom, name=\"kernel_custom\", feature_ndims=SoapList.shape[1])\n",
    "trainable_variables_custom = [var.variables[0] for var in [amplitude_custom, len_scale_custom, obs_noise_custom]]\n",
    "# ----------------------------------------------------------------------------------------\n",
    "\n",
    "\n",
    "# ----------------------------------------------------------------------------------------\n",
    "# old/nll approach\n",
    "# ----------------------------------------------------------------------------------------\n",
    "@tf.function(autograph=False, experimental_compile=False)\n",
    "def loss_nll(index_points, observations):\n",
    "    gp = tfd.GaussianProcess(kernel=kernel_nll, index_points=index_points, observation_noise_variance=obs_noise_nll)\n",
    "    print(\"index_points.shape = \", index_points.shape)\n",
    "    print(\"observations.shape = \", observations.shape)\n",
    "    return -gp.log_prob(observations)\n",
    "\n",
    "# Define mini-batch data iterator\n",
    "batches_nll = (\n",
    "    tf.data.Dataset.from_tensor_slices((observation_index_points, ens_observations))\n",
    "    .shuffle(buffer_size=len(observation_index_points), seed=shuffle_seed)\n",
    "    .repeat(count=None)\n",
    "    .batch(batch_size)\n",
    ")\n",
    "#\n",
    "\n",
    "optimizer = tf.keras.optimizers.Adam(learning_rate=learn_rate)\n",
    "\n",
    "for j in range(n_epochs):\n",
    "    if not j % 10:\n",
    "        print(\"Old learning, epoch {}\".format(j))\n",
    "\n",
    "    for i, (index_points_i, ens_observations_i) in enumerate(islice(batches_nll, iterations_per_epoch)):\n",
    "        with tf.GradientTape() as tape:\n",
    "            loss_nll_i = loss_nll(index_points_i, ens_observations_i)\n",
    "            loss_nll_i = tf.constant(loss_nll_i, dtype=np.float64)\n",
    "        grads = tape.gradient(loss_nll_i, trainable_variables_nll)\n",
    "        optimizer.apply_gradients(zip(grads, trainable_variables_nll))\n",
    "\n",
    "with tf.GradientTape(watch_accessed_variables=False) as tape_d_ens:\n",
    "    tape_d_ens.watch(index_points)    \n",
    "    gprm_nll = tfd.GaussianProcessRegressionModel(\n",
    "        kernel=kernel_nll,\n",
    "        index_points=index_points,\n",
    "        observation_index_points=observation_index_points,\n",
    "        observations=ens_observations,\n",
    "        observation_noise_variance=obs_noise_nll)\n",
    "    print(index_points.shape)\n",
    "    print(observation_index_points.shape)\n",
    "    print(ens_observations.shape)\n",
    "    predict_ens_nll = gprm_nll.mean()\n",
    "\n",
    "predict_d_ens_nll = tape_d_ens.gradient(predict_ens_nll, index_points)\n",
    "#print(predict_d_ens_nll[:1])\n",
    "#predict_d_ens_nll = predict_d_ens_nll[:,0,:]\n",
    "#print(predict_d_ens_nll[:1])\n",
    "\n",
    "print(\"predict_d_ens_nll.shape =\", predict_d_ens_nll.shape)\n",
    "print(\"test_d_sps.shape = \", test_d_sps.shape )\n",
    "print(\"\\ntest_d_sps[0][:,:,0] = \\n\", test_d_sps[0][:,:,0])\n",
    "print(\"\\npredict_d_ens_nll[0] = \\n\", predict_d_ens_nll[0])\n",
    "predict_frcs_nll = -1*np.einsum('imjkl,il->ijk', test_d_sps, predict_d_ens_nll)#[:,1] # only get force of one atom while we are doing global soap\n",
    "print(\"\\npredict_frcs_nll[0][:,0] = \\n\", predict_frcs_nll[0][:,0])\n",
    "\n",
    "# predict_d_ens_nll.shape = (75, 2, 18)\n",
    "# test_d_sps.shape =  (75, 2, 2, 3, 18)\n",
    "#     print(\"test_d_sps\", test_d_sps)\n",
    "#     print(\"predict_d_ens_nll\", predict_d_ens_nll)\n",
    "#     print(\"predict_frcs_nll\", -1*np.einsum('ijkl,il->ijk', test_d_sps, predict_d_ens_nll))\n",
    "# ----------------------------------------------------------------------------------------\n",
    "\n",
    "\n",
    "# ----------------------------------------------------------------------------------------\n",
    "# custom/mostly mse approach\n",
    "# ----------------------------------------------------------------------------------------\n",
    "if False:\n",
    "    @tf.function(autograph=False, experimental_compile=False)\n",
    "    def loss_custom_nll(index_points, observations):\n",
    "        gp = tfd.GaussianProcess(kernel=kernel_custom, index_points=index_points, observation_noise_variance=obs_noise_custom)\n",
    "        return -gp.log_prob(observations)\n",
    "\n",
    "    @tf.function(autograph=False, experimental_compile=False)\n",
    "    def mse(y_predict, y_true):\n",
    "        return tf.math.reduce_mean(tf.math.squared_difference(y_predict, y_true))\n",
    "\n",
    "    #@tf.function(autograph=False, experimental_compile=False)\n",
    "    def mse_2factor(y1_predict, y1_true, weight1, y2_predict, y2_true, weight2):\n",
    "        mse1 = mse(y1_predict, y1_true)\n",
    "#         print(\"mse1 = \", mse1)\n",
    "        mse2 = mse(y2_predict, y2_true)\n",
    "#         print(\"mse2 = \", mse2)\n",
    "        return mse1 * weight1 + mse2 * weight2\n",
    "\n",
    "    # batch it\n",
    "    batches_custom = (\n",
    "        tf.data.Dataset.from_tensor_slices((observation_index_points, ens_observations, frcs_observations))\n",
    "        .shuffle(buffer_size=len(observation_index_points), seed=shuffle_seed)\n",
    "        .repeat(count=None)\n",
    "        .batch(batch_size)\n",
    "    )\n",
    "\n",
    "    optimizer_custom = tf.keras.optimizers.Adam(learning_rate=learn_rate)\n",
    "\n",
    "    # First run through the data a few times, minimizing nll because this is more robust to bad hyperparameter initialization\n",
    "    n_epochs_custom_nll = 3\n",
    "    for j in range(n_epochs_custom_nll):\n",
    "        for i, (index_points_i, ens_observations_i, ignore_forces_here) in enumerate(islice(batches_custom, iterations_per_epoch)):\n",
    "                with tf.GradientTape() as tape:\n",
    "                    loss_custom_i = loss_custom_nll(index_points_i, ens_observations_i)\n",
    "                    loss_custom_i = tf.constant(loss_custom_i, dtype=np.float64)\n",
    "                grads = tape.gradient(loss_custom_i, trainable_variables_custom)\n",
    "                optimizer_custom.apply_gradients(zip(grads, trainable_variables_custom))\n",
    "\n",
    "    for j in range(n_epochs_custom):\n",
    "        if not j % 10:\n",
    "            print(\"Custom learning, epoch {}\".format(j+1))\n",
    "\n",
    "        split_data_j = train_test_split(train_sps, train_ens, train_d_sps, train_frcs, random_state =valid_split_seed+j, test_size=(1-valid_fract))\n",
    "        train_sps_j, valid_sps_j, train_ens_j, valid_ens_j, train_d_sps_j, valid_d_sps_j, train_frcs_j, valid_frcs_j = split_data_j\n",
    "        observation_index_points_j = tf.constant(train_sps_j, dtype=np.float64)\n",
    "        ens_observations_j = tf.constant(train_ens_j, dtype=np.float64)\n",
    "        d_sps_observations_j = tf.constant(train_d_sps_j, dtype=np.float64)\n",
    "        frcs_observations_j = tf.constant(train_frcs_j, dtype=np.float64)\n",
    "        heldout_index_points_j = tf.constant(valid_sps_j, dtype=np.float64)\n",
    "        heldout_ens_observations_j = tf.constant(valid_ens_j, dtype=np.float64)\n",
    "        heldout_d_sps_observations_j = tf.constant(valid_d_sps_j, dtype=np.float64)\n",
    "        heldout_frcs_observations_j = tf.constant(valid_frcs_j, dtype=np.float64)\n",
    "\n",
    "        if len(train_sps_j) < batch_size_custom_mse_max:\n",
    "            iterations_per_epoch_custom = 1\n",
    "            batch_size_custom = len(train_sps_j)\n",
    "        else:\n",
    "            iterations_per_epoch_custom = int(np.ceil(len(train_sps_j)/batch_size_custom_mse_max))\n",
    "            batch_size_custom = int(np.ceil(len(train_sps_j)/iterations_per_epoch_custom))\n",
    "\n",
    "        batches_custom_j = (\n",
    "            tf.data.Dataset.from_tensor_slices((observation_index_points_j, ens_observations_j, d_sps_observations_j, frcs_observations_j)) # frcs_observations_j_i might be extraneous\n",
    "            .shuffle(buffer_size=len(observation_index_points_j), seed=shuffle_seed) # Should I modify this to be seed = shuffle_seed + j or does it not matter?\n",
    "            .repeat(count=None)\n",
    "            .batch(batch_size_custom)\n",
    "        )\n",
    "        for i, (index_points_j_i, ens_observations_j_i, d_sps_observations_j_i, frcs_observations_j_i) \\\n",
    "                in enumerate(islice(batches_custom_j, iterations_per_epoch_custom)):\n",
    "            with tf.GradientTape() as tape:\n",
    "                with tf.GradientTape(watch_accessed_variables=False) as tape_d_ens:\n",
    "                    tape_d_ens.watch(heldout_index_points_j)    \n",
    "                    gprm_custom_j_i = tfd.GaussianProcessRegressionModel(\n",
    "                        kernel = kernel_custom,\n",
    "                        index_points = heldout_index_points_j,\n",
    "                        observation_index_points = index_points_j_i,\n",
    "                        observations = ens_observations_j_i,\n",
    "                        observation_noise_variance = obs_noise_custom)\n",
    "                    predict_ens_j_i = gprm_custom_j_i.sample()\n",
    "                predict_d_ens_j_i = tape_d_ens.gradient(predict_ens_j_i, heldout_index_points_j)\n",
    "                #predict_frcs_j_i = -predict_d_ens_j_i\n",
    "                predict_frcs_j_i = -1*np.einsum('imjkl,il->ijk', heldout_d_sps_observations_j, predict_d_ens_j_i)#[:,1] # only get force of one atom while we are doing global soap\n",
    "                error_custom_j_i = mse_2factor(predict_ens_j_i, heldout_ens_observations_j, 1/ens_var,\n",
    "                                               predict_frcs_j_i, heldout_frcs_observations_j, 1/frcs_var)\n",
    "#                 print(\"predict_ens_j_i = \", predict_ens_j_i)\n",
    "#                 print(\"heldout_ens_observations_j = \", heldout_ens_observations_j)\n",
    "#                 print(\"1/ens_var = \", 1/ens_var)\n",
    "#                 print(\"predict_frcs_j_i = \", predict_frcs_j_i)\n",
    "#                 print(\"heldout_frcs_observations_j = \", heldout_frcs_observations_j)\n",
    "#                 print(\"1/frcs_var = \",1/frcs_var)\n",
    "#                 print(\"error value is \", error_custom_j_i)\n",
    "\n",
    "            grads = tape.gradient(error_custom_j_i, trainable_variables_custom)\n",
    "            optimizer_custom.apply_gradients(zip(grads, trainable_variables_custom))\n",
    "\n",
    "\n",
    "    with tf.GradientTape(watch_accessed_variables=False) as tape_d_ens:\n",
    "        tape_d_ens.watch(index_points)    \n",
    "\n",
    "        gprm_custom = tfd.GaussianProcessRegressionModel(\n",
    "            kernel=kernel_custom,\n",
    "            index_points=index_points,\n",
    "            observation_index_points=observation_index_points,\n",
    "            observations=ens_observations,\n",
    "            observation_noise_variance=obs_noise_custom)\n",
    "\n",
    "        predict_ens_custom = gprm_custom.mean()\n",
    "\n",
    "    predict_d_ens_custom = tape_d_ens.gradient(predict_ens_custom, index_points)\n",
    "    #predict_frcs_custom = -predict_d_ens_custom.numpy()\n",
    "    predict_frcs_custom = -1*np.einsum('imjkl,il->ijk', test_d_sps, predict_d_ens_custom)#[:,1] # only get force of one atom while we are doing global soap\n",
    "# -------------------------------------------------------------------\n",
    "\n"
   ]
  },
  {
   "cell_type": "code",
   "execution_count": null,
   "metadata": {},
   "outputs": [],
   "source": []
  },
  {
   "cell_type": "code",
   "execution_count": 48,
   "metadata": {},
   "outputs": [
    {
     "data": {
      "text/plain": [
       "array([-0.83586768,  0.83586768])"
      ]
     },
     "execution_count": 48,
     "metadata": {},
     "output_type": "execute_result"
    }
   ],
   "source": [
    "A = [[[ 0. ,        -0.06000157], [ 1.3495708,  -0.01954856]], [[-1.3495708 ,  0.01954856], [ 0.     ,     0.06000157]]]\n",
    "B = [[-0.61960857,  0.00835418], [-0.61960857,  0.00835418]]\n",
    "-1*np.einsum('mjl,ml->j', A, B)"
   ]
  },
  {
   "cell_type": "code",
   "execution_count": 49,
   "metadata": {},
   "outputs": [
    {
     "data": {
      "text/plain": [
       "(25, 2, 3)"
      ]
     },
     "execution_count": 49,
     "metadata": {},
     "output_type": "execute_result"
    }
   ],
   "source": [
    "predict_frcs_nll.shape"
   ]
  },
  {
   "cell_type": "code",
   "execution_count": 50,
   "metadata": {},
   "outputs": [
    {
     "data": {
      "text/plain": [
       "(25, 2, 3)"
      ]
     },
     "execution_count": 50,
     "metadata": {},
     "output_type": "execute_result"
    }
   ],
   "source": [
    "test_frcs.shape"
   ]
  },
  {
   "cell_type": "code",
   "execution_count": 53,
   "metadata": {},
   "outputs": [],
   "source": [
    "if plot_custom and plot_nll:\n",
    "    for i in range(3):\n",
    "        print(trainable_variables_nll[i].name, \"    \", tf.math.exp(trainable_variables_nll[i]))\n",
    "        print(trainable_variables_custom[i].name, \"    \", tf.math.exp(trainable_variables_custom[i]))\n",
    "        print()"
   ]
  },
  {
   "cell_type": "code",
   "execution_count": 9,
   "metadata": {},
   "outputs": [
    {
     "data": {
      "text/plain": [
       "<matplotlib.legend.Legend at 0x7fc2c81fead0>"
      ]
     },
     "execution_count": 9,
     "metadata": {},
     "output_type": "execute_result"
    },
    {
     "data": {
      "image/png": "[encoded data removed]",
      "text/plain": [
       "<Figure size 432x288 with 1 Axes>"
      ]
     },
     "metadata": {
      "needs_background": "light"
     },
     "output_type": "display_data"
    }
   ],
   "source": [
    "# Plotting energy vs bond length\n",
    "plot_custom = False; plot_nll = True\n",
    "distance_ordering = np.argsort(test_dist)\n",
    "dists = test_dist[distance_ordering]\n",
    "rescaled_test_ens = ens_scaler.inverse_transform(test_ens[distance_ordering], copy=True)\n",
    "plt.plot(dists, rescaled_test_ens, c='k')\n",
    "if plot_custom:\n",
    "    rescaled_predict_ens_custom = ens_scaler.inverse_transform(predict_ens_custom.numpy()[distance_ordering], copy=True)\n",
    "    plt.plot(dists, rescaled_predict_ens_custom, \"o\", label=\"custom\", c=\"violet\", ms=10)\n",
    "if plot_nll:\n",
    "    rescaled_predict_ens_nll =  ens_scaler.inverse_transform(predict_ens_nll.numpy()[distance_ordering], copy=True)\n",
    "    plt.plot(dists, rescaled_predict_ens_nll, \"o\", label=\"nll\", c=\"lime\", ms=5)\n",
    "plt.xlabel(\"Bond Length (angstroms)\")\n",
    "plt.ylabel(\"Energy\")\n",
    "plt.legend()"
   ]
  },
  {
   "cell_type": "code",
   "execution_count": 10,
   "metadata": {},
   "outputs": [
    {
     "data": {
      "text/plain": [
       "<matplotlib.legend.Legend at 0x7fc2c8165590>"
      ]
     },
     "execution_count": 10,
     "metadata": {},
     "output_type": "execute_result"
    },
    {
     "data": {
      "image/png": "[encoded data removed]",
      "text/plain": [
       "<Figure size 432x288 with 1 Axes>"
      ]
     },
     "metadata": {
      "needs_background": "light"
     },
     "output_type": "display_data"
    }
   ],
   "source": [
    "plt.plot(test_ens, test_ens, \"-\", c=\"k\")\n",
    "if plot_custom:\n",
    "    plt.plot(test_ens, predict_ens_custom,\"o\", label=\"custom\", c=\"violet\", ms=10)\n",
    "if plot_nll:\n",
    "    plt.plot(test_ens, predict_ens_nll,\"o\", label=\"nll\", c=\"lime\", ms=5)\n",
    "plt.legend()"
   ]
  },
  {
   "cell_type": "markdown",
   "metadata": {},
   "source": [
    "F = -dE/dx = dE/ds ds/dx = dE'/ds' ds'/dx"
   ]
  },
  {
   "cell_type": "code",
   "execution_count": 11,
   "metadata": {},
   "outputs": [
    {
     "data": {
      "image/png": "[encoded data removed]",
      "text/plain": [
       "<Figure size 1440x720 with 6 Axes>"
      ]
     },
     "metadata": {
      "needs_background": "light"
     },
     "output_type": "display_data"
    }
   ],
   "source": [
    "# Plotting force vs bond length\n",
    "rescaled_test_frcs = test_frcs[distance_ordering] * ens_scaler.scale_\n",
    "if plot_custom:\n",
    "    rescaled_predict_frcs_custom =  predict_frcs_custom[distance_ordering] * ens_scaler.scale_\n",
    "if plot_nll:\n",
    "    rescaled_predict_frcs_nll = predict_frcs_nll[distance_ordering] * ens_scaler.scale_\n",
    "\n",
    "fig, axs = plt.subplots(ncols=3, nrows=2, figsize=(20,10), sharex='all', sharey='row')\n",
    "axs = axs.flatten()\n",
    "\n",
    "components = [\"x\", \"y\", \"z\"]\n",
    "\n",
    "for i in range(3):\n",
    "    axs[i].plot(dists, rescaled_test_frcs[:,0,i], \"o-\", c='k')\n",
    "    axs[i+3].plot(dists, abs(rescaled_test_frcs[:,0,i]), \"o-\",  c='k') \n",
    "    \n",
    "    if plot_custom:\n",
    "        axs[i].plot(dists, rescaled_predict_frcs_custom[:,0,i], \"o\", label=\"custom\", c=\"violet\",ms=10)\n",
    "        axs[i+3].plot(dists, abs(rescaled_predict_frcs_custom[:,0,i]), \"o\", label=\"custom\", c=\"violet\",ms=10)\n",
    "        \n",
    "    if plot_nll:\n",
    "        axs[i].plot(dists, rescaled_predict_frcs_nll[:,0,i], \"o\", label=\"nll\", c=\"lime\", ms=5)\n",
    "        axs[i+3].plot(dists, abs(rescaled_predict_frcs_nll[:,0,i]), \"o\", label=\"nll\", c=\"lime\", ms=5)\n",
    "\n",
    "    axs[i].set_facecolor([.8]*3)\n",
    "    axs[i].legend()\n",
    "    axs[i].set_ylabel(\"Force, {} component\".format(components[i]))\n",
    "    \n",
    "    axs[i+3].set_facecolor([.8]*3)\n",
    "    axs[i+3].legend()\n",
    "    axs[i+3].set_ylabel(\"|Force, {} component|\".format(components[i]))    \n",
    "    axs[i+3].set_xlabel(\"Bond Length (angstroms)\")"
   ]
  },
  {
   "cell_type": "code",
   "execution_count": 12,
   "metadata": {},
   "outputs": [
    {
     "name": "stdout",
     "output_type": "stream",
     "text": [
      "Least-squares regresion for Fx(x) produces the line line m x+b with m = 0.99413 and b = -0.00457 which has r2 = 0.99981 \n",
      "Least-squares regresion for Fy(y) produces the line line m y+b with m = 0.99413 and b = 0.00251 which has r2 = 0.99981 \n",
      "Least-squares regresion for Fz(z) produces the line line m z+b with m = 0.98695 and b = -0.00017 which has r2 = 0.99983 \n"
     ]
    },
    {
     "data": {
      "image/png": "[encoded data removed]",
      "text/plain": [
       "<Figure size 1440x360 with 3 Axes>"
      ]
     },
     "metadata": {
      "needs_background": "light"
     },
     "output_type": "display_data"
    }
   ],
   "source": [
    "fig, axs = plt.subplots(ncols=3, figsize=(20,5))\n",
    "components = [\"x\", \"y\", \"z\"]\n",
    "\n",
    "for i in range(3):\n",
    "    axs[i].plot(rescaled_test_frcs[:,0,i], rescaled_test_frcs[:,0,i], \"o-\", c=\"k\")\n",
    "    if plot_custom:\n",
    "        axs[i].plot(rescaled_test_frcs[:,0,i], rescaled_predict_frcs_custom[:,0,i], \"o\", label=\"custom\", c=\"violet\", ms=10)\n",
    "    if plot_nll:\n",
    "        axs[i].plot(rescaled_test_frcs[:,0,i], rescaled_predict_frcs_nll[:,0,i], \"o\", label=\"nll\", c=\"lime\", ms=5)\n",
    "        try:\n",
    "            m, b = np.polyfit(rescaled_test_frcs[:,0,i], rescaled_predict_frcs_nll[:,0,i], 1)\n",
    "            r2 = np.corrcoef(rescaled_test_frcs[:,0,i], rescaled_predict_frcs_nll[:,0,i])[0,1]\n",
    "            print(\"Least-squares regresion for F{}({}) produces the line line m {}+b with m = {:.5f} and b = {:.5f} which has r2 = {:.5f} \".format(components[i],components[i],components[i],m,b, r2))\n",
    "        except:\n",
    "            pass        \n",
    "    axs[i].legend()"
   ]
  },
  {
   "cell_type": "markdown",
   "metadata": {},
   "source": [
    "---\n",
    "\n",
    "### The above is for diatomics. The below is general\n"
   ]
  },
  {
   "cell_type": "markdown",
   "metadata": {},
   "source": [
    "from unsynced"
   ]
  },
  {
   "cell_type": "code",
   "execution_count": 371,
   "metadata": {},
   "outputs": [
    {
     "data": {
      "text/plain": [
       "'30 50 60 90 100 150 200 225 250 275 300 325 350 375 400 425 450 475 500 525 550 575 600 625 675 700 725 750 775 800 825 900 950 1000 1100 1200 1300 1500 1750 2000'"
      ]
     },
     "execution_count": 371,
     "metadata": {},
     "output_type": "execute_result"
    }
   ],
   "source": [
    "\" \".join([str(n) for n in np.sort(list(performance_Graphene_by_n.keys()))])"
   ]
  },
  {
   "cell_type": "code",
   "execution_count": 737,
   "metadata": {},
   "outputs": [],
   "source": [
    "# Testing this with the C7O2H10 database (which contains 6095 structures)\n",
    "\n",
    "my_n = \"\"\n",
    "my_element=\"O\"\n",
    "my_temp=300\n",
    "my_n_train = 70\n",
    "my_n_test = 30\n",
    "my_n = my_n_train + my_n_test\n",
    "my_calc = \"EMT\"\n",
    "my_md_seed = 1\n",
    "\n",
    "from Molecular_Dynamics import make_diatomic\n",
    "AtomsList = [make_diatomic(element = my_element, verbose=False, bond_length=L, calc_type=my_calc) for L in np.linspace(.8,1.0,my_n)]\n",
    "#AtomsList = read(\"../data/distorted_propanol.extxyz.gz\", f\":{my_n}\")\n",
    "#AtomsList = read(\"../data/ManyGraphenes_unzipped.extxyz\", f\":{my_n}\")\n",
    "#AtomsList = generate_md_traj(from_diatomic=True, element=my_element, temperature=my_temp, nsteps=my_n, md_type = \"VelocityVerlet\", calc_type=my_calc, md_seed= my_md_seed)\n",
    "EnergyList = np.array([atom.get_potential_energy() for atom in AtomsList], dtype=np.float64)\n",
    "# EnergyList = np.array([atom.info[\"energy\"] for atom in AtomsList], dtype=np.float64) # I had to change this to potential energy or the derivative doesn't work\n",
    "PosList =  np.array([atoms.positions for atoms in AtomsList])#[:,1]# only get position of one atom while we are doing global soap\n",
    "#SoapDerivativeList, SoapList = get_dscribe_descriptors(AtomsList, species=[\"C\", \"H\", \"O\"], is_global=False, return_derivatives=True, nmax=5,lmax=5, is_periodic=True)\n",
    "SoapList = get_dscribe_descriptors(AtomsList, species=np.unique(AtomsList[0].get_chemical_symbols()), is_global=False, return_derivatives=False, nmax=5, lmax=5, is_periodic=False)\n",
    "\n",
    "# set"
   ]
  },
  {
   "cell_type": "code",
   "execution_count": 379,
   "metadata": {},
   "outputs": [
    {
     "data": {
      "text/plain": [
       "[<matplotlib.lines.Line2D at 0x7fc23f1637d0>]"
      ]
     },
     "execution_count": 379,
     "metadata": {},
     "output_type": "execute_result"
    },
    {
     "data": {
      "image/png": "[encoded data removed]",
      "text/plain": [
       "<Figure size 432x288 with 1 Axes>"
      ]
     },
     "metadata": {
      "needs_background": "light"
     },
     "output_type": "display_data"
    }
   ],
   "source": [
    "plt.plot(EnergyList)"
   ]
  },
  {
   "cell_type": "code",
   "execution_count": 387,
   "metadata": {},
   "outputs": [
    {
     "data": {
      "text/plain": [
       "[<matplotlib.lines.Line2D at 0x7fc2325467d0>]"
      ]
     },
     "execution_count": 387,
     "metadata": {},
     "output_type": "execute_result"
    },
    {
     "data": {
      "image/png": "[encoded data removed]",
      "text/plain": [
       "<Figure size 576x720 with 3 Axes>"
      ]
     },
     "metadata": {
      "needs_background": "light"
     },
     "output_type": "display_data"
    }
   ],
   "source": [
    "window = 100\n",
    "rolling_stdevs = [np.std(EnergyList[i:i+window]) for i in range(len(EnergyList)-window+1)]\n",
    "rolling_means = [np.mean(EnergyList[i:i+window]) for i in range(len(EnergyList)-window+1)]\n",
    "\n",
    "fig, axs = plt.subplots(nrows=3, sharex =True, figsize=(8,10))\n",
    "\n",
    "axs[0].plot(range(len(EnergyList)), EnergyList, \"o\")\n",
    "axs[1].plot(np.arange(len(EnergyList)-window+1)+ (1 + window)/2, rolling_stdevs)\n",
    "axs[2].plot(np.arange(len(EnergyList)-window+1)+ (1 + window)/2, rolling_means)"
   ]
  },
  {
   "cell_type": "code",
   "execution_count": 738,
   "metadata": {},
   "outputs": [
    {
     "name": "stdout",
     "output_type": "stream",
     "text": [
      "Custom learning, epoch 0\n",
      "Error 0 = 0.06\n",
      "Error 1 = 0.05\n",
      "Error 2 = 0.03\n",
      "Error 3 = 0.05\n",
      "Error 4 = 0.05\n",
      "Custom learning, epoch 5\n",
      "Error 5 = 0.04\n",
      "Error 6 = 0.03\n",
      "Error 7 = 0.03\n",
      "Error 8 = 0.02\n",
      "Error 9 = 0.02\n"
     ]
    }
   ],
   "source": [
    "# This is my attempt at learning forces \n",
    "# Doesn't use LearnEnergyFromSoap because force learning is not yet implemented there (as of July 13th)\n",
    "from sklearn.preprocessing import StandardScaler\n",
    "\n",
    "collapsable=True\n",
    "\n",
    "split_seed = 1\n",
    "valid_split_seed = 1\n",
    "training_frac = 0.9#my_n_train/my_n#0.9\n",
    "valid_fract = 0.9\n",
    "\n",
    "train_sps, test_sps, train_ens, test_ens,  train_pos, test_pos = train_test_split(SoapList, EnergyList, PosList,  random_state=split_seed, test_size=(1-training_frac))\n",
    "\n",
    "# scaling\n",
    "# ----------------------------------------------------------------------------------------\n",
    "if collapsable:\n",
    "    # Standardize input for improved learning. Fit is done only on training data, scaling is applied to \n",
    "    # both descriptors and their derivatives on training and test sets.\n",
    "    # # pass with_mean=False to avoid breaking sparsity structure of data\n",
    "    rescale_method = 1\n",
    "    if rescale_method == 1:\n",
    "        train_sps, test_sps = train_sps.reshape(-1, SoapList.shape[-1]), test_sps.reshape(-1, SoapList.shape[-1])\n",
    "        soap_scaler = StandardScaler().fit(train_sps)\n",
    "        train_sps, test_sps = soap_scaler.transform(train_sps), soap_scaler.transform(test_sps)\n",
    "        train_sps, test_sps = train_sps.reshape(-1, *SoapList.shape[1:]), test_sps.reshape(-1, *SoapList.shape[1:])\n",
    "    elif rescale_method == 2:\n",
    "        train_sps, test_sps = train_sps.reshape(train_sps.shape[0], -1), test_sps.reshape(test_sps.shape[0], -1)\n",
    "        soap_scaler = StandardScaler().fit(train_sps)\n",
    "        train_sps, test_sps = soap_scaler.transform(train_sps), soap_scaler.transform(test_sps)\n",
    "        train_sps, test_sps = train_sps.reshape(len(train_ens), SoapList.shape[1], -1), test_sps.reshape(len(test_ens), SoapList.shape[1], -1)\n",
    "\n",
    "    # rescale energies\n",
    "    ens_scaler = StandardScaler().fit(train_ens[:,None])\n",
    "    train_ens, test_ens = ens_scaler.transform(train_ens[:,None])[:,0], ens_scaler.transform(test_ens[:,None])[:,0]\n",
    "# ----------------------------------------------------------------------------------------\n",
    "\n",
    "observation_index_points= tf.constant(train_sps, dtype=np.float64)\n",
    "ens_observations = tf.constant(train_ens, dtype=np.float64)\n",
    "index_points = tf.constant(test_sps, dtype=np.float64)\n",
    "#\n",
    "shuffle_seed = 1\n",
    "batch_size = 3\n",
    "batch_size_custom_mse_max = 100\n",
    "learn_rate = 0.025\n",
    "n_epochs = 10; n_epochs_nll = n_epochs; n_epochs_custom = n_epochs\n",
    "iterations_per_epoch = int(len(train_ens)/batch_size)\n",
    "#\n",
    "\n",
    "\n",
    "# initialize kernels and model hyperparameters\n",
    "# ----------------------------------------------------------------------------------------\n",
    "if collapsable:\n",
    "    noise_init = 1e-5; amp_init = 0.1; len_init = 100#42\n",
    "    constrain_positive = tfb.Shift(np.finfo(np.float64).tiny)(tfb.Exp())\n",
    "    # nll (old approach)\n",
    "    obs_noise_nll = tfp.util.TransformedVariable(initial_value=noise_init, bijector=constrain_positive, dtype=np.float64, name=\"noise_nll\")\n",
    "    amplitude_nll = tfp.util.TransformedVariable(initial_value=amp_init, bijector=constrain_positive, dtype=np.float64, name=\"amplitude_nll\")\n",
    "    len_scale_nll = tfp.util.TransformedVariable(initial_value=len_init, bijector=constrain_positive, dtype=np.float64, name=\"len_scale_nll\")\n",
    "    kernel_nll = tfk.ExponentiatedQuadratic(amplitude=amplitude_nll, length_scale=len_scale_nll, name=\"kernel_nll\", feature_ndims=2)#SoapList.shape[1])\n",
    "    trainable_variables_nll = [var.variables[0] for var in [amplitude_nll, len_scale_nll, obs_noise_nll]]\n",
    "    # mostly mse, my custom approach\n",
    "    # allows for forces to be considered during training\n",
    "    obs_noise_custom = tfp.util.TransformedVariable(initial_value=noise_init, bijector=constrain_positive, dtype=np.float64, name=\"noise_custom\")\n",
    "    amplitude_custom = tfp.util.TransformedVariable(initial_value=amp_init, bijector=constrain_positive, dtype=np.float64, name=\"amplitude_custom\")\n",
    "    len_scale_custom = tfp.util.TransformedVariable(initial_value=len_init, bijector=constrain_positive, dtype=np.float64, name=\"len_scale_custom\")\n",
    "    kernel_custom = tfk.ExponentiatedQuadratic(amplitude=amplitude_custom, length_scale=len_scale_custom, name=\"kernel_custom\", feature_ndims=2)#SoapList.shape[1])\n",
    "    trainable_variables_custom = [var.variables[0] for var in [amplitude_custom, len_scale_custom, obs_noise_custom]]\n",
    "# ----------------------------------------------------------------------------------------\n",
    "\n",
    "\n",
    "# ----------------------------------------------------------------------------------------\n",
    "# old/nll approach\n",
    "# ----------------------------------------------------------------------------------------\n",
    "if False:\n",
    "    @tf.function(autograph=False, experimental_compile=False)\n",
    "    def loss_nll(index_points, observations):\n",
    "        gp = tfd.GaussianProcess(kernel=kernel_nll, index_points=index_points, observation_noise_variance=obs_noise_nll)\n",
    "\n",
    "        return -gp.log_prob(observations)\n",
    "\n",
    "    # Define mini-batch data iterator\n",
    "    batches_nll = (\n",
    "        tf.data.Dataset.from_tensor_slices((observation_index_points, ens_observations))\n",
    "        .shuffle(buffer_size=len(observation_index_points), seed=shuffle_seed)\n",
    "        .repeat(count=None)\n",
    "        .batch(batch_size)\n",
    "    )\n",
    "    #\n",
    "\n",
    "    optimizer = tf.keras.optimizers.Adam(learning_rate=learn_rate)\n",
    "\n",
    "    for j in range(n_epochs):\n",
    "        if not j % 3:\n",
    "            print(\"Old learning, epoch {}\".format(j))\n",
    "\n",
    "        for i, (index_points_i, ens_observations_i) in enumerate(islice(batches_nll, iterations_per_epoch)):\n",
    "            with tf.GradientTape() as tape:\n",
    "                loss_nll_i = loss_nll(index_points_i, ens_observations_i)\n",
    "                loss_nll_i = tf.constant(loss_nll_i, dtype=np.float64)\n",
    "            grads = tape.gradient(loss_nll_i, trainable_variables_nll)\n",
    "            optimizer.apply_gradients(zip(grads, trainable_variables_nll))\n",
    "\n",
    "    with tf.GradientTape(watch_accessed_variables=False) as tape_d_ens:\n",
    "        tape_d_ens.watch(index_points)    \n",
    "        gprm_nll = tfd.GaussianProcessRegressionModel(\n",
    "            kernel=kernel_nll,\n",
    "            index_points=index_points,\n",
    "            observation_index_points=observation_index_points,\n",
    "            observations=ens_observations,\n",
    "            observation_noise_variance=obs_noise_nll)\n",
    "        predict_ens_nll = gprm_nll.mean()\n",
    "# ----------------------------------------------------------------------------------------\n",
    "\n",
    "\n",
    "# ----------------------------------------------------------------------------------------\n",
    "# custom/mostly mse approach\n",
    "# ----------------------------------------------------------------------------------------\n",
    "if collapsable:\n",
    "    @tf.function(autograph=False, experimental_compile=False)\n",
    "    def loss_custom_nll(index_points, observations):\n",
    "        gp = tfd.GaussianProcess(kernel=kernel_custom, index_points=index_points, observation_noise_variance=obs_noise_custom)\n",
    "        return -gp.log_prob(observations)\n",
    "\n",
    "    @tf.function(autograph=False, experimental_compile=False)\n",
    "    def mse(y_predict, y_true):\n",
    "        return tf.math.reduce_mean(tf.math.squared_difference(y_predict, y_true))\n",
    "\n",
    "    #@tf.function(autograph=False, experimental_compile=False)\n",
    "    def mse_2factor(y1_predict, y1_true, weight1, y2_predict, y2_true, weight2):\n",
    "        mse1 = mse(y1_predict, y1_true)\n",
    "#         print(\"mse1 = \", mse1)\n",
    "        mse2 = mse(y2_predict, y2_true)\n",
    "#         print(\"mse2 = \", mse2)\n",
    "        return mse1 * weight1 + mse2 * weight2\n",
    "\n",
    "    # batch it\n",
    "    batches_custom = (\n",
    "        tf.data.Dataset.from_tensor_slices((observation_index_points, ens_observations))\n",
    "        .shuffle(buffer_size=len(observation_index_points), seed=shuffle_seed)\n",
    "        .repeat(count=None)\n",
    "        .batch(batch_size)\n",
    "    )\n",
    "\n",
    "    optimizer_custom = tf.keras.optimizers.Adam(learning_rate=learn_rate)\n",
    "\n",
    "    # First run through the data a few times, minimizing nll because this is more robust to bad hyperparameter initialization\n",
    "    n_epochs_custom_nll = 0\n",
    "    for j in range(n_epochs_custom_nll):\n",
    "        for i, (index_points_i, ens_observations_i) in enumerate(islice(batches_custom, iterations_per_epoch)):\n",
    "                with tf.GradientTape() as tape:\n",
    "                    loss_custom_i = loss_custom_nll(index_points_i, ens_observations_i)\n",
    "                    loss_custom_i = tf.constant(loss_custom_i, dtype=np.float64)\n",
    "                grads = tape.gradient(loss_custom_i, trainable_variables_custom)\n",
    "                optimizer_custom.apply_gradients(zip(grads, trainable_variables_custom))\n",
    "    \n",
    "    error_history = []\n",
    "    for j in range(n_epochs_custom):\n",
    "        if not j % 5:\n",
    "            print(\"Custom learning, epoch {}\".format(j))\n",
    "\n",
    "        split_data_j = train_test_split(train_sps, train_ens, random_state =valid_split_seed+j, test_size=(1-valid_fract))\n",
    "        train_sps_j, valid_sps_j, train_ens_j, valid_ens_j = split_data_j\n",
    "        observation_index_points_j = tf.constant(train_sps_j, dtype=np.float64)\n",
    "        ens_observations_j = tf.constant(train_ens_j, dtype=np.float64)\n",
    "        heldout_index_points_j = tf.constant(valid_sps_j, dtype=np.float64)\n",
    "        heldout_ens_observations_j = tf.constant(valid_ens_j, dtype=np.float64)\n",
    "\n",
    "\n",
    "        if len(train_sps_j) < batch_size_custom_mse_max:\n",
    "            iterations_per_epoch_custom = 1\n",
    "            batch_size_custom = len(train_sps_j)\n",
    "        else:\n",
    "            iterations_per_epoch_custom = int(np.ceil(len(train_sps_j)/batch_size_custom_mse_max))\n",
    "            batch_size_custom = int(np.ceil(len(train_sps_j)/iterations_per_epoch_custom))\n",
    "\n",
    "        batches_custom_j = (\n",
    "            tf.data.Dataset.from_tensor_slices((observation_index_points_j, ens_observations_j)) # frcs_observations_j_i might be extraneous\n",
    "            .shuffle(buffer_size=len(observation_index_points_j), seed=shuffle_seed) # Should I modify this to be seed = shuffle_seed + j or does it not matter?\n",
    "            .repeat(count=None)\n",
    "            .batch(batch_size_custom)\n",
    "        )\n",
    "        error_j = 0\n",
    "        for i, (index_points_j_i, ens_observations_j_i) in enumerate(islice(batches_custom_j, iterations_per_epoch_custom)):\n",
    "            with tf.GradientTape() as tape:\n",
    "                with tf.GradientTape(watch_accessed_variables=False) as tape_d_ens:\n",
    "                    tape_d_ens.watch(heldout_index_points_j)    \n",
    "                    gprm_custom_j_i = tfd.GaussianProcessRegressionModel(\n",
    "                        kernel = kernel_custom,\n",
    "                        index_points = heldout_index_points_j,\n",
    "                        observation_index_points = index_points_j_i,\n",
    "                        observations = ens_observations_j_i,\n",
    "                        observation_noise_variance = obs_noise_custom)\n",
    "                    predict_ens_j_i = gprm_custom_j_i.sample()\n",
    "                error_custom_j_i = mse(predict_ens_j_i, heldout_ens_observations_j)\n",
    "                error_j += error_custom_j_i\n",
    "\n",
    "\n",
    "            grads = tape.gradient(error_custom_j_i, trainable_variables_custom)\n",
    "            optimizer_custom.apply_gradients(zip(grads, trainable_variables_custom))\n",
    "        interpretable_error_j = np.sqrt(error_j/iterations_per_epoch_custom)\n",
    "        error_history.append(interpretable_error_j)\n",
    "        print(\"Error {} = {:.2f}\".format(j, interpretable_error_j))\n",
    "\n",
    "\n",
    "    with tf.GradientTape(watch_accessed_variables=False) as tape_d_ens:\n",
    "        tape_d_ens.watch(index_points)    \n",
    "\n",
    "        gprm_custom = tfd.GaussianProcessRegressionModel(\n",
    "            kernel=kernel_custom,\n",
    "            index_points=index_points,\n",
    "            observation_index_points=observation_index_points,\n",
    "            observations=ens_observations,\n",
    "            observation_noise_variance=obs_noise_custom)\n",
    "\n",
    "        predict_ens_custom = gprm_custom.mean()\n",
    "    \n",
    "    test_ens_rescaled = ens_scaler.inverse_transform(test_ens)\n",
    "    \n",
    "    predict_ens_custom_rescaled = ens_scaler.inverse_transform(predict_ens_custom)\n",
    "        \n",
    "    performance_Graphene_by_n[my_n_train] = np.max(np.abs(ens_scaler.inverse_transform(test_ens) - ens_scaler.inverse_transform(predict_ens_custom)))\n",
    "# ----------------------------------------------------------------------------------------\n"
   ]
  },
  {
   "cell_type": "code",
   "execution_count": 739,
   "metadata": {},
   "outputs": [
    {
     "data": {
      "text/plain": [
       "<matplotlib.legend.Legend at 0x7fc236adef50>"
      ]
     },
     "execution_count": 739,
     "metadata": {},
     "output_type": "execute_result"
    },
    {
     "data": {
      "image/png": "[encoded data removed]",
      "text/plain": [
       "<Figure size 432x288 with 1 Axes>"
      ]
     },
     "metadata": {
      "needs_background": "light"
     },
     "output_type": "display_data"
    }
   ],
   "source": [
    "plot_custom = True; plot_nll = False\n",
    "plt.plot(test_ens_rescaled, np.zeros(len(test_ens)), \"-\", c=\"k\")\n",
    "if plot_custom:\n",
    "    plt.plot(test_ens_rescaled, predict_ens_custom_rescaled-test_ens_rescaled ,\"o\", label=\"custom\", c=\"violet\", ms=10)\n",
    "if plot_nll:\n",
    "    plt.plot(test_ens_rescaled, predict_ens_nll_rescaled-test_ens_rescaled ,\"o\", label=\"nll\", c=\"lime\", ms=5)\n",
    "plt.legend()\n"
   ]
  },
  {
   "cell_type": "code",
   "execution_count": 740,
   "metadata": {},
   "outputs": [],
   "source": [
    "predict_ens_custom_rescaled1 = predict_ens_custom_rescaled.copy()"
   ]
  },
  {
   "cell_type": "code",
   "execution_count": 602,
   "metadata": {},
   "outputs": [
    {
     "data": {
      "text/plain": [
       "array([-5.05853027e-03, -6.82653784e-05,  1.74115710e-03,  1.67828411e-04,\n",
       "       -1.17465757e-03, -1.68600097e-03,  3.54339443e-05,  9.41300341e-05,\n",
       "       -1.70810897e-03, -2.71952682e-03])"
      ]
     },
     "execution_count": 602,
     "metadata": {},
     "output_type": "execute_result"
    }
   ],
   "source": [
    "predict_ens_custom_rescaled1 - predict_ens_custom_rescaled2"
   ]
  },
  {
   "cell_type": "code",
   "execution_count": 460,
   "metadata": {},
   "outputs": [],
   "source": [
    "#performance_Graphene_by_n = {}"
   ]
  },
  {
   "cell_type": "code",
   "execution_count": 372,
   "metadata": {
    "scrolled": true
   },
   "outputs": [
    {
     "data": {
      "text/plain": [
       "{30: 0.039455924021694955,\n",
       " 50: 0.025520192534258967,\n",
       " 60: 0.05015260878803929,\n",
       " 90: 0.02628695509292811,\n",
       " 100: 0.012542909998046525,\n",
       " 200: 0.016431664258334422,\n",
       " 300: 0.010318825536614895,\n",
       " 500: 0.007422881928278002,\n",
       " 150: 0.016834547242751796,\n",
       " 900: 0.01562840400129062,\n",
       " 700: 0.011335636350395362,\n",
       " 250: 0.012518518815113566,\n",
       " 1200: 0.012184416445052193,\n",
       " 1000: 0.017007521724281105,\n",
       " 1500: 0.015366629510708663,\n",
       " 1100: 0.009441366010833008,\n",
       " 400: 0.010275217199023245,\n",
       " 600: 0.011123969460413718,\n",
       " 800: 0.010949366652766912,\n",
       " 2000: 0.019939079705636686,\n",
       " 225: 0.006798546424988672,\n",
       " 275: 0.010863128772143682,\n",
       " 325: 0.007438278799327236,\n",
       " 350: 0.01214594757220766,\n",
       " 375: 0.012026006968198999,\n",
       " 425: 0.00861313098721439,\n",
       " 450: 0.015816443732319385,\n",
       " 475: 0.019517097873631428,\n",
       " 525: 0.007056522666516685,\n",
       " 550: 0.012612630380317569,\n",
       " 575: 0.011025575577605196,\n",
       " 625: 0.013882095822964402,\n",
       " 675: 0.009054737313363148,\n",
       " 725: 0.014970176715223715,\n",
       " 750: 0.012289034279092448,\n",
       " 775: 0.014892466188712206,\n",
       " 825: 0.012240548016961839,\n",
       " 950: 0.011111813719026031,\n",
       " 1300: 0.011543653565695422,\n",
       " 1750: 0.013688366547512487}"
      ]
     },
     "execution_count": 372,
     "metadata": {},
     "output_type": "execute_result"
    }
   ],
   "source": [
    "performance_Graphene_by_n"
   ]
  },
  {
   "cell_type": "code",
   "execution_count": 741,
   "metadata": {},
   "outputs": [
    {
     "data": {
      "text/plain": [
       "<matplotlib.legend.Legend at 0x7fc240f8da10>"
      ]
     },
     "execution_count": 741,
     "metadata": {},
     "output_type": "execute_result"
    },
    {
     "data": {
      "image/png": "[encoded data removed]",
      "text/plain": [
       "<Figure size 432x288 with 1 Axes>"
      ]
     },
     "metadata": {
      "needs_background": "light"
     },
     "output_type": "display_data"
    }
   ],
   "source": [
    "plot_custom = True; plot_nll = False\n",
    "plt.plot(test_ens, test_ens, \"-\", c=\"k\")\n",
    "if plot_custom:\n",
    "    plt.plot(test_ens, predict_ens_custom,\"o\", label=\"custom\", c=\"violet\", ms=10)\n",
    "if plot_nll:\n",
    "    plt.plot(test_ens, predict_ens_nll,\"o\", label=\"nll\", c=\"lime\", ms=5)\n",
    "plt.legend()"
   ]
  },
  {
   "cell_type": "code",
   "execution_count": 455,
   "metadata": {},
   "outputs": [
    {
     "data": {
      "image/png": "[encoded data removed]",
      "text/plain": [
       "<Figure size 720x360 with 1 Axes>"
      ]
     },
     "metadata": {
      "needs_background": "light"
     },
     "output_type": "display_data"
    }
   ],
   "source": [
    "fig, ax = plt.subplots(figsize=(10,5))\n",
    "ns = list(performance_Graphene_by_n.keys())\n",
    "errs_per_atom = [err/112 for err in performance_Graphene_by_n.values()]\n",
    "ax.plot(ns, errs_per_atom, \"o\")\n",
    "ax.set_xlabel(\"Training Set Size\")\n",
    "ax.set_ylabel(\"Max Error (Energy/Atom)\")\n",
    "tick_step = 10**(np.round(np.log10(max(errs_per_atom)))-1)\n",
    "n_ticks = int(max(errs_per_atom)/tick_step) + 1\n",
    "ticks = [float(tick_step)*i for i in range(n_ticks + 1)]\n",
    "ax.set_yticks(ticks)\n",
    "ax.set_yticklabels(['{:.0f} E-4'.format(t*10000) for t in ticks])\n",
    "plt.title(\"Trends in Energy Prediction Error for Variable Training Set Size\\nfor Graphene Structures\")\n",
    "plt.savefig('../media/Trends_in_Energy_Prediction_Error_for_Variable_Training_Set_Size_for_Graphene_Structures.png')\n"
   ]
  },
  {
   "cell_type": "markdown",
   "metadata": {},
   "source": [
    "working version with forces"
   ]
  },
  {
   "cell_type": "code",
   "execution_count": 314,
   "metadata": {},
   "outputs": [],
   "source": [
    "# Collect input data for soap->energy/forces learning model without looping\n",
    "# Unlike above (in the Plottable_Model_Errors cell) I am collecting forces here as well\n",
    "\n",
    "# MD parameters\n",
    "my_element = \"O\"\n",
    "my_temp=300\n",
    "my_n = 200\n",
    "my_calc = \"EMT\"\n",
    "my_md_seed = 1\n",
    "\n",
    "# SOAP parameters\n",
    "get_local_descriptors = True\n",
    "my_nmax=5\n",
    "my_lmax=5\n",
    "\n",
    "#from Molecular_Dynamics import make_diatomic\n",
    "#AtomsList = [make_diatomic(element = my_element, verbose=False, bond_length=L, calc_type=my_calc) for L in np.linspace(.8,1.2, my_n)]\n",
    "#AtomsList = generate_md_traj(from_diatomic=True, element=my_element, temperature=my_temp, nsteps=my_n, md_type = \"VelocityVerlet\", calc_type=my_calc, md_seed= my_md_seed)\n",
    "#AtomsList = read(\"../data/ManyGraphenes.gz\", \":{}\".format(my_n))\n",
    "AtomsList = read(\"../data/distorted_propanol.extxyz.gz\", \":{}\".format(my_n))\n",
    "PosList =  np.array([atoms.positions for atoms in AtomsList])#[:,1]# only get position of one atom while we are doing global soap\n",
    "\n",
    "EnergyList = np.array([atom.get_potential_energy() for atom in AtomsList], dtype=np.float64) # I had to change this to potential energy or the derivative doesn't work\n",
    "ForceList = np.array([atom.get_forces() for atom in AtomsList], dtype=np.float64)#[:,1] # only get force of one atom while we are doing global soap\n",
    "SoapDerivativeList, SoapList = get_dscribe_descriptors(AtomsList, species=np.unique(AtomsList[0].get_chemical_symbols()), attach=True, is_global= not get_local_descriptors, return_derivatives=True, nmax=my_nmax, lmax=my_lmax)\n"
   ]
  },
  {
   "cell_type": "code",
   "execution_count": 305,
   "metadata": {},
   "outputs": [
    {
     "data": {
      "text/plain": [
       "(10, 720)"
      ]
     },
     "execution_count": 305,
     "metadata": {},
     "output_type": "execute_result"
    }
   ],
   "source": [
    "train_sps[0].shape"
   ]
  },
  {
   "cell_type": "code",
   "execution_count": 295,
   "metadata": {},
   "outputs": [
    {
     "data": {
      "text/plain": [
       "<TransformedVariable: dtype=float64, shape=[], fn=\"chain_of_shift_of_exp\", numpy=95.84538094988669>"
      ]
     },
     "execution_count": 295,
     "metadata": {},
     "output_type": "execute_result"
    }
   ],
   "source": [
    "len_scale_custom"
   ]
  },
  {
   "cell_type": "code",
   "execution_count": 298,
   "metadata": {},
   "outputs": [
    {
     "data": {
      "text/plain": [
       "<tf.Tensor: shape=(), dtype=float64, numpy=0.008619973320608543>"
      ]
     },
     "execution_count": 298,
     "metadata": {},
     "output_type": "execute_result"
    }
   ],
   "source": [
    "amplitude_custom**2 * np.exp(-tf.math.reduce_sum(tf.math.squared_difference(index_points[0], index_points[1]))/(2* len_scale_custom **2))"
   ]
  },
  {
   "cell_type": "code",
   "execution_count": 299,
   "metadata": {},
   "outputs": [
    {
     "data": {
      "text/plain": [
       "<tf.Tensor: shape=(), dtype=float64, numpy=1186.1681121268482>"
      ]
     },
     "execution_count": 299,
     "metadata": {},
     "output_type": "execute_result"
    }
   ],
   "source": [
    "tf.math.reduce_sum(tf.math.squared_difference(index_points[0], index_points[1]))"
   ]
  },
  {
   "cell_type": "code",
   "execution_count": 301,
   "metadata": {},
   "outputs": [
    {
     "data": {
      "text/plain": [
       "<tf.Tensor: shape=(), dtype=float64, numpy=0.16474557112872892>"
      ]
     },
     "execution_count": 301,
     "metadata": {},
     "output_type": "execute_result"
    }
   ],
   "source": [
    "tf.math.reduce_mean(tf.math.squared_difference(index_points[0], index_points[1]))"
   ]
  },
  {
   "cell_type": "code",
   "execution_count": 300,
   "metadata": {},
   "outputs": [
    {
     "data": {
      "text/plain": [
       "TensorShape([10, 720])"
      ]
     },
     "execution_count": 300,
     "metadata": {},
     "output_type": "execute_result"
    }
   ],
   "source": [
    "index_points[0].shape"
   ]
  },
  {
   "cell_type": "code",
   "execution_count": 297,
   "metadata": {},
   "outputs": [
    {
     "data": {
      "text/plain": [
       "<tf.Tensor: shape=(2, 2), dtype=float64, numpy=\n",
       "array([[0.00919485, 0.00861997],\n",
       "       [0.00861997, 0.00919485]])>"
      ]
     },
     "execution_count": 297,
     "metadata": {},
     "output_type": "execute_result"
    }
   ],
   "source": [
    "kernel_custom.matrix(index_points, index_points)"
   ]
  },
  {
   "cell_type": "code",
   "execution_count": 318,
   "metadata": {},
   "outputs": [
    {
     "name": "stdout",
     "output_type": "stream",
     "text": [
      "(180, 10, 720)\n",
      "(180,)\n",
      "Custom learning, epoch 1\n",
      "[<tf.Variable 'amplitude_custom:0' shape=() dtype=float64, numpy=-2.3025850929940455>, <tf.Variable 'len_scale_custom:0' shape=() dtype=float64, numpy=6.579251212010101>, <tf.Variable 'noise_custom:0' shape=() dtype=float64, numpy=-11.512925464970229>]\n",
      "Custom learning, epoch 11\n",
      "[<tf.Variable 'amplitude_custom:0' shape=() dtype=float64, numpy=-1.9980114773015396>, <tf.Variable 'len_scale_custom:0' shape=() dtype=float64, numpy=6.271302500705273>, <tf.Variable 'noise_custom:0' shape=() dtype=float64, numpy=-11.815056829423977>]\n",
      "Custom learning, epoch 21\n",
      "[<tf.Variable 'amplitude_custom:0' shape=() dtype=float64, numpy=-1.65079204677482>, <tf.Variable 'len_scale_custom:0' shape=() dtype=float64, numpy=5.913199690875485>, <tf.Variable 'noise_custom:0' shape=() dtype=float64, numpy=-12.15992566783133>]\n",
      "Custom learning, epoch 31\n",
      "[<tf.Variable 'amplitude_custom:0' shape=() dtype=float64, numpy=-1.3766518601455215>, <tf.Variable 'len_scale_custom:0' shape=() dtype=float64, numpy=5.630196478662452>, <tf.Variable 'noise_custom:0' shape=() dtype=float64, numpy=-12.42639562351179>]\n",
      "Custom learning, epoch 41\n",
      "[<tf.Variable 'amplitude_custom:0' shape=() dtype=float64, numpy=-1.3050288580807414>, <tf.Variable 'len_scale_custom:0' shape=() dtype=float64, numpy=5.551368233026954>, <tf.Variable 'noise_custom:0' shape=() dtype=float64, numpy=-12.49531224053667>]\n",
      "Custom learning, epoch 51\n",
      "[<tf.Variable 'amplitude_custom:0' shape=() dtype=float64, numpy=-1.3324564514045472>, <tf.Variable 'len_scale_custom:0' shape=() dtype=float64, numpy=5.574549622735011>, <tf.Variable 'noise_custom:0' shape=() dtype=float64, numpy=-12.468815485983205>]\n",
      "Custom learning, epoch 61\n",
      "[<tf.Variable 'amplitude_custom:0' shape=() dtype=float64, numpy=-1.347906772566774>, <tf.Variable 'len_scale_custom:0' shape=() dtype=float64, numpy=5.5686397734909425>, <tf.Variable 'noise_custom:0' shape=() dtype=float64, numpy=-12.45674647758872>]\n",
      "Custom learning, epoch 71\n",
      "[<tf.Variable 'amplitude_custom:0' shape=() dtype=float64, numpy=-1.3329484044187307>, <tf.Variable 'len_scale_custom:0' shape=() dtype=float64, numpy=5.5298635814029025>, <tf.Variable 'noise_custom:0' shape=() dtype=float64, numpy=-12.474546435630485>]\n",
      "Custom learning, epoch 81\n",
      "[<tf.Variable 'amplitude_custom:0' shape=() dtype=float64, numpy=-1.2696350944221961>, <tf.Variable 'len_scale_custom:0' shape=() dtype=float64, numpy=5.457125901929025>, <tf.Variable 'noise_custom:0' shape=() dtype=float64, numpy=-12.533757510782042>]\n",
      "Custom learning, epoch 91\n",
      "[<tf.Variable 'amplitude_custom:0' shape=() dtype=float64, numpy=-1.1929870175811914>, <tf.Variable 'len_scale_custom:0' shape=() dtype=float64, numpy=5.345339502973941>, <tf.Variable 'noise_custom:0' shape=() dtype=float64, numpy=-12.607490120515752>]\n"
     ]
    }
   ],
   "source": [
    "# This is my attempt at learning forces \n",
    "# Doesn't use LearnEnergyFromSoap because force learning is not yet implemented there (as of July 13th)\n",
    "\n",
    "split_seed = 1\n",
    "valid_split_seed = 1\n",
    "training_frac = 0.9\n",
    "valid_fract = 0.9\n",
    "\n",
    "split_data = train_test_split(SoapList, SoapDerivativeList, EnergyList, ForceList, PosList, range(len(SoapList)), \n",
    "                              random_state=split_seed, test_size=(1-training_frac))\n",
    "train_sps, test_sps, train_d_sps, test_d_sps, train_ens, test_ens, train_frcs, test_frcs, train_pos, test_pos, train_indices, test_indices = split_data\n",
    "\n",
    "\n",
    "train_sps, test_sps = train_sps.reshape(-1, SoapList.shape[-1]), test_sps.reshape(-1, SoapList.shape[-1])\n",
    "soap_scaler = StandardScaler().fit(train_sps)\n",
    "train_sps, test_sps = soap_scaler.transform(train_sps), soap_scaler.transform(test_sps)\n",
    "train_sps, test_sps = train_sps.reshape(-1, *SoapList.shape[1:]), test_sps.reshape(-1, *SoapList.shape[1:])\n",
    "test_d_sps /= soap_scaler.scale_[None, None, None, None, :]\n",
    "train_d_sps /= soap_scaler.scale_[None, None, None, None, :]\n",
    "\n",
    "\n",
    "ens_scaler = StandardScaler().fit(train_ens[:,None])\n",
    "train_ens, test_ens = ens_scaler.transform(train_ens[:,None])[:,0], ens_scaler.transform(test_ens[:,None])[:,0]\n",
    "train_frcs = train_frcs / ens_scaler.scale_#[None, :, None]\n",
    "test_frcs = test_frcs / ens_scaler.scale_#[None, :, None]\n",
    "\n",
    "# # Should the variance be calculated before the rescaling?\n",
    "ens_var = train_ens.var(); frcs_var = train_frcs.var()\n",
    "\n",
    "#observation_index_points= tf.constant(np.array(train_pos), dtype=np.float64)\n",
    "observation_index_points= tf.constant(train_sps, dtype=np.float64)\n",
    "ens_observations = tf.constant(train_ens, dtype=np.float64)\n",
    "frcs_observations = tf.constant(train_frcs, dtype=np.float64)\n",
    "#index_points = tf.constant(np.array(test_pos), dtype=np.float64)\n",
    "index_points = tf.constant(test_sps, dtype=np.float64)\n",
    "#\n",
    "shuffle_seed = 1\n",
    "batch_size = 3\n",
    "batch_size_custom_mse_max = 100\n",
    "learn_rate = 0.025\n",
    "n_epochs = 100; n_epochs_nll = n_epochs; n_epochs_custom = n_epochs\n",
    "iterations_per_epoch = int(len(train_ens)/batch_size)\n",
    "#\n",
    "\n",
    "\n",
    "# initialize kernels and model hyperparameters\n",
    "# ----------------------------------------------------------------------------------------\n",
    "noise_init = 1e-5; amp_init = 0.1; len_init = .1 * train_sps.shape[1] * train_sps.shape[2]\n",
    "constrain_positive = tfb.Shift(np.finfo(np.float64).tiny)(tfb.Exp())\n",
    "# nll (old approach)\n",
    "obs_noise_nll = tfp.util.TransformedVariable(initial_value=noise_init, bijector=constrain_positive, dtype=np.float64, name=\"noise_nll\")\n",
    "amplitude_nll = tfp.util.TransformedVariable(initial_value=amp_init, bijector=constrain_positive, dtype=np.float64, name=\"amplitude_nll\")\n",
    "len_scale_nll = tfp.util.TransformedVariable(initial_value=len_init, bijector=constrain_positive, dtype=np.float64, name=\"len_scale_nll\")\n",
    "kernel_nll = tfk.ExponentiatedQuadratic(amplitude=amplitude_nll, length_scale=len_scale_nll, name=\"kernel_nll\", feature_ndims=1)#SoapList.shape[1])\n",
    "trainable_variables_nll = [var.variables[0] for var in [amplitude_nll, len_scale_nll, obs_noise_nll]]\n",
    "# mostly mse, my custom approach\n",
    "# allows for forces to be considered during training\n",
    "obs_noise_custom = tfp.util.TransformedVariable(initial_value=noise_init, bijector=constrain_positive, dtype=np.float64, name=\"noise_custom\")\n",
    "amplitude_custom = tfp.util.TransformedVariable(initial_value=amp_init, bijector=constrain_positive, dtype=np.float64, name=\"amplitude_custom\")\n",
    "len_scale_custom = tfp.util.TransformedVariable(initial_value=len_init, bijector=constrain_positive, dtype=np.float64, name=\"len_scale_custom\")\n",
    "kernel_custom = tfk.ExponentiatedQuadratic(amplitude=amplitude_custom, length_scale=len_scale_custom, name=\"kernel_custom\", feature_ndims=2)\n",
    "trainable_variables_custom = [var.variables[0] for var in [amplitude_custom, len_scale_custom, obs_noise_custom]]\n",
    "# ----------------------------------------------------------------------------------------\n",
    "\n",
    "\n",
    "# ----------------------------------------------------------------------------------------\n",
    "# old/nll approach\n",
    "# ----------------------------------------------------------------------------------------\n",
    "@tf.function(autograph=False, experimental_compile=False)\n",
    "def loss_nll(index_points, observations):\n",
    "    gp = tfd.GaussianProcess(kernel=kernel_nll, index_points=index_points, observation_noise_variance=obs_noise_nll)\n",
    "    print(\"index_points.shape = \", index_points.shape)\n",
    "    print(\"observations.shape = \", observations.shape)\n",
    "    return -gp.log_prob(observations)\n",
    "\n",
    "# Define mini-batch data iterator\n",
    "batches_nll = (\n",
    "    tf.data.Dataset.from_tensor_slices((observation_index_points, ens_observations))\n",
    "    .shuffle(buffer_size=len(observation_index_points), seed=shuffle_seed)\n",
    "    .repeat(count=None)\n",
    "    .batch(batch_size)\n",
    ")\n",
    "#\n",
    "\n",
    "optimizer = tf.keras.optimizers.Adam(learning_rate=learn_rate)\n",
    "\n",
    "if False:\n",
    "    for j in range(n_epochs):\n",
    "\n",
    "        loss_nll_j = 0\n",
    "        for i, (index_points_i, ens_observations_i) in enumerate(islice(batches_nll, iterations_per_epoch)):\n",
    "            with tf.GradientTape() as tape:\n",
    "                loss_nll_i = loss_nll(index_points_i, ens_observations_i)\n",
    "                loss_nll_i = tf.constant(loss_nll_i, dtype=np.float64)\n",
    "                loss_nll_j += loss_nll_i\n",
    "            grads = tape.gradient(loss_nll_i, trainable_variables_nll)\n",
    "            optimizer.apply_gradients(zip(grads, trainable_variables_nll))\n",
    "        if not j % 4:\n",
    "            print(\"Old learning, epoch {} loss: {:10.0f}\".format(j, loss_nll_j))\n",
    "            print([(v.name, 2.71828**v.numpy()) for v in trainable_variables_nll])\n",
    "\n",
    "    with tf.GradientTape(watch_accessed_variables=False) as tape_d_ens:\n",
    "        tape_d_ens.watch(index_points)    \n",
    "        gprm_nll = tfd.GaussianProcessRegressionModel(\n",
    "            kernel=kernel_nll,\n",
    "            index_points=index_points,\n",
    "            observation_index_points=observation_index_points,\n",
    "            observations=ens_observations,\n",
    "            observation_noise_variance=obs_noise_nll)\n",
    "        print(index_points.shape)\n",
    "        print(observation_index_points.shape)\n",
    "        print(ens_observations.shape)\n",
    "        predict_ens_nll = gprm_nll.mean()\n",
    "\n",
    "    predict_d_ens_nll = tape_d_ens.gradient(predict_ens_nll, index_points)\n",
    "    #print(predict_d_ens_nll[:1])\n",
    "    #predict_d_ens_nll = predict_d_ens_nll[:,0,:]\n",
    "    #print(predict_d_ens_nll[:1])\n",
    "\n",
    "    print(\"predict_d_ens_nll.shape =\", predict_d_ens_nll.shape)\n",
    "    print(\"test_d_sps.shape = \", test_d_sps.shape )\n",
    "    print(\"\\ntest_d_sps[0][:,:,0] = \\n\", test_d_sps[0][:,:,0])\n",
    "    print(\"\\npredict_d_ens_nll[0] = \\n\", predict_d_ens_nll[0])\n",
    "    predict_frcs_nll = -1*np.einsum('imjkl,il->ijk', test_d_sps, predict_d_ens_nll)#[:,1] # only get force of one atom while we are doing global soap\n",
    "    print(\"\\npredict_frcs_nll[0][:,0] = \\n\", predict_frcs_nll[0][:,0])\n",
    "\n",
    "    # predict_d_ens_nll.shape = (75, 2, 18)\n",
    "    # test_d_sps.shape =  (75, 2, 2, 3, 18)\n",
    "    #     print(\"test_d_sps\", test_d_sps)\n",
    "    #     print(\"predict_d_ens_nll\", predict_d_ens_nll)\n",
    "    #     print(\"predict_frcs_nll\", -1*np.einsum('ijkl,il->ijk', test_d_sps, predict_d_ens_nll))\n",
    "    # ----------------------------------------------------------------------------------------\n",
    "\n",
    "\n",
    "# ----------------------------------------------------------------------------------------\n",
    "# custom/mostly mse approach\n",
    "# ----------------------------------------------------------------------------------------\n",
    "if True:\n",
    "    @tf.function(autograph=False, experimental_compile=False)\n",
    "    def loss_custom_nll(index_points, observations):\n",
    "        gp = tfd.GaussianProcess(kernel=kernel_custom, index_points=index_points, observation_noise_variance=obs_noise_custom)\n",
    "        return -gp.log_prob(observations)\n",
    "\n",
    "    @tf.function(autograph=False, experimental_compile=False)\n",
    "    def mse(y_predict, y_true):\n",
    "        return tf.math.reduce_mean(tf.math.squared_difference(y_predict, y_true))\n",
    "\n",
    "    #@tf.function(autograph=False, experimental_compile=False)\n",
    "    def mse_2factor(y1_predict, y1_true, weight1, y2_predict, y2_true, weight2):\n",
    "        mse1 = mse(y1_predict, y1_true)\n",
    "        #print(\"mse1 = \", mse1 / weight1)\n",
    "        mse2 = mse(y2_predict, y2_true)*3\n",
    "        #mse2 = tf.math.reduce_mean(tf.math.reduce_sum(tf.math.squared_difference(y_predict, y_true), axis = 2))\n",
    "        #print(\"mse2 = \", mse2 / weight2)\n",
    "        return mse1 * weight1 + mse2 * weight2\n",
    "\n",
    "    # batch it\n",
    "    batches_custom = (\n",
    "        tf.data.Dataset.from_tensor_slices((observation_index_points, ens_observations, frcs_observations))\n",
    "        .shuffle(buffer_size=len(observation_index_points), seed=shuffle_seed)\n",
    "        .repeat(count=None)\n",
    "        .batch(batch_size)\n",
    "    )\n",
    "\n",
    "    optimizer_custom = tf.keras.optimizers.Adam(learning_rate=learn_rate)\n",
    "    \n",
    "    # ----------------- see if this works -----------------\n",
    "    print(observation_index_points.shape)\n",
    "    print(ens_observations.shape)\n",
    "    loss_custom_nll(observation_index_points, ens_observations)\n",
    "    # \n",
    "    \n",
    "\n",
    "    # First run through the data a few times, minimizing nll because this is more robust to bad hyperparameter initialization\n",
    "    n_epochs_custom_nll = 0\n",
    "    for j in range(n_epochs_custom_nll):\n",
    "        for i, (index_points_i, ens_observations_i, ignore_forces_here) in enumerate(islice(batches_custom, iterations_per_epoch)):\n",
    "                with tf.GradientTape() as tape:\n",
    "                    loss_custom_i = loss_custom_nll(index_points_i, ens_observations_i)\n",
    "                    loss_custom_i = tf.constant(loss_custom_i, dtype=np.float64)\n",
    "                grads = tape.gradient(loss_custom_i, trainable_variables_custom)\n",
    "                optimizer_custom.apply_gradients(zip(grads, trainable_variables_custom))\n",
    "\n",
    "    for j in range(n_epochs_custom):\n",
    "        \n",
    "        if not j % 10:\n",
    "            print(\"Custom learning, epoch {}\".format(j+1))\n",
    "            print([var for var in trainable_variables_custom])\n",
    "\n",
    "        split_data_j = train_test_split(train_sps, train_ens, train_d_sps, train_frcs, random_state =valid_split_seed+j, test_size=(1-valid_fract))\n",
    "        train_sps_j, valid_sps_j, train_ens_j, valid_ens_j, train_d_sps_j, valid_d_sps_j, train_frcs_j, valid_frcs_j = split_data_j\n",
    "        observation_index_points_j = tf.constant(train_sps_j, dtype=np.float64)\n",
    "        ens_observations_j = tf.constant(train_ens_j, dtype=np.float64)\n",
    "        d_sps_observations_j = tf.constant(train_d_sps_j, dtype=np.float64)\n",
    "        frcs_observations_j = tf.constant(train_frcs_j, dtype=np.float64)\n",
    "        heldout_index_points_j = tf.constant(valid_sps_j, dtype=np.float64)\n",
    "        heldout_ens_observations_j = tf.constant(valid_ens_j, dtype=np.float64)\n",
    "        heldout_d_sps_observations_j = tf.constant(valid_d_sps_j, dtype=np.float64)\n",
    "        heldout_frcs_observations_j = tf.constant(valid_frcs_j, dtype=np.float64)\n",
    "\n",
    "        if len(train_sps_j) < batch_size_custom_mse_max:\n",
    "            iterations_per_epoch_custom = 1\n",
    "            batch_size_custom = len(train_sps_j)\n",
    "        else:\n",
    "            iterations_per_epoch_custom = int(np.ceil(len(train_sps_j)/batch_size_custom_mse_max))\n",
    "            batch_size_custom = int(np.ceil(len(train_sps_j)/iterations_per_epoch_custom))\n",
    "\n",
    "        batches_custom_j = (\n",
    "            tf.data.Dataset.from_tensor_slices((observation_index_points_j, ens_observations_j, d_sps_observations_j, frcs_observations_j)) # frcs_observations_j_i might be extraneous\n",
    "            .shuffle(buffer_size=len(observation_index_points_j), seed=shuffle_seed) # Should I modify this to be seed = shuffle_seed + j or does it not matter?\n",
    "            .repeat(count=None)\n",
    "            .batch(batch_size_custom)\n",
    "        )\n",
    "        for i, (index_points_j_i, ens_observations_j_i, d_sps_observations_j_i, frcs_observations_j_i) \\\n",
    "                in enumerate(islice(batches_custom_j, iterations_per_epoch_custom)):\n",
    "            with tf.GradientTape() as tape:\n",
    "                with tf.GradientTape(watch_accessed_variables=False) as tape_d_ens:\n",
    "                    tape_d_ens.watch(heldout_index_points_j)    \n",
    "                    gprm_custom_j_i = tfd.GaussianProcessRegressionModel(\n",
    "                        kernel = kernel_custom,\n",
    "                        index_points = heldout_index_points_j,\n",
    "                        observation_index_points = index_points_j_i,\n",
    "                        observations = ens_observations_j_i,\n",
    "                        observation_noise_variance = obs_noise_custom)\n",
    "                    predict_ens_j_i = gprm_custom_j_i.sample()\n",
    "                predict_d_ens_j_i = tape_d_ens.gradient(predict_ens_j_i, heldout_index_points_j)\n",
    "                #predict_frcs_j_i = -predict_d_ens_j_i\n",
    "                predict_frcs_j_i = -1*np.einsum('imjkl,iml->ijk', heldout_d_sps_observations_j, predict_d_ens_j_i)#[:,1] # only get force of one atom while we are doing global soap\n",
    "                error_custom_j_i = mse_2factor(predict_ens_j_i, heldout_ens_observations_j, 1/ens_var,\n",
    "                                               predict_frcs_j_i, heldout_frcs_observations_j, 1/frcs_var)\n",
    "#                 print(\"predict_ens_j_i = \", predict_ens_j_i)\n",
    "#                 print(\"heldout_ens_observations_j = \", heldout_ens_observations_j)\n",
    "#                 print(\"1/ens_var = \", 1/ens_var)\n",
    "#                 print(\"predict_frcs_j_i = \", predict_frcs_j_i)\n",
    "#                 print(\"heldout_frcs_observations_j = \", heldout_frcs_observations_j)\n",
    "#                 print(\"1/frcs_var = \",1/frcs_var)\n",
    "#                 print(\"error value is \", error_custom_j_i)\n",
    "\n",
    "\n",
    "            grads = tape.gradient(error_custom_j_i, trainable_variables_custom)\n",
    "            optimizer_custom.apply_gradients(zip(grads, trainable_variables_custom))\n",
    "\n",
    "\n",
    "    with tf.GradientTape(watch_accessed_variables=False) as tape_d_ens:\n",
    "        tape_d_ens.watch(index_points)    \n",
    "\n",
    "        gprm_custom = tfd.GaussianProcessRegressionModel(\n",
    "            kernel=kernel_custom,\n",
    "            index_points=index_points,\n",
    "            observation_index_points=observation_index_points,\n",
    "            observations=ens_observations,\n",
    "            observation_noise_variance=obs_noise_custom)\n",
    "\n",
    "        predict_ens_custom = gprm_custom.mean()\n",
    "\n",
    "    predict_d_ens_custom = tape_d_ens.gradient(predict_ens_custom, index_points)\n",
    "    #predict_frcs_custom = -predict_d_ens_custom.numpy()\n",
    "    predict_frcs_custom = -1*np.einsum('imjkl,iml->ijk', test_d_sps, predict_d_ens_custom)#[:,1] # only get force of one atom while we are doing global soap\n",
    "\n",
    "    test_ens_rescaled = ens_scaler.inverse_transform(test_ens)\n",
    "    predict_ens_custom_rescaled = ens_scaler.inverse_transform(predict_ens_custom)\n",
    "    \n",
    "    \n",
    "# -------------------------------------------------------------------\n",
    "\n"
   ]
  },
  {
   "cell_type": "code",
   "execution_count": 310,
   "metadata": {},
   "outputs": [
    {
     "data": {
      "text/plain": [
       "<TransformedVariable: dtype=float64, shape=[], fn=\"chain_of_shift_of_exp\", numpy=547.9809621649451>"
      ]
     },
     "execution_count": 310,
     "metadata": {},
     "output_type": "execute_result"
    }
   ],
   "source": [
    "len_scale_custom"
   ]
  },
  {
   "cell_type": "code",
   "execution_count": 311,
   "metadata": {},
   "outputs": [
    {
     "data": {
      "text/plain": [
       "555.5706306238641"
      ]
     },
     "execution_count": 311,
     "metadata": {},
     "output_type": "execute_result"
    }
   ],
   "source": [
    "2.71828 ** 6.32"
   ]
  },
  {
   "cell_type": "code",
   "execution_count": 266,
   "metadata": {},
   "outputs": [
    {
     "data": {
      "text/plain": [
       "0.9999999999999997"
      ]
     },
     "execution_count": 266,
     "metadata": {},
     "output_type": "execute_result"
    }
   ],
   "source": [
    "ens_var"
   ]
  },
  {
   "cell_type": "code",
   "execution_count": 163,
   "metadata": {},
   "outputs": [
    {
     "data": {
      "text/plain": [
       "3.0608161268058254"
      ]
     },
     "execution_count": 163,
     "metadata": {},
     "output_type": "execute_result"
    }
   ],
   "source": [
    "frcs_var"
   ]
  },
  {
   "cell_type": "code",
   "execution_count": 151,
   "metadata": {},
   "outputs": [
    {
     "name": "stdout",
     "output_type": "stream",
     "text": [
      "[[ 0.42366108 -0.27044737  0.79860062]\n",
      " [-2.1934458  -0.33460732  0.46228477]\n",
      " [ 0.03180023  2.19336642 -0.17096575]\n",
      " [ 0.5968922   0.10324859  0.38115586]\n",
      " [ 0.44163391  0.21763934 -0.90019637]\n",
      " [ 0.77958163 -0.27005847  0.34546947]\n",
      " [ 0.45267421 -0.56035262 -0.24079694]\n",
      " [ 0.01317447 -0.01327991 -0.22928215]\n",
      " [-0.91007287 -0.52179764 -0.37979919]\n",
      " [ 0.36410091 -0.54371106 -0.06647036]] [[ 1.71427985 -1.48829012  0.13990549]\n",
      " [-0.86902898  0.44787949 -0.76250712]\n",
      " [ 0.98728045  1.69170588  0.50248613]\n",
      " [ 0.87259317 -0.62840336  0.25294642]\n",
      " [-1.53057187  0.60880869 -0.31186128]\n",
      " [ 0.30426144  0.24343568  0.94274718]\n",
      " [ 0.21013326 -0.24224817 -0.28017335]\n",
      " [-0.25167193  0.37683015 -0.22332282]\n",
      " [-1.41237643 -0.19642732 -0.13254497]\n",
      " [-0.02489896 -0.81329092 -0.12767572]] [[-1.29061877  1.21784275  0.65869513]\n",
      " [-1.32441682 -0.7824868   1.22479189]\n",
      " [-0.95548022  0.50166054 -0.67345188]\n",
      " [-0.27570097  0.73165195  0.12820944]\n",
      " [ 1.97220578 -0.39116935 -0.58833509]\n",
      " [ 0.47532019 -0.51349415 -0.5972777 ]\n",
      " [ 0.24254095 -0.31810445  0.03937641]\n",
      " [ 0.26484641 -0.39011006 -0.00595933]\n",
      " [ 0.50230356 -0.32537032 -0.24725421]\n",
      " [ 0.38899987  0.26957986  0.06120537]] [[1.66569681e+00 1.48314095e+00 4.33879273e-01]\n",
      " [1.75407991e+00 6.12285598e-01 1.50011516e+00]\n",
      " [9.12942451e-01 2.51663302e-01 4.53537438e-01]\n",
      " [7.60110245e-02 5.35314580e-01 1.64376605e-02]\n",
      " [3.88959563e+00 1.53013463e-01 3.46138182e-01]\n",
      " [2.25929286e-01 2.63676241e-01 3.56740657e-01]\n",
      " [5.88261117e-02 1.01190440e-01 1.55050196e-03]\n",
      " [7.01436192e-02 1.52185861e-01 3.55136211e-05]\n",
      " [2.52308871e-01 1.05865843e-01 6.11346464e-02]\n",
      " [1.51320897e-01 7.26733034e-02 3.74609683e-03]]\n",
      "[3.58271703 3.86648067 1.61814319 0.62776326 4.38874728 0.84634618\n",
      " 0.16156705 0.22236499 0.41930936 0.2277403 ]\n",
      "1.5961179328598936\n"
     ]
    }
   ],
   "source": [
    "print(predict_frcs_custom[0], test_frcs[0], predict_frcs_custom[0] - test_frcs[0], (predict_frcs_custom[0] - test_frcs[0]) ** 2)\n",
    "print((np.sum((predict_frcs_custom[0] - test_frcs[0]) ** 2, axis=1)))\n",
    "print(np.mean(np.sum((predict_frcs_custom[0] - test_frcs[0]) ** 2, axis=1)))"
   ]
  },
  {
   "cell_type": "code",
   "execution_count": 153,
   "metadata": {},
   "outputs": [
    {
     "data": {
      "text/plain": [
       "<tf.Tensor: shape=(), dtype=float64, numpy=1.5961179328598933>"
      ]
     },
     "execution_count": 153,
     "metadata": {},
     "output_type": "execute_result"
    }
   ],
   "source": [
    "mse(predict_frcs_custom[0], test_frcs[0])*3"
   ]
  },
  {
   "cell_type": "code",
   "execution_count": 131,
   "metadata": {},
   "outputs": [
    {
     "data": {
      "text/plain": [
       "(20, 2, 3)"
      ]
     },
     "execution_count": 131,
     "metadata": {},
     "output_type": "execute_result"
    }
   ],
   "source": [
    "test_frcs.shape"
   ]
  },
  {
   "cell_type": "code",
   "execution_count": 135,
   "metadata": {},
   "outputs": [
    {
     "data": {
      "text/plain": [
       "9.29499366143017"
      ]
     },
     "execution_count": 135,
     "metadata": {},
     "output_type": "execute_result"
    }
   ],
   "source": [
    "np.sum((predict_frcs_custom[0] - test_frcs[0]) **2)"
   ]
  },
  {
   "cell_type": "code",
   "execution_count": 319,
   "metadata": {},
   "outputs": [
    {
     "data": {
      "text/plain": [
       "<matplotlib.legend.Legend at 0x7f5013a25f50>"
      ]
     },
     "execution_count": 319,
     "metadata": {},
     "output_type": "execute_result"
    },
    {
     "data": {
      "image/png": "[encoded data removed]",
      "text/plain": [
       "<Figure size 432x288 with 1 Axes>"
      ]
     },
     "metadata": {
      "needs_background": "light"
     },
     "output_type": "display_data"
    }
   ],
   "source": [
    "plot_custom = True; plot_nll = False\n",
    "plt.plot(test_ens_rescaled, test_ens_rescaled, \"-\", c=\"k\")\n",
    "if plot_custom:\n",
    "    plt.plot(test_ens_rescaled, predict_ens_custom_rescaled ,\"o\", label=\"custom\", c=\"violet\", ms=10)\n",
    "if plot_nll:\n",
    "    plt.plot(test_ens, predict_ens_nll ,\"o\", label=\"nll\", c=\"lime\", ms=5)\n",
    "plt.legend()"
   ]
  },
  {
   "cell_type": "code",
   "execution_count": 320,
   "metadata": {},
   "outputs": [
    {
     "data": {
      "image/png": "[encoded data removed]",
      "text/plain": [
       "<Figure size 1440x360 with 3 Axes>"
      ]
     },
     "metadata": {
      "needs_background": "light"
     },
     "output_type": "display_data"
    }
   ],
   "source": [
    "\n",
    "rescaled_test_frcs = test_frcs * ens_scaler.scale_\n",
    "if plot_custom:\n",
    "    rescaled_predict_frcs_custom =  predict_frcs_custom * ens_scaler.scale_\n",
    "if plot_nll:\n",
    "    rescaled_predict_frcs_nll = predict_frcs_nll * ens_scaler.scale_\n",
    "\n",
    "\n",
    "\n",
    "fig, axs = plt.subplots(ncols=3, figsize=(20,5))\n",
    "components = [\"x\", \"y\", \"z\"]\n",
    "\n",
    "counts = [0,0,0]\n",
    "\n",
    "for i in range(3):\n",
    "    for j in range(rescaled_test_frcs.shape[1]):\n",
    "        axs[i].plot(rescaled_test_frcs[:,j,i], rescaled_test_frcs[:,j,i], \"o-\", c=\"k\")\n",
    "        if plot_custom:\n",
    "            axs[i].plot(rescaled_test_frcs[:,j,i], rescaled_predict_frcs_custom[:,j,i], \"o\", label=\"custom\", c=\"violet\", ms=3)\n",
    "            counts[i] +=1\n",
    "#             try:\n",
    "#                 print(i,j)\n",
    "#                 m, b = np.polyfit(rescaled_test_frcs[:,j,i], rescaled_predict_frcs_custom[:,j,i], 1)\n",
    "#                 r2 = np.corrcoef(rescaled_test_frcs[:,j,i], rescaled_predict_frcs_custom[:,j,i])[0,1]\n",
    "#                 print(\"Least-squares regresion for F{}({}) produces the line line m {}+b with m = {:.5f} and b = {:.5f} which has r2 = {:.5f} \".format(components[i],components[i],components[i],m,b, r2))\n",
    "#             except:\n",
    "#                 pass        \n",
    "        if plot_nll:\n",
    "            axs[i].plot(rescaled_test_frcs[:,j,i], rescaled_predict_frcs_nll[:,j,i], \"o\", label=\"nll\", c=\"lime\", ms=5)\n",
    "    #axs[i].legend()"
   ]
  },
  {
   "cell_type": "markdown",
   "metadata": {},
   "source": [
    "debugging the forces  \n",
    "it works now IF you don't send descriptor positions AND you use attach = True"
   ]
  },
  {
   "cell_type": "code",
   "execution_count": null,
   "metadata": {},
   "outputs": [],
   "source": [
    "# Collect input data for soap->energy/forces learning model without looping\n",
    "# Unlike above (in the Plottable_Model_Errors cell) I am collecting forces here as well\n",
    "\n",
    "# MD parameters\n",
    "my_element = \"O\"\n",
    "my_temp=300\n",
    "my_n = 200\n",
    "my_calc = \"EMT\"\n",
    "my_md_seed = 1\n",
    "\n",
    "# SOAP parameters\n",
    "get_local_descriptors = True\n",
    "my_nmax=5\n",
    "my_lmax=5\n",
    "\n",
    "from Molecular_Dynamics import make_diatomic\n",
    "#AtomsList = [make_diatomic(element = my_element, verbose=False, bond_length=L, calc_type=my_calc) for L in np.linspace(.8,1.2, my_n)]\n",
    "#AtomsList = generate_md_traj(from_diatomic=True, element=my_element, temperature=my_temp, nsteps=my_n, md_type = \"VelocityVerlet\", calc_type=my_calc, md_seed= my_md_seed)\n",
    "#AtomsList = read(\"../data/ManyGraphenes.gz\", \":{}\".format(my_n))\n",
    "AtomsList = read(\"../data/distorted_propanol.extxyz.gz\", \":{}\".format(my_n))\n",
    "PosList =  np.array([atoms.positions for atoms in AtomsList])#[:,1]# only get position of one atom while we are doing global soap\n",
    "\n",
    "EnergyList = np.array([atom.get_potential_energy() for atom in AtomsList], dtype=np.float64) # I had to change this to potential energy or the derivative doesn't work\n",
    "ForceList = np.array([atom.get_forces() for atom in AtomsList], dtype=np.float64)#[:,1] # only get force of one atom while we are doing global soap\n",
    "SoapDerivativeList, SoapList = get_dscribe_descriptors(AtomsList, species=np.unique(AtomsList[0].get_chemical_symbols()), attach=True, is_global= not get_local_descriptors, return_derivatives=True, nmax=my_nmax, lmax=my_lmax)\n",
    "#SoapDerivativeList = SoapDerivativeList[:,0,:,:,:]; SoapList = SoapList[:,0,:] # Using global soap right now so we can remove the local descriptor index\n",
    "#SoapList = SoapList[:,0,:] \n",
    "#SoapList = SoapList.reshape(len(SoapList),-1)"
   ]
  },
  {
   "cell_type": "code",
   "execution_count": 8,
   "metadata": {},
   "outputs": [
    {
     "data": {
      "text/plain": [
       "array([[0.],\n",
       "       [0.],\n",
       "       [0.]])"
      ]
     },
     "execution_count": 8,
     "metadata": {},
     "output_type": "execute_result"
    }
   ],
   "source": [
    "SoapDerivativeList[0,0,0]"
   ]
  },
  {
   "cell_type": "code",
   "execution_count": 18,
   "metadata": {},
   "outputs": [
    {
     "name": "stdout",
     "output_type": "stream",
     "text": [
      "[<class 'numpy.float64'>, <class 'numpy.float64'>, <class 'numpy.float64'>]\n"
     ]
    }
   ],
   "source": [
    "print([type(z) for z in SoapDerivativeList[0,0,0,:,0]])"
   ]
  },
  {
   "cell_type": "code",
   "execution_count": 53,
   "metadata": {},
   "outputs": [
    {
     "name": "stdout",
     "output_type": "stream",
     "text": [
      "[[[[[0.]\n",
      "    [0.]\n",
      "    [0.]]]]] 0.0\n",
      "[[[6.25043443]]]\n"
     ]
    }
   ],
   "source": [
    "from ase import build\n",
    "C = build.molecule(\"C\")\n",
    "a,b =get_dscribe_descriptors(C, species=[\"C\"], is_global= False, return_derivatives=True, nmax=1, lmax=0, attach=False, positions = [[[0.0,0.0,0.0]]])#, is_periodic=True)\n",
    "print(a, np.max(a)*1e10)\n",
    "print(b)"
   ]
  },
  {
   "cell_type": "code",
   "execution_count": 82,
   "metadata": {},
   "outputs": [
    {
     "name": "stdout",
     "output_type": "stream",
     "text": [
      "[[[[[0.]\n",
      "    [0.]\n",
      "    [0.]]]]] 0.0\n",
      "[[[6.25043443]]]\n"
     ]
    }
   ],
   "source": [
    "from ase import build\n",
    "C = build.molecule(\"C\")\n",
    "a,b =get_dscribe_descriptors(C, species=[\"C\"], is_global= False, return_derivatives=True, nmax=1, lmax=0, attach=False, positions = [[[0,0,0]]])#, is_periodic=True)\n",
    "print(a, np.max(a)*1e10)\n",
    "print(b)"
   ]
  },
  {
   "cell_type": "code",
   "execution_count": 261,
   "metadata": {},
   "outputs": [
    {
     "name": "stdout",
     "output_type": "stream",
     "text": [
      "[[[[0. 0. 0. 0. 0. 0. 0. 0.]\n",
      "   [0. 0. 0. 0. 0. 0. 0. 0.]\n",
      "   [0. 0. 0. 0. 0. 0. 0. 0.]]]] 0.0\n",
      "[[6.25043443 0.         0.         0.         0.         0.\n",
      "  0.         0.        ]]\n"
     ]
    }
   ],
   "source": [
    "from dscribe.descriptors import SOAP\n",
    "from ase import build\n",
    "C = build.molecule(\"C\")\n",
    "soap = SOAP(average=\"off\",  species=[\"C\"], periodic=False, rcut=3.2, nmax=1, lmax=7, rbf=\"gto\")\n",
    "a, b = soap.derivatives(C, attach=False, method=\"auto\")#, positions = [[0.0,0.0,0.0]])\n",
    "print(a, np.max(a)*1e10)\n",
    "print(b)"
   ]
  },
  {
   "cell_type": "code",
   "execution_count": 145,
   "metadata": {},
   "outputs": [
    {
     "data": {
      "text/plain": [
       "Atoms(symbols='H2', pbc=False, calculator=EMT(...))"
      ]
     },
     "execution_count": 145,
     "metadata": {},
     "output_type": "execute_result"
    }
   ],
   "source": []
  },
  {
   "cell_type": "code",
   "execution_count": 263,
   "metadata": {},
   "outputs": [
    {
     "name": "stdout",
     "output_type": "stream",
     "text": [
      "[[ 0.    0.   -2.15]\n",
      " [ 0.    0.    2.15]]\n",
      "[[[[ 0.        ]\n",
      "   [ 0.        ]\n",
      "   [ 0.        ]]\n",
      "\n",
      "  [[ 0.        ]\n",
      "   [ 0.        ]\n",
      "   [-0.00903833]]]\n",
      "\n",
      "\n",
      " [[[ 0.        ]\n",
      "   [ 0.        ]\n",
      "   [ 0.00903833]]\n",
      "\n",
      "  [[ 0.        ]\n",
      "   [ 0.        ]\n",
      "   [ 0.        ]]]] 0.009038327849984557\n",
      "[[6.25268831]\n",
      " [6.25268831]]\n"
     ]
    }
   ],
   "source": [
    "from dscribe.descriptors import SOAP\n",
    "H2 = make_diatomic(element = \"H\", verbose=False, bond_length=4.3)#build.molecule(\"H2\")\n",
    "print(H2.positions)\n",
    "soap = SOAP(average=\"off\",  species=[\"H\"], periodic=False, rcut=1.1, nmax=1, lmax=0, rbf=\"gto\")\n",
    "a, b = soap.derivatives(H2, attach=False)#, positions = H2.positions)\n",
    "nonzero_min =np.min(np.abs(np.ma.masked_equal(a, 0, copy=True)))\n",
    "print(a, nonzero_min)\n",
    "print(b)"
   ]
  },
  {
   "cell_type": "code",
   "execution_count": 140,
   "metadata": {},
   "outputs": [
    {
     "data": {
      "text/plain": [
       "(2, 3)"
      ]
     },
     "execution_count": 140,
     "metadata": {},
     "output_type": "execute_result"
    }
   ],
   "source": [
    "H2.positions.shape"
   ]
  },
  {
   "cell_type": "code",
   "execution_count": 131,
   "metadata": {},
   "outputs": [
    {
     "name": "stdout",
     "output_type": "stream",
     "text": [
      "[[[[  0.        ]\n",
      "   [  0.        ]\n",
      "   [  0.        ]]\n",
      "\n",
      "  [[  0.        ]\n",
      "   [  0.        ]\n",
      "   [ 11.84697057]]]\n",
      "\n",
      "\n",
      " [[[  0.        ]\n",
      "   [  0.        ]\n",
      "   [-11.84697057]]\n",
      "\n",
      "  [[  0.        ]\n",
      "   [  0.        ]\n",
      "   [  0.        ]]]]\n",
      "[[19.71902403]\n",
      " [19.71902403]]\n"
     ]
    }
   ],
   "source": [
    "from dscribe.descriptors import SOAP\n",
    "H2 = build.molecule(\"H2\")\n",
    "soap = SOAP(average=\"off\",  species=[\"H\"], periodic=False, rcut=3.2, nmax=1, lmax=0, rbf=\"gto\")\n",
    "a, b = soap.derivatives(H2, attach=False)#, positions = [[0.0,0.0,0.0]])\n",
    "print(a)\n",
    "print(b)"
   ]
  },
  {
   "cell_type": "code",
   "execution_count": 62,
   "metadata": {},
   "outputs": [
    {
     "name": "stdout",
     "output_type": "stream",
     "text": [
      "[[[[[0.]\n",
      "    [0.]\n",
      "    [0.]]]]] 0.0\n",
      "[[[6.25043443]]]\n"
     ]
    }
   ],
   "source": [
    "from ase import build\n",
    "C = build.molecule(\"C\")\n",
    "a,b =get_dscribe_descriptors(C, species=[\"C\"], is_global= False, return_derivatives=True, nmax=1, lmax=0, attach=True, positions = [[[0.0,0.0,0.0]]])#, is_periodic=True)\n",
    "print(a, np.max(a)*1e10)\n",
    "print(b)"
   ]
  },
  {
   "cell_type": "code",
   "execution_count": 83,
   "metadata": {},
   "outputs": [
    {
     "name": "stdout",
     "output_type": "stream",
     "text": [
      "[[[[[0.]\n",
      "    [0.]\n",
      "    [0.]]]]] 0.0\n",
      "[[[6.25043443]]]\n"
     ]
    }
   ],
   "source": [
    "from ase import build\n",
    "C = build.molecule(\"C\")\n",
    "a,b =get_dscribe_descriptors(C, species=[\"C\"], is_global= False, return_derivatives=True, nmax=1, lmax=0, attach=True, positions = [[[0,0,0]]])#, is_periodic=True)\n",
    "print(a, np.max(a)*1e10)\n",
    "print(b)"
   ]
  },
  {
   "cell_type": "code",
   "execution_count": 102,
   "metadata": {
    "scrolled": true
   },
   "outputs": [
    {
     "name": "stdout",
     "output_type": "stream",
     "text": [
      "(180, 10, 720)\n",
      "(180,)\n",
      "Custom learning, epoch 1\n",
      "(18, 10, 10, 3, 720) (18, 10, 720)\n",
      "(18, 10, 10, 3, 720) (18, 10, 720)\n",
      "(18, 10, 10, 3, 720) (18, 10, 720)\n",
      "(18, 10, 10, 3, 720) (18, 10, 720)\n",
      "(18, 10, 10, 3, 720) (18, 10, 720)\n",
      "(18, 10, 10, 3, 720) (18, 10, 720)\n",
      "(18, 10, 10, 3, 720) (18, 10, 720)\n",
      "(18, 10, 10, 3, 720) (18, 10, 720)\n",
      "(18, 10, 10, 3, 720) (18, 10, 720)\n",
      "(18, 10, 10, 3, 720) (18, 10, 720)\n",
      "(18, 10, 10, 3, 720) (18, 10, 720)\n",
      "(18, 10, 10, 3, 720) (18, 10, 720)\n",
      "(18, 10, 10, 3, 720) (18, 10, 720)\n",
      "(18, 10, 10, 3, 720) (18, 10, 720)\n",
      "(18, 10, 10, 3, 720) (18, 10, 720)\n",
      "(18, 10, 10, 3, 720) (18, 10, 720)\n",
      "(18, 10, 10, 3, 720) (18, 10, 720)\n",
      "(18, 10, 10, 3, 720) (18, 10, 720)\n",
      "(18, 10, 10, 3, 720) (18, 10, 720)\n",
      "(18, 10, 10, 3, 720) (18, 10, 720)\n",
      "Custom learning, epoch 11\n",
      "(18, 10, 10, 3, 720) (18, 10, 720)\n",
      "(18, 10, 10, 3, 720) (18, 10, 720)\n",
      "(18, 10, 10, 3, 720) (18, 10, 720)\n",
      "(18, 10, 10, 3, 720) (18, 10, 720)\n",
      "(18, 10, 10, 3, 720) (18, 10, 720)\n",
      "(18, 10, 10, 3, 720) (18, 10, 720)\n",
      "(18, 10, 10, 3, 720) (18, 10, 720)\n",
      "(18, 10, 10, 3, 720) (18, 10, 720)\n",
      "(18, 10, 10, 3, 720) (18, 10, 720)\n",
      "(18, 10, 10, 3, 720) (18, 10, 720)\n",
      "(18, 10, 10, 3, 720) (18, 10, 720)\n",
      "(18, 10, 10, 3, 720) (18, 10, 720)\n",
      "(18, 10, 10, 3, 720) (18, 10, 720)\n",
      "(18, 10, 10, 3, 720) (18, 10, 720)\n",
      "(18, 10, 10, 3, 720) (18, 10, 720)\n",
      "(18, 10, 10, 3, 720) (18, 10, 720)\n",
      "(18, 10, 10, 3, 720) (18, 10, 720)\n",
      "(18, 10, 10, 3, 720) (18, 10, 720)\n",
      "(18, 10, 10, 3, 720) (18, 10, 720)\n",
      "(18, 10, 10, 3, 720) (18, 10, 720)\n",
      "[[ 0.43186713 -0.26392863  0.8039073 ]\n",
      " [-2.20354381 -0.34135985  0.45523526]\n",
      " [ 0.03590245  2.19587603 -0.17391259]\n",
      " [ 0.6078737   0.09867683  0.38881525]\n",
      " [ 0.43835387  0.20462777 -0.90746089]\n",
      " [ 0.77795979 -0.25643624  0.36501189]\n",
      " [ 0.45056107 -0.56033958 -0.24946569]\n",
      " [ 0.01327821 -0.03006963 -0.22893508]\n",
      " [-0.92098241 -0.5125288  -0.38309382]\n",
      " [ 0.36872998 -0.53451793 -0.07010164]]\n",
      "[[ 0.58868333  0.03348931  0.33925462]\n",
      " [ 0.78275183  0.86093105  0.64526288]\n",
      " [-1.86199364  2.56181435  0.45485104]\n",
      " [ 1.44764881  0.46496486  0.29699313]\n",
      " [ 0.61955571 -0.24050756 -0.50571943]\n",
      " [ 0.08734679  0.71323033  4.36532745]\n",
      " [-0.50041988 -0.96138583  0.1157065 ]\n",
      " [ 3.96979059 -8.07263526 -0.48272776]\n",
      " [ 0.27717478 -0.31205176  0.14440511]\n",
      " [ 3.08497088 -0.42320251 -0.15702154]]\n",
      "[[[-1.56816207e-01 -2.97417936e-01  4.64652682e-01]\n",
      "  [-2.98629564e+00 -1.20229090e+00 -1.90027620e-01]\n",
      "  [ 1.89789610e+00 -3.65938312e-01 -6.28763633e-01]\n",
      "  [-8.39775104e-01 -3.66288023e-01  9.18221198e-02]\n",
      "  [-1.81201843e-01  4.45135330e-01 -4.01741466e-01]\n",
      "  [ 6.90613000e-01 -9.69666568e-01 -4.00031557e+00]\n",
      "  [ 9.50980945e-01  4.01046253e-01 -3.65172186e-01]\n",
      "  [-3.95651238e+00  8.04256563e+00  2.53792679e-01]\n",
      "  [-1.19815719e+00 -2.00477041e-01 -5.27498928e-01]\n",
      "  [-2.71624090e+00 -1.11315422e-01  8.69198974e-02]]\n",
      "\n",
      " [[ 5.13750728e-02 -2.78872998e-01  1.32477513e-01]\n",
      "  [-3.51129781e+00 -3.10413447e-01 -3.77657661e-02]\n",
      "  [ 1.85558372e+00 -4.72092267e-01 -3.09965571e-01]\n",
      "  [-1.06108410e+00 -1.53456552e-01 -7.79850163e-02]\n",
      "  [-4.54831129e-01 -1.41118222e-01 -7.05856776e-02]\n",
      "  [ 4.38193811e-01 -5.62708363e-01 -3.70710409e+00]\n",
      "  [ 6.45756100e-01  6.39268189e-01 -4.65726720e-01]\n",
      "  [-3.85865374e+00  7.49111032e+00 -3.15489884e-01]\n",
      "  [-1.06721505e+00  3.93053524e-01 -8.52839343e-02]\n",
      "  [-2.91820974e+00  1.60581608e-01  1.13290219e-01]]\n",
      "\n",
      " [[ 3.33625758e-01  4.38641510e-02 -8.23164690e-01]\n",
      "  [-3.73654571e+00  7.03879504e-01  1.77760123e+00]\n",
      "  [ 2.41997655e+00 -5.02071633e-01  2.99576864e-01]\n",
      "  [-9.91930588e-01 -1.16160463e+00 -2.22780588e-01]\n",
      "  [-7.69735676e-01 -1.11757695e+00  8.53706837e-01]\n",
      "  [-1.13520573e+00 -9.99622942e-01 -2.65742849e+00]\n",
      "  [-7.65785235e-02  1.78104341e+00 -1.53505748e+00]\n",
      "  [-3.76567775e+00  6.58604507e+00  7.36822480e-01]\n",
      "  [-1.12353220e+00  9.59429377e-01  4.52713856e-01]\n",
      "  [-2.42334564e+00 -2.07095609e-01 -2.00611674e-01]]\n",
      "\n",
      " [[ 2.20460801e+00  2.25655497e-01  9.25791686e-01]\n",
      "  [-3.34784631e+00  2.45894686e-02  1.25233292e+00]\n",
      "  [ 1.74929891e+00 -5.58440061e-01  1.68738966e-01]\n",
      "  [-1.35292078e+00  3.45832608e-01 -9.25999829e-01]\n",
      "  [-9.07540286e-01 -2.18583129e-02 -8.94537960e-01]\n",
      "  [-1.36263151e-01 -1.47524175e+00 -3.22185310e+00]\n",
      "  [ 1.34361231e+00  8.71611032e-01 -1.68945198e-01]\n",
      "  [-3.64350770e+00  7.86525943e+00  1.37913232e+00]\n",
      "  [-7.89867604e-01 -2.21821513e-01  4.32123469e-01]\n",
      "  [-3.08223512e+00 -2.59879105e-01  3.66654011e-01]]\n",
      "\n",
      " [[ 4.65395593e-01 -5.09614139e-01  1.85142435e+00]\n",
      "  [-3.26537564e+00 -1.12557024e+00 -3.90280855e-02]\n",
      "  [ 1.93433203e+00  4.48122578e-02 -6.08594670e-01]\n",
      "  [-8.87783012e-01 -6.43259761e-01 -8.57432833e-01]\n",
      "  [-7.28508985e-01 -9.15608145e-03 -1.27264779e+00]\n",
      "  [ 5.37838249e-01 -8.86772346e-01 -3.93915460e+00]\n",
      "  [ 5.72019722e-01  9.58295055e-01 -5.55707956e-01]\n",
      "  [-3.95946548e+00  8.00106488e+00 -2.65829604e-01]\n",
      "  [-1.40020413e+00  9.32346761e-02 -1.02543748e-01]\n",
      "  [-2.18292516e+00 -2.25247348e-01  6.11147703e-01]]\n",
      "\n",
      " [[ 4.43462257e-01 -2.74779692e-01  1.05380056e-01]\n",
      "  [-2.30930275e+00 -9.40546917e-01  1.66986378e-02]\n",
      "  [ 9.23256752e-01 -5.26457905e-01  1.60151024e-01]\n",
      "  [-1.24844849e+00  1.00546591e-01 -1.21203846e-01]\n",
      "  [-6.67198339e-02  3.21468198e-01 -6.96519123e-02]\n",
      "  [ 6.85330257e-01 -8.69980326e-01 -3.39314340e+00]\n",
      "  [ 1.54167837e+00  2.22060354e-01 -3.73779737e-01]\n",
      "  [-4.33899328e+00  7.71794803e+00  5.19691353e-01]\n",
      "  [-1.01466540e+00 -8.74763823e-02 -3.85455353e-02]\n",
      "  [-2.65902143e+00  1.26171352e-01  2.71995149e-01]]\n",
      "\n",
      " [[ 1.40925818e+00  2.14021937e-01 -4.47980400e+00]\n",
      "  [-3.48634159e+00 -5.84258185e-01  2.06810551e+00]\n",
      "  [ 2.61302863e+00 -8.48416785e-01  7.72022304e-01]\n",
      "  [-1.18022684e+00 -7.65360529e-01 -2.70502922e-01]\n",
      "  [-1.35867266e+00 -9.46441772e-01  1.95343896e+00]\n",
      "  [-4.81350842e-01  3.56655039e-02 -2.68720910e+00]\n",
      "  [ 4.28152651e-01  1.57317821e+00 -1.27745014e+00]\n",
      "  [-3.19860821e+00  6.06350907e+00  1.86312675e+00]\n",
      "  [-5.21499540e-01 -2.60196633e-01 -5.68102080e-01]\n",
      "  [-1.61887571e+00  1.49373152e-01  2.52600442e-01]]\n",
      "\n",
      " [[-1.41186076e-01 -3.52776246e-01  8.20983235e-01]\n",
      "  [-3.49314559e+00  1.48167228e-02  4.53172066e-01]\n",
      "  [ 2.01978823e+00 -6.93118906e-01 -1.65559573e-01]\n",
      "  [-1.27645022e+00 -1.29317953e-01 -1.88032092e-01]\n",
      "  [-4.97870133e-01 -1.97514825e-01 -4.80449482e-01]\n",
      "  [ 2.22346885e-02 -7.68901811e-01 -3.47981727e+00]\n",
      "  [ 1.14000038e+00  1.03040780e+00 -7.54707579e-01]\n",
      "  [-3.71565870e+00  7.12561852e+00 -1.48853087e-01]\n",
      "  [-1.14341035e+00  5.91765993e-01  4.94147748e-02]\n",
      "  [-2.47759052e+00  2.58475103e-01  1.97461079e-01]]\n",
      "\n",
      " [[-1.04559399e+00 -5.78127494e-01  1.36420979e+00]\n",
      "  [-3.67087393e+00 -9.00710553e-01  1.60425354e+00]\n",
      "  [ 2.59389838e+00 -4.37577549e-01  4.03925937e-02]\n",
      "  [-5.69141067e-01 -5.02222225e-01 -2.96680885e-01]\n",
      "  [-7.64725463e-02  4.48336090e-01 -9.66152881e-01]\n",
      "  [-1.11929144e+00 -1.56201698e+00 -2.94998340e+00]\n",
      "  [ 1.30966807e+00  1.16319819e+00 -5.29020559e-01]\n",
      "  [-3.46586096e+00  7.33341178e+00  5.32725498e-01]\n",
      "  [-1.10107659e+00 -5.15340415e-01  8.88482348e-02]\n",
      "  [-2.00239516e+00 -1.34161376e-01  1.13980998e-02]]\n",
      "\n",
      " [[-4.91123325e-01 -1.16003940e-01 -3.12935739e-01]\n",
      "  [-2.84144108e+00 -1.06740522e+00  7.03357725e-01]\n",
      "  [ 1.62710739e+00 -6.13535341e-01 -5.28191258e-02]\n",
      "  [-8.78439573e-01 -4.87491618e-01 -5.30519803e-02]\n",
      "  [-1.29239608e-01  2.68014398e-01 -1.76206789e-01]\n",
      "  [ 3.57223731e-01 -1.17879740e+00 -3.55271806e+00]\n",
      "  [ 1.28850207e+00  6.43506384e-01 -5.86457262e-01]\n",
      "  [-3.95544233e+00  7.55584822e+00  1.08428513e+00]\n",
      "  [-1.09485862e+00 -9.75167763e-02 -2.11760762e-01]\n",
      "  [-2.40212085e+00  9.08031184e-02 -2.89858011e-02]]\n",
      "\n",
      " [[ 1.19646326e+00 -1.13288410e+00 -4.67077999e-02]\n",
      "  [-3.90592761e+00  2.86572515e-02 -4.51321578e-02]\n",
      "  [ 2.43624073e+00 -5.75365679e-02 -3.18296666e-02]\n",
      "  [-9.26225630e-01  1.06923402e-01 -9.65136368e-02]\n",
      "  [-7.16349558e-01 -6.46716568e-02  8.01008659e-02]\n",
      "  [ 1.88838398e-01 -3.80028313e-01 -4.08931002e+00]\n",
      "  [ 1.83328736e-01  5.44187329e-01  1.94568487e-01]\n",
      "  [-3.42430681e+00  8.45049786e+00 -4.24125048e-01]\n",
      "  [-1.54283025e+00 -3.19702970e-01 -3.41288976e-02]\n",
      "  [-2.68987750e+00 -5.54015372e-01  2.58928305e-01]]\n",
      "\n",
      " [[ 8.50506641e-02 -7.37510504e-02 -5.41250408e-01]\n",
      "  [-2.31110699e+00 -2.25744303e-01  9.86663318e-01]\n",
      "  [ 1.21093003e+00 -1.26090970e+00  3.43091814e-01]\n",
      "  [-1.74036162e+00 -2.84251727e-01 -5.77361000e-01]\n",
      "  [-5.21935764e-01 -7.14394770e-02 -6.31394946e-01]\n",
      "  [ 4.79055738e-01 -3.62428890e-01 -3.02304936e+00]\n",
      "  [ 2.12011566e+00  9.07137950e-01 -1.38660008e+00]\n",
      "  [-3.80436442e+00  6.30443149e+00  1.43076711e+00]\n",
      "  [ 2.98394058e-01  6.07986409e-01  1.19141189e-01]\n",
      "  [-3.52927521e+00  5.54737906e-01  6.31007458e-01]]\n",
      "\n",
      " [[ 3.77941501e+00  3.85056993e-02 -4.77884548e+00]\n",
      "  [-3.18885210e+00 -8.44693823e-02  5.17267509e-01]\n",
      "  [ 2.10952371e+00 -5.44898986e-01 -1.56269027e-01]\n",
      "  [-2.04077473e+00 -1.02976998e-01  6.66923639e-01]\n",
      "  [-2.04535324e+00 -1.22376391e+00  2.86499715e+00]\n",
      "  [-8.82475076e-02  2.82889998e-01 -3.46668805e+00]\n",
      "  [ 6.09523597e-01  1.26545846e+00 -6.57841093e-01]\n",
      "  [-3.89505652e+00  7.93263625e+00  2.19068184e+00]\n",
      "  [-1.34712558e+00 -1.23523050e-01 -4.62588157e-01]\n",
      "  [-2.50569647e+00 -2.43674992e-01 -5.29937635e-01]]\n",
      "\n",
      " [[ 1.22943385e+00 -5.05111917e-01 -1.78474516e-01]\n",
      "  [-3.36602152e+00  5.55959885e-01 -3.55616328e-01]\n",
      "  [ 1.52033519e+00 -3.64603371e-01 -8.86212996e-02]\n",
      "  [-1.34150347e+00  1.22085970e-01  8.09248470e-02]\n",
      "  [-7.31391501e-01 -4.50769495e-01  2.18192719e-01]\n",
      "  [ 8.18956666e-01 -1.21615446e-01 -3.68478070e+00]\n",
      "  [ 7.43771896e-01  6.35016748e-01 -4.66491240e-01]\n",
      "  [-3.87956054e+00  7.31449251e+00 -3.61953235e-02]\n",
      "  [-6.24894713e-01  3.17054459e-01 -9.35224115e-02]\n",
      "  [-3.42568133e+00  2.69532721e-01  1.73632935e-01]]\n",
      "\n",
      " [[ 4.12270840e-02 -3.30505219e-01  1.78664359e-01]\n",
      "  [-3.12488494e+00 -4.01759340e-01  1.94114154e-01]\n",
      "  [ 1.65197700e+00 -5.55707212e-01 -2.14695334e-01]\n",
      "  [-1.18589664e+00 -1.14790166e-01 -3.64332849e-02]\n",
      "  [-3.31711118e-01  1.44168770e-02 -1.56723317e-01]\n",
      "  [ 3.76099316e-01 -7.84126386e-01 -3.63047359e+00]\n",
      "  [ 9.77343780e-01  6.33511909e-01 -5.38724551e-01]\n",
      "  [-3.98858810e+00  7.62082987e+00  3.28698827e-02]\n",
      "  [-1.03058225e+00  3.57517942e-01 -1.16672896e-01]\n",
      "  [-2.83343286e+00  1.80813222e-01  7.03043715e-02]]\n",
      "\n",
      " [[ 2.14842625e+00  8.06389061e-01  7.37491118e-01]\n",
      "  [-2.97383477e+00 -6.12084972e-01 -9.97770951e-01]\n",
      "  [ 1.22417215e+00 -3.71415558e-01 -2.79655477e-01]\n",
      "  [-1.11869627e+00 -9.90844005e-02 -4.55416272e-01]\n",
      "  [-8.10776442e-01  4.70547044e-04 -4.30365531e-01]\n",
      "  [ 6.65251097e-01 -3.26193744e-01 -3.26618604e+00]\n",
      "  [ 1.62109793e+00 -1.05447852e-03 -2.44758714e-01]\n",
      "  [-3.54768279e+00  6.47972676e+00 -1.63627883e+00]\n",
      "  [-2.70817081e-01  2.56826381e-01  1.12111622e+00]\n",
      "  [-3.47035906e+00  6.01034821e-01 -6.13685852e-03]]\n",
      "\n",
      " [[ 1.98062952e+00  1.11213516e+00 -1.55329437e+00]\n",
      "  [-3.39834586e+00  2.23045678e-01  2.09169384e+00]\n",
      "  [ 1.46652330e+00 -5.25720458e-01  5.19508651e-01]\n",
      "  [-1.38452422e+00 -2.97671626e-01 -4.23413058e-01]\n",
      "  [-9.01356526e-01 -7.17183114e-01 -9.46743767e-02]\n",
      "  [-4.01719031e-01 -8.73785295e-01 -2.53600715e+00]\n",
      "  [ 1.23718133e+00  1.00592055e+00 -1.17312250e+00]\n",
      "  [-3.35530100e+00  6.00539517e+00  1.74583926e+00]\n",
      "  [-2.02785792e-01  4.02017921e-01 -4.18749130e-01]\n",
      "  [-3.15579473e+00  1.31269581e-01  3.20924924e-01]]\n",
      "\n",
      " [[ 2.44873214e+00  6.47599797e-01  3.67537662e+00]\n",
      "  [-3.23043691e+00 -1.30417568e+00 -4.34300385e-01]\n",
      "  [ 2.13701078e+00 -3.03396672e-01 -6.32296086e-01]\n",
      "  [-1.47011800e+00 -2.65621370e-01 -1.18211807e-01]\n",
      "  [-1.47231682e+00 -4.07124281e-01 -2.04432878e+00]\n",
      "  [ 6.23121335e-01 -5.60364346e-01 -3.97696239e+00]\n",
      "  [ 1.30524899e+00  9.90473267e-01 -6.24338626e-01]\n",
      "  [-4.06181900e+00  7.53677780e+00 -1.65007483e+00]\n",
      "  [-1.42668536e+00 -1.90564363e-01  7.83462651e-02]\n",
      "  [-1.95542929e+00 -1.40652984e-01  1.83516675e-01]]\n",
      "\n",
      " [[-3.46844416e-01  1.79672536e-01  8.20543829e-02]\n",
      "  [-2.89682463e+00 -4.72059802e-02 -9.30996571e-02]\n",
      "  [ 1.65660232e+00 -8.75717963e-01 -3.95741757e-01]\n",
      "  [-1.40015323e+00 -6.62672061e-01  8.71012908e-01]\n",
      "  [-6.46427700e-01 -4.53604275e-01  6.48254332e-01]\n",
      "  [ 1.92881584e+00 -3.86776847e-01 -3.65804512e+00]\n",
      "  [ 1.18939984e+00  1.05431133e+00 -7.44831923e-01]\n",
      "  [-4.08066377e+00  6.09124350e+00  4.06533422e-01]\n",
      "  [-4.25081645e-01  3.70984581e-01 -8.23488380e-01]\n",
      "  [-3.61081132e+00  3.57439481e-01 -1.32828742e-01]]\n",
      "\n",
      " [[ 1.49045275e+00 -4.23803152e-01 -2.18565620e-01]\n",
      "  [-3.10940000e+00 -3.34784503e-02  5.52883192e-01]\n",
      "  [ 1.54711280e+00 -5.33488023e-01  2.17713191e-01]\n",
      "  [-1.46747093e+00  1.99711069e-01  6.75419490e-02]\n",
      "  [-7.59713284e-01 -3.06326930e-01  3.54614062e-01]\n",
      "  [-1.52610331e-01 -7.66493590e-01 -3.40111364e+00]\n",
      "  [ 1.11958105e+00  7.94994819e-01 -4.34431114e-01]\n",
      "  [-4.15895852e+00  7.94848055e+00  2.42027697e-01]\n",
      "  [-1.23996929e+00  2.71092796e-01  3.47506184e-01]\n",
      "  [-2.70506717e+00 -1.29511722e-01 -1.18865050e-01]]]\n"
     ]
    }
   ],
   "source": [
    "# This is my attempt at learning forces \n",
    "# Doesn't use LearnEnergyFromSoap because force learning is not yet implemented there (as of July 13th)\n",
    "\n",
    "split_seed = 1\n",
    "valid_split_seed = 1\n",
    "training_frac = 0.9\n",
    "valid_fract = 0.9\n",
    "\n",
    "split_data = train_test_split(SoapList, SoapDerivativeList, EnergyList, ForceList, PosList, range(len(SoapList)), \n",
    "                              random_state=split_seed, test_size=(1-training_frac))\n",
    "train_sps, test_sps, train_d_sps, test_d_sps, train_ens, test_ens, train_frcs, test_frcs, train_pos, test_pos, train_indices, test_indices = split_data\n",
    "\n",
    "# scaling\n",
    "# Standardize input for improved learning. Fit is done only on training data, scaling is applied to \n",
    "# both descriptors and their derivatives on training and test sets.\n",
    "# # pass with_mean=False to avoid breaking sparsity structure of data\n",
    "# soap_scaler = StandardScaler().fit(train_sps.reshape(-1,train_sps.shape[-1]))\n",
    "# train_sps, test_sps = soap_scaler.transform(train_sps), soap_scaler.transform(test_sps)\n",
    "# train_d_sps = train_d_sps / soap_scaler.scale_[None, None, None, :]\n",
    "# test_d_sps = test_d_sps / soap_scaler.scale_[None, None, None, :]\n",
    "\n",
    "train_sps, test_sps = train_sps.reshape(-1, SoapList.shape[-1]), test_sps.reshape(-1, SoapList.shape[-1])\n",
    "soap_scaler = StandardScaler().fit(train_sps)\n",
    "train_sps, test_sps = soap_scaler.transform(train_sps), soap_scaler.transform(test_sps)\n",
    "train_sps, test_sps = train_sps.reshape(-1, *SoapList.shape[1:]), test_sps.reshape(-1, *SoapList.shape[1:])\n",
    "test_d_sps /= soap_scaler.scale_[None, None, None, None, :]\n",
    "train_d_sps /= soap_scaler.scale_[None, None, None, None, :]\n",
    "\n",
    "# # Should I also rescale energies and/or forces?\n",
    "# # For now I will\n",
    "# ens_scaler = StandardScaler().fit(train_ens)\n",
    "# train_ens, test_ens = ens_scaler.transform(train_ens), ens_scaler.transform(test_ens)\n",
    "# train_frcs = train_frcs / ens_scaler.scale_#[None, :, None]\n",
    "# test_frcs = test_frcs / ens_scaler.scale_#[None, :, None]\n",
    "\n",
    "ens_scaler = StandardScaler().fit(train_ens[:,None])\n",
    "train_ens, test_ens = ens_scaler.transform(train_ens[:,None])[:,0], ens_scaler.transform(test_ens[:,None])[:,0]\n",
    "train_frcs = train_frcs / ens_scaler.scale_#[None, :, None]\n",
    "test_frcs = test_frcs / ens_scaler.scale_#[None, :, None]\n",
    "\n",
    "# # Should the variance be calculated before the rescaling?\n",
    "ens_var = train_ens.var(); frcs_var = train_frcs.var()\n",
    "\n",
    "#observation_index_points= tf.constant(np.array(train_pos), dtype=np.float64)\n",
    "observation_index_points= tf.constant(train_sps, dtype=np.float64)\n",
    "ens_observations = tf.constant(train_ens, dtype=np.float64)\n",
    "frcs_observations = tf.constant(train_frcs, dtype=np.float64)\n",
    "#index_points = tf.constant(np.array(test_pos), dtype=np.float64)\n",
    "index_points = tf.constant(test_sps, dtype=np.float64)\n",
    "#\n",
    "shuffle_seed = 1\n",
    "batch_size = 3\n",
    "batch_size_custom_mse_max = 100\n",
    "learn_rate = 0.025\n",
    "n_epochs = 20; n_epochs_nll = n_epochs; n_epochs_custom = n_epochs\n",
    "iterations_per_epoch = int(len(train_ens)/batch_size)\n",
    "#\n",
    "\n",
    "\n",
    "# initialize kernels and model hyperparameters\n",
    "# ----------------------------------------------------------------------------------------\n",
    "noise_init = 1e-5; amp_init = 0.1; len_init = 100\n",
    "constrain_positive = tfb.Shift(np.finfo(np.float64).tiny)(tfb.Exp())\n",
    "# nll (old approach)\n",
    "obs_noise_nll = tfp.util.TransformedVariable(initial_value=noise_init, bijector=constrain_positive, dtype=np.float64, name=\"noise_nll\")\n",
    "amplitude_nll = tfp.util.TransformedVariable(initial_value=amp_init, bijector=constrain_positive, dtype=np.float64, name=\"amplitude_nll\")\n",
    "len_scale_nll = tfp.util.TransformedVariable(initial_value=len_init, bijector=constrain_positive, dtype=np.float64, name=\"len_scale_nll\")\n",
    "kernel_nll = tfk.ExponentiatedQuadratic(amplitude=amplitude_nll, length_scale=len_scale_nll, name=\"kernel_nll\", feature_ndims=1)#SoapList.shape[1])\n",
    "trainable_variables_nll = [var.variables[0] for var in [amplitude_nll, len_scale_nll, obs_noise_nll]]\n",
    "# mostly mse, my custom approach\n",
    "# allows for forces to be considered during training\n",
    "obs_noise_custom = tfp.util.TransformedVariable(initial_value=noise_init, bijector=constrain_positive, dtype=np.float64, name=\"noise_custom\")\n",
    "amplitude_custom = tfp.util.TransformedVariable(initial_value=amp_init, bijector=constrain_positive, dtype=np.float64, name=\"amplitude_custom\")\n",
    "len_scale_custom = tfp.util.TransformedVariable(initial_value=len_init, bijector=constrain_positive, dtype=np.float64, name=\"len_scale_custom\")\n",
    "kernel_custom = tfk.ExponentiatedQuadratic(amplitude=amplitude_custom, length_scale=len_scale_custom, name=\"kernel_custom\", feature_ndims=2)\n",
    "trainable_variables_custom = [var.variables[0] for var in [amplitude_custom, len_scale_custom, obs_noise_custom]]\n",
    "# ----------------------------------------------------------------------------------------\n",
    "\n",
    "\n",
    "# ----------------------------------------------------------------------------------------\n",
    "# old/nll approach\n",
    "# ----------------------------------------------------------------------------------------\n",
    "@tf.function(autograph=False, experimental_compile=False)\n",
    "def loss_nll(index_points, observations):\n",
    "    gp = tfd.GaussianProcess(kernel=kernel_nll, index_points=index_points, observation_noise_variance=obs_noise_nll)\n",
    "    print(\"index_points.shape = \", index_points.shape)\n",
    "    print(\"observations.shape = \", observations.shape)\n",
    "    return -gp.log_prob(observations)\n",
    "\n",
    "# Define mini-batch data iterator\n",
    "batches_nll = (\n",
    "    tf.data.Dataset.from_tensor_slices((observation_index_points, ens_observations))\n",
    "    .shuffle(buffer_size=len(observation_index_points), seed=shuffle_seed)\n",
    "    .repeat(count=None)\n",
    "    .batch(batch_size)\n",
    ")\n",
    "#\n",
    "\n",
    "optimizer = tf.keras.optimizers.Adam(learning_rate=learn_rate)\n",
    "\n",
    "if False:\n",
    "    for j in range(n_epochs):\n",
    "\n",
    "        loss_nll_j = 0\n",
    "        for i, (index_points_i, ens_observations_i) in enumerate(islice(batches_nll, iterations_per_epoch)):\n",
    "            with tf.GradientTape() as tape:\n",
    "                loss_nll_i = loss_nll(index_points_i, ens_observations_i)\n",
    "                loss_nll_i = tf.constant(loss_nll_i, dtype=np.float64)\n",
    "                loss_nll_j += loss_nll_i\n",
    "            grads = tape.gradient(loss_nll_i, trainable_variables_nll)\n",
    "            optimizer.apply_gradients(zip(grads, trainable_variables_nll))\n",
    "        if not j % 4:\n",
    "            print(\"Old learning, epoch {} loss: {:10.0f}\".format(j, loss_nll_j))\n",
    "            print([(v.name, 2.71828**v.numpy()) for v in trainable_variables_nll])\n",
    "\n",
    "    with tf.GradientTape(watch_accessed_variables=False) as tape_d_ens:\n",
    "        tape_d_ens.watch(index_points)    \n",
    "        gprm_nll = tfd.GaussianProcessRegressionModel(\n",
    "            kernel=kernel_nll,\n",
    "            index_points=index_points,\n",
    "            observation_index_points=observation_index_points,\n",
    "            observations=ens_observations,\n",
    "            observation_noise_variance=obs_noise_nll)\n",
    "        print(index_points.shape)\n",
    "        print(observation_index_points.shape)\n",
    "        print(ens_observations.shape)\n",
    "        predict_ens_nll = gprm_nll.mean()\n",
    "\n",
    "    predict_d_ens_nll = tape_d_ens.gradient(predict_ens_nll, index_points)\n",
    "    #print(predict_d_ens_nll[:1])\n",
    "    #predict_d_ens_nll = predict_d_ens_nll[:,0,:]\n",
    "    #print(predict_d_ens_nll[:1])\n",
    "\n",
    "    print(\"predict_d_ens_nll.shape =\", predict_d_ens_nll.shape)\n",
    "    print(\"test_d_sps.shape = \", test_d_sps.shape )\n",
    "    print(\"\\ntest_d_sps[0][:,:,0] = \\n\", test_d_sps[0][:,:,0])\n",
    "    print(\"\\npredict_d_ens_nll[0] = \\n\", predict_d_ens_nll[0])\n",
    "    predict_frcs_nll = -1*np.einsum('imjkl,il->ijk', test_d_sps, predict_d_ens_nll)#[:,1] # only get force of one atom while we are doing global soap\n",
    "    print(\"\\npredict_frcs_nll[0][:,0] = \\n\", predict_frcs_nll[0][:,0])\n",
    "\n",
    "    # predict_d_ens_nll.shape = (75, 2, 18)\n",
    "    # test_d_sps.shape =  (75, 2, 2, 3, 18)\n",
    "    #     print(\"test_d_sps\", test_d_sps)\n",
    "    #     print(\"predict_d_ens_nll\", predict_d_ens_nll)\n",
    "    #     print(\"predict_frcs_nll\", -1*np.einsum('ijkl,il->ijk', test_d_sps, predict_d_ens_nll))\n",
    "    # ----------------------------------------------------------------------------------------\n",
    "\n",
    "\n",
    "# ----------------------------------------------------------------------------------------\n",
    "# custom/mostly mse approach\n",
    "# ----------------------------------------------------------------------------------------\n",
    "if True:\n",
    "    @tf.function(autograph=False, experimental_compile=False)\n",
    "    def loss_custom_nll(index_points, observations):\n",
    "        gp = tfd.GaussianProcess(kernel=kernel_custom, index_points=index_points, observation_noise_variance=obs_noise_custom)\n",
    "        return -gp.log_prob(observations)\n",
    "\n",
    "    @tf.function(autograph=False, experimental_compile=False)\n",
    "    def mse(y_predict, y_true):\n",
    "        return tf.math.reduce_mean(tf.math.squared_difference(y_predict, y_true))\n",
    "\n",
    "    #@tf.function(autograph=False, experimental_compile=False)\n",
    "    def mse_2factor(y1_predict, y1_true, weight1, y2_predict, y2_true, weight2):\n",
    "        mse1 = mse(y1_predict, y1_true)\n",
    "#         print(\"mse1 = \", mse1)\n",
    "        mse2 = mse(y2_predict, y2_true)\n",
    "#         print(\"mse2 = \", mse2)\n",
    "        return mse1 * weight1 + mse2 * weight2\n",
    "\n",
    "    # batch it\n",
    "    batches_custom = (\n",
    "        tf.data.Dataset.from_tensor_slices((observation_index_points, ens_observations, frcs_observations))\n",
    "        .shuffle(buffer_size=len(observation_index_points), seed=shuffle_seed)\n",
    "        .repeat(count=None)\n",
    "        .batch(batch_size)\n",
    "    )\n",
    "\n",
    "    optimizer_custom = tf.keras.optimizers.Adam(learning_rate=learn_rate)\n",
    "    \n",
    "    # ----------------- see if this works -----------------\n",
    "    print(observation_index_points.shape)\n",
    "    print(ens_observations.shape)\n",
    "    loss_custom_nll(observation_index_points, ens_observations)\n",
    "    # \n",
    "    \n",
    "\n",
    "    # First run through the data a few times, minimizing nll because this is more robust to bad hyperparameter initialization\n",
    "    n_epochs_custom_nll = 0\n",
    "    for j in range(n_epochs_custom_nll):\n",
    "        for i, (index_points_i, ens_observations_i, ignore_forces_here) in enumerate(islice(batches_custom, iterations_per_epoch)):\n",
    "                with tf.GradientTape() as tape:\n",
    "                    loss_custom_i = loss_custom_nll(index_points_i, ens_observations_i)\n",
    "                    loss_custom_i = tf.constant(loss_custom_i, dtype=np.float64)\n",
    "                grads = tape.gradient(loss_custom_i, trainable_variables_custom)\n",
    "                optimizer_custom.apply_gradients(zip(grads, trainable_variables_custom))\n",
    "\n",
    "    for j in range(n_epochs_custom):\n",
    "        if not j % 10:\n",
    "            print(\"Custom learning, epoch {}\".format(j+1))\n",
    "\n",
    "        split_data_j = train_test_split(train_sps, train_ens, train_d_sps, train_frcs, random_state =valid_split_seed+j, test_size=(1-valid_fract))\n",
    "        train_sps_j, valid_sps_j, train_ens_j, valid_ens_j, train_d_sps_j, valid_d_sps_j, train_frcs_j, valid_frcs_j = split_data_j\n",
    "        observation_index_points_j = tf.constant(train_sps_j, dtype=np.float64)\n",
    "        ens_observations_j = tf.constant(train_ens_j, dtype=np.float64)\n",
    "        d_sps_observations_j = tf.constant(train_d_sps_j, dtype=np.float64)\n",
    "        frcs_observations_j = tf.constant(train_frcs_j, dtype=np.float64)\n",
    "        heldout_index_points_j = tf.constant(valid_sps_j, dtype=np.float64)\n",
    "        heldout_ens_observations_j = tf.constant(valid_ens_j, dtype=np.float64)\n",
    "        heldout_d_sps_observations_j = tf.constant(valid_d_sps_j, dtype=np.float64)\n",
    "        heldout_frcs_observations_j = tf.constant(valid_frcs_j, dtype=np.float64)\n",
    "\n",
    "        if len(train_sps_j) < batch_size_custom_mse_max:\n",
    "            iterations_per_epoch_custom = 1\n",
    "            batch_size_custom = len(train_sps_j)\n",
    "        else:\n",
    "            iterations_per_epoch_custom = int(np.ceil(len(train_sps_j)/batch_size_custom_mse_max))\n",
    "            batch_size_custom = int(np.ceil(len(train_sps_j)/iterations_per_epoch_custom))\n",
    "\n",
    "        batches_custom_j = (\n",
    "            tf.data.Dataset.from_tensor_slices((observation_index_points_j, ens_observations_j, d_sps_observations_j, frcs_observations_j)) # frcs_observations_j_i might be extraneous\n",
    "            .shuffle(buffer_size=len(observation_index_points_j), seed=shuffle_seed) # Should I modify this to be seed = shuffle_seed + j or does it not matter?\n",
    "            .repeat(count=None)\n",
    "            .batch(batch_size_custom)\n",
    "        )\n",
    "        for i, (index_points_j_i, ens_observations_j_i, d_sps_observations_j_i, frcs_observations_j_i) \\\n",
    "                in enumerate(islice(batches_custom_j, iterations_per_epoch_custom)):\n",
    "            with tf.GradientTape() as tape:\n",
    "                with tf.GradientTape(watch_accessed_variables=False) as tape_d_ens:\n",
    "                    tape_d_ens.watch(heldout_index_points_j)    \n",
    "                    gprm_custom_j_i = tfd.GaussianProcessRegressionModel(\n",
    "                        kernel = kernel_custom,\n",
    "                        index_points = heldout_index_points_j,\n",
    "                        observation_index_points = index_points_j_i,\n",
    "                        observations = ens_observations_j_i,\n",
    "                        observation_noise_variance = obs_noise_custom)\n",
    "                    predict_ens_j_i = gprm_custom_j_i.sample()\n",
    "                predict_d_ens_j_i = tape_d_ens.gradient(predict_ens_j_i, heldout_index_points_j)\n",
    "                #predict_frcs_j_i = -predict_d_ens_j_i\n",
    "                print(heldout_d_sps_observations_j.shape, predict_d_ens_j_i.shape)\n",
    "                predict_frcs_j_i = -1*np.einsum('imjkl,iml->ijk', heldout_d_sps_observations_j, predict_d_ens_j_i)#[:,1] # only get force of one atom while we are doing global soap\n",
    "                error_custom_j_i = mse_2factor(predict_ens_j_i, heldout_ens_observations_j, 1,\n",
    "                                               predict_frcs_j_i, heldout_frcs_observations_j, 0)\n",
    "#                 print(\"predict_ens_j_i = \", predict_ens_j_i)\n",
    "#                 print(\"heldout_ens_observations_j = \", heldout_ens_observations_j)\n",
    "#                 print(\"1/ens_var = \", 1/ens_var)\n",
    "#                 print(\"predict_frcs_j_i = \", predict_frcs_j_i)\n",
    "#                 print(\"heldout_frcs_observations_j = \", heldout_frcs_observations_j)\n",
    "#                 print(\"1/frcs_var = \",1/frcs_var)\n",
    "#                 print(\"error value is \", error_custom_j_i)\n",
    "\n",
    "            grads = tape.gradient(error_custom_j_i, trainable_variables_custom)\n",
    "            optimizer_custom.apply_gradients(zip(grads, trainable_variables_custom))\n",
    "\n",
    "\n",
    "    with tf.GradientTape(watch_accessed_variables=False) as tape_d_ens:\n",
    "        tape_d_ens.watch(index_points)    \n",
    "\n",
    "        gprm_custom = tfd.GaussianProcessRegressionModel(\n",
    "            kernel=kernel_custom,\n",
    "            index_points=index_points,\n",
    "            observation_index_points=observation_index_points,\n",
    "            observations=ens_observations,\n",
    "            observation_noise_variance=obs_noise_custom)\n",
    "\n",
    "        predict_ens_custom = gprm_custom.mean()\n",
    "\n",
    "    predict_d_ens_custom = tape_d_ens.gradient(predict_ens_custom, index_points)\n",
    "    #predict_frcs_custom = -predict_d_ens_custom.numpy()\n",
    "    predict_frcs_custom = -1*np.einsum('imjkl,iml->ijk', test_d_sps, predict_d_ens_custom)#[:,1] # only get force of one atom while we are doing global soap\n",
    "\n",
    "    test_ens_rescaled = ens_scaler.inverse_transform(test_ens)\n",
    "    predict_ens_custom_rescaled = ens_scaler.inverse_transform(predict_ens_custom)\n",
    "# -------------------------------------------------------------------\n",
    "\n"
   ]
  },
  {
   "cell_type": "code",
   "execution_count": 966,
   "metadata": {},
   "outputs": [],
   "source": [
    "with tf.GradientTape(watch_accessed_variables=False) as tape_d_ens:\n",
    "    tape_d_ens.watch(index_points)    \n",
    "\n",
    "    gprm_custom = tfd.GaussianProcessRegressionModel(\n",
    "        kernel=kernel_custom,\n",
    "        index_points=index_points,\n",
    "        observation_index_points=observation_index_points,\n",
    "        observations=ens_observations,\n",
    "        observation_noise_variance=obs_noise_custom)\n",
    "\n",
    "    predict_ens_custom = gprm_custom.mean()\n",
    "\n",
    "predict_d_ens_custom = tape_d_ens.gradient(predict_ens_custom, index_points)"
   ]
  },
  {
   "cell_type": "code",
   "execution_count": 967,
   "metadata": {
    "scrolled": true
   },
   "outputs": [
    {
     "name": "stdout",
     "output_type": "stream",
     "text": [
      "[[-1.1147624]\n",
      " [-1.1147624]] -1.113100526954491 -1.091838990403284 [[0.48953626]\n",
      " [0.48953626]]\n",
      "[[-1.2505031]\n",
      " [-1.2505031]] -1.251733481683372 -1.2247294325550548 [[0.48946498]\n",
      " [0.48946498]]\n",
      "[[0.51412517]\n",
      " [0.51412517]] 0.5160604976352723 0.5036184319129635 [[0.4897398]\n",
      " [0.4897398]]\n",
      "[[-1.1473402]\n",
      " [-1.1473402]] -1.1477590457315303 -1.123734443536673 [[0.48951992]\n",
      " [0.48951992]]\n",
      "[[-1.5654212]\n",
      " [-1.5654212]] -1.5636467063562884 -1.5329524047790901 [[0.48926744]\n",
      " [0.48926744]]\n",
      "[[1.0733765]\n",
      " [1.0733765]] 1.070762629231371 1.051290798202217 [[0.4895321]\n",
      " [0.4895321]]\n",
      "[[0.41096228]\n",
      " [0.41096228]] 0.4120591706501882 0.40257005467921125 [[0.48976261]\n",
      " [0.48976261]]\n",
      "[[-1.1799179]\n",
      " [-1.1799179]] -1.182417377786332 -1.1556288159293402 [[0.48950309]\n",
      " [0.48950309]]\n",
      "[[-0.729259]\n",
      " [-0.729259]] -0.7318444960892719 -0.7143383776456051 [[0.48969316]\n",
      " [0.48969316]]\n",
      "[[-0.5935184]\n",
      " [-0.5935184]] -0.5932003373432849 -0.5813903443077812 [[0.48973236]\n",
      " [0.48973236]]\n"
     ]
    }
   ],
   "source": [
    "for i in range(len(test_sps)):\n",
    "    print(test_sps[i], test_ens[i], predict_ens_custom[i].numpy(), predict_d_ens_custom[i].numpy())"
   ]
  },
  {
   "cell_type": "code",
   "execution_count": 10,
   "metadata": {},
   "outputs": [
    {
     "name": "stdout",
     "output_type": "stream",
     "text": [
      "test_d_sps[5] = \n",
      " [[[[     0.        ]\n",
      "   [     0.        ]\n",
      "   [ 34317.53950151]]\n",
      "\n",
      "  [[     0.        ]\n",
      "   [     0.        ]\n",
      "   [-34317.53950151]]]\n",
      "\n",
      "\n",
      " [[[     0.        ]\n",
      "   [     0.        ]\n",
      "   [ 34317.53950151]]\n",
      "\n",
      "  [[     0.        ]\n",
      "   [     0.        ]\n",
      "   [-34317.53950151]]]]\n",
      "predict_d_ens_custom[5] = \n",
      " tf.Tensor(\n",
      "[[0.4895878]\n",
      " [0.4895878]], shape=(2, 1), dtype=float64)\n",
      "predict_frcs_custom[5] = \n",
      " [[    -0.             -0.         -33602.89754955]\n",
      " [    -0.             -0.          33602.89754955]]\n",
      "mj2l,ml->j2\n",
      "[-33602.89754955  33602.89754955]\n",
      "[[     0.              0.         -34323.67357564]\n",
      " [     0.              0.          34323.67357564]]\n"
     ]
    }
   ],
   "source": [
    "print(\"test_d_sps[5] = \\n\", test_d_sps[5])\n",
    "print(\"predict_d_ens_custom[5] = \\n\", predict_d_ens_custom[5])\n",
    "print(\"predict_frcs_custom[5] = \\n\", predict_frcs_custom[5])\n",
    "print('mj2l,ml->j2')\n",
    "print(-1*np.einsum('mjl,ml->j', test_d_sps[5,:,:,2,:], predict_d_ens_custom[5,:,:]))\n",
    "print(test_frcs[5])\n",
    "\n"
   ]
  },
  {
   "cell_type": "code",
   "execution_count": 31,
   "metadata": {},
   "outputs": [
    {
     "name": "stdout",
     "output_type": "stream",
     "text": [
      "Least-squares regresion produces the line m dist+b with m = -8.53966 and b = 8.48090 which has r2 = -0.99993 \n"
     ]
    },
    {
     "data": {
      "image/png": "[encoded data removed]",
      "text/plain": [
       "<Figure size 432x288 with 1 Axes>"
      ]
     },
     "metadata": {
      "needs_background": "light"
     },
     "output_type": "display_data"
    }
   ],
   "source": [
    "from scipy.spatial.distance import euclidean as Distance_scipy\n",
    "dists = [Distance_scipy(*pos) for pos in test_pos]\n",
    "sps = test_sps[:,0,0]\n",
    "plt.plot(dists, sps, \"o\")\n",
    "m, b = np.polyfit(dists, sps, 1)\n",
    "r2 = np.corrcoef(dists, sps)[0,1]\n",
    "print(\"Least-squares regresion produces the line m dist+b with m = {:.5f} and b = {:.5f} which has r2 = {:.5f} \".format(m, b, r2))\n"
   ]
  },
  {
   "cell_type": "code",
   "execution_count": 32,
   "metadata": {},
   "outputs": [
    {
     "name": "stdout",
     "output_type": "stream",
     "text": [
      "Least-squares regresion produces the line m dist+b with m = 0.62426 and b = -0.13122 which has r2 = 0.90914 \n"
     ]
    },
    {
     "data": {
      "image/png": "[encoded data removed]",
      "text/plain": [
       "<Figure size 432x288 with 1 Axes>"
      ]
     },
     "metadata": {
      "needs_background": "light"
     },
     "output_type": "display_data"
    }
   ],
   "source": [
    "from scipy.spatial.distance import euclidean as Distance_scipy\n",
    "sps = test_sps[:,0,0]\n",
    "ens = test_ens\n",
    "plt.plot(sps, ens, \"o\")\n",
    "m, b = np.polyfit(sps, ens, 1)\n",
    "r2 = np.corrcoef(sps, ens,)[0,1]\n",
    "print(\"Least-squares regresion produces the line m dist+b with m = {:.5f} and b = {:.5f} which has r2 = {:.5f} \".format(m, b, r2))\n"
   ]
  },
  {
   "cell_type": "code",
   "execution_count": 96,
   "metadata": {},
   "outputs": [
    {
     "data": {
      "text/plain": [
       "<matplotlib.legend.Legend at 0x7f5036745c10>"
      ]
     },
     "execution_count": 96,
     "metadata": {},
     "output_type": "execute_result"
    },
    {
     "data": {
      "image/png": "[encoded data removed]",
      "text/plain": [
       "<Figure size 432x288 with 1 Axes>"
      ]
     },
     "metadata": {
      "needs_background": "light"
     },
     "output_type": "display_data"
    }
   ],
   "source": [
    "plot_custom = True; plot_nll = False\n",
    "plt.plot(test_ens_rescaled, np.zeros(len(test_ens)), \"-\", c=\"k\")\n",
    "if plot_custom:\n",
    "    plt.plot(test_ens_rescaled, predict_ens_custom_rescaled-test_ens_rescaled ,\"o\", label=\"custom\", c=\"violet\", ms=10)\n",
    "if plot_nll:\n",
    "    plt.plot(test_ens_rescaled, predict_ens_nll_rescaled-test_ens_rescaled ,\"o\", label=\"nll\", c=\"lime\", ms=5)\n",
    "plt.legend()\n"
   ]
  },
  {
   "cell_type": "code",
   "execution_count": 97,
   "metadata": {},
   "outputs": [
    {
     "data": {
      "text/plain": [
       "<matplotlib.legend.Legend at 0x7f50543d4b50>"
      ]
     },
     "execution_count": 97,
     "metadata": {},
     "output_type": "execute_result"
    },
    {
     "data": {
      "image/png": "[encoded data removed]",
      "text/plain": [
       "<Figure size 432x288 with 1 Axes>"
      ]
     },
     "metadata": {
      "needs_background": "light"
     },
     "output_type": "display_data"
    }
   ],
   "source": [
    "plot_custom = True; plot_nll = False\n",
    "plt.plot(test_ens, test_ens, \"-\", c=\"k\")\n",
    "if plot_custom:\n",
    "    plt.plot(test_ens, predict_ens_custom ,\"o\", label=\"custom\", c=\"violet\", ms=10)\n",
    "if plot_nll:\n",
    "    plt.plot(test_ens, predict_ens_nll ,\"o\", label=\"nll\", c=\"lime\", ms=5)\n",
    "plt.legend()"
   ]
  },
  {
   "cell_type": "code",
   "execution_count": 101,
   "metadata": {},
   "outputs": [
    {
     "data": {
      "image/png": "[encoded data removed]",
      "text/plain": [
       "<Figure size 1440x360 with 3 Axes>"
      ]
     },
     "metadata": {
      "needs_background": "light"
     },
     "output_type": "display_data"
    }
   ],
   "source": [
    "\n",
    "rescaled_test_frcs = test_frcs * ens_scaler.scale_\n",
    "if plot_custom:\n",
    "    rescaled_predict_frcs_custom =  predict_frcs_custom * ens_scaler.scale_\n",
    "if plot_nll:\n",
    "    rescaled_predict_frcs_nll = predict_frcs_nll * ens_scaler.scale_\n",
    "\n",
    "\n",
    "\n",
    "fig, axs = plt.subplots(ncols=3, figsize=(20,5))\n",
    "components = [\"x\", \"y\", \"z\"]\n",
    "\n",
    "counts = [0,0,0]\n",
    "\n",
    "for i in range(3):\n",
    "    for j in range(rescaled_test_frcs.shape[1]):\n",
    "        axs[i].plot(rescaled_test_frcs[:,j,i], rescaled_test_frcs[:,j,i], \"o-\", c=\"k\")\n",
    "        if plot_custom:\n",
    "            axs[i].plot(rescaled_test_frcs[:,j,i], rescaled_predict_frcs_custom[:,j,i], \"o\", label=\"custom\", c=\"violet\", ms=3)\n",
    "            counts[i] +=1\n",
    "#             try:\n",
    "#                 print(i,j)\n",
    "#                 m, b = np.polyfit(rescaled_test_frcs[:,j,i], rescaled_predict_frcs_custom[:,j,i], 1)\n",
    "#                 r2 = np.corrcoef(rescaled_test_frcs[:,j,i], rescaled_predict_frcs_custom[:,j,i])[0,1]\n",
    "#                 print(\"Least-squares regresion for F{}({}) produces the line line m {}+b with m = {:.5f} and b = {:.5f} which has r2 = {:.5f} \".format(components[i],components[i],components[i],m,b, r2))\n",
    "#             except:\n",
    "#                 pass        \n",
    "        if plot_nll:\n",
    "            axs[i].plot(rescaled_test_frcs[:,j,i], rescaled_predict_frcs_nll[:,j,i], \"o\", label=\"nll\", c=\"lime\", ms=5)\n",
    "    #axs[i].legend()"
   ]
  },
  {
   "cell_type": "code",
   "execution_count": 103,
   "metadata": {},
   "outputs": [
    {
     "data": {
      "image/png": "[encoded data removed]",
      "text/plain": [
       "<Figure size 1440x360 with 3 Axes>"
      ]
     },
     "metadata": {
      "needs_background": "light"
     },
     "output_type": "display_data"
    }
   ],
   "source": [
    "\n",
    "rescaled_test_frcs = test_frcs * ens_scaler.scale_\n",
    "if plot_custom:\n",
    "    rescaled_predict_frcs_custom =  predict_frcs_custom * ens_scaler.scale_\n",
    "if plot_nll:\n",
    "    rescaled_predict_frcs_nll = predict_frcs_nll * ens_scaler.scale_\n",
    "\n",
    "\n",
    "\n",
    "fig, axs = plt.subplots(ncols=3, figsize=(20,5))\n",
    "components = [\"x\", \"y\", \"z\"]\n",
    "\n",
    "counts = [0,0,0]\n",
    "\n",
    "for i in range(3):\n",
    "    for j in range(rescaled_test_frcs.shape[1]):\n",
    "        axs[i].plot(rescaled_test_frcs[:,j,i], rescaled_test_frcs[:,j,i], \"o-\", c=\"k\")\n",
    "        if plot_custom:\n",
    "            axs[i].plot(rescaled_test_frcs[:,j,i], rescaled_predict_frcs_custom[:,j,i], \"o\", label=\"custom\", c=\"violet\", ms=3)\n",
    "            counts[i] +=1\n",
    "#             try:\n",
    "#                 print(i,j)\n",
    "#                 m, b = np.polyfit(rescaled_test_frcs[:,j,i], rescaled_predict_frcs_custom[:,j,i], 1)\n",
    "#                 r2 = np.corrcoef(rescaled_test_frcs[:,j,i], rescaled_predict_frcs_custom[:,j,i])[0,1]\n",
    "#                 print(\"Least-squares regresion for F{}({}) produces the line line m {}+b with m = {:.5f} and b = {:.5f} which has r2 = {:.5f} \".format(components[i],components[i],components[i],m,b, r2))\n",
    "#             except:\n",
    "#                 pass        \n",
    "        if plot_nll:\n",
    "            axs[i].plot(rescaled_test_frcs[:,j,i], rescaled_predict_frcs_nll[:,j,i], \"o\", label=\"nll\", c=\"lime\", ms=5)\n",
    "    #axs[i].legend()"
   ]
  },
  {
   "cell_type": "markdown",
   "metadata": {},
   "source": [
    "Now with polynomial kernel"
   ]
  },
  {
   "cell_type": "code",
   "execution_count": 78,
   "metadata": {},
   "outputs": [
    {
     "name": "stdout",
     "output_type": "stream",
     "text": [
      "Old learning, epoch 0 loss:       1036\n",
      "<TransformedVariable: dtype=float64, shape=[], fn=\"chain_of_shift_of_exp\", numpy=9.999999999999996e-11>\n",
      "<TransformedVariable: dtype=float64, shape=[], fn=\"chain_of_shift_of_exp\", numpy=5.264346569566937>\n",
      "Old learning, epoch 10 loss:        257\n",
      "<TransformedVariable: dtype=float64, shape=[], fn=\"chain_of_shift_of_exp\", numpy=9.999999999994347e-11>\n",
      "<TransformedVariable: dtype=float64, shape=[], fn=\"chain_of_shift_of_exp\", numpy=0.0003167384302860716>\n",
      "Old learning, epoch 20 loss:        256\n",
      "<TransformedVariable: dtype=float64, shape=[], fn=\"chain_of_shift_of_exp\", numpy=9.999999999992962e-11>\n",
      "<TransformedVariable: dtype=float64, shape=[], fn=\"chain_of_shift_of_exp\", numpy=0.00027292594941086983>\n",
      "(20, 2)\n",
      "(180, 2)\n",
      "(180,)\n",
      "predict_d_ens_nll.shape = (20, 2)\n",
      "test_d_sps.shape =  (20, 112, 112, 3, 2)\n",
      "\n",
      "test_d_sps[0][:,:,0] = \n",
      " [[[ 0.0000000e+00  1.8211912e-01]\n",
      "  [-1.1813260e+01 -2.8771907e-01]\n",
      "  [-1.8961560e+00 -1.3441440e-01]\n",
      "  ...\n",
      "  [-1.6820769e-01 -7.4983765e-03]\n",
      "  [-2.4366602e-02 -2.2390899e-03]\n",
      "  [-9.3267061e-02 -9.8400097e-03]]\n",
      "\n",
      " [[ 1.4589543e+01 -9.5139325e-02]\n",
      "  [ 0.0000000e+00 -1.7530112e-02]\n",
      "  [-7.0118952e-01 -1.6488997e-02]\n",
      "  ...\n",
      "  [-4.4943132e+00  6.9392622e-03]\n",
      "  [-1.7061107e+00 -2.1184981e-02]\n",
      "  [-2.1712198e+00 -4.3992590e-02]]\n",
      "\n",
      " [[ 2.4523635e+00  3.1152987e-03]\n",
      "  [ 7.3430127e-01 -7.7249254e-03]\n",
      "  [ 0.0000000e+00 -2.0535555e-02]\n",
      "  ...\n",
      "  [-1.9815197e+00  8.8236207e-04]\n",
      "  [-4.9475689e+00  4.7869184e-03]\n",
      "  [-1.4599176e+01  8.6198314e-05]]\n",
      "\n",
      " ...\n",
      "\n",
      " [[ 2.0296463e-01 -3.9294190e-04]\n",
      "  [ 4.3910246e+00  1.2766017e-02]\n",
      "  [ 1.8486816e+00  2.9718855e-02]\n",
      "  ...\n",
      "  [ 0.0000000e+00 -3.8821522e-02]\n",
      "  [-3.3525136e-01 -1.9288080e-02]\n",
      "  [ 2.0128160e+00  4.2270083e-02]]\n",
      "\n",
      " [[ 3.1089874e-02  5.9799437e-05]\n",
      "  [ 1.7626222e+00  1.8227447e-03]\n",
      "  [ 4.8809576e+00  1.0164619e-02]\n",
      "  ...\n",
      "  [ 3.5450310e-01 -1.3891435e-02]\n",
      "  [ 0.0000000e+00 -3.5626732e-02]\n",
      "  [ 1.4659622e+01  1.4194751e-02]]\n",
      "\n",
      " [[ 1.1969586e-01  1.1898629e-04]\n",
      "  [ 2.2562265e+00  3.6982070e-03]\n",
      "  [ 1.4486665e+01  1.7936993e-02]\n",
      "  ...\n",
      "  [-2.1408212e+00 -3.7938943e-03]\n",
      "  [-1.4745166e+01 -1.4235352e-02]\n",
      "  [ 0.0000000e+00  1.4212202e-02]]]\n",
      "\n",
      "predict_d_ens_nll[0] = \n",
      " tf.Tensor([-8.58331818  4.05612384], shape=(2,), dtype=float64)\n",
      "\n",
      "predict_frcs_nll[0][:,0] = \n",
      " [ 7.46641215e+01  1.24497922e+01  1.07045976e+01  8.62265367e+01\n",
      " -2.07644991e+02  2.18790177e+02  1.68980148e+02 -1.64235861e+02\n",
      " -2.31777500e+01 -8.83734520e+01 -8.22925529e+01 -1.79077431e+01\n",
      " -1.37167211e+00 -2.17007858e+01 -1.10704077e+01 -2.86250588e+00\n",
      "  3.04745196e+00  1.45965390e+00  3.62591218e+00  5.56256328e+00\n",
      "  7.46333182e+00  3.68173861e+00  4.00679307e+00  1.26553585e+00\n",
      " -6.42732006e+00 -6.74742262e-02 -3.74966820e+00  3.21981284e+00\n",
      "  9.63590184e+01  9.48263260e+00  1.29069436e+01  6.09553822e+01\n",
      " -2.10728290e+02  2.25500804e+02  2.14962772e+02 -2.14336009e+02\n",
      " -2.65066731e+01 -9.37951081e+01 -9.38701774e+01 -2.36662843e+01\n",
      "  1.19447259e+01 -2.47983198e+00  4.37685776e+00  4.13270895e+00\n",
      " -1.40239141e-01  6.93172480e+00  1.94402824e+00 -4.09181892e+00\n",
      " -9.64756722e+00 -2.37686951e+01 -2.41347275e+01  1.34291658e+01\n",
      "  5.10421214e+00  1.90906363e+01  8.97680722e+00 -8.86349725e+00\n",
      "  9.43250666e+01  1.23110855e+01  2.05449045e+01  9.77876833e+01\n",
      " -2.10507805e+02  2.22439413e+02  2.15783647e+02 -2.16493694e+02\n",
      " -2.92091032e+01 -9.25050138e+01 -9.34307986e+01 -2.55052473e+01\n",
      " -1.21890655e+01 -9.04161705e+00 -7.91689532e-01  8.77924221e+00\n",
      "  2.02776744e+01 -9.69819398e+00 -5.25688332e+00  4.22445277e+00\n",
      " -5.46092900e+00  5.76798065e+00  5.28724007e+00 -1.47877301e+01\n",
      "  1.16006099e+01  5.23545370e+00  9.54394011e-01  1.35722158e+00\n",
      "  8.88614205e+01  1.30787702e+01  2.02686746e+01  9.89138836e+01\n",
      " -1.64532038e+02  1.76405283e+02  2.19756534e+02 -2.10443591e+02\n",
      " -1.10280055e+01 -8.21974813e+01 -8.92414212e+01 -3.03569149e+01\n",
      " -5.44488864e-01 -1.04599796e+01 -1.15684643e+01 -6.24292133e+00\n",
      "  1.25119853e+01  5.70070926e+00  9.75024457e+00  2.33654421e+01\n",
      " -1.33500007e+01  7.06515132e+00 -3.80427252e+00 -1.49625399e+00\n",
      "  4.33704293e-02 -1.52744996e+01 -1.21991430e+01  3.74378111e+00]\n"
     ]
    }
   ],
   "source": [
    "# This is my attempt at learning forces \n",
    "# Doesn't use LearnEnergyFromSoap because force learning is not yet implemented there (as of July 13th)\n",
    "\n",
    "split_seed = 1\n",
    "valid_split_seed = 1\n",
    "training_frac = 0.9\n",
    "valid_fract = 0.9\n",
    "\n",
    "split_data = train_test_split(SoapList, SoapDerivativeList, EnergyList, ForceList, PosList, range(len(SoapList)), \n",
    "                              random_state=split_seed, test_size=(1-training_frac))\n",
    "train_sps, test_sps, train_d_sps, test_d_sps, train_ens, test_ens, train_frcs, test_frcs, train_pos, test_pos, train_indices, test_indices = split_data\n",
    "\n",
    "# scaling\n",
    "# Standardize input for improved learning. Fit is done only on training data, scaling is applied to \n",
    "# both descriptors and their derivatives on training and test sets.\n",
    "# # pass with_mean=False to avoid breaking sparsity structure of data\n",
    "# soap_scaler = StandardScaler().fit(train_sps.reshape(-1,train_sps.shape[-1]))\n",
    "# train_sps, test_sps = soap_scaler.transform(train_sps), soap_scaler.transform(test_sps)\n",
    "# train_d_sps = train_d_sps / soap_scaler.scale_[None, None, None, :]\n",
    "# test_d_sps = test_d_sps / soap_scaler.scale_[None, None, None, :]\n",
    "\n",
    "# # Should I also rescale energies and/or forces?\n",
    "# # For now I will\n",
    "# ens_scaler = StandardScaler().fit(train_ens)\n",
    "# train_ens, test_ens = ens_scaler.transform(train_ens), ens_scaler.transform(test_ens)\n",
    "# train_frcs = train_frcs / ens_scaler.scale_#[None, :, None]\n",
    "# test_frcs = test_frcs / ens_scaler.scale_#[None, :, None]\n",
    "\n",
    "ens_scaler = StandardScaler().fit(train_ens[:,None])\n",
    "train_ens, test_ens = ens_scaler.transform(train_ens[:,None])[:,0], ens_scaler.transform(test_ens[:,None])[:,0]\n",
    "train_frcs = train_frcs / ens_scaler.scale_#[None, :, None]\n",
    "test_frcs = test_frcs / ens_scaler.scale_#[None, :, None]\n",
    "\n",
    "# # Should the variance be calculated before the rescaling?\n",
    "ens_var = train_ens.var(); frcs_var = train_frcs.var()\n",
    "\n",
    "#observation_index_points= tf.constant(np.array(train_pos), dtype=np.float64)\n",
    "observation_index_points= tf.constant(train_sps, dtype=np.float64)\n",
    "ens_observations = tf.constant(train_ens, dtype=np.float64)\n",
    "frcs_observations = tf.constant(train_frcs, dtype=np.float64)\n",
    "#index_points = tf.constant(np.array(test_pos), dtype=np.float64)\n",
    "index_points = tf.constant(test_sps, dtype=np.float64)\n",
    "#\n",
    "shuffle_seed = 1\n",
    "batch_size = 3\n",
    "batch_size_custom_mse_max = 100\n",
    "learn_rate = 0.05\n",
    "n_epochs = 21; n_epochs_nll = n_epochs; n_epochs_custom = n_epochs\n",
    "iterations_per_epoch = int(len(train_ens)/batch_size)\n",
    "#\n",
    "\n",
    "\n",
    "# initialize kernels and model hyperparameters\n",
    "# ----------------------------------------------------------------------------------------\n",
    "noise_init = 1e2; bias_var_init = 1e-10; slope_var_init=1e2\n",
    "constrain_positive = tfb.Shift(np.finfo(np.float64).tiny)(tfb.Exp())\n",
    "# nll (old approach)\n",
    "exp_nll = tf.constant(2.0, dtype=np.float64)\n",
    "bias_variance_nll = tfp.util.TransformedVariable(initial_value=bias_var_init, bijector=constrain_positive, dtype=np.float64, name=\"bias_var_nll\")\n",
    "slope_variance_nll = tfp.util.TransformedVariable(initial_value=slope_var_init, bijector=constrain_positive, dtype=np.float64, name=\"slope_var_nll\")\n",
    "obs_noise_nll = tfp.util.TransformedVariable(initial_value=noise_init, bijector=constrain_positive, dtype=np.float64, name=\"noise_nll\")\n",
    "p_kernel_nll = tfk.Polynomial(exponent=exp_nll, slope_variance=slope_variance_nll, bias_variance=bias_variance_nll, name=\"p_kernel_nll\", feature_ndims=1)#SoapList.shape[1])\n",
    "trainable_variables_nll = [var.variables[0] for var in [ obs_noise_nll, bias_variance_nll, slope_variance_nll]]\n",
    "# mostly mse, my custom approach\n",
    "# allows for forces to be considered during training\n",
    "obs_noise_custom = tfp.util.TransformedVariable(initial_value=noise_init, bijector=constrain_positive, dtype=np.float64, name=\"noise_custom\")\n",
    "exp_custom = tf.constant(2.0, dtype=np.float64)\n",
    "p_kernel_custom = tfk.Polynomial(exponent=exp_custom, name=\"p_kernel_custom\", feature_ndims=1)#SoapList.shape[1])\n",
    "trainable_variables_custom = [var.variables[0] for var in [obs_noise_custom]]\n",
    "# ----------------------------------------------------------------------------------------\n",
    "\n",
    "\n",
    "# ----------------------------------------------------------------------------------------\n",
    "# old/nll approach\n",
    "# ----------------------------------------------------------------------------------------\n",
    "#@tf.function(autograph=False, experimental_compile=False)\n",
    "def loss_nll(index_points, observations):\n",
    "    gp = tfd.GaussianProcess(kernel=p_kernel_nll, index_points=index_points, observation_noise_variance=obs_noise_nll)\n",
    "    #print(\"index_points.shape = \", index_points.shape)\n",
    "    #print(\"observations.shape = \", observations.shape)\n",
    "    return -gp.log_prob(observations)\n",
    "\n",
    "# Define mini-batch data iterator\n",
    "batches_nll = (\n",
    "    tf.data.Dataset.from_tensor_slices((observation_index_points, ens_observations))\n",
    "    .shuffle(buffer_size=len(observation_index_points), seed=shuffle_seed)\n",
    "    .repeat(count=None)\n",
    "    .batch(batch_size)\n",
    ")\n",
    "#\n",
    "\n",
    "optimizer = tf.keras.optimizers.Adam(learning_rate=learn_rate)\n",
    "\n",
    "for j in range(n_epochs):\n",
    "    loss_nll_j = 0\n",
    "    for i, (index_points_i, ens_observations_i) in enumerate(islice(batches_nll, iterations_per_epoch)):\n",
    "        with tf.GradientTape() as tape:\n",
    "            loss_nll_i = loss_nll(index_points_i, ens_observations_i)\n",
    "            loss_nll_i = tf.constant(loss_nll_i, dtype=np.float64)\n",
    "            loss_nll_j += loss_nll_i\n",
    "        grads = tape.gradient(loss_nll_i, trainable_variables_nll)\n",
    "        optimizer.apply_gradients(zip(grads, trainable_variables_nll))\n",
    "    if not j % 10:\n",
    "        print(\"Old learning, epoch {} loss: {:10.0f}\".format(j, loss_nll_j))\n",
    "        print(bias_variance_nll)\n",
    "        print(slope_variance_nll)\n",
    "\n",
    "with tf.GradientTape(watch_accessed_variables=False) as tape_d_ens:\n",
    "    tape_d_ens.watch(index_points)    \n",
    "    gprm_nll = tfd.GaussianProcessRegressionModel(\n",
    "        kernel=kernel_nll,\n",
    "        index_points=index_points,\n",
    "        observation_index_points=observation_index_points,\n",
    "        observations=ens_observations,\n",
    "        observation_noise_variance=obs_noise_nll)\n",
    "    print(index_points.shape)\n",
    "    print(observation_index_points.shape)\n",
    "    print(ens_observations.shape)\n",
    "    predict_ens_nll = gprm_nll.mean()\n",
    "\n",
    "predict_d_ens_nll = tape_d_ens.gradient(predict_ens_nll, index_points)\n",
    "#print(predict_d_ens_nll[:1])\n",
    "#predict_d_ens_nll = predict_d_ens_nll[:,0,:]\n",
    "#print(predict_d_ens_nll[:1])\n",
    "\n",
    "print(\"predict_d_ens_nll.shape =\", predict_d_ens_nll.shape)\n",
    "print(\"test_d_sps.shape = \", test_d_sps.shape )\n",
    "print(\"\\ntest_d_sps[0][:,:,0] = \\n\", test_d_sps[0][:,:,0])\n",
    "print(\"\\npredict_d_ens_nll[0] = \\n\", predict_d_ens_nll[0])\n",
    "predict_frcs_nll = -1*np.einsum('imjkl,il->ijk', test_d_sps, predict_d_ens_nll)#[:,1] # only get force of one atom while we are doing global soap\n",
    "print(\"\\npredict_frcs_nll[0][:,0] = \\n\", predict_frcs_nll[0][:,0])\n",
    "\n",
    "# predict_d_ens_nll.shape = (75, 2, 18)\n",
    "# test_d_sps.shape =  (75, 2, 2, 3, 18)\n",
    "#     print(\"test_d_sps\", test_d_sps)\n",
    "#     print(\"predict_d_ens_nll\", predict_d_ens_nll)\n",
    "#     print(\"predict_frcs_nll\", -1*np.einsum('ijkl,il->ijk', test_d_sps, predict_d_ens_nll))\n",
    "# ----------------------------------------------------------------------------------------\n",
    "\n",
    "\n",
    "# ----------------------------------------------------------------------------------------\n",
    "# custom/mostly mse approach\n",
    "# ----------------------------------------------------------------------------------------\n",
    "if False:\n",
    "    @tf.function(autograph=False, experimental_compile=False)\n",
    "    def loss_custom_nll(index_points, observations):\n",
    "        gp = tfd.GaussianProcess(kernel=kernel_custom, index_points=index_points, observation_noise_variance=obs_noise_custom)\n",
    "        return -gp.log_prob(observations)\n",
    "\n",
    "    @tf.function(autograph=False, experimental_compile=False)\n",
    "    def mse(y_predict, y_true):\n",
    "        return tf.math.reduce_mean(tf.math.squared_difference(y_predict, y_true))\n",
    "\n",
    "    #@tf.function(autograph=False, experimental_compile=False)\n",
    "    def mse_2factor(y1_predict, y1_true, weight1, y2_predict, y2_true, weight2):\n",
    "        mse1 = mse(y1_predict, y1_true)\n",
    "#         print(\"mse1 = \", mse1)\n",
    "        mse2 = mse(y2_predict, y2_true)\n",
    "#         print(\"mse2 = \", mse2)\n",
    "        return mse1 * weight1 + mse2 * weight2\n",
    "\n",
    "    # batch it\n",
    "    batches_custom = (\n",
    "        tf.data.Dataset.from_tensor_slices((observation_index_points, ens_observations, frcs_observations))\n",
    "        .shuffle(buffer_size=len(observation_index_points), seed=shuffle_seed)\n",
    "        .repeat(count=None)\n",
    "        .batch(batch_size)\n",
    "    )\n",
    "\n",
    "    optimizer_custom = tf.keras.optimizers.Adam(learning_rate=learn_rate)\n",
    "\n",
    "    # First run through the data a few times, minimizing nll because this is more robust to bad hyperparameter initialization\n",
    "    n_epochs_custom_nll = 3\n",
    "    for j in range(n_epochs_custom_nll):\n",
    "        for i, (index_points_i, ens_observations_i, ignore_forces_here) in enumerate(islice(batches_custom, iterations_per_epoch)):\n",
    "                with tf.GradientTape() as tape:\n",
    "                    loss_custom_i = loss_custom_nll(index_points_i, ens_observations_i)\n",
    "                    loss_custom_i = tf.constant(loss_custom_i, dtype=np.float64)\n",
    "                grads = tape.gradient(loss_custom_i, trainable_variables_custom)\n",
    "                optimizer_custom.apply_gradients(zip(grads, trainable_variables_custom))\n",
    "\n",
    "    for j in range(n_epochs_custom):\n",
    "        if not j % 10:\n",
    "            print(\"Custom learning, epoch {}\".format(j+1))\n",
    "\n",
    "        split_data_j = train_test_split(train_sps, train_ens, train_d_sps, train_frcs, random_state =valid_split_seed+j, test_size=(1-valid_fract))\n",
    "        train_sps_j, valid_sps_j, train_ens_j, valid_ens_j, train_d_sps_j, valid_d_sps_j, train_frcs_j, valid_frcs_j = split_data_j\n",
    "        observation_index_points_j = tf.constant(train_sps_j, dtype=np.float64)\n",
    "        ens_observations_j = tf.constant(train_ens_j, dtype=np.float64)\n",
    "        d_sps_observations_j = tf.constant(train_d_sps_j, dtype=np.float64)\n",
    "        frcs_observations_j = tf.constant(train_frcs_j, dtype=np.float64)\n",
    "        heldout_index_points_j = tf.constant(valid_sps_j, dtype=np.float64)\n",
    "        heldout_ens_observations_j = tf.constant(valid_ens_j, dtype=np.float64)\n",
    "        heldout_d_sps_observations_j = tf.constant(valid_d_sps_j, dtype=np.float64)\n",
    "        heldout_frcs_observations_j = tf.constant(valid_frcs_j, dtype=np.float64)\n",
    "\n",
    "        if len(train_sps_j) < batch_size_custom_mse_max:\n",
    "            iterations_per_epoch_custom = 1\n",
    "            batch_size_custom = len(train_sps_j)\n",
    "        else:\n",
    "            iterations_per_epoch_custom = int(np.ceil(len(train_sps_j)/batch_size_custom_mse_max))\n",
    "            batch_size_custom = int(np.ceil(len(train_sps_j)/iterations_per_epoch_custom))\n",
    "\n",
    "        batches_custom_j = (\n",
    "            tf.data.Dataset.from_tensor_slices((observation_index_points_j, ens_observations_j, d_sps_observations_j, frcs_observations_j)) # frcs_observations_j_i might be extraneous\n",
    "            .shuffle(buffer_size=len(observation_index_points_j), seed=shuffle_seed) # Should I modify this to be seed = shuffle_seed + j or does it not matter?\n",
    "            .repeat(count=None)\n",
    "            .batch(batch_size_custom)\n",
    "        )\n",
    "        for i, (index_points_j_i, ens_observations_j_i, d_sps_observations_j_i, frcs_observations_j_i) \\\n",
    "                in enumerate(islice(batches_custom_j, iterations_per_epoch_custom)):\n",
    "            with tf.GradientTape() as tape:\n",
    "                with tf.GradientTape(watch_accessed_variables=False) as tape_d_ens:\n",
    "                    tape_d_ens.watch(heldout_index_points_j)    \n",
    "                    gprm_custom_j_i = tfd.GaussianProcessRegressionModel(\n",
    "                        kernel = kernel_custom,\n",
    "                        index_points = heldout_index_points_j,\n",
    "                        observation_index_points = index_points_j_i,\n",
    "                        observations = ens_observations_j_i,\n",
    "                        observation_noise_variance = obs_noise_custom)\n",
    "                    predict_ens_j_i = gprm_custom_j_i.sample()\n",
    "                predict_d_ens_j_i = tape_d_ens.gradient(predict_ens_j_i, heldout_index_points_j)\n",
    "                #predict_frcs_j_i = -predict_d_ens_j_i\n",
    "                predict_frcs_j_i = -1*np.einsum('imjkl,il->ijk', heldout_d_sps_observations_j, predict_d_ens_j_i)#[:,1] # only get force of one atom while we are doing global soap\n",
    "                error_custom_j_i = mse_2factor(predict_ens_j_i, heldout_ens_observations_j, 1/ens_var,\n",
    "                                               predict_frcs_j_i, heldout_frcs_observations_j, 1/frcs_var)\n",
    "#                 print(\"predict_ens_j_i = \", predict_ens_j_i)\n",
    "#                 print(\"heldout_ens_observations_j = \", heldout_ens_observations_j)\n",
    "#                 print(\"1/ens_var = \", 1/ens_var)\n",
    "#                 print(\"predict_frcs_j_i = \", predict_frcs_j_i)\n",
    "#                 print(\"heldout_frcs_observations_j = \", heldout_frcs_observations_j)\n",
    "#                 print(\"1/frcs_var = \",1/frcs_var)\n",
    "#                 print(\"error value is \", error_custom_j_i)\n",
    "\n",
    "            grads = tape.gradient(error_custom_j_i, trainable_variables_custom)\n",
    "            optimizer_custom.apply_gradients(zip(grads, trainable_variables_custom))\n",
    "\n",
    "\n",
    "    with tf.GradientTape(watch_accessed_variables=False) as tape_d_ens:\n",
    "        tape_d_ens.watch(index_points)    \n",
    "\n",
    "        gprm_custom = tfd.GaussianProcessRegressionModel(\n",
    "            kernel=kernel_custom,\n",
    "            index_points=index_points,\n",
    "            observation_index_points=observation_index_points,\n",
    "            observations=ens_observations,\n",
    "            observation_noise_variance=obs_noise_custom)\n",
    "\n",
    "        predict_ens_custom = gprm_custom.mean()\n",
    "\n",
    "    predict_d_ens_custom = tape_d_ens.gradient(predict_ens_custom, index_points)\n",
    "    #predict_frcs_custom = -predict_d_ens_custom.numpy()\n",
    "    predict_frcs_custom = -1*np.einsum('imjkl,il->ijk', test_d_sps, predict_d_ens_custom)#[:,1] # only get force of one atom while we are doing global soap\n",
    "# -------------------------------------------------------------------\n",
    "\n"
   ]
  },
  {
   "cell_type": "code",
   "execution_count": 80,
   "metadata": {},
   "outputs": [
    {
     "data": {
      "text/plain": [
       "<matplotlib.legend.Legend at 0x7fc268a71890>"
      ]
     },
     "execution_count": 80,
     "metadata": {},
     "output_type": "execute_result"
    },
    {
     "data": {
      "image/png": "[encoded data removed]",
      "text/plain": [
       "<Figure size 432x288 with 1 Axes>"
      ]
     },
     "metadata": {
      "needs_background": "light"
     },
     "output_type": "display_data"
    }
   ],
   "source": [
    "plot_custom = False; plot_nll = True\n",
    "plt.plot(test_ens, test_ens, \"-\", c=\"k\")\n",
    "if plot_custom:\n",
    "    plt.plot(test_ens, predict_ens_custom,\"o\", label=\"custom\", c=\"violet\", ms=10)\n",
    "if plot_nll:\n",
    "    plt.plot(test_ens, predict_ens_nll,\"o\", label=\"nll\", c=\"lime\", ms=5)\n",
    "plt.legend()"
   ]
  },
  {
   "cell_type": "code",
   "execution_count": null,
   "metadata": {},
   "outputs": [],
   "source": []
  },
  {
   "cell_type": "code",
   "execution_count": 57,
   "metadata": {},
   "outputs": [],
   "source": [
    "noise_init = 1e-5; amp_init = 1; len_init = 3\n",
    "constrain_positive = tfb.Shift(np.finfo(np.float64).tiny)(tfb.Exp())\n",
    "# nll (old approach)\n",
    "obs_noise_nll = tfp.util.TransformedVariable(initial_value=noise_init, bijector=constrain_positive, dtype=np.float64, name=\"noise_nll\")\n",
    "amplitude_nll = tfp.util.TransformedVariable(initial_value=amp_init, bijector=constrain_positive, dtype=np.float64, name=\"amplitude_nll\")\n",
    "len_scale_nll = tfp.util.TransformedVariable(initial_value=len_init, bijector=constrain_positive, dtype=np.float64, name=\"len_scale_nll\")\n",
    "kernel_nll = tfk.ExponentiatedQuadratic(amplitude=amplitude_nll, length_scale=len_scale_nll, name=\"kernel_nll\", feature_ndims=2)"
   ]
  },
  {
   "cell_type": "code",
   "execution_count": 58,
   "metadata": {},
   "outputs": [
    {
     "name": "stdout",
     "output_type": "stream",
     "text": [
      "batch_shape =  ()\n",
      "feature dimensions =  2\n",
      "obs_index_points.shape =  (3, 2, 18)\n",
      "observations.shape =  (3,)\n",
      "index_points.shape =  (5, 2, 18)\n",
      "predicitons =  tf.Tensor([0.38338199 0.58308328 0.43920567 0.54515858 0.59879727], shape=(5,), dtype=float64)\n"
     ]
    }
   ],
   "source": [
    "def loss_nll(index_points, observations):\n",
    "\n",
    "    gp = tfd.GaussianProcess(kernel=kernel_nll, index_points=index_points, observation_noise_variance=obs_noise_nll)\n",
    "    print(\"index_points.shape = \", index_points.shape)\n",
    "    print(\"observations.shape = \", observations.shape)\n",
    "    return -gp.log_prob(observations)\n",
    "\n",
    "def gprm(obs_index_points, observations, index_points):\n",
    "    print(\"batch_shape = \", kernel_nll.batch_shape)\n",
    "    print(\"feature dimensions = \", kernel_nll.feature_ndims)\n",
    "    print(\"obs_index_points.shape = \", obs_index_points.shape)    \n",
    "    print(\"observations.shape = \", observations.shape)\n",
    "    print(\"index_points.shape = \", index_points.shape)\n",
    "    gprm_nll = tfd.GaussianProcessRegressionModel(\n",
    "        kernel=kernel_nll,\n",
    "        index_points=index_points,\n",
    "        observation_index_points=obs_index_points,\n",
    "        observations=observations,\n",
    "        observation_noise_variance=obs_noise_nll)\n",
    "    return gprm_nll.mean()\n",
    "\n",
    "test_xs = tf.constant(rand.random(( 5,  2, 18)), dtype=np.float64)\n",
    "xs = tf.constant(rand.random((3, 2, 18)), dtype=np.float64)\n",
    "ys = rand.random(3)\n",
    "#ys[0] = [300 for y in ys[0]]\n",
    "ys = tf.constant(ys, dtype=np.float64)\n",
    "PrintNoScientificNotation(\"predicitons = \", gprm(xs, ys,test_xs))\n",
    "# This is not what we want\n",
    "# The first (batch) dimension is only used to predict corresponding outputs"
   ]
  },
  {
   "cell_type": "code",
   "execution_count": null,
   "metadata": {},
   "outputs": [],
   "source": []
  },
  {
   "cell_type": "markdown",
   "metadata": {},
   "source": [
    "# Save as script "
   ]
  },
  {
   "cell_type": "markdown",
   "metadata": {},
   "source": [
    "The following cell will save this notebook as a python script"
   ]
  },
  {
   "cell_type": "code",
   "execution_count": 1,
   "metadata": {},
   "outputs": [
    {
     "name": "stdout",
     "output_type": "stream",
     "text": [
      "[NbConvertApp] Converting notebook miniGAP.ipynb to script\n",
      "[NbConvertApp] Writing 69372 bytes to latest_miniGAP.py\n"
     ]
    }
   ],
   "source": [
    "!jupyter nbconvert --to script miniGAP.ipynb --output latest_miniGAP"
   ]
  }
 ],
 "metadata": {
  "kernelspec": {
   "display_name": "Python 3",
   "language": "python",
   "name": "python3"
  },
  "language_info": {
   "codemirror_mode": {
    "name": "ipython",
    "version": 3
   },
   "file_extension": ".py",
   "mimetype": "text/x-python",
   "name": "python",
   "nbconvert_exporter": "python",
   "pygments_lexer": "ipython3",
   "version": "3.7.4"
  }
 },
 "nbformat": 4,
 "nbformat_minor": 4
}
