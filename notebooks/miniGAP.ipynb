{
 "cells": [
  {
   "cell_type": "markdown",
   "metadata": {},
   "source": [
    "miniGAP (in repository)  \n",
    "currently compartmentalizing this into multiple notebooks"
   ]
  },
  {
   "cell_type": "code",
   "execution_count": 16,
   "metadata": {},
   "outputs": [],
   "source": [
    "# Import everything immediately\n",
    "# This looks messy right now. I can sort it by type of packages later\n",
    "import sys\n",
    "sys.path.append('../code')\n",
    "from Molecular_Dynamics import generate_md_traj\n",
    "from Generate_Descriptors import get_dscribe_descriptors\n",
    "\n",
    "import numpy as np\n",
    "from sklearn.model_selection import train_test_split\n",
    "from sklearn.preprocessing import StandardScaler\n",
    "import tensorflow as tf\n",
    "import tensorflow_probability as tfp\n",
    "tfb = tfp.bijectors\n",
    "tfk = tfp.math.psd_kernels\n",
    "from itertools import islice\n",
    "from  tensorflow_probability import distributions as tfd\n",
    "import matplotlib.pyplot as plt\n",
    "from ase.io import read"
   ]
  },
  {
   "cell_type": "code",
   "execution_count": 6,
   "metadata": {},
   "outputs": [],
   "source": [
    "\n",
    "\n",
    "if False:\n",
    "    from miniGAP_functions import LearnEnergyFromSoap, LearnFromSoap\n",
    "\n",
    "    import matplotlib\n",
    "    import numpy.random as rand\n",
    "    import time\n",
    "    from ase import Atoms\n",
    "    from ase.calculators.emt import EMT\n",
    "    from ase.calculators.lj import LennardJones\n",
    "    from ase.calculators.morse import MorsePotential\n",
    "    #from xtb.ase.calculator import XTB\n",
    "    from ase.optimize import BFGS\n",
    "    from ase.optimize import MDMin\n",
    "    from ase.io import read\n",
    "    from ase.md.velocitydistribution import MaxwellBoltzmannDistribution\n",
    "    from ase.md.verlet import VelocityVerlet\n",
    "    from ase.md.nvtberendsen import NVTBerendsen\n",
    "    from ase import units\n",
    "    from dscribe.descriptors import SOAP\n",
    "    from numpy import polyfit\n",
    "    from numpy import poly1d\n",
    "    import os\n",
    "    os.environ[\"CUDA_VISIBLE_DEVICES\"]=\"-1\"    \n",
    "    import tensorflow as tf\n",
    "    import tensorflow_probability as tfp\n",
    "    from  tensorflow_probability import distributions as tfd\n",
    "    import gpflow.optimizers as gpopts\n",
    "    import numpy.random as rand\n",
    "    from sklearn.gaussian_process.kernels import RBF\n",
    "    from sklearn.gaussian_process import GaussianProcessRegressor\n",
    "    from sklearn.metrics.pairwise import rbf_kernel\n",
    "    tfk = tfp.math.psd_kernels\n",
    "    from sklearn.metrics import mean_squared_error\n",
    "    from matplotlib import animation\n",
    "    from IPython.display import HTML\n",
    "    from matplotlib.colors import LogNorm\n",
    "    from matplotlib.ticker import LogFormatterMathtext\n",
    "    from mpl_toolkits import mplot3d\n",
    "    from matplotlib import cm\n",
    "    from os.path import join"
   ]
  },
  {
   "cell_type": "code",
   "execution_count": 3,
   "metadata": {},
   "outputs": [],
   "source": [
    "# some basic helper functions\n",
    "\n",
    "def PrintNoScientificNotation(*x):\n",
    "    np.set_printoptions(suppress=True) # Do not print in scientific notation\n",
    "    print(*x)\n",
    "    np.set_printoptions(suppress=False)\n",
    "       \n",
    "def TickTock(func, *args, **kwargs):\n",
    "    tick = time.time()\n",
    "    func_output = func(*args, **kwargs)\n",
    "    tock = time.time()\n",
    "    return func_output, tock - tick\n",
    "\n",
    "def Distance(x1, x2):\n",
    "    x1 = np.array(x1); x2 = np.array(x2)\n",
    "    return np.sqrt(((x1 - x2) ** 2).sum())"
   ]
  },
  {
   "cell_type": "code",
   "execution_count": 17,
   "metadata": {},
   "outputs": [
    {
     "ename": "TypeError",
     "evalue": "Distance() takes 2 positional arguments but 112 were given",
     "output_type": "error",
     "traceback": [
      "\u001b[0;31m---------------------------------------------------------------------------\u001b[0m",
      "\u001b[0;31mTypeError\u001b[0m                                 Traceback (most recent call last)",
      "\u001b[0;32m<ipython-input-17-4aad5b38e148>\u001b[0m in \u001b[0;36m<module>\u001b[0;34m\u001b[0m\n\u001b[1;32m     19\u001b[0m \u001b[0;31m#AtomsList = generate_md_traj(from_diatomic=True, element=my_element, temperature=my_temp, nsteps=my_n, md_type = \"VelocityVerlet\", calc_type=my_calc, md_seed= my_md_seed)\u001b[0m\u001b[0;34m\u001b[0m\u001b[0;34m\u001b[0m\u001b[0;34m\u001b[0m\u001b[0m\n\u001b[1;32m     20\u001b[0m \u001b[0mPosList\u001b[0m \u001b[0;34m=\u001b[0m  \u001b[0mnp\u001b[0m\u001b[0;34m.\u001b[0m\u001b[0marray\u001b[0m\u001b[0;34m(\u001b[0m\u001b[0;34m[\u001b[0m\u001b[0matoms\u001b[0m\u001b[0;34m.\u001b[0m\u001b[0mpositions\u001b[0m \u001b[0;32mfor\u001b[0m \u001b[0matoms\u001b[0m \u001b[0;32min\u001b[0m \u001b[0mAtomsList\u001b[0m\u001b[0;34m]\u001b[0m\u001b[0;34m)\u001b[0m\u001b[0;31m#[:,1]# only get position of one atom while we are doing global soap\u001b[0m\u001b[0;34m\u001b[0m\u001b[0;34m\u001b[0m\u001b[0m\n\u001b[0;32m---> 21\u001b[0;31m \u001b[0mDistanceList\u001b[0m \u001b[0;34m=\u001b[0m \u001b[0mnp\u001b[0m\u001b[0;34m.\u001b[0m\u001b[0marray\u001b[0m\u001b[0;34m(\u001b[0m\u001b[0;34m[\u001b[0m\u001b[0mDistance\u001b[0m\u001b[0;34m(\u001b[0m\u001b[0;34m*\u001b[0m\u001b[0matoms\u001b[0m\u001b[0;34m.\u001b[0m\u001b[0mpositions\u001b[0m\u001b[0;34m)\u001b[0m \u001b[0;32mfor\u001b[0m \u001b[0matoms\u001b[0m \u001b[0;32min\u001b[0m \u001b[0mAtomsList\u001b[0m\u001b[0;34m]\u001b[0m\u001b[0;34m)\u001b[0m\u001b[0;34m\u001b[0m\u001b[0;34m\u001b[0m\u001b[0m\n\u001b[0m\u001b[1;32m     22\u001b[0m \u001b[0;31m#EnergyList= test_energy_function(DistanceList)\u001b[0m\u001b[0;34m\u001b[0m\u001b[0;34m\u001b[0m\u001b[0;34m\u001b[0m\u001b[0m\n\u001b[1;32m     23\u001b[0m \u001b[0mEnergyList\u001b[0m \u001b[0;34m=\u001b[0m \u001b[0mnp\u001b[0m\u001b[0;34m.\u001b[0m\u001b[0marray\u001b[0m\u001b[0;34m(\u001b[0m\u001b[0;34m[\u001b[0m\u001b[0matom\u001b[0m\u001b[0;34m.\u001b[0m\u001b[0mget_potential_energy\u001b[0m\u001b[0;34m(\u001b[0m\u001b[0;34m)\u001b[0m \u001b[0;32mfor\u001b[0m \u001b[0matom\u001b[0m \u001b[0;32min\u001b[0m \u001b[0mAtomsList\u001b[0m\u001b[0;34m]\u001b[0m\u001b[0;34m,\u001b[0m \u001b[0mdtype\u001b[0m\u001b[0;34m=\u001b[0m\u001b[0mnp\u001b[0m\u001b[0;34m.\u001b[0m\u001b[0mfloat64\u001b[0m\u001b[0;34m)\u001b[0m \u001b[0;31m# I had to change this to potential energy or the derivative doesn't work\u001b[0m\u001b[0;34m\u001b[0m\u001b[0;34m\u001b[0m\u001b[0m\n",
      "\u001b[0;32m<ipython-input-17-4aad5b38e148>\u001b[0m in \u001b[0;36m<listcomp>\u001b[0;34m(.0)\u001b[0m\n\u001b[1;32m     19\u001b[0m \u001b[0;31m#AtomsList = generate_md_traj(from_diatomic=True, element=my_element, temperature=my_temp, nsteps=my_n, md_type = \"VelocityVerlet\", calc_type=my_calc, md_seed= my_md_seed)\u001b[0m\u001b[0;34m\u001b[0m\u001b[0;34m\u001b[0m\u001b[0;34m\u001b[0m\u001b[0m\n\u001b[1;32m     20\u001b[0m \u001b[0mPosList\u001b[0m \u001b[0;34m=\u001b[0m  \u001b[0mnp\u001b[0m\u001b[0;34m.\u001b[0m\u001b[0marray\u001b[0m\u001b[0;34m(\u001b[0m\u001b[0;34m[\u001b[0m\u001b[0matoms\u001b[0m\u001b[0;34m.\u001b[0m\u001b[0mpositions\u001b[0m \u001b[0;32mfor\u001b[0m \u001b[0matoms\u001b[0m \u001b[0;32min\u001b[0m \u001b[0mAtomsList\u001b[0m\u001b[0;34m]\u001b[0m\u001b[0;34m)\u001b[0m\u001b[0;31m#[:,1]# only get position of one atom while we are doing global soap\u001b[0m\u001b[0;34m\u001b[0m\u001b[0;34m\u001b[0m\u001b[0m\n\u001b[0;32m---> 21\u001b[0;31m \u001b[0mDistanceList\u001b[0m \u001b[0;34m=\u001b[0m \u001b[0mnp\u001b[0m\u001b[0;34m.\u001b[0m\u001b[0marray\u001b[0m\u001b[0;34m(\u001b[0m\u001b[0;34m[\u001b[0m\u001b[0mDistance\u001b[0m\u001b[0;34m(\u001b[0m\u001b[0;34m*\u001b[0m\u001b[0matoms\u001b[0m\u001b[0;34m.\u001b[0m\u001b[0mpositions\u001b[0m\u001b[0;34m)\u001b[0m \u001b[0;32mfor\u001b[0m \u001b[0matoms\u001b[0m \u001b[0;32min\u001b[0m \u001b[0mAtomsList\u001b[0m\u001b[0;34m]\u001b[0m\u001b[0;34m)\u001b[0m\u001b[0;34m\u001b[0m\u001b[0;34m\u001b[0m\u001b[0m\n\u001b[0m\u001b[1;32m     22\u001b[0m \u001b[0;31m#EnergyList= test_energy_function(DistanceList)\u001b[0m\u001b[0;34m\u001b[0m\u001b[0;34m\u001b[0m\u001b[0;34m\u001b[0m\u001b[0m\n\u001b[1;32m     23\u001b[0m \u001b[0mEnergyList\u001b[0m \u001b[0;34m=\u001b[0m \u001b[0mnp\u001b[0m\u001b[0;34m.\u001b[0m\u001b[0marray\u001b[0m\u001b[0;34m(\u001b[0m\u001b[0;34m[\u001b[0m\u001b[0matom\u001b[0m\u001b[0;34m.\u001b[0m\u001b[0mget_potential_energy\u001b[0m\u001b[0;34m(\u001b[0m\u001b[0;34m)\u001b[0m \u001b[0;32mfor\u001b[0m \u001b[0matom\u001b[0m \u001b[0;32min\u001b[0m \u001b[0mAtomsList\u001b[0m\u001b[0;34m]\u001b[0m\u001b[0;34m,\u001b[0m \u001b[0mdtype\u001b[0m\u001b[0;34m=\u001b[0m\u001b[0mnp\u001b[0m\u001b[0;34m.\u001b[0m\u001b[0mfloat64\u001b[0m\u001b[0;34m)\u001b[0m \u001b[0;31m# I had to change this to potential energy or the derivative doesn't work\u001b[0m\u001b[0;34m\u001b[0m\u001b[0;34m\u001b[0m\u001b[0m\n",
      "\u001b[0;31mTypeError\u001b[0m: Distance() takes 2 positional arguments but 112 were given"
     ]
    }
   ],
   "source": [
    "# Collect input data for soap->energy/forces learning model without looping\n",
    "# Unlike above (in the Plottable_Model_Errors cell) I am collecting forces here as well\n",
    "\n",
    "# MD parameters\n",
    "my_element=\"H\"\n",
    "my_temp=300\n",
    "my_n = 100\n",
    "my_calc = \"EMT\"\n",
    "my_md_seed = 1\n",
    "\n",
    "# SOAP parameters\n",
    "get_local_descriptors = True\n",
    "my_nmax=1\n",
    "my_lmax=1\n",
    "\n",
    "\n",
    "AtomsList = read(\"../data/ManyGraphenes.gz\", \":{}\".format(my_n))\n",
    "#AtomsList = [make_diatomic(element = my_element, verbose=False, bond_length=L, calc_type=my_calc) for L in np.linspace(.6,1.8,my_n)]\n",
    "#AtomsList = generate_md_traj(from_diatomic=True, element=my_element, temperature=my_temp, nsteps=my_n, md_type = \"VelocityVerlet\", calc_type=my_calc, md_seed= my_md_seed)\n",
    "PosList =  np.array([atoms.positions for atoms in AtomsList])#[:,1]# only get position of one atom while we are doing global soap\n",
    "DistanceList = np.array([Distance(*atoms.positions) for atoms in AtomsList])\n",
    "#EnergyList= test_energy_function(DistanceList)\n",
    "EnergyList = np.array([atom.get_potential_energy() for atom in AtomsList], dtype=np.float64) # I had to change this to potential energy or the derivative doesn't work\n",
    "ForceList = np.array([atom.get_forces() for atom in AtomsList], dtype=np.float64)#[:,1] # only get force of one atom while we are doing global soap\n",
    "#ForceList= np.array([test_force_function(dist) for dist in DistanceList])\n",
    "SoapDerivativeList, SoapList = get_dscribe_descriptors(AtomsList, species=[my_element], is_global= not get_local_descriptors, return_derivatives=True, nmax=my_nmax, lmax=my_lmax)\n",
    "#SoapDerivativeList = SoapDerivativeList[:,0,:,:,:]; SoapList = SoapList[:,0,:] # Using global soap right now so we can remove the local descriptor index\n",
    "SoapList = SoapList[:,0,:] \n",
    "#SoapList = SoapList.reshape(len(SoapList),-1)"
   ]
  },
  {
   "cell_type": "code",
   "execution_count": 4,
   "metadata": {},
   "outputs": [
    {
     "name": "stdout",
     "output_type": "stream",
     "text": [
      "(100, 2)\n",
      "(100, 2, 2, 3, 2)\n"
     ]
    }
   ],
   "source": [
    "print(SoapList.shape)\n",
    "print(SoapDerivativeList.shape)"
   ]
  },
  {
   "cell_type": "code",
   "execution_count": 42,
   "metadata": {
    "scrolled": true
   },
   "outputs": [
    {
     "data": {
      "text/plain": [
       "array([[[[  0.        ,   0.        ],\n",
       "         [  0.        ,   0.        ],\n",
       "         [  0.        ,   0.53334999]],\n",
       "\n",
       "        [[  0.        ,   0.        ],\n",
       "         [  0.        ,   0.        ],\n",
       "         [-11.99982983,   0.17444568]]],\n",
       "\n",
       "\n",
       "       [[[  0.        ,   0.        ],\n",
       "         [  0.        ,   0.        ],\n",
       "         [ 11.99982983,  -0.17444568]],\n",
       "\n",
       "        [[  0.        ,   0.        ],\n",
       "         [  0.        ,   0.        ],\n",
       "         [  0.        ,  -0.53334999]]]])"
      ]
     },
     "execution_count": 42,
     "metadata": {},
     "output_type": "execute_result"
    }
   ],
   "source": [
    "SoapDerivativeList[0]"
   ]
  },
  {
   "cell_type": "code",
   "execution_count": 43,
   "metadata": {
    "scrolled": true
   },
   "outputs": [
    {
     "data": {
      "text/plain": [
       "array([[[[  0.        ,   0.        ],\n",
       "         [  0.        ,   0.        ],\n",
       "         [  0.        ,   0.53334999]],\n",
       "\n",
       "        [[  0.        ,   0.        ],\n",
       "         [  0.        ,   0.        ],\n",
       "         [-11.99982983,   0.17444568]]],\n",
       "\n",
       "\n",
       "       [[[  0.        ,   0.        ],\n",
       "         [  0.        ,   0.        ],\n",
       "         [ 11.99982983,  -0.17444568]],\n",
       "\n",
       "        [[  0.        ,   0.        ],\n",
       "         [  0.        ,   0.        ],\n",
       "         [  0.        ,  -0.53334999]]]])"
      ]
     },
     "execution_count": 43,
     "metadata": {},
     "output_type": "execute_result"
    }
   ],
   "source": [
    "SoapDerivativeList[0]"
   ]
  },
  {
   "cell_type": "code",
   "execution_count": 10,
   "metadata": {
    "scrolled": true
   },
   "outputs": [],
   "source": [
    "if False:\n",
    "    SoapList = SoapList.reshape(-1,SoapList.shape[-1])\n",
    "    SoapDerivativeList = SoapDerivativeList.reshape(-1, SoapDerivativeList.shape[2], SoapDerivativeList.shape[3], SoapDerivativeList.shape[4] )\n",
    "    EnergyList = EnergyList.repeat(len(AtomsList[0]))/len(AtomsList[0])\n",
    "    ForceList = ForceList.reshape(-1,ForceList.shape[-1])\n",
    "    PosList = PosList.reshape(-1, PosList.shape[-1])\n",
    "    DistanceList = DistanceList.repeat(len(AtomsList[0]))"
   ]
  },
  {
   "cell_type": "code",
   "execution_count": 45,
   "metadata": {},
   "outputs": [],
   "source": [
    "if False:\n",
    "\n",
    "    EnergyList = EnergyList[None,:].repeat(2, axis=0)#EnergyList.repeat(len(AtomsList[0])).reshape(-1, len(AtomsList[0]))/len(AtomsList[0])"
   ]
  },
  {
   "cell_type": "code",
   "execution_count": 5,
   "metadata": {},
   "outputs": [],
   "source": [
    "collapsable = True"
   ]
  },
  {
   "cell_type": "code",
   "execution_count": 14,
   "metadata": {},
   "outputs": [
    {
     "name": "stdout",
     "output_type": "stream",
     "text": [
      "Old learning, epoch 0\n",
      "index_points.shape =  (3, 2)\n",
      "observations.shape =  (3,)\n",
      "(25, 2)\n",
      "(75, 2)\n",
      "(75,)\n",
      "predict_d_ens_nll.shape = (25, 2)\n",
      "test_d_sps.shape =  (25, 2, 2, 3, 2)\n",
      "\n",
      "test_d_sps[0][:,:,0] = \n",
      " [[[  0.          0.4532948]\n",
      "  [-10.234376    0.1550579]]\n",
      "\n",
      " [[ 10.234376   -0.1550579]\n",
      "  [  0.         -0.4532948]]]\n",
      "\n",
      "predict_d_ens_nll[0] = \n",
      " tf.Tensor([ 6.9097753  -0.10570767], shape=(2,), dtype=float64)\n",
      "\n",
      "predict_frcs_nll[0][:,0] = \n",
      " [-70.68571227  70.68571227]\n"
     ]
    }
   ],
   "source": [
    "# This is my attempt at learning forces \n",
    "# Doesn't use LearnEnergyFromSoap because force learning is not yet implemented there (as of July 13th)\n",
    "\n",
    "split_seed = 1\n",
    "valid_split_seed = 1\n",
    "training_frac = 0.75\n",
    "valid_fract = 0.75\n",
    "\n",
    "split_data = train_test_split(SoapList, SoapDerivativeList, EnergyList, ForceList, PosList, DistanceList, range(len(SoapList)), \n",
    "                              random_state=split_seed, test_size=(1-training_frac))\n",
    "train_sps, test_sps, train_d_sps, test_d_sps, train_ens, test_ens, train_frcs, test_frcs, train_pos, test_pos, train_dist, test_dist, train_indices, test_indices = split_data\n",
    "\n",
    "# scaling\n",
    "# Standardize input for improved learning. Fit is done only on training data, scaling is applied to \n",
    "# both descriptors and their derivatives on training and test sets.\n",
    "# # pass with_mean=False to avoid breaking sparsity structure of data\n",
    "# soap_scaler = StandardScaler().fit(train_sps.reshape(-1,train_sps.shape[-1]))\n",
    "# train_sps, test_sps = soap_scaler.transform(train_sps), soap_scaler.transform(test_sps)\n",
    "# train_d_sps = train_d_sps / soap_scaler.scale_[None, None, None, :]\n",
    "# test_d_sps = test_d_sps / soap_scaler.scale_[None, None, None, :]\n",
    "\n",
    "# # Should I also rescale energies and/or forces?\n",
    "# # For now I will\n",
    "# ens_scaler = StandardScaler().fit(train_ens)\n",
    "# train_ens, test_ens = ens_scaler.transform(train_ens), ens_scaler.transform(test_ens)\n",
    "# train_frcs = train_frcs / ens_scaler.scale_#[None, :, None]\n",
    "# test_frcs = test_frcs / ens_scaler.scale_#[None, :, None]\n",
    "\n",
    "ens_scaler = StandardScaler().fit(train_ens[:,None])\n",
    "train_ens, test_ens = ens_scaler.transform(train_ens[:,None])[:,0], ens_scaler.transform(test_ens[:,None])[:,0]\n",
    "train_frcs = train_frcs / ens_scaler.scale_#[None, :, None]\n",
    "test_frcs = test_frcs / ens_scaler.scale_#[None, :, None]\n",
    "\n",
    "# # Should the variance be calculated before the rescaling?\n",
    "ens_var = train_ens.var(); frcs_var = train_frcs.var()\n",
    "\n",
    "#observation_index_points= tf.constant(np.array(train_pos), dtype=np.float64)\n",
    "observation_index_points= tf.constant(train_sps, dtype=np.float64)\n",
    "ens_observations = tf.constant(train_ens, dtype=np.float64)\n",
    "frcs_observations = tf.constant(train_frcs, dtype=np.float64)\n",
    "#index_points = tf.constant(np.array(test_pos), dtype=np.float64)\n",
    "index_points = tf.constant(test_sps, dtype=np.float64)\n",
    "#\n",
    "shuffle_seed = 1\n",
    "batch_size = 3\n",
    "batch_size_custom_mse_max = 100\n",
    "learn_rate = 0.05\n",
    "n_epochs = 5; n_epochs_nll = n_epochs; n_epochs_custom = n_epochs\n",
    "iterations_per_epoch = int(len(train_ens)/batch_size)\n",
    "#\n",
    "\n",
    "\n",
    "# initialize kernels and model hyperparameters\n",
    "# ----------------------------------------------------------------------------------------\n",
    "noise_init = 1e-5; amp_init = 0.1; len_init = .5\n",
    "constrain_positive = tfb.Shift(np.finfo(np.float64).tiny)(tfb.Exp())\n",
    "# nll (old approach)\n",
    "obs_noise_nll = tfp.util.TransformedVariable(initial_value=noise_init, bijector=constrain_positive, dtype=np.float64, name=\"noise_nll\")\n",
    "amplitude_nll = tfp.util.TransformedVariable(initial_value=amp_init, bijector=constrain_positive, dtype=np.float64, name=\"amplitude_nll\")\n",
    "len_scale_nll = tfp.util.TransformedVariable(initial_value=len_init, bijector=constrain_positive, dtype=np.float64, name=\"len_scale_nll\")\n",
    "kernel_nll = tfk.ExponentiatedQuadratic(amplitude=amplitude_nll, length_scale=len_scale_nll, name=\"kernel_nll\", feature_ndims=1)#SoapList.shape[1])\n",
    "trainable_variables_nll = [var.variables[0] for var in [amplitude_nll, len_scale_nll, obs_noise_nll]]\n",
    "# mostly mse, my custom approach\n",
    "# allows for forces to be considered during training\n",
    "obs_noise_custom = tfp.util.TransformedVariable(initial_value=noise_init, bijector=constrain_positive, dtype=np.float64, name=\"noise_custom\")\n",
    "amplitude_custom = tfp.util.TransformedVariable(initial_value=amp_init, bijector=constrain_positive, dtype=np.float64, name=\"amplitude_custom\")\n",
    "len_scale_custom = tfp.util.TransformedVariable(initial_value=len_init, bijector=constrain_positive, dtype=np.float64, name=\"len_scale_custom\")\n",
    "kernel_custom = tfk.ExponentiatedQuadratic(amplitude=amplitude_custom, length_scale=len_scale_custom, name=\"kernel_custom\", feature_ndims=SoapList.shape[1])\n",
    "trainable_variables_custom = [var.variables[0] for var in [amplitude_custom, len_scale_custom, obs_noise_custom]]\n",
    "# ----------------------------------------------------------------------------------------\n",
    "\n",
    "\n",
    "# ----------------------------------------------------------------------------------------\n",
    "# old/nll approach\n",
    "# ----------------------------------------------------------------------------------------\n",
    "@tf.function(autograph=False, experimental_compile=False)\n",
    "def loss_nll(index_points, observations):\n",
    "    gp = tfd.GaussianProcess(kernel=kernel_nll, index_points=index_points, observation_noise_variance=obs_noise_nll)\n",
    "    print(\"index_points.shape = \", index_points.shape)\n",
    "    print(\"observations.shape = \", observations.shape)\n",
    "    return -gp.log_prob(observations)\n",
    "\n",
    "# Define mini-batch data iterator\n",
    "batches_nll = (\n",
    "    tf.data.Dataset.from_tensor_slices((observation_index_points, ens_observations))\n",
    "    .shuffle(buffer_size=len(observation_index_points), seed=shuffle_seed)\n",
    "    .repeat(count=None)\n",
    "    .batch(batch_size)\n",
    ")\n",
    "#\n",
    "\n",
    "optimizer = tf.keras.optimizers.Adam(learning_rate=learn_rate)\n",
    "\n",
    "for j in range(n_epochs):\n",
    "    if not j % 10:\n",
    "        print(\"Old learning, epoch {}\".format(j))\n",
    "\n",
    "    for i, (index_points_i, ens_observations_i) in enumerate(islice(batches_nll, iterations_per_epoch)):\n",
    "        with tf.GradientTape() as tape:\n",
    "            loss_nll_i = loss_nll(index_points_i, ens_observations_i)\n",
    "            loss_nll_i = tf.constant(loss_nll_i, dtype=np.float64)\n",
    "        grads = tape.gradient(loss_nll_i, trainable_variables_nll)\n",
    "        optimizer.apply_gradients(zip(grads, trainable_variables_nll))\n",
    "\n",
    "with tf.GradientTape(watch_accessed_variables=False) as tape_d_ens:\n",
    "    tape_d_ens.watch(index_points)    \n",
    "    gprm_nll = tfd.GaussianProcessRegressionModel(\n",
    "        kernel=kernel_nll,\n",
    "        index_points=index_points,\n",
    "        observation_index_points=observation_index_points,\n",
    "        observations=ens_observations,\n",
    "        observation_noise_variance=obs_noise_nll)\n",
    "    print(index_points.shape)\n",
    "    print(observation_index_points.shape)\n",
    "    print(ens_observations.shape)\n",
    "    predict_ens_nll = gprm_nll.mean()\n",
    "\n",
    "predict_d_ens_nll = tape_d_ens.gradient(predict_ens_nll, index_points)\n",
    "#print(predict_d_ens_nll[:1])\n",
    "#predict_d_ens_nll = predict_d_ens_nll[:,0,:]\n",
    "#print(predict_d_ens_nll[:1])\n",
    "\n",
    "print(\"predict_d_ens_nll.shape =\", predict_d_ens_nll.shape)\n",
    "print(\"test_d_sps.shape = \", test_d_sps.shape )\n",
    "print(\"\\ntest_d_sps[0][:,:,0] = \\n\", test_d_sps[0][:,:,0])\n",
    "print(\"\\npredict_d_ens_nll[0] = \\n\", predict_d_ens_nll[0])\n",
    "predict_frcs_nll = -1*np.einsum('imjkl,il->ijk', test_d_sps, predict_d_ens_nll)#[:,1] # only get force of one atom while we are doing global soap\n",
    "print(\"\\npredict_frcs_nll[0][:,0] = \\n\", predict_frcs_nll[0][:,0])\n",
    "\n",
    "# predict_d_ens_nll.shape = (75, 2, 18)\n",
    "# test_d_sps.shape =  (75, 2, 2, 3, 18)\n",
    "#     print(\"test_d_sps\", test_d_sps)\n",
    "#     print(\"predict_d_ens_nll\", predict_d_ens_nll)\n",
    "#     print(\"predict_frcs_nll\", -1*np.einsum('ijkl,il->ijk', test_d_sps, predict_d_ens_nll))\n",
    "# ----------------------------------------------------------------------------------------\n",
    "\n",
    "\n",
    "# ----------------------------------------------------------------------------------------\n",
    "# custom/mostly mse approach\n",
    "# ----------------------------------------------------------------------------------------\n",
    "if False:\n",
    "    @tf.function(autograph=False, experimental_compile=False)\n",
    "    def loss_custom_nll(index_points, observations):\n",
    "        gp = tfd.GaussianProcess(kernel=kernel_custom, index_points=index_points, observation_noise_variance=obs_noise_custom)\n",
    "        return -gp.log_prob(observations)\n",
    "\n",
    "    @tf.function(autograph=False, experimental_compile=False)\n",
    "    def mse(y_predict, y_true):\n",
    "        return tf.math.reduce_mean(tf.math.squared_difference(y_predict, y_true))\n",
    "\n",
    "    #@tf.function(autograph=False, experimental_compile=False)\n",
    "    def mse_2factor(y1_predict, y1_true, weight1, y2_predict, y2_true, weight2):\n",
    "        mse1 = mse(y1_predict, y1_true)\n",
    "#         print(\"mse1 = \", mse1)\n",
    "        mse2 = mse(y2_predict, y2_true)\n",
    "#         print(\"mse2 = \", mse2)\n",
    "        return mse1 * weight1 + mse2 * weight2\n",
    "\n",
    "    # batch it\n",
    "    batches_custom = (\n",
    "        tf.data.Dataset.from_tensor_slices((observation_index_points, ens_observations, frcs_observations))\n",
    "        .shuffle(buffer_size=len(observation_index_points), seed=shuffle_seed)\n",
    "        .repeat(count=None)\n",
    "        .batch(batch_size)\n",
    "    )\n",
    "\n",
    "    optimizer_custom = tf.keras.optimizers.Adam(learning_rate=learn_rate)\n",
    "\n",
    "    # First run through the data a few times, minimizing nll because this is more robust to bad hyperparameter initialization\n",
    "    n_epochs_custom_nll = 3\n",
    "    for j in range(n_epochs_custom_nll):\n",
    "        for i, (index_points_i, ens_observations_i, ignore_forces_here) in enumerate(islice(batches_custom, iterations_per_epoch)):\n",
    "                with tf.GradientTape() as tape:\n",
    "                    loss_custom_i = loss_custom_nll(index_points_i, ens_observations_i)\n",
    "                    loss_custom_i = tf.constant(loss_custom_i, dtype=np.float64)\n",
    "                grads = tape.gradient(loss_custom_i, trainable_variables_custom)\n",
    "                optimizer_custom.apply_gradients(zip(grads, trainable_variables_custom))\n",
    "\n",
    "    for j in range(n_epochs_custom):\n",
    "        if not j % 10:\n",
    "            print(\"Custom learning, epoch {}\".format(j+1))\n",
    "\n",
    "        split_data_j = train_test_split(train_sps, train_ens, train_d_sps, train_frcs, random_state =valid_split_seed+j, test_size=(1-valid_fract))\n",
    "        train_sps_j, valid_sps_j, train_ens_j, valid_ens_j, train_d_sps_j, valid_d_sps_j, train_frcs_j, valid_frcs_j = split_data_j\n",
    "        observation_index_points_j = tf.constant(train_sps_j, dtype=np.float64)\n",
    "        ens_observations_j = tf.constant(train_ens_j, dtype=np.float64)\n",
    "        d_sps_observations_j = tf.constant(train_d_sps_j, dtype=np.float64)\n",
    "        frcs_observations_j = tf.constant(train_frcs_j, dtype=np.float64)\n",
    "        heldout_index_points_j = tf.constant(valid_sps_j, dtype=np.float64)\n",
    "        heldout_ens_observations_j = tf.constant(valid_ens_j, dtype=np.float64)\n",
    "        heldout_d_sps_observations_j = tf.constant(valid_d_sps_j, dtype=np.float64)\n",
    "        heldout_frcs_observations_j = tf.constant(valid_frcs_j, dtype=np.float64)\n",
    "\n",
    "        if len(train_sps_j) < batch_size_custom_mse_max:\n",
    "            iterations_per_epoch_custom = 1\n",
    "            batch_size_custom = len(train_sps_j)\n",
    "        else:\n",
    "            iterations_per_epoch_custom = int(np.ceil(len(train_sps_j)/batch_size_custom_mse_max))\n",
    "            batch_size_custom = int(np.ceil(len(train_sps_j)/iterations_per_epoch_custom))\n",
    "\n",
    "        batches_custom_j = (\n",
    "            tf.data.Dataset.from_tensor_slices((observation_index_points_j, ens_observations_j, d_sps_observations_j, frcs_observations_j)) # frcs_observations_j_i might be extraneous\n",
    "            .shuffle(buffer_size=len(observation_index_points_j), seed=shuffle_seed) # Should I modify this to be seed = shuffle_seed + j or does it not matter?\n",
    "            .repeat(count=None)\n",
    "            .batch(batch_size_custom)\n",
    "        )\n",
    "        for i, (index_points_j_i, ens_observations_j_i, d_sps_observations_j_i, frcs_observations_j_i) \\\n",
    "                in enumerate(islice(batches_custom_j, iterations_per_epoch_custom)):\n",
    "            with tf.GradientTape() as tape:\n",
    "                with tf.GradientTape(watch_accessed_variables=False) as tape_d_ens:\n",
    "                    tape_d_ens.watch(heldout_index_points_j)    \n",
    "                    gprm_custom_j_i = tfd.GaussianProcessRegressionModel(\n",
    "                        kernel = kernel_custom,\n",
    "                        index_points = heldout_index_points_j,\n",
    "                        observation_index_points = index_points_j_i,\n",
    "                        observations = ens_observations_j_i,\n",
    "                        observation_noise_variance = obs_noise_custom)\n",
    "                    predict_ens_j_i = gprm_custom_j_i.sample()\n",
    "                predict_d_ens_j_i = tape_d_ens.gradient(predict_ens_j_i, heldout_index_points_j)\n",
    "                #predict_frcs_j_i = -predict_d_ens_j_i\n",
    "                predict_frcs_j_i = -1*np.einsum('imjkl,il->ijk', heldout_d_sps_observations_j, predict_d_ens_j_i)#[:,1] # only get force of one atom while we are doing global soap\n",
    "                error_custom_j_i = mse_2factor(predict_ens_j_i, heldout_ens_observations_j, 1/ens_var,\n",
    "                                               predict_frcs_j_i, heldout_frcs_observations_j, 1/frcs_var)\n",
    "#                 print(\"predict_ens_j_i = \", predict_ens_j_i)\n",
    "#                 print(\"heldout_ens_observations_j = \", heldout_ens_observations_j)\n",
    "#                 print(\"1/ens_var = \", 1/ens_var)\n",
    "#                 print(\"predict_frcs_j_i = \", predict_frcs_j_i)\n",
    "#                 print(\"heldout_frcs_observations_j = \", heldout_frcs_observations_j)\n",
    "#                 print(\"1/frcs_var = \",1/frcs_var)\n",
    "#                 print(\"error value is \", error_custom_j_i)\n",
    "\n",
    "            grads = tape.gradient(error_custom_j_i, trainable_variables_custom)\n",
    "            optimizer_custom.apply_gradients(zip(grads, trainable_variables_custom))\n",
    "\n",
    "\n",
    "    with tf.GradientTape(watch_accessed_variables=False) as tape_d_ens:\n",
    "        tape_d_ens.watch(index_points)    \n",
    "\n",
    "        gprm_custom = tfd.GaussianProcessRegressionModel(\n",
    "            kernel=kernel_custom,\n",
    "            index_points=index_points,\n",
    "            observation_index_points=observation_index_points,\n",
    "            observations=ens_observations,\n",
    "            observation_noise_variance=obs_noise_custom)\n",
    "\n",
    "        predict_ens_custom = gprm_custom.mean()\n",
    "\n",
    "    predict_d_ens_custom = tape_d_ens.gradient(predict_ens_custom, index_points)\n",
    "    #predict_frcs_custom = -predict_d_ens_custom.numpy()\n",
    "    predict_frcs_custom = -1*np.einsum('imjkl,il->ijk', test_d_sps, predict_d_ens_custom)#[:,1] # only get force of one atom while we are doing global soap\n",
    "# -------------------------------------------------------------------\n",
    "\n"
   ]
  },
  {
   "cell_type": "code",
   "execution_count": 48,
   "metadata": {},
   "outputs": [
    {
     "data": {
      "text/plain": [
       "array([-0.83586768,  0.83586768])"
      ]
     },
     "execution_count": 48,
     "metadata": {},
     "output_type": "execute_result"
    }
   ],
   "source": [
    "A = [[[ 0. ,        -0.06000157], [ 1.3495708,  -0.01954856]], [[-1.3495708 ,  0.01954856], [ 0.     ,     0.06000157]]]\n",
    "B = [[-0.61960857,  0.00835418], [-0.61960857,  0.00835418]]\n",
    "-1*np.einsum('mjl,ml->j', A, B)"
   ]
  },
  {
   "cell_type": "code",
   "execution_count": 49,
   "metadata": {},
   "outputs": [
    {
     "data": {
      "text/plain": [
       "(25, 2, 3)"
      ]
     },
     "execution_count": 49,
     "metadata": {},
     "output_type": "execute_result"
    }
   ],
   "source": [
    "predict_frcs_nll.shape"
   ]
  },
  {
   "cell_type": "code",
   "execution_count": 50,
   "metadata": {},
   "outputs": [
    {
     "data": {
      "text/plain": [
       "(25, 2, 3)"
      ]
     },
     "execution_count": 50,
     "metadata": {},
     "output_type": "execute_result"
    }
   ],
   "source": [
    "test_frcs.shape"
   ]
  },
  {
   "cell_type": "code",
   "execution_count": 53,
   "metadata": {},
   "outputs": [],
   "source": [
    "if plot_custom and plot_nll:\n",
    "    for i in range(3):\n",
    "        print(trainable_variables_nll[i].name, \"    \", tf.math.exp(trainable_variables_nll[i]))\n",
    "        print(trainable_variables_custom[i].name, \"    \", tf.math.exp(trainable_variables_custom[i]))\n",
    "        print()"
   ]
  },
  {
   "cell_type": "code",
   "execution_count": 9,
   "metadata": {},
   "outputs": [
    {
     "data": {
      "text/plain": [
       "<matplotlib.legend.Legend at 0x7fc2c81fead0>"
      ]
     },
     "execution_count": 9,
     "metadata": {},
     "output_type": "execute_result"
    },
    {
     "data": {
      "image/png": "[encoded data removed]",
      "text/plain": [
       "<Figure size 432x288 with 1 Axes>"
      ]
     },
     "metadata": {
      "needs_background": "light"
     },
     "output_type": "display_data"
    }
   ],
   "source": [
    "# Plotting energy vs bond length\n",
    "plot_custom = False; plot_nll = True\n",
    "distance_ordering = np.argsort(test_dist)\n",
    "dists = test_dist[distance_ordering]\n",
    "rescaled_test_ens = ens_scaler.inverse_transform(test_ens[distance_ordering], copy=True)\n",
    "plt.plot(dists, rescaled_test_ens, c='k')\n",
    "if plot_custom:\n",
    "    rescaled_predict_ens_custom = ens_scaler.inverse_transform(predict_ens_custom.numpy()[distance_ordering], copy=True)\n",
    "    plt.plot(dists, rescaled_predict_ens_custom, \"o\", label=\"custom\", c=\"violet\", ms=10)\n",
    "if plot_nll:\n",
    "    rescaled_predict_ens_nll =  ens_scaler.inverse_transform(predict_ens_nll.numpy()[distance_ordering], copy=True)\n",
    "    plt.plot(dists, rescaled_predict_ens_nll, \"o\", label=\"nll\", c=\"lime\", ms=5)\n",
    "plt.xlabel(\"Bond Length (angstroms)\")\n",
    "plt.ylabel(\"Energy\")\n",
    "plt.legend()"
   ]
  },
  {
   "cell_type": "code",
   "execution_count": 10,
   "metadata": {},
   "outputs": [
    {
     "data": {
      "text/plain": [
       "<matplotlib.legend.Legend at 0x7fc2c8165590>"
      ]
     },
     "execution_count": 10,
     "metadata": {},
     "output_type": "execute_result"
    },
    {
     "data": {
      "image/png": "[encoded data removed]",
      "text/plain": [
       "<Figure size 432x288 with 1 Axes>"
      ]
     },
     "metadata": {
      "needs_background": "light"
     },
     "output_type": "display_data"
    }
   ],
   "source": [
    "plt.plot(test_ens, test_ens, \"-\", c=\"k\")\n",
    "if plot_custom:\n",
    "    plt.plot(test_ens, predict_ens_custom,\"o\", label=\"custom\", c=\"violet\", ms=10)\n",
    "if plot_nll:\n",
    "    plt.plot(test_ens, predict_ens_nll,\"o\", label=\"nll\", c=\"lime\", ms=5)\n",
    "plt.legend()"
   ]
  },
  {
   "cell_type": "markdown",
   "metadata": {},
   "source": [
    "F = -dE/dx = dE/ds ds/dx = dE'/ds' ds'/dx"
   ]
  },
  {
   "cell_type": "code",
   "execution_count": 11,
   "metadata": {},
   "outputs": [
    {
     "data": {
      "image/png": "[encoded data removed]",
      "text/plain": [
       "<Figure size 1440x720 with 6 Axes>"
      ]
     },
     "metadata": {
      "needs_background": "light"
     },
     "output_type": "display_data"
    }
   ],
   "source": [
    "# Plotting force vs bond length\n",
    "rescaled_test_frcs = test_frcs[distance_ordering] * ens_scaler.scale_\n",
    "if plot_custom:\n",
    "    rescaled_predict_frcs_custom =  predict_frcs_custom[distance_ordering] * ens_scaler.scale_\n",
    "if plot_nll:\n",
    "    rescaled_predict_frcs_nll = predict_frcs_nll[distance_ordering] * ens_scaler.scale_\n",
    "\n",
    "fig, axs = plt.subplots(ncols=3, nrows=2, figsize=(20,10), sharex='all', sharey='row')\n",
    "axs = axs.flatten()\n",
    "\n",
    "components = [\"x\", \"y\", \"z\"]\n",
    "\n",
    "for i in range(3):\n",
    "    axs[i].plot(dists, rescaled_test_frcs[:,0,i], \"o-\", c='k')\n",
    "    axs[i+3].plot(dists, abs(rescaled_test_frcs[:,0,i]), \"o-\",  c='k') \n",
    "    \n",
    "    if plot_custom:\n",
    "        axs[i].plot(dists, rescaled_predict_frcs_custom[:,0,i], \"o\", label=\"custom\", c=\"violet\",ms=10)\n",
    "        axs[i+3].plot(dists, abs(rescaled_predict_frcs_custom[:,0,i]), \"o\", label=\"custom\", c=\"violet\",ms=10)\n",
    "        \n",
    "    if plot_nll:\n",
    "        axs[i].plot(dists, rescaled_predict_frcs_nll[:,0,i], \"o\", label=\"nll\", c=\"lime\", ms=5)\n",
    "        axs[i+3].plot(dists, abs(rescaled_predict_frcs_nll[:,0,i]), \"o\", label=\"nll\", c=\"lime\", ms=5)\n",
    "\n",
    "    axs[i].set_facecolor([.8]*3)\n",
    "    axs[i].legend()\n",
    "    axs[i].set_ylabel(\"Force, {} component\".format(components[i]))\n",
    "    \n",
    "    axs[i+3].set_facecolor([.8]*3)\n",
    "    axs[i+3].legend()\n",
    "    axs[i+3].set_ylabel(\"|Force, {} component|\".format(components[i]))    \n",
    "    axs[i+3].set_xlabel(\"Bond Length (angstroms)\")"
   ]
  },
  {
   "cell_type": "code",
   "execution_count": 12,
   "metadata": {},
   "outputs": [
    {
     "name": "stdout",
     "output_type": "stream",
     "text": [
      "Least-squares regresion for Fx(x) produces the line line m x+b with m = 0.99413 and b = -0.00457 which has r2 = 0.99981 \n",
      "Least-squares regresion for Fy(y) produces the line line m y+b with m = 0.99413 and b = 0.00251 which has r2 = 0.99981 \n",
      "Least-squares regresion for Fz(z) produces the line line m z+b with m = 0.98695 and b = -0.00017 which has r2 = 0.99983 \n"
     ]
    },
    {
     "data": {
      "image/png": "[encoded data removed]",
      "text/plain": [
       "<Figure size 1440x360 with 3 Axes>"
      ]
     },
     "metadata": {
      "needs_background": "light"
     },
     "output_type": "display_data"
    }
   ],
   "source": [
    "fig, axs = plt.subplots(ncols=3, figsize=(20,5))\n",
    "components = [\"x\", \"y\", \"z\"]\n",
    "\n",
    "for i in range(3):\n",
    "    axs[i].plot(rescaled_test_frcs[:,0,i], rescaled_test_frcs[:,0,i], \"o-\", c=\"k\")\n",
    "    if plot_custom:\n",
    "        axs[i].plot(rescaled_test_frcs[:,0,i], rescaled_predict_frcs_custom[:,0,i], \"o\", label=\"custom\", c=\"violet\", ms=10)\n",
    "    if plot_nll:\n",
    "        axs[i].plot(rescaled_test_frcs[:,0,i], rescaled_predict_frcs_nll[:,0,i], \"o\", label=\"nll\", c=\"lime\", ms=5)\n",
    "        try:\n",
    "            m, b = np.polyfit(rescaled_test_frcs[:,0,i], rescaled_predict_frcs_nll[:,0,i], 1)\n",
    "            r2 = np.corrcoef(rescaled_test_frcs[:,0,i], rescaled_predict_frcs_nll[:,0,i])[0,1]\n",
    "            print(\"Least-squares regresion for F{}({}) produces the line line m {}+b with m = {:.5f} and b = {:.5f} which has r2 = {:.5f} \".format(components[i],components[i],components[i],m,b, r2))\n",
    "        except:\n",
    "            pass        \n",
    "    axs[i].legend()"
   ]
  },
  {
   "cell_type": "markdown",
   "metadata": {},
   "source": [
    "---\n",
    "\n",
    "### The above is for diatomics. The below is general\n"
   ]
  },
  {
   "cell_type": "markdown",
   "metadata": {},
   "source": [
    "from unsynced"
   ]
  },
  {
   "cell_type": "code",
   "execution_count": 371,
   "metadata": {},
   "outputs": [
    {
     "data": {
      "text/plain": [
       "'30 50 60 90 100 150 200 225 250 275 300 325 350 375 400 425 450 475 500 525 550 575 600 625 675 700 725 750 775 800 825 900 950 1000 1100 1200 1300 1500 1750 2000'"
      ]
     },
     "execution_count": 371,
     "metadata": {},
     "output_type": "execute_result"
    }
   ],
   "source": [
    "\" \".join([str(n) for n in np.sort(list(performance_Graphene_by_n.keys()))])"
   ]
  },
  {
   "cell_type": "code",
   "execution_count": 378,
   "metadata": {},
   "outputs": [],
   "source": [
    "# Testing this with the C7O2H10 database (which contains 6095 structures)\n",
    "\n",
    "my_n = \"\"\n",
    "my_element=\"O\"\n",
    "my_temp=300\n",
    "my_n_train = 10000\n",
    "my_n_test = 30\n",
    "my_n = my_n_train + my_n_test\n",
    "my_calc = \"EMT\"\n",
    "my_md_seed = 1\n",
    "\n",
    "#AtomsList = read(\"../data/distorted_propanol.extxyz.gz\", f\":{my_n}\")\n",
    "AtomsList = read(\"../data/ManyGraphenes_unzipped.extxyz\", f\":{my_n}\")\n",
    "#AtomsList = generate_md_traj(from_diatomic=True, element=my_element, temperature=my_temp, nsteps=my_n, md_type = \"VelocityVerlet\", calc_type=my_calc, md_seed= my_md_seed)\n",
    "EnergyList = np.array([atom.get_potential_energy() for atom in AtomsList], dtype=np.float64)\n",
    "# EnergyList = np.array([atom.info[\"energy\"] for atom in AtomsList], dtype=np.float64) # I had to change this to potential energy or the derivative doesn't work\n",
    "PosList =  np.array([atoms.positions for atoms in AtomsList])#[:,1]# only get position of one atom while we are doing global soap\n",
    "#SoapDerivativeList, SoapList = get_dscribe_descriptors(AtomsList, species=[\"C\", \"H\", \"O\"], is_global=False, return_derivatives=True, nmax=5,lmax=5, is_periodic=True)\n",
    "SoapList = get_dscribe_descriptors(AtomsList, species=np.unique(AtomsList[0].get_chemical_symbols()), is_global=False, return_derivatives=False, nmax=5,lmax=5, is_periodic=True)\n",
    "\n",
    "# set"
   ]
  },
  {
   "cell_type": "code",
   "execution_count": 379,
   "metadata": {},
   "outputs": [
    {
     "data": {
      "text/plain": [
       "[<matplotlib.lines.Line2D at 0x7fc23f1637d0>]"
      ]
     },
     "execution_count": 379,
     "metadata": {},
     "output_type": "execute_result"
    },
    {
     "data": {
      "image/png": "[encoded data removed]",
      "text/plain": [
       "<Figure size 432x288 with 1 Axes>"
      ]
     },
     "metadata": {
      "needs_background": "light"
     },
     "output_type": "display_data"
    }
   ],
   "source": [
    "plt.plot(EnergyList)"
   ]
  },
  {
   "cell_type": "code",
   "execution_count": 387,
   "metadata": {},
   "outputs": [
    {
     "data": {
      "text/plain": [
       "[<matplotlib.lines.Line2D at 0x7fc2325467d0>]"
      ]
     },
     "execution_count": 387,
     "metadata": {},
     "output_type": "execute_result"
    },
    {
     "data": {
      "image/png": "[encoded data removed]",
      "text/plain": [
       "<Figure size 576x720 with 3 Axes>"
      ]
     },
     "metadata": {
      "needs_background": "light"
     },
     "output_type": "display_data"
    }
   ],
   "source": [
    "window = 100\n",
    "rolling_stdevs = [np.std(EnergyList[i:i+window]) for i in range(len(EnergyList)-window+1)]\n",
    "rolling_means = [np.mean(EnergyList[i:i+window]) for i in range(len(EnergyList)-window+1)]\n",
    "\n",
    "fig, axs = plt.subplots(nrows=3, sharex =True, figsize=(8,10))\n",
    "\n",
    "axs[0].plot(range(len(EnergyList)), EnergyList, \"o\")\n",
    "axs[1].plot(np.arange(len(EnergyList)-window+1)+ (1 + window)/2, rolling_stdevs)\n",
    "axs[2].plot(np.arange(len(EnergyList)-window+1)+ (1 + window)/2, rolling_means)"
   ]
  },
  {
   "cell_type": "code",
   "execution_count": 380,
   "metadata": {},
   "outputs": [
    {
     "name": "stdout",
     "output_type": "stream",
     "text": [
      "Custom learning, epoch 0\n",
      "Error 0 = 0.95\n",
      "Error 1 = 0.95\n",
      "Error 2 = 0.97\n",
      "Error 3 = 1.00\n",
      "Error 4 = 0.97\n",
      "Custom learning, epoch 5\n",
      "Error 5 = 0.95\n",
      "Error 6 = 0.95\n",
      "Error 7 = 0.96\n",
      "Error 8 = 0.94\n",
      "Error 9 = 0.95\n"
     ]
    }
   ],
   "source": [
    "# This is my attempt at learning forces \n",
    "# Doesn't use LearnEnergyFromSoap because force learning is not yet implemented there (as of July 13th)\n",
    "from sklearn.preprocessing import StandardScaler\n",
    "\n",
    "collapsable=True\n",
    "\n",
    "split_seed = 1\n",
    "valid_split_seed = 1\n",
    "training_frac = my_n_train/my_n#0.9\n",
    "valid_fract = 0.9\n",
    "\n",
    "train_sps, test_sps, train_ens, test_ens,  train_pos, test_pos = train_test_split(SoapList, EnergyList, PosList,  random_state=split_seed, test_size=(1-training_frac))\n",
    "\n",
    "# scaling\n",
    "# ----------------------------------------------------------------------------------------\n",
    "if collapsable:\n",
    "    # Standardize input for improved learning. Fit is done only on training data, scaling is applied to \n",
    "    # both descriptors and their derivatives on training and test sets.\n",
    "    # # pass with_mean=False to avoid breaking sparsity structure of data\n",
    "    rescale_method = 1\n",
    "    if rescale_method == 1:\n",
    "        train_sps, test_sps = train_sps.reshape(-1, SoapList.shape[-1]), test_sps.reshape(-1, SoapList.shape[-1])\n",
    "        soap_scaler = StandardScaler().fit(train_sps)\n",
    "        train_sps, test_sps = soap_scaler.transform(train_sps), soap_scaler.transform(test_sps)\n",
    "        train_sps, test_sps = train_sps.reshape(-1, *SoapList.shape[1:]), test_sps.reshape(-1, *SoapList.shape[1:])\n",
    "    elif rescale_method == 2:\n",
    "        train_sps, test_sps = train_sps.reshape(train_sps.shape[0], -1), test_sps.reshape(test_sps.shape[0], -1)\n",
    "        soap_scaler = StandardScaler().fit(train_sps)\n",
    "        train_sps, test_sps = soap_scaler.transform(train_sps), soap_scaler.transform(test_sps)\n",
    "        train_sps, test_sps = train_sps.reshape(len(train_ens), SoapList.shape[1], -1), test_sps.reshape(len(test_ens), SoapList.shape[1], -1)\n",
    "\n",
    "    # rescale energies\n",
    "    ens_scaler = StandardScaler().fit(train_ens[:,None])\n",
    "    train_ens, test_ens = ens_scaler.transform(train_ens[:,None])[:,0], ens_scaler.transform(test_ens[:,None])[:,0]\n",
    "# ----------------------------------------------------------------------------------------\n",
    "\n",
    "observation_index_points= tf.constant(train_sps, dtype=np.float64)\n",
    "ens_observations = tf.constant(train_ens, dtype=np.float64)\n",
    "index_points = tf.constant(test_sps, dtype=np.float64)\n",
    "#\n",
    "shuffle_seed = 1\n",
    "batch_size = 3\n",
    "batch_size_custom_mse_max = 100\n",
    "learn_rate = 0.025\n",
    "n_epochs = 10; n_epochs_nll = n_epochs; n_epochs_custom = n_epochs\n",
    "iterations_per_epoch = int(len(train_ens)/batch_size)\n",
    "#\n",
    "\n",
    "\n",
    "# initialize kernels and model hyperparameters\n",
    "# ----------------------------------------------------------------------------------------\n",
    "if collapsable:\n",
    "    noise_init = 1e-5; amp_init = 0.1; len_init = 100#42\n",
    "    constrain_positive = tfb.Shift(np.finfo(np.float64).tiny)(tfb.Exp())\n",
    "    # nll (old approach)\n",
    "    obs_noise_nll = tfp.util.TransformedVariable(initial_value=noise_init, bijector=constrain_positive, dtype=np.float64, name=\"noise_nll\")\n",
    "    amplitude_nll = tfp.util.TransformedVariable(initial_value=amp_init, bijector=constrain_positive, dtype=np.float64, name=\"amplitude_nll\")\n",
    "    len_scale_nll = tfp.util.TransformedVariable(initial_value=len_init, bijector=constrain_positive, dtype=np.float64, name=\"len_scale_nll\")\n",
    "    kernel_nll = tfk.ExponentiatedQuadratic(amplitude=amplitude_nll, length_scale=len_scale_nll, name=\"kernel_nll\", feature_ndims=2)#SoapList.shape[1])\n",
    "    trainable_variables_nll = [var.variables[0] for var in [amplitude_nll, len_scale_nll, obs_noise_nll]]\n",
    "    # mostly mse, my custom approach\n",
    "    # allows for forces to be considered during training\n",
    "    obs_noise_custom = tfp.util.TransformedVariable(initial_value=noise_init, bijector=constrain_positive, dtype=np.float64, name=\"noise_custom\")\n",
    "    amplitude_custom = tfp.util.TransformedVariable(initial_value=amp_init, bijector=constrain_positive, dtype=np.float64, name=\"amplitude_custom\")\n",
    "    len_scale_custom = tfp.util.TransformedVariable(initial_value=len_init, bijector=constrain_positive, dtype=np.float64, name=\"len_scale_custom\")\n",
    "    kernel_custom = tfk.ExponentiatedQuadratic(amplitude=amplitude_custom, length_scale=len_scale_custom, name=\"kernel_custom\", feature_ndims=2)#SoapList.shape[1])\n",
    "    trainable_variables_custom = [var.variables[0] for var in [amplitude_custom, len_scale_custom, obs_noise_custom]]\n",
    "# ----------------------------------------------------------------------------------------\n",
    "\n",
    "\n",
    "# ----------------------------------------------------------------------------------------\n",
    "# old/nll approach\n",
    "# ----------------------------------------------------------------------------------------\n",
    "if False:\n",
    "    @tf.function(autograph=False, experimental_compile=False)\n",
    "    def loss_nll(index_points, observations):\n",
    "        gp = tfd.GaussianProcess(kernel=kernel_nll, index_points=index_points, observation_noise_variance=obs_noise_nll)\n",
    "\n",
    "        return -gp.log_prob(observations)\n",
    "\n",
    "    # Define mini-batch data iterator\n",
    "    batches_nll = (\n",
    "        tf.data.Dataset.from_tensor_slices((observation_index_points, ens_observations))\n",
    "        .shuffle(buffer_size=len(observation_index_points), seed=shuffle_seed)\n",
    "        .repeat(count=None)\n",
    "        .batch(batch_size)\n",
    "    )\n",
    "    #\n",
    "\n",
    "    optimizer = tf.keras.optimizers.Adam(learning_rate=learn_rate)\n",
    "\n",
    "    for j in range(n_epochs):\n",
    "        if not j % 3:\n",
    "            print(\"Old learning, epoch {}\".format(j))\n",
    "\n",
    "        for i, (index_points_i, ens_observations_i) in enumerate(islice(batches_nll, iterations_per_epoch)):\n",
    "            with tf.GradientTape() as tape:\n",
    "                loss_nll_i = loss_nll(index_points_i, ens_observations_i)\n",
    "                loss_nll_i = tf.constant(loss_nll_i, dtype=np.float64)\n",
    "            grads = tape.gradient(loss_nll_i, trainable_variables_nll)\n",
    "            optimizer.apply_gradients(zip(grads, trainable_variables_nll))\n",
    "\n",
    "    with tf.GradientTape(watch_accessed_variables=False) as tape_d_ens:\n",
    "        tape_d_ens.watch(index_points)    \n",
    "        gprm_nll = tfd.GaussianProcessRegressionModel(\n",
    "            kernel=kernel_nll,\n",
    "            index_points=index_points,\n",
    "            observation_index_points=observation_index_points,\n",
    "            observations=ens_observations,\n",
    "            observation_noise_variance=obs_noise_nll)\n",
    "        predict_ens_nll = gprm_nll.mean()\n",
    "# ----------------------------------------------------------------------------------------\n",
    "\n",
    "\n",
    "# ----------------------------------------------------------------------------------------\n",
    "# custom/mostly mse approach\n",
    "# ----------------------------------------------------------------------------------------\n",
    "if collapsable:\n",
    "    @tf.function(autograph=False, experimental_compile=False)\n",
    "    def loss_custom_nll(index_points, observations):\n",
    "        gp = tfd.GaussianProcess(kernel=kernel_custom, index_points=index_points, observation_noise_variance=obs_noise_custom)\n",
    "        return -gp.log_prob(observations)\n",
    "\n",
    "    @tf.function(autograph=False, experimental_compile=False)\n",
    "    def mse(y_predict, y_true):\n",
    "        return tf.math.reduce_mean(tf.math.squared_difference(y_predict, y_true))\n",
    "\n",
    "    #@tf.function(autograph=False, experimental_compile=False)\n",
    "    def mse_2factor(y1_predict, y1_true, weight1, y2_predict, y2_true, weight2):\n",
    "        mse1 = mse(y1_predict, y1_true)\n",
    "#         print(\"mse1 = \", mse1)\n",
    "        mse2 = mse(y2_predict, y2_true)\n",
    "#         print(\"mse2 = \", mse2)\n",
    "        return mse1 * weight1 + mse2 * weight2\n",
    "\n",
    "    # batch it\n",
    "    batches_custom = (\n",
    "        tf.data.Dataset.from_tensor_slices((observation_index_points, ens_observations))\n",
    "        .shuffle(buffer_size=len(observation_index_points), seed=shuffle_seed)\n",
    "        .repeat(count=None)\n",
    "        .batch(batch_size)\n",
    "    )\n",
    "\n",
    "    optimizer_custom = tf.keras.optimizers.Adam(learning_rate=learn_rate)\n",
    "\n",
    "    # First run through the data a few times, minimizing nll because this is more robust to bad hyperparameter initialization\n",
    "    n_epochs_custom_nll = 0\n",
    "    for j in range(n_epochs_custom_nll):\n",
    "        for i, (index_points_i, ens_observations_i) in enumerate(islice(batches_custom, iterations_per_epoch)):\n",
    "                with tf.GradientTape() as tape:\n",
    "                    loss_custom_i = loss_custom_nll(index_points_i, ens_observations_i)\n",
    "                    loss_custom_i = tf.constant(loss_custom_i, dtype=np.float64)\n",
    "                grads = tape.gradient(loss_custom_i, trainable_variables_custom)\n",
    "                optimizer_custom.apply_gradients(zip(grads, trainable_variables_custom))\n",
    "    \n",
    "    error_history = []\n",
    "    for j in range(n_epochs_custom):\n",
    "        if not j % 5:\n",
    "            print(\"Custom learning, epoch {}\".format(j))\n",
    "\n",
    "        split_data_j = train_test_split(train_sps, train_ens, random_state =valid_split_seed+j, test_size=(1-valid_fract))\n",
    "        train_sps_j, valid_sps_j, train_ens_j, valid_ens_j = split_data_j\n",
    "        observation_index_points_j = tf.constant(train_sps_j, dtype=np.float64)\n",
    "        ens_observations_j = tf.constant(train_ens_j, dtype=np.float64)\n",
    "        heldout_index_points_j = tf.constant(valid_sps_j, dtype=np.float64)\n",
    "        heldout_ens_observations_j = tf.constant(valid_ens_j, dtype=np.float64)\n",
    "\n",
    "\n",
    "        if len(train_sps_j) < batch_size_custom_mse_max:\n",
    "            iterations_per_epoch_custom = 1\n",
    "            batch_size_custom = len(train_sps_j)\n",
    "        else:\n",
    "            iterations_per_epoch_custom = int(np.ceil(len(train_sps_j)/batch_size_custom_mse_max))\n",
    "            batch_size_custom = int(np.ceil(len(train_sps_j)/iterations_per_epoch_custom))\n",
    "\n",
    "        batches_custom_j = (\n",
    "            tf.data.Dataset.from_tensor_slices((observation_index_points_j, ens_observations_j)) # frcs_observations_j_i might be extraneous\n",
    "            .shuffle(buffer_size=len(observation_index_points_j), seed=shuffle_seed) # Should I modify this to be seed = shuffle_seed + j or does it not matter?\n",
    "            .repeat(count=None)\n",
    "            .batch(batch_size_custom)\n",
    "        )\n",
    "        error_j = 0\n",
    "        for i, (index_points_j_i, ens_observations_j_i) in enumerate(islice(batches_custom_j, iterations_per_epoch_custom)):\n",
    "            with tf.GradientTape() as tape:\n",
    "                with tf.GradientTape(watch_accessed_variables=False) as tape_d_ens:\n",
    "                    tape_d_ens.watch(heldout_index_points_j)    \n",
    "                    gprm_custom_j_i = tfd.GaussianProcessRegressionModel(\n",
    "                        kernel = kernel_custom,\n",
    "                        index_points = heldout_index_points_j,\n",
    "                        observation_index_points = index_points_j_i,\n",
    "                        observations = ens_observations_j_i,\n",
    "                        observation_noise_variance = obs_noise_custom)\n",
    "                    predict_ens_j_i = gprm_custom_j_i.sample()\n",
    "                error_custom_j_i = mse(predict_ens_j_i, heldout_ens_observations_j)\n",
    "                error_j += error_custom_j_i\n",
    "\n",
    "\n",
    "            grads = tape.gradient(error_custom_j_i, trainable_variables_custom)\n",
    "            optimizer_custom.apply_gradients(zip(grads, trainable_variables_custom))\n",
    "        interpretable_error_j = np.sqrt(error_j/iterations_per_epoch_custom)\n",
    "        error_history.append(interpretable_error_j)\n",
    "        print(\"Error {} = {:.2f}\".format(j, interpretable_error_j))\n",
    "\n",
    "\n",
    "    with tf.GradientTape(watch_accessed_variables=False) as tape_d_ens:\n",
    "        tape_d_ens.watch(index_points)    \n",
    "\n",
    "        gprm_custom = tfd.GaussianProcessRegressionModel(\n",
    "            kernel=kernel_custom,\n",
    "            index_points=index_points,\n",
    "            observation_index_points=observation_index_points,\n",
    "            observations=ens_observations,\n",
    "            observation_noise_variance=obs_noise_custom)\n",
    "\n",
    "        predict_ens_custom = gprm_custom.mean()\n",
    "        \n",
    "    performance_Graphene_by_n[my_n_train] = np.max(np.abs(ens_scaler.inverse_transform(test_ens) - ens_scaler.inverse_transform(predict_ens_custom)))\n",
    "# ----------------------------------------------------------------------------------------\n"
   ]
  },
  {
   "cell_type": "code",
   "execution_count": 262,
   "metadata": {},
   "outputs": [],
   "source": [
    "#performance_Graphene_by_n = {}"
   ]
  },
  {
   "cell_type": "code",
   "execution_count": 372,
   "metadata": {},
   "outputs": [
    {
     "data": {
      "text/plain": [
       "{30: 0.039455924021694955,\n",
       " 50: 0.025520192534258967,\n",
       " 60: 0.05015260878803929,\n",
       " 90: 0.02628695509292811,\n",
       " 100: 0.012542909998046525,\n",
       " 200: 0.016431664258334422,\n",
       " 300: 0.010318825536614895,\n",
       " 500: 0.007422881928278002,\n",
       " 150: 0.016834547242751796,\n",
       " 900: 0.01562840400129062,\n",
       " 700: 0.011335636350395362,\n",
       " 250: 0.012518518815113566,\n",
       " 1200: 0.012184416445052193,\n",
       " 1000: 0.017007521724281105,\n",
       " 1500: 0.015366629510708663,\n",
       " 1100: 0.009441366010833008,\n",
       " 400: 0.010275217199023245,\n",
       " 600: 0.011123969460413718,\n",
       " 800: 0.010949366652766912,\n",
       " 2000: 0.019939079705636686,\n",
       " 225: 0.006798546424988672,\n",
       " 275: 0.010863128772143682,\n",
       " 325: 0.007438278799327236,\n",
       " 350: 0.01214594757220766,\n",
       " 375: 0.012026006968198999,\n",
       " 425: 0.00861313098721439,\n",
       " 450: 0.015816443732319385,\n",
       " 475: 0.019517097873631428,\n",
       " 525: 0.007056522666516685,\n",
       " 550: 0.012612630380317569,\n",
       " 575: 0.011025575577605196,\n",
       " 625: 0.013882095822964402,\n",
       " 675: 0.009054737313363148,\n",
       " 725: 0.014970176715223715,\n",
       " 750: 0.012289034279092448,\n",
       " 775: 0.014892466188712206,\n",
       " 825: 0.012240548016961839,\n",
       " 950: 0.011111813719026031,\n",
       " 1300: 0.011543653565695422,\n",
       " 1750: 0.013688366547512487}"
      ]
     },
     "execution_count": 372,
     "metadata": {},
     "output_type": "execute_result"
    }
   ],
   "source": [
    "performance_Graphene_by_n"
   ]
  },
  {
   "cell_type": "code",
   "execution_count": 391,
   "metadata": {},
   "outputs": [
    {
     "name": "stdout",
     "output_type": "stream",
     "text": [
      "9970\n"
     ]
    }
   ],
   "source": [
    "print(len(train_ens))"
   ]
  },
  {
   "cell_type": "code",
   "execution_count": 374,
   "metadata": {},
   "outputs": [
    {
     "data": {
      "text/plain": [
       "<matplotlib.legend.Legend at 0x7fc23e44c410>"
      ]
     },
     "execution_count": 374,
     "metadata": {},
     "output_type": "execute_result"
    },
    {
     "data": {
      "image/png": "[encoded data removed]",
      "text/plain": [
       "<Figure size 432x288 with 1 Axes>"
      ]
     },
     "metadata": {
      "needs_background": "light"
     },
     "output_type": "display_data"
    }
   ],
   "source": [
    "plot_custom = True; plot_nll = False\n",
    "plt.plot(test_ens, test_ens, \"-\", c=\"k\")\n",
    "if plot_custom:\n",
    "    plt.plot(test_ens, predict_ens_custom,\"o\", label=\"custom\", c=\"violet\", ms=10)\n",
    "if plot_nll:\n",
    "    plt.plot(test_ens, predict_ens_nll,\"o\", label=\"nll\", c=\"lime\", ms=5)\n",
    "plt.legend()"
   ]
  },
  {
   "cell_type": "code",
   "execution_count": 388,
   "metadata": {},
   "outputs": [
    {
     "data": {
      "text/plain": [
       "[<matplotlib.lines.Line2D at 0x7fc23246ef50>]"
      ]
     },
     "execution_count": 388,
     "metadata": {},
     "output_type": "execute_result"
    },
    {
     "data": {
      "image/png": "[encoded data removed]",
      "text/plain": [
       "<Figure size 432x288 with 1 Axes>"
      ]
     },
     "metadata": {
      "needs_background": "light"
     },
     "output_type": "display_data"
    }
   ],
   "source": [
    "plt.plot(list(performance_Graphene_by_n.keys()), list(performance_Graphene_by_n.values()), \"o\")"
   ]
  },
  {
   "cell_type": "code",
   "execution_count": 389,
   "metadata": {},
   "outputs": [
    {
     "data": {
      "text/plain": [
       "[<matplotlib.lines.Line2D at 0x7fc23245b050>]"
      ]
     },
     "execution_count": 389,
     "metadata": {},
     "output_type": "execute_result"
    },
    {
     "data": {
      "image/png": "[encoded data removed]",
      "text/plain": [
       "<Figure size 432x288 with 1 Axes>"
      ]
     },
     "metadata": {
      "needs_background": "light"
     },
     "output_type": "display_data"
    }
   ],
   "source": [
    "# delete above cell when this loads (this is an updated version)\n",
    "plt.plot(list(performance_Graphene_by_n.keys()), list(performance_Graphene_by_n.values()), \"o\")"
   ]
  },
  {
   "cell_type": "code",
   "execution_count": 252,
   "metadata": {},
   "outputs": [
    {
     "data": {
      "text/plain": [
       "array([-1125.72447817, -1125.83888506, -1125.88402636, -1125.89747451,\n",
       "       -1125.74671946, -1125.65953381, -1125.83022568, -1125.55344613,\n",
       "       -1125.91280785, -1125.92123884, -1125.56958975, -1125.67603525,\n",
       "       -1125.70005333, -1125.79199962, -1125.93484373, -1125.62953911,\n",
       "       -1125.89950445, -1125.77674277, -1125.79498986, -1125.62464417,\n",
       "       -1125.59673363, -1125.73943533, -1125.82916842, -1125.66056373,\n",
       "       -1125.70188755, -1125.85798284, -1125.93615262, -1126.0709101 ,\n",
       "       -1125.72963819, -1125.52382698])"
      ]
     },
     "execution_count": 252,
     "metadata": {},
     "output_type": "execute_result"
    }
   ],
   "source": [
    "ens_scaler.scale_\n",
    "ens_scaler.inverse_transform(predict_ens_custom)"
   ]
  },
  {
   "cell_type": "code",
   "execution_count": null,
   "metadata": {},
   "outputs": [],
   "source": []
  },
  {
   "cell_type": "code",
   "execution_count": 104,
   "metadata": {},
   "outputs": [],
   "source": [
    "# Collect input data for soap->energy/forces learning model without looping\n",
    "# Unlike above (in the Plottable_Model_Errors cell) I am collecting forces here as well\n",
    "\n",
    "# MD parameters\n",
    "my_temp=300\n",
    "my_n = 500\n",
    "my_calc = \"EMT\"\n",
    "my_md_seed = 1\n",
    "\n",
    "# SOAP parameters\n",
    "get_local_descriptors = True\n",
    "my_nmax=1\n",
    "my_lmax=1\n",
    "\n",
    "\n",
    "#AtomsList = read(\"../data/ManyGraphenes.gz\", \":{}\".format(my_n))\n",
    "AtomsList = read(\"../data/distorted_propanol.extxyz.gz\", \":{}\".format(my_n))\n",
    "PosList =  np.array([atoms.positions for atoms in AtomsList])#[:,1]# only get position of one atom while we are doing global soap\n",
    "\n",
    "EnergyList = np.array([atom.get_potential_energy() for atom in AtomsList], dtype=np.float64) # I had to change this to potential energy or the derivative doesn't work\n",
    "ForceList = np.array([atom.get_forces() for atom in AtomsList], dtype=np.float64)#[:,1] # only get force of one atom while we are doing global soap\n",
    "SoapDerivativeList, SoapList = get_dscribe_descriptors(AtomsList, species=np.unique(AtomsList[0].get_chemical_symbols()), is_global= not get_local_descriptors, return_derivatives=True, nmax=my_nmax, lmax=my_lmax)\n",
    "#SoapDerivativeList = SoapDerivativeList[:,0,:,:,:]; SoapList = SoapList[:,0,:] # Using global soap right now so we can remove the local descriptor index\n",
    "SoapList = SoapList[:,0,:] \n",
    "#SoapList = SoapList.reshape(len(SoapList),-1)"
   ]
  },
  {
   "cell_type": "code",
   "execution_count": 116,
   "metadata": {},
   "outputs": [
    {
     "ename": "ValueError",
     "evalue": "Found input variables with inconsistent numbers of samples: [200, 200, 200, 500, 200, 200]",
     "output_type": "error",
     "traceback": [
      "\u001b[0;31m---------------------------------------------------------------------------\u001b[0m",
      "\u001b[0;31mValueError\u001b[0m                                Traceback (most recent call last)",
      "\u001b[0;32m<ipython-input-116-df90a1a6c424>\u001b[0m in \u001b[0;36m<module>\u001b[0;34m\u001b[0m\n\u001b[1;32m      8\u001b[0m \u001b[0;34m\u001b[0m\u001b[0m\n\u001b[1;32m      9\u001b[0m split_data = train_test_split(SoapList, SoapDerivativeList, EnergyList, ForceList, PosList, range(len(SoapList)), \n\u001b[0;32m---> 10\u001b[0;31m                               random_state=split_seed, test_size=(1-training_frac))\n\u001b[0m\u001b[1;32m     11\u001b[0m \u001b[0mtrain_sps\u001b[0m\u001b[0;34m,\u001b[0m \u001b[0mtest_sps\u001b[0m\u001b[0;34m,\u001b[0m \u001b[0mtrain_d_sps\u001b[0m\u001b[0;34m,\u001b[0m \u001b[0mtest_d_sps\u001b[0m\u001b[0;34m,\u001b[0m \u001b[0mtrain_ens\u001b[0m\u001b[0;34m,\u001b[0m \u001b[0mtest_ens\u001b[0m\u001b[0;34m,\u001b[0m \u001b[0mtrain_frcs\u001b[0m\u001b[0;34m,\u001b[0m \u001b[0mtest_frcs\u001b[0m\u001b[0;34m,\u001b[0m \u001b[0mtrain_pos\u001b[0m\u001b[0;34m,\u001b[0m \u001b[0mtest_pos\u001b[0m\u001b[0;34m,\u001b[0m \u001b[0mtrain_indices\u001b[0m\u001b[0;34m,\u001b[0m \u001b[0mtest_indices\u001b[0m \u001b[0;34m=\u001b[0m \u001b[0msplit_data\u001b[0m\u001b[0;34m\u001b[0m\u001b[0;34m\u001b[0m\u001b[0m\n\u001b[1;32m     12\u001b[0m \u001b[0;34m\u001b[0m\u001b[0m\n",
      "\u001b[0;32m~/anaconda3/lib/python3.7/site-packages/sklearn/model_selection/_split.py\u001b[0m in \u001b[0;36mtrain_test_split\u001b[0;34m(*arrays, **options)\u001b[0m\n\u001b[1;32m   2094\u001b[0m         \u001b[0;32mraise\u001b[0m \u001b[0mTypeError\u001b[0m\u001b[0;34m(\u001b[0m\u001b[0;34m\"Invalid parameters passed: %s\"\u001b[0m \u001b[0;34m%\u001b[0m \u001b[0mstr\u001b[0m\u001b[0;34m(\u001b[0m\u001b[0moptions\u001b[0m\u001b[0;34m)\u001b[0m\u001b[0;34m)\u001b[0m\u001b[0;34m\u001b[0m\u001b[0;34m\u001b[0m\u001b[0m\n\u001b[1;32m   2095\u001b[0m \u001b[0;34m\u001b[0m\u001b[0m\n\u001b[0;32m-> 2096\u001b[0;31m     \u001b[0marrays\u001b[0m \u001b[0;34m=\u001b[0m \u001b[0mindexable\u001b[0m\u001b[0;34m(\u001b[0m\u001b[0;34m*\u001b[0m\u001b[0marrays\u001b[0m\u001b[0;34m)\u001b[0m\u001b[0;34m\u001b[0m\u001b[0;34m\u001b[0m\u001b[0m\n\u001b[0m\u001b[1;32m   2097\u001b[0m \u001b[0;34m\u001b[0m\u001b[0m\n\u001b[1;32m   2098\u001b[0m     \u001b[0mn_samples\u001b[0m \u001b[0;34m=\u001b[0m \u001b[0m_num_samples\u001b[0m\u001b[0;34m(\u001b[0m\u001b[0marrays\u001b[0m\u001b[0;34m[\u001b[0m\u001b[0;36m0\u001b[0m\u001b[0;34m]\u001b[0m\u001b[0;34m)\u001b[0m\u001b[0;34m\u001b[0m\u001b[0;34m\u001b[0m\u001b[0m\n",
      "\u001b[0;32m~/anaconda3/lib/python3.7/site-packages/sklearn/utils/validation.py\u001b[0m in \u001b[0;36mindexable\u001b[0;34m(*iterables)\u001b[0m\n\u001b[1;32m    228\u001b[0m         \u001b[0;32melse\u001b[0m\u001b[0;34m:\u001b[0m\u001b[0;34m\u001b[0m\u001b[0;34m\u001b[0m\u001b[0m\n\u001b[1;32m    229\u001b[0m             \u001b[0mresult\u001b[0m\u001b[0;34m.\u001b[0m\u001b[0mappend\u001b[0m\u001b[0;34m(\u001b[0m\u001b[0mnp\u001b[0m\u001b[0;34m.\u001b[0m\u001b[0marray\u001b[0m\u001b[0;34m(\u001b[0m\u001b[0mX\u001b[0m\u001b[0;34m)\u001b[0m\u001b[0;34m)\u001b[0m\u001b[0;34m\u001b[0m\u001b[0;34m\u001b[0m\u001b[0m\n\u001b[0;32m--> 230\u001b[0;31m     \u001b[0mcheck_consistent_length\u001b[0m\u001b[0;34m(\u001b[0m\u001b[0;34m*\u001b[0m\u001b[0mresult\u001b[0m\u001b[0;34m)\u001b[0m\u001b[0;34m\u001b[0m\u001b[0;34m\u001b[0m\u001b[0m\n\u001b[0m\u001b[1;32m    231\u001b[0m     \u001b[0;32mreturn\u001b[0m \u001b[0mresult\u001b[0m\u001b[0;34m\u001b[0m\u001b[0;34m\u001b[0m\u001b[0m\n\u001b[1;32m    232\u001b[0m \u001b[0;34m\u001b[0m\u001b[0m\n",
      "\u001b[0;32m~/anaconda3/lib/python3.7/site-packages/sklearn/utils/validation.py\u001b[0m in \u001b[0;36mcheck_consistent_length\u001b[0;34m(*arrays)\u001b[0m\n\u001b[1;32m    203\u001b[0m     \u001b[0;32mif\u001b[0m \u001b[0mlen\u001b[0m\u001b[0;34m(\u001b[0m\u001b[0muniques\u001b[0m\u001b[0;34m)\u001b[0m \u001b[0;34m>\u001b[0m \u001b[0;36m1\u001b[0m\u001b[0;34m:\u001b[0m\u001b[0;34m\u001b[0m\u001b[0;34m\u001b[0m\u001b[0m\n\u001b[1;32m    204\u001b[0m         raise ValueError(\"Found input variables with inconsistent numbers of\"\n\u001b[0;32m--> 205\u001b[0;31m                          \" samples: %r\" % [int(l) for l in lengths])\n\u001b[0m\u001b[1;32m    206\u001b[0m \u001b[0;34m\u001b[0m\u001b[0m\n\u001b[1;32m    207\u001b[0m \u001b[0;34m\u001b[0m\u001b[0m\n",
      "\u001b[0;31mValueError\u001b[0m: Found input variables with inconsistent numbers of samples: [200, 200, 200, 500, 200, 200]"
     ]
    }
   ],
   "source": [
    "# This is my attempt at learning forces \n",
    "# Doesn't use LearnEnergyFromSoap because force learning is not yet implemented there (as of July 13th)\n",
    "\n",
    "split_seed = 1\n",
    "valid_split_seed = 1\n",
    "training_frac = 0.9\n",
    "valid_fract = 0.9\n",
    "\n",
    "split_data = train_test_split(SoapList, SoapDerivativeList, EnergyList, ForceList, PosList, range(len(SoapList)), \n",
    "                              random_state=split_seed, test_size=(1-training_frac))\n",
    "train_sps, test_sps, train_d_sps, test_d_sps, train_ens, test_ens, train_frcs, test_frcs, train_pos, test_pos, train_indices, test_indices = split_data\n",
    "\n",
    "# scaling\n",
    "# Standardize input for improved learning. Fit is done only on training data, scaling is applied to \n",
    "# both descriptors and their derivatives on training and test sets.\n",
    "# # pass with_mean=False to avoid breaking sparsity structure of data\n",
    "# soap_scaler = StandardScaler().fit(train_sps.reshape(-1,train_sps.shape[-1]))\n",
    "# train_sps, test_sps = soap_scaler.transform(train_sps), soap_scaler.transform(test_sps)\n",
    "# train_d_sps = train_d_sps / soap_scaler.scale_[None, None, None, :]\n",
    "# test_d_sps = test_d_sps / soap_scaler.scale_[None, None, None, :]\n",
    "\n",
    "# # Should I also rescale energies and/or forces?\n",
    "# # For now I will\n",
    "# ens_scaler = StandardScaler().fit(train_ens)\n",
    "# train_ens, test_ens = ens_scaler.transform(train_ens), ens_scaler.transform(test_ens)\n",
    "# train_frcs = train_frcs / ens_scaler.scale_#[None, :, None]\n",
    "# test_frcs = test_frcs / ens_scaler.scale_#[None, :, None]\n",
    "\n",
    "ens_scaler = StandardScaler().fit(train_ens[:,None])\n",
    "train_ens, test_ens = ens_scaler.transform(train_ens[:,None])[:,0], ens_scaler.transform(test_ens[:,None])[:,0]\n",
    "train_frcs = train_frcs / ens_scaler.scale_#[None, :, None]\n",
    "test_frcs = test_frcs / ens_scaler.scale_#[None, :, None]\n",
    "\n",
    "# # Should the variance be calculated before the rescaling?\n",
    "ens_var = train_ens.var(); frcs_var = train_frcs.var()\n",
    "\n",
    "#observation_index_points= tf.constant(np.array(train_pos), dtype=np.float64)\n",
    "observation_index_points= tf.constant(train_sps, dtype=np.float64)\n",
    "ens_observations = tf.constant(train_ens, dtype=np.float64)\n",
    "frcs_observations = tf.constant(train_frcs, dtype=np.float64)\n",
    "#index_points = tf.constant(np.array(test_pos), dtype=np.float64)\n",
    "index_points = tf.constant(test_sps, dtype=np.float64)\n",
    "#\n",
    "shuffle_seed = 1\n",
    "batch_size = 3\n",
    "batch_size_custom_mse_max = 100\n",
    "learn_rate = 0.05\n",
    "n_epochs = 20; n_epochs_nll = n_epochs; n_epochs_custom = n_epochs\n",
    "iterations_per_epoch = int(len(train_ens)/batch_size)\n",
    "#\n",
    "\n",
    "\n",
    "# initialize kernels and model hyperparameters\n",
    "# ----------------------------------------------------------------------------------------\n",
    "noise_init = 1e-1; amp_init = .1; len_init = 100\n",
    "constrain_positive = tfb.Shift(np.finfo(np.float64).tiny)(tfb.Exp())\n",
    "# nll (old approach)\n",
    "obs_noise_nll = tfp.util.TransformedVariable(initial_value=noise_init, bijector=constrain_positive, dtype=np.float64, name=\"noise_nll\")\n",
    "amplitude_nll = tfp.util.TransformedVariable(initial_value=amp_init, bijector=constrain_positive, dtype=np.float64, name=\"amplitude_nll\")\n",
    "len_scale_nll = tfp.util.TransformedVariable(initial_value=len_init, bijector=constrain_positive, dtype=np.float64, name=\"len_scale_nll\")\n",
    "kernel_nll = tfk.ExponentiatedQuadratic(amplitude=amplitude_nll, length_scale=len_scale_nll, name=\"kernel_nll\", feature_ndims=1)#SoapList.shape[1])\n",
    "trainable_variables_nll = [var.variables[0] for var in [amplitude_nll, len_scale_nll, obs_noise_nll]]\n",
    "# mostly mse, my custom approach\n",
    "# allows for forces to be considered during training\n",
    "obs_noise_custom = tfp.util.TransformedVariable(initial_value=noise_init, bijector=constrain_positive, dtype=np.float64, name=\"noise_custom\")\n",
    "amplitude_custom = tfp.util.TransformedVariable(initial_value=amp_init, bijector=constrain_positive, dtype=np.float64, name=\"amplitude_custom\")\n",
    "len_scale_custom = tfp.util.TransformedVariable(initial_value=len_init, bijector=constrain_positive, dtype=np.float64, name=\"len_scale_custom\")\n",
    "kernel_custom = tfk.ExponentiatedQuadratic(amplitude=amplitude_custom, length_scale=len_scale_custom, name=\"kernel_custom\", feature_ndims=SoapList.shape[1])\n",
    "trainable_variables_custom = [var.variables[0] for var in [amplitude_custom, len_scale_custom, obs_noise_custom]]\n",
    "# ----------------------------------------------------------------------------------------\n",
    "\n",
    "\n",
    "# ----------------------------------------------------------------------------------------\n",
    "# old/nll approach\n",
    "# ----------------------------------------------------------------------------------------\n",
    "@tf.function(autograph=False, experimental_compile=False)\n",
    "def loss_nll(index_points, observations):\n",
    "    gp = tfd.GaussianProcess(kernel=kernel_nll, index_points=index_points, observation_noise_variance=obs_noise_nll)\n",
    "    print(\"index_points.shape = \", index_points.shape)\n",
    "    print(\"observations.shape = \", observations.shape)\n",
    "    return -gp.log_prob(observations)\n",
    "\n",
    "# Define mini-batch data iterator\n",
    "batches_nll = (\n",
    "    tf.data.Dataset.from_tensor_slices((observation_index_points, ens_observations))\n",
    "    .shuffle(buffer_size=len(observation_index_points), seed=shuffle_seed)\n",
    "    .repeat(count=None)\n",
    "    .batch(batch_size)\n",
    ")\n",
    "#\n",
    "\n",
    "optimizer = tf.keras.optimizers.Adam(learning_rate=learn_rate)\n",
    "\n",
    "if False:\n",
    "    for j in range(n_epochs):\n",
    "\n",
    "        loss_nll_j = 0\n",
    "        for i, (index_points_i, ens_observations_i) in enumerate(islice(batches_nll, iterations_per_epoch)):\n",
    "            with tf.GradientTape() as tape:\n",
    "                loss_nll_i = loss_nll(index_points_i, ens_observations_i)\n",
    "                loss_nll_i = tf.constant(loss_nll_i, dtype=np.float64)\n",
    "                loss_nll_j += loss_nll_i\n",
    "            grads = tape.gradient(loss_nll_i, trainable_variables_nll)\n",
    "            optimizer.apply_gradients(zip(grads, trainable_variables_nll))\n",
    "        if not j % 4:\n",
    "            print(\"Old learning, epoch {} loss: {:10.0f}\".format(j, loss_nll_j))\n",
    "            print([(v.name, 2.71828**v.numpy()) for v in trainable_variables_nll])\n",
    "\n",
    "    with tf.GradientTape(watch_accessed_variables=False) as tape_d_ens:\n",
    "        tape_d_ens.watch(index_points)    \n",
    "        gprm_nll = tfd.GaussianProcessRegressionModel(\n",
    "            kernel=kernel_nll,\n",
    "            index_points=index_points,\n",
    "            observation_index_points=observation_index_points,\n",
    "            observations=ens_observations,\n",
    "            observation_noise_variance=obs_noise_nll)\n",
    "        print(index_points.shape)\n",
    "        print(observation_index_points.shape)\n",
    "        print(ens_observations.shape)\n",
    "        predict_ens_nll = gprm_nll.mean()\n",
    "\n",
    "    predict_d_ens_nll = tape_d_ens.gradient(predict_ens_nll, index_points)\n",
    "    #print(predict_d_ens_nll[:1])\n",
    "    #predict_d_ens_nll = predict_d_ens_nll[:,0,:]\n",
    "    #print(predict_d_ens_nll[:1])\n",
    "\n",
    "    print(\"predict_d_ens_nll.shape =\", predict_d_ens_nll.shape)\n",
    "    print(\"test_d_sps.shape = \", test_d_sps.shape )\n",
    "    print(\"\\ntest_d_sps[0][:,:,0] = \\n\", test_d_sps[0][:,:,0])\n",
    "    print(\"\\npredict_d_ens_nll[0] = \\n\", predict_d_ens_nll[0])\n",
    "    predict_frcs_nll = -1*np.einsum('imjkl,il->ijk', test_d_sps, predict_d_ens_nll)#[:,1] # only get force of one atom while we are doing global soap\n",
    "    print(\"\\npredict_frcs_nll[0][:,0] = \\n\", predict_frcs_nll[0][:,0])\n",
    "\n",
    "    # predict_d_ens_nll.shape = (75, 2, 18)\n",
    "    # test_d_sps.shape =  (75, 2, 2, 3, 18)\n",
    "    #     print(\"test_d_sps\", test_d_sps)\n",
    "    #     print(\"predict_d_ens_nll\", predict_d_ens_nll)\n",
    "    #     print(\"predict_frcs_nll\", -1*np.einsum('ijkl,il->ijk', test_d_sps, predict_d_ens_nll))\n",
    "    # ----------------------------------------------------------------------------------------\n",
    "\n",
    "\n",
    "# ----------------------------------------------------------------------------------------\n",
    "# custom/mostly mse approach\n",
    "# ----------------------------------------------------------------------------------------\n",
    "if True:\n",
    "    @tf.function(autograph=False, experimental_compile=False)\n",
    "    def loss_custom_nll(index_points, observations):\n",
    "        gp = tfd.GaussianProcess(kernel=kernel_custom, index_points=index_points, observation_noise_variance=obs_noise_custom)\n",
    "        return -gp.log_prob(observations)\n",
    "\n",
    "    @tf.function(autograph=False, experimental_compile=False)\n",
    "    def mse(y_predict, y_true):\n",
    "        return tf.math.reduce_mean(tf.math.squared_difference(y_predict, y_true))\n",
    "\n",
    "    #@tf.function(autograph=False, experimental_compile=False)\n",
    "    def mse_2factor(y1_predict, y1_true, weight1, y2_predict, y2_true, weight2):\n",
    "        mse1 = mse(y1_predict, y1_true)\n",
    "#         print(\"mse1 = \", mse1)\n",
    "        mse2 = mse(y2_predict, y2_true)\n",
    "#         print(\"mse2 = \", mse2)\n",
    "        return mse1 * weight1 + mse2 * weight2\n",
    "\n",
    "    # batch it\n",
    "    batches_custom = (\n",
    "        tf.data.Dataset.from_tensor_slices((observation_index_points, ens_observations, frcs_observations))\n",
    "        .shuffle(buffer_size=len(observation_index_points), seed=shuffle_seed)\n",
    "        .repeat(count=None)\n",
    "        .batch(batch_size)\n",
    "    )\n",
    "\n",
    "    optimizer_custom = tf.keras.optimizers.Adam(learning_rate=learn_rate)\n",
    "\n",
    "    # First run through the data a few times, minimizing nll because this is more robust to bad hyperparameter initialization\n",
    "    n_epochs_custom_nll = 3\n",
    "    for j in range(n_epochs_custom_nll):\n",
    "        for i, (index_points_i, ens_observations_i, ignore_forces_here) in enumerate(islice(batches_custom, iterations_per_epoch)):\n",
    "                with tf.GradientTape() as tape:\n",
    "                    loss_custom_i = loss_custom_nll(index_points_i, ens_observations_i)\n",
    "                    loss_custom_i = tf.constant(loss_custom_i, dtype=np.float64)\n",
    "                grads = tape.gradient(loss_custom_i, trainable_variables_custom)\n",
    "                optimizer_custom.apply_gradients(zip(grads, trainable_variables_custom))\n",
    "\n",
    "    for j in range(n_epochs_custom):\n",
    "        if not j % 10:\n",
    "            print(\"Custom learning, epoch {}\".format(j+1))\n",
    "\n",
    "        split_data_j = train_test_split(train_sps, train_ens, train_d_sps, train_frcs, random_state =valid_split_seed+j, test_size=(1-valid_fract))\n",
    "        train_sps_j, valid_sps_j, train_ens_j, valid_ens_j, train_d_sps_j, valid_d_sps_j, train_frcs_j, valid_frcs_j = split_data_j\n",
    "        observation_index_points_j = tf.constant(train_sps_j, dtype=np.float64)\n",
    "        ens_observations_j = tf.constant(train_ens_j, dtype=np.float64)\n",
    "        d_sps_observations_j = tf.constant(train_d_sps_j, dtype=np.float64)\n",
    "        frcs_observations_j = tf.constant(train_frcs_j, dtype=np.float64)\n",
    "        heldout_index_points_j = tf.constant(valid_sps_j, dtype=np.float64)\n",
    "        heldout_ens_observations_j = tf.constant(valid_ens_j, dtype=np.float64)\n",
    "        heldout_d_sps_observations_j = tf.constant(valid_d_sps_j, dtype=np.float64)\n",
    "        heldout_frcs_observations_j = tf.constant(valid_frcs_j, dtype=np.float64)\n",
    "\n",
    "        if len(train_sps_j) < batch_size_custom_mse_max:\n",
    "            iterations_per_epoch_custom = 1\n",
    "            batch_size_custom = len(train_sps_j)\n",
    "        else:\n",
    "            iterations_per_epoch_custom = int(np.ceil(len(train_sps_j)/batch_size_custom_mse_max))\n",
    "            batch_size_custom = int(np.ceil(len(train_sps_j)/iterations_per_epoch_custom))\n",
    "\n",
    "        batches_custom_j = (\n",
    "            tf.data.Dataset.from_tensor_slices((observation_index_points_j, ens_observations_j, d_sps_observations_j, frcs_observations_j)) # frcs_observations_j_i might be extraneous\n",
    "            .shuffle(buffer_size=len(observation_index_points_j), seed=shuffle_seed) # Should I modify this to be seed = shuffle_seed + j or does it not matter?\n",
    "            .repeat(count=None)\n",
    "            .batch(batch_size_custom)\n",
    "        )\n",
    "        for i, (index_points_j_i, ens_observations_j_i, d_sps_observations_j_i, frcs_observations_j_i) \\\n",
    "                in enumerate(islice(batches_custom_j, iterations_per_epoch_custom)):\n",
    "            with tf.GradientTape() as tape:\n",
    "                with tf.GradientTape(watch_accessed_variables=False) as tape_d_ens:\n",
    "                    tape_d_ens.watch(heldout_index_points_j)    \n",
    "                    gprm_custom_j_i = tfd.GaussianProcessRegressionModel(\n",
    "                        kernel = kernel_custom,\n",
    "                        index_points = heldout_index_points_j,\n",
    "                        observation_index_points = index_points_j_i,\n",
    "                        observations = ens_observations_j_i,\n",
    "                        observation_noise_variance = obs_noise_custom)\n",
    "                    predict_ens_j_i = gprm_custom_j_i.sample()\n",
    "                predict_d_ens_j_i = tape_d_ens.gradient(predict_ens_j_i, heldout_index_points_j)\n",
    "                #predict_frcs_j_i = -predict_d_ens_j_i\n",
    "                predict_frcs_j_i = -1*np.einsum('imjkl,il->ijk', heldout_d_sps_observations_j, predict_d_ens_j_i)#[:,1] # only get force of one atom while we are doing global soap\n",
    "                error_custom_j_i = mse_2factor(predict_ens_j_i, heldout_ens_observations_j, 1/ens_var,\n",
    "                                               predict_frcs_j_i, heldout_frcs_observations_j, 1/frcs_var)\n",
    "#                 print(\"predict_ens_j_i = \", predict_ens_j_i)\n",
    "#                 print(\"heldout_ens_observations_j = \", heldout_ens_observations_j)\n",
    "#                 print(\"1/ens_var = \", 1/ens_var)\n",
    "#                 print(\"predict_frcs_j_i = \", predict_frcs_j_i)\n",
    "#                 print(\"heldout_frcs_observations_j = \", heldout_frcs_observations_j)\n",
    "#                 print(\"1/frcs_var = \",1/frcs_var)\n",
    "#                 print(\"error value is \", error_custom_j_i)\n",
    "\n",
    "            grads = tape.gradient(error_custom_j_i, trainable_variables_custom)\n",
    "            optimizer_custom.apply_gradients(zip(grads, trainable_variables_custom))\n",
    "\n",
    "\n",
    "    with tf.GradientTape(watch_accessed_variables=False) as tape_d_ens:\n",
    "        tape_d_ens.watch(index_points)    \n",
    "\n",
    "        gprm_custom = tfd.GaussianProcessRegressionModel(\n",
    "            kernel=kernel_custom,\n",
    "            index_points=index_points,\n",
    "            observation_index_points=observation_index_points,\n",
    "            observations=ens_observations,\n",
    "            observation_noise_variance=obs_noise_custom)\n",
    "\n",
    "        predict_ens_custom = gprm_custom.mean()\n",
    "\n",
    "    predict_d_ens_custom = tape_d_ens.gradient(predict_ens_custom, index_points)\n",
    "    #predict_frcs_custom = -predict_d_ens_custom.numpy()\n",
    "    predict_frcs_custom = -1*np.einsum('imjkl,il->ijk', test_d_sps, predict_d_ens_custom)#[:,1] # only get force of one atom while we are doing global soap\n",
    "# -------------------------------------------------------------------\n",
    "\n"
   ]
  },
  {
   "cell_type": "code",
   "execution_count": 106,
   "metadata": {},
   "outputs": [
    {
     "data": {
      "text/plain": [
       "<matplotlib.legend.Legend at 0x7fc2466b7fd0>"
      ]
     },
     "execution_count": 106,
     "metadata": {},
     "output_type": "execute_result"
    },
    {
     "data": {
      "image/png": "[encoded data removed]",
      "text/plain": [
       "<Figure size 432x288 with 1 Axes>"
      ]
     },
     "metadata": {
      "needs_background": "light"
     },
     "output_type": "display_data"
    }
   ],
   "source": [
    "plot_custom = False; plot_nll = True\n",
    "plt.plot(test_ens, test_ens, \"-\", c=\"k\")\n",
    "if plot_custom:\n",
    "    plt.plot(test_ens, predict_ens_custom,\"o\", label=\"custom\", c=\"violet\", ms=10)\n",
    "if plot_nll:\n",
    "    plt.plot(test_ens, predict_ens_nll,\"o\", label=\"nll\", c=\"lime\", ms=5)\n",
    "plt.legend()"
   ]
  },
  {
   "cell_type": "markdown",
   "metadata": {},
   "source": [
    "Now with polynomial kernel"
   ]
  },
  {
   "cell_type": "code",
   "execution_count": 78,
   "metadata": {},
   "outputs": [
    {
     "name": "stdout",
     "output_type": "stream",
     "text": [
      "Old learning, epoch 0 loss:       1036\n",
      "<TransformedVariable: dtype=float64, shape=[], fn=\"chain_of_shift_of_exp\", numpy=9.999999999999996e-11>\n",
      "<TransformedVariable: dtype=float64, shape=[], fn=\"chain_of_shift_of_exp\", numpy=5.264346569566937>\n",
      "Old learning, epoch 10 loss:        257\n",
      "<TransformedVariable: dtype=float64, shape=[], fn=\"chain_of_shift_of_exp\", numpy=9.999999999994347e-11>\n",
      "<TransformedVariable: dtype=float64, shape=[], fn=\"chain_of_shift_of_exp\", numpy=0.0003167384302860716>\n",
      "Old learning, epoch 20 loss:        256\n",
      "<TransformedVariable: dtype=float64, shape=[], fn=\"chain_of_shift_of_exp\", numpy=9.999999999992962e-11>\n",
      "<TransformedVariable: dtype=float64, shape=[], fn=\"chain_of_shift_of_exp\", numpy=0.00027292594941086983>\n",
      "(20, 2)\n",
      "(180, 2)\n",
      "(180,)\n",
      "predict_d_ens_nll.shape = (20, 2)\n",
      "test_d_sps.shape =  (20, 112, 112, 3, 2)\n",
      "\n",
      "test_d_sps[0][:,:,0] = \n",
      " [[[ 0.0000000e+00  1.8211912e-01]\n",
      "  [-1.1813260e+01 -2.8771907e-01]\n",
      "  [-1.8961560e+00 -1.3441440e-01]\n",
      "  ...\n",
      "  [-1.6820769e-01 -7.4983765e-03]\n",
      "  [-2.4366602e-02 -2.2390899e-03]\n",
      "  [-9.3267061e-02 -9.8400097e-03]]\n",
      "\n",
      " [[ 1.4589543e+01 -9.5139325e-02]\n",
      "  [ 0.0000000e+00 -1.7530112e-02]\n",
      "  [-7.0118952e-01 -1.6488997e-02]\n",
      "  ...\n",
      "  [-4.4943132e+00  6.9392622e-03]\n",
      "  [-1.7061107e+00 -2.1184981e-02]\n",
      "  [-2.1712198e+00 -4.3992590e-02]]\n",
      "\n",
      " [[ 2.4523635e+00  3.1152987e-03]\n",
      "  [ 7.3430127e-01 -7.7249254e-03]\n",
      "  [ 0.0000000e+00 -2.0535555e-02]\n",
      "  ...\n",
      "  [-1.9815197e+00  8.8236207e-04]\n",
      "  [-4.9475689e+00  4.7869184e-03]\n",
      "  [-1.4599176e+01  8.6198314e-05]]\n",
      "\n",
      " ...\n",
      "\n",
      " [[ 2.0296463e-01 -3.9294190e-04]\n",
      "  [ 4.3910246e+00  1.2766017e-02]\n",
      "  [ 1.8486816e+00  2.9718855e-02]\n",
      "  ...\n",
      "  [ 0.0000000e+00 -3.8821522e-02]\n",
      "  [-3.3525136e-01 -1.9288080e-02]\n",
      "  [ 2.0128160e+00  4.2270083e-02]]\n",
      "\n",
      " [[ 3.1089874e-02  5.9799437e-05]\n",
      "  [ 1.7626222e+00  1.8227447e-03]\n",
      "  [ 4.8809576e+00  1.0164619e-02]\n",
      "  ...\n",
      "  [ 3.5450310e-01 -1.3891435e-02]\n",
      "  [ 0.0000000e+00 -3.5626732e-02]\n",
      "  [ 1.4659622e+01  1.4194751e-02]]\n",
      "\n",
      " [[ 1.1969586e-01  1.1898629e-04]\n",
      "  [ 2.2562265e+00  3.6982070e-03]\n",
      "  [ 1.4486665e+01  1.7936993e-02]\n",
      "  ...\n",
      "  [-2.1408212e+00 -3.7938943e-03]\n",
      "  [-1.4745166e+01 -1.4235352e-02]\n",
      "  [ 0.0000000e+00  1.4212202e-02]]]\n",
      "\n",
      "predict_d_ens_nll[0] = \n",
      " tf.Tensor([-8.58331818  4.05612384], shape=(2,), dtype=float64)\n",
      "\n",
      "predict_frcs_nll[0][:,0] = \n",
      " [ 7.46641215e+01  1.24497922e+01  1.07045976e+01  8.62265367e+01\n",
      " -2.07644991e+02  2.18790177e+02  1.68980148e+02 -1.64235861e+02\n",
      " -2.31777500e+01 -8.83734520e+01 -8.22925529e+01 -1.79077431e+01\n",
      " -1.37167211e+00 -2.17007858e+01 -1.10704077e+01 -2.86250588e+00\n",
      "  3.04745196e+00  1.45965390e+00  3.62591218e+00  5.56256328e+00\n",
      "  7.46333182e+00  3.68173861e+00  4.00679307e+00  1.26553585e+00\n",
      " -6.42732006e+00 -6.74742262e-02 -3.74966820e+00  3.21981284e+00\n",
      "  9.63590184e+01  9.48263260e+00  1.29069436e+01  6.09553822e+01\n",
      " -2.10728290e+02  2.25500804e+02  2.14962772e+02 -2.14336009e+02\n",
      " -2.65066731e+01 -9.37951081e+01 -9.38701774e+01 -2.36662843e+01\n",
      "  1.19447259e+01 -2.47983198e+00  4.37685776e+00  4.13270895e+00\n",
      " -1.40239141e-01  6.93172480e+00  1.94402824e+00 -4.09181892e+00\n",
      " -9.64756722e+00 -2.37686951e+01 -2.41347275e+01  1.34291658e+01\n",
      "  5.10421214e+00  1.90906363e+01  8.97680722e+00 -8.86349725e+00\n",
      "  9.43250666e+01  1.23110855e+01  2.05449045e+01  9.77876833e+01\n",
      " -2.10507805e+02  2.22439413e+02  2.15783647e+02 -2.16493694e+02\n",
      " -2.92091032e+01 -9.25050138e+01 -9.34307986e+01 -2.55052473e+01\n",
      " -1.21890655e+01 -9.04161705e+00 -7.91689532e-01  8.77924221e+00\n",
      "  2.02776744e+01 -9.69819398e+00 -5.25688332e+00  4.22445277e+00\n",
      " -5.46092900e+00  5.76798065e+00  5.28724007e+00 -1.47877301e+01\n",
      "  1.16006099e+01  5.23545370e+00  9.54394011e-01  1.35722158e+00\n",
      "  8.88614205e+01  1.30787702e+01  2.02686746e+01  9.89138836e+01\n",
      " -1.64532038e+02  1.76405283e+02  2.19756534e+02 -2.10443591e+02\n",
      " -1.10280055e+01 -8.21974813e+01 -8.92414212e+01 -3.03569149e+01\n",
      " -5.44488864e-01 -1.04599796e+01 -1.15684643e+01 -6.24292133e+00\n",
      "  1.25119853e+01  5.70070926e+00  9.75024457e+00  2.33654421e+01\n",
      " -1.33500007e+01  7.06515132e+00 -3.80427252e+00 -1.49625399e+00\n",
      "  4.33704293e-02 -1.52744996e+01 -1.21991430e+01  3.74378111e+00]\n"
     ]
    }
   ],
   "source": [
    "# This is my attempt at learning forces \n",
    "# Doesn't use LearnEnergyFromSoap because force learning is not yet implemented there (as of July 13th)\n",
    "\n",
    "split_seed = 1\n",
    "valid_split_seed = 1\n",
    "training_frac = 0.9\n",
    "valid_fract = 0.9\n",
    "\n",
    "split_data = train_test_split(SoapList, SoapDerivativeList, EnergyList, ForceList, PosList, range(len(SoapList)), \n",
    "                              random_state=split_seed, test_size=(1-training_frac))\n",
    "train_sps, test_sps, train_d_sps, test_d_sps, train_ens, test_ens, train_frcs, test_frcs, train_pos, test_pos, train_indices, test_indices = split_data\n",
    "\n",
    "# scaling\n",
    "# Standardize input for improved learning. Fit is done only on training data, scaling is applied to \n",
    "# both descriptors and their derivatives on training and test sets.\n",
    "# # pass with_mean=False to avoid breaking sparsity structure of data\n",
    "# soap_scaler = StandardScaler().fit(train_sps.reshape(-1,train_sps.shape[-1]))\n",
    "# train_sps, test_sps = soap_scaler.transform(train_sps), soap_scaler.transform(test_sps)\n",
    "# train_d_sps = train_d_sps / soap_scaler.scale_[None, None, None, :]\n",
    "# test_d_sps = test_d_sps / soap_scaler.scale_[None, None, None, :]\n",
    "\n",
    "# # Should I also rescale energies and/or forces?\n",
    "# # For now I will\n",
    "# ens_scaler = StandardScaler().fit(train_ens)\n",
    "# train_ens, test_ens = ens_scaler.transform(train_ens), ens_scaler.transform(test_ens)\n",
    "# train_frcs = train_frcs / ens_scaler.scale_#[None, :, None]\n",
    "# test_frcs = test_frcs / ens_scaler.scale_#[None, :, None]\n",
    "\n",
    "ens_scaler = StandardScaler().fit(train_ens[:,None])\n",
    "train_ens, test_ens = ens_scaler.transform(train_ens[:,None])[:,0], ens_scaler.transform(test_ens[:,None])[:,0]\n",
    "train_frcs = train_frcs / ens_scaler.scale_#[None, :, None]\n",
    "test_frcs = test_frcs / ens_scaler.scale_#[None, :, None]\n",
    "\n",
    "# # Should the variance be calculated before the rescaling?\n",
    "ens_var = train_ens.var(); frcs_var = train_frcs.var()\n",
    "\n",
    "#observation_index_points= tf.constant(np.array(train_pos), dtype=np.float64)\n",
    "observation_index_points= tf.constant(train_sps, dtype=np.float64)\n",
    "ens_observations = tf.constant(train_ens, dtype=np.float64)\n",
    "frcs_observations = tf.constant(train_frcs, dtype=np.float64)\n",
    "#index_points = tf.constant(np.array(test_pos), dtype=np.float64)\n",
    "index_points = tf.constant(test_sps, dtype=np.float64)\n",
    "#\n",
    "shuffle_seed = 1\n",
    "batch_size = 3\n",
    "batch_size_custom_mse_max = 100\n",
    "learn_rate = 0.05\n",
    "n_epochs = 21; n_epochs_nll = n_epochs; n_epochs_custom = n_epochs\n",
    "iterations_per_epoch = int(len(train_ens)/batch_size)\n",
    "#\n",
    "\n",
    "\n",
    "# initialize kernels and model hyperparameters\n",
    "# ----------------------------------------------------------------------------------------\n",
    "noise_init = 1e2; bias_var_init = 1e-10; slope_var_init=1e2\n",
    "constrain_positive = tfb.Shift(np.finfo(np.float64).tiny)(tfb.Exp())\n",
    "# nll (old approach)\n",
    "exp_nll = tf.constant(2.0, dtype=np.float64)\n",
    "bias_variance_nll = tfp.util.TransformedVariable(initial_value=bias_var_init, bijector=constrain_positive, dtype=np.float64, name=\"bias_var_nll\")\n",
    "slope_variance_nll = tfp.util.TransformedVariable(initial_value=slope_var_init, bijector=constrain_positive, dtype=np.float64, name=\"slope_var_nll\")\n",
    "obs_noise_nll = tfp.util.TransformedVariable(initial_value=noise_init, bijector=constrain_positive, dtype=np.float64, name=\"noise_nll\")\n",
    "p_kernel_nll = tfk.Polynomial(exponent=exp_nll, slope_variance=slope_variance_nll, bias_variance=bias_variance_nll, name=\"p_kernel_nll\", feature_ndims=1)#SoapList.shape[1])\n",
    "trainable_variables_nll = [var.variables[0] for var in [ obs_noise_nll, bias_variance_nll, slope_variance_nll]]\n",
    "# mostly mse, my custom approach\n",
    "# allows for forces to be considered during training\n",
    "obs_noise_custom = tfp.util.TransformedVariable(initial_value=noise_init, bijector=constrain_positive, dtype=np.float64, name=\"noise_custom\")\n",
    "exp_custom = tf.constant(2.0, dtype=np.float64)\n",
    "p_kernel_custom = tfk.Polynomial(exponent=exp_custom, name=\"p_kernel_custom\", feature_ndims=1)#SoapList.shape[1])\n",
    "trainable_variables_custom = [var.variables[0] for var in [obs_noise_custom]]\n",
    "# ----------------------------------------------------------------------------------------\n",
    "\n",
    "\n",
    "# ----------------------------------------------------------------------------------------\n",
    "# old/nll approach\n",
    "# ----------------------------------------------------------------------------------------\n",
    "#@tf.function(autograph=False, experimental_compile=False)\n",
    "def loss_nll(index_points, observations):\n",
    "    gp = tfd.GaussianProcess(kernel=p_kernel_nll, index_points=index_points, observation_noise_variance=obs_noise_nll)\n",
    "    #print(\"index_points.shape = \", index_points.shape)\n",
    "    #print(\"observations.shape = \", observations.shape)\n",
    "    return -gp.log_prob(observations)\n",
    "\n",
    "# Define mini-batch data iterator\n",
    "batches_nll = (\n",
    "    tf.data.Dataset.from_tensor_slices((observation_index_points, ens_observations))\n",
    "    .shuffle(buffer_size=len(observation_index_points), seed=shuffle_seed)\n",
    "    .repeat(count=None)\n",
    "    .batch(batch_size)\n",
    ")\n",
    "#\n",
    "\n",
    "optimizer = tf.keras.optimizers.Adam(learning_rate=learn_rate)\n",
    "\n",
    "for j in range(n_epochs):\n",
    "    loss_nll_j = 0\n",
    "    for i, (index_points_i, ens_observations_i) in enumerate(islice(batches_nll, iterations_per_epoch)):\n",
    "        with tf.GradientTape() as tape:\n",
    "            loss_nll_i = loss_nll(index_points_i, ens_observations_i)\n",
    "            loss_nll_i = tf.constant(loss_nll_i, dtype=np.float64)\n",
    "            loss_nll_j += loss_nll_i\n",
    "        grads = tape.gradient(loss_nll_i, trainable_variables_nll)\n",
    "        optimizer.apply_gradients(zip(grads, trainable_variables_nll))\n",
    "    if not j % 10:\n",
    "        print(\"Old learning, epoch {} loss: {:10.0f}\".format(j, loss_nll_j))\n",
    "        print(bias_variance_nll)\n",
    "        print(slope_variance_nll)\n",
    "\n",
    "with tf.GradientTape(watch_accessed_variables=False) as tape_d_ens:\n",
    "    tape_d_ens.watch(index_points)    \n",
    "    gprm_nll = tfd.GaussianProcessRegressionModel(\n",
    "        kernel=kernel_nll,\n",
    "        index_points=index_points,\n",
    "        observation_index_points=observation_index_points,\n",
    "        observations=ens_observations,\n",
    "        observation_noise_variance=obs_noise_nll)\n",
    "    print(index_points.shape)\n",
    "    print(observation_index_points.shape)\n",
    "    print(ens_observations.shape)\n",
    "    predict_ens_nll = gprm_nll.mean()\n",
    "\n",
    "predict_d_ens_nll = tape_d_ens.gradient(predict_ens_nll, index_points)\n",
    "#print(predict_d_ens_nll[:1])\n",
    "#predict_d_ens_nll = predict_d_ens_nll[:,0,:]\n",
    "#print(predict_d_ens_nll[:1])\n",
    "\n",
    "print(\"predict_d_ens_nll.shape =\", predict_d_ens_nll.shape)\n",
    "print(\"test_d_sps.shape = \", test_d_sps.shape )\n",
    "print(\"\\ntest_d_sps[0][:,:,0] = \\n\", test_d_sps[0][:,:,0])\n",
    "print(\"\\npredict_d_ens_nll[0] = \\n\", predict_d_ens_nll[0])\n",
    "predict_frcs_nll = -1*np.einsum('imjkl,il->ijk', test_d_sps, predict_d_ens_nll)#[:,1] # only get force of one atom while we are doing global soap\n",
    "print(\"\\npredict_frcs_nll[0][:,0] = \\n\", predict_frcs_nll[0][:,0])\n",
    "\n",
    "# predict_d_ens_nll.shape = (75, 2, 18)\n",
    "# test_d_sps.shape =  (75, 2, 2, 3, 18)\n",
    "#     print(\"test_d_sps\", test_d_sps)\n",
    "#     print(\"predict_d_ens_nll\", predict_d_ens_nll)\n",
    "#     print(\"predict_frcs_nll\", -1*np.einsum('ijkl,il->ijk', test_d_sps, predict_d_ens_nll))\n",
    "# ----------------------------------------------------------------------------------------\n",
    "\n",
    "\n",
    "# ----------------------------------------------------------------------------------------\n",
    "# custom/mostly mse approach\n",
    "# ----------------------------------------------------------------------------------------\n",
    "if False:\n",
    "    @tf.function(autograph=False, experimental_compile=False)\n",
    "    def loss_custom_nll(index_points, observations):\n",
    "        gp = tfd.GaussianProcess(kernel=kernel_custom, index_points=index_points, observation_noise_variance=obs_noise_custom)\n",
    "        return -gp.log_prob(observations)\n",
    "\n",
    "    @tf.function(autograph=False, experimental_compile=False)\n",
    "    def mse(y_predict, y_true):\n",
    "        return tf.math.reduce_mean(tf.math.squared_difference(y_predict, y_true))\n",
    "\n",
    "    #@tf.function(autograph=False, experimental_compile=False)\n",
    "    def mse_2factor(y1_predict, y1_true, weight1, y2_predict, y2_true, weight2):\n",
    "        mse1 = mse(y1_predict, y1_true)\n",
    "#         print(\"mse1 = \", mse1)\n",
    "        mse2 = mse(y2_predict, y2_true)\n",
    "#         print(\"mse2 = \", mse2)\n",
    "        return mse1 * weight1 + mse2 * weight2\n",
    "\n",
    "    # batch it\n",
    "    batches_custom = (\n",
    "        tf.data.Dataset.from_tensor_slices((observation_index_points, ens_observations, frcs_observations))\n",
    "        .shuffle(buffer_size=len(observation_index_points), seed=shuffle_seed)\n",
    "        .repeat(count=None)\n",
    "        .batch(batch_size)\n",
    "    )\n",
    "\n",
    "    optimizer_custom = tf.keras.optimizers.Adam(learning_rate=learn_rate)\n",
    "\n",
    "    # First run through the data a few times, minimizing nll because this is more robust to bad hyperparameter initialization\n",
    "    n_epochs_custom_nll = 3\n",
    "    for j in range(n_epochs_custom_nll):\n",
    "        for i, (index_points_i, ens_observations_i, ignore_forces_here) in enumerate(islice(batches_custom, iterations_per_epoch)):\n",
    "                with tf.GradientTape() as tape:\n",
    "                    loss_custom_i = loss_custom_nll(index_points_i, ens_observations_i)\n",
    "                    loss_custom_i = tf.constant(loss_custom_i, dtype=np.float64)\n",
    "                grads = tape.gradient(loss_custom_i, trainable_variables_custom)\n",
    "                optimizer_custom.apply_gradients(zip(grads, trainable_variables_custom))\n",
    "\n",
    "    for j in range(n_epochs_custom):\n",
    "        if not j % 10:\n",
    "            print(\"Custom learning, epoch {}\".format(j+1))\n",
    "\n",
    "        split_data_j = train_test_split(train_sps, train_ens, train_d_sps, train_frcs, random_state =valid_split_seed+j, test_size=(1-valid_fract))\n",
    "        train_sps_j, valid_sps_j, train_ens_j, valid_ens_j, train_d_sps_j, valid_d_sps_j, train_frcs_j, valid_frcs_j = split_data_j\n",
    "        observation_index_points_j = tf.constant(train_sps_j, dtype=np.float64)\n",
    "        ens_observations_j = tf.constant(train_ens_j, dtype=np.float64)\n",
    "        d_sps_observations_j = tf.constant(train_d_sps_j, dtype=np.float64)\n",
    "        frcs_observations_j = tf.constant(train_frcs_j, dtype=np.float64)\n",
    "        heldout_index_points_j = tf.constant(valid_sps_j, dtype=np.float64)\n",
    "        heldout_ens_observations_j = tf.constant(valid_ens_j, dtype=np.float64)\n",
    "        heldout_d_sps_observations_j = tf.constant(valid_d_sps_j, dtype=np.float64)\n",
    "        heldout_frcs_observations_j = tf.constant(valid_frcs_j, dtype=np.float64)\n",
    "\n",
    "        if len(train_sps_j) < batch_size_custom_mse_max:\n",
    "            iterations_per_epoch_custom = 1\n",
    "            batch_size_custom = len(train_sps_j)\n",
    "        else:\n",
    "            iterations_per_epoch_custom = int(np.ceil(len(train_sps_j)/batch_size_custom_mse_max))\n",
    "            batch_size_custom = int(np.ceil(len(train_sps_j)/iterations_per_epoch_custom))\n",
    "\n",
    "        batches_custom_j = (\n",
    "            tf.data.Dataset.from_tensor_slices((observation_index_points_j, ens_observations_j, d_sps_observations_j, frcs_observations_j)) # frcs_observations_j_i might be extraneous\n",
    "            .shuffle(buffer_size=len(observation_index_points_j), seed=shuffle_seed) # Should I modify this to be seed = shuffle_seed + j or does it not matter?\n",
    "            .repeat(count=None)\n",
    "            .batch(batch_size_custom)\n",
    "        )\n",
    "        for i, (index_points_j_i, ens_observations_j_i, d_sps_observations_j_i, frcs_observations_j_i) \\\n",
    "                in enumerate(islice(batches_custom_j, iterations_per_epoch_custom)):\n",
    "            with tf.GradientTape() as tape:\n",
    "                with tf.GradientTape(watch_accessed_variables=False) as tape_d_ens:\n",
    "                    tape_d_ens.watch(heldout_index_points_j)    \n",
    "                    gprm_custom_j_i = tfd.GaussianProcessRegressionModel(\n",
    "                        kernel = kernel_custom,\n",
    "                        index_points = heldout_index_points_j,\n",
    "                        observation_index_points = index_points_j_i,\n",
    "                        observations = ens_observations_j_i,\n",
    "                        observation_noise_variance = obs_noise_custom)\n",
    "                    predict_ens_j_i = gprm_custom_j_i.sample()\n",
    "                predict_d_ens_j_i = tape_d_ens.gradient(predict_ens_j_i, heldout_index_points_j)\n",
    "                #predict_frcs_j_i = -predict_d_ens_j_i\n",
    "                predict_frcs_j_i = -1*np.einsum('imjkl,il->ijk', heldout_d_sps_observations_j, predict_d_ens_j_i)#[:,1] # only get force of one atom while we are doing global soap\n",
    "                error_custom_j_i = mse_2factor(predict_ens_j_i, heldout_ens_observations_j, 1/ens_var,\n",
    "                                               predict_frcs_j_i, heldout_frcs_observations_j, 1/frcs_var)\n",
    "#                 print(\"predict_ens_j_i = \", predict_ens_j_i)\n",
    "#                 print(\"heldout_ens_observations_j = \", heldout_ens_observations_j)\n",
    "#                 print(\"1/ens_var = \", 1/ens_var)\n",
    "#                 print(\"predict_frcs_j_i = \", predict_frcs_j_i)\n",
    "#                 print(\"heldout_frcs_observations_j = \", heldout_frcs_observations_j)\n",
    "#                 print(\"1/frcs_var = \",1/frcs_var)\n",
    "#                 print(\"error value is \", error_custom_j_i)\n",
    "\n",
    "            grads = tape.gradient(error_custom_j_i, trainable_variables_custom)\n",
    "            optimizer_custom.apply_gradients(zip(grads, trainable_variables_custom))\n",
    "\n",
    "\n",
    "    with tf.GradientTape(watch_accessed_variables=False) as tape_d_ens:\n",
    "        tape_d_ens.watch(index_points)    \n",
    "\n",
    "        gprm_custom = tfd.GaussianProcessRegressionModel(\n",
    "            kernel=kernel_custom,\n",
    "            index_points=index_points,\n",
    "            observation_index_points=observation_index_points,\n",
    "            observations=ens_observations,\n",
    "            observation_noise_variance=obs_noise_custom)\n",
    "\n",
    "        predict_ens_custom = gprm_custom.mean()\n",
    "\n",
    "    predict_d_ens_custom = tape_d_ens.gradient(predict_ens_custom, index_points)\n",
    "    #predict_frcs_custom = -predict_d_ens_custom.numpy()\n",
    "    predict_frcs_custom = -1*np.einsum('imjkl,il->ijk', test_d_sps, predict_d_ens_custom)#[:,1] # only get force of one atom while we are doing global soap\n",
    "# -------------------------------------------------------------------\n",
    "\n"
   ]
  },
  {
   "cell_type": "code",
   "execution_count": 80,
   "metadata": {},
   "outputs": [
    {
     "data": {
      "text/plain": [
       "<matplotlib.legend.Legend at 0x7fc268a71890>"
      ]
     },
     "execution_count": 80,
     "metadata": {},
     "output_type": "execute_result"
    },
    {
     "data": {
      "image/png": "[encoded data removed]",
      "text/plain": [
       "<Figure size 432x288 with 1 Axes>"
      ]
     },
     "metadata": {
      "needs_background": "light"
     },
     "output_type": "display_data"
    }
   ],
   "source": [
    "plot_custom = False; plot_nll = True\n",
    "plt.plot(test_ens, test_ens, \"-\", c=\"k\")\n",
    "if plot_custom:\n",
    "    plt.plot(test_ens, predict_ens_custom,\"o\", label=\"custom\", c=\"violet\", ms=10)\n",
    "if plot_nll:\n",
    "    plt.plot(test_ens, predict_ens_nll,\"o\", label=\"nll\", c=\"lime\", ms=5)\n",
    "plt.legend()"
   ]
  },
  {
   "cell_type": "code",
   "execution_count": null,
   "metadata": {},
   "outputs": [],
   "source": []
  },
  {
   "cell_type": "code",
   "execution_count": 57,
   "metadata": {},
   "outputs": [],
   "source": [
    "noise_init = 1e-5; amp_init = 1; len_init = 3\n",
    "constrain_positive = tfb.Shift(np.finfo(np.float64).tiny)(tfb.Exp())\n",
    "# nll (old approach)\n",
    "obs_noise_nll = tfp.util.TransformedVariable(initial_value=noise_init, bijector=constrain_positive, dtype=np.float64, name=\"noise_nll\")\n",
    "amplitude_nll = tfp.util.TransformedVariable(initial_value=amp_init, bijector=constrain_positive, dtype=np.float64, name=\"amplitude_nll\")\n",
    "len_scale_nll = tfp.util.TransformedVariable(initial_value=len_init, bijector=constrain_positive, dtype=np.float64, name=\"len_scale_nll\")\n",
    "kernel_nll = tfk.ExponentiatedQuadratic(amplitude=amplitude_nll, length_scale=len_scale_nll, name=\"kernel_nll\", feature_ndims=2)"
   ]
  },
  {
   "cell_type": "code",
   "execution_count": 58,
   "metadata": {},
   "outputs": [
    {
     "name": "stdout",
     "output_type": "stream",
     "text": [
      "batch_shape =  ()\n",
      "feature dimensions =  2\n",
      "obs_index_points.shape =  (3, 2, 18)\n",
      "observations.shape =  (3,)\n",
      "index_points.shape =  (5, 2, 18)\n",
      "predicitons =  tf.Tensor([0.38338199 0.58308328 0.43920567 0.54515858 0.59879727], shape=(5,), dtype=float64)\n"
     ]
    }
   ],
   "source": [
    "def loss_nll(index_points, observations):\n",
    "\n",
    "    gp = tfd.GaussianProcess(kernel=kernel_nll, index_points=index_points, observation_noise_variance=obs_noise_nll)\n",
    "    print(\"index_points.shape = \", index_points.shape)\n",
    "    print(\"observations.shape = \", observations.shape)\n",
    "    return -gp.log_prob(observations)\n",
    "\n",
    "def gprm(obs_index_points, observations, index_points):\n",
    "    print(\"batch_shape = \", kernel_nll.batch_shape)\n",
    "    print(\"feature dimensions = \", kernel_nll.feature_ndims)\n",
    "    print(\"obs_index_points.shape = \", obs_index_points.shape)    \n",
    "    print(\"observations.shape = \", observations.shape)\n",
    "    print(\"index_points.shape = \", index_points.shape)\n",
    "    gprm_nll = tfd.GaussianProcessRegressionModel(\n",
    "        kernel=kernel_nll,\n",
    "        index_points=index_points,\n",
    "        observation_index_points=obs_index_points,\n",
    "        observations=observations,\n",
    "        observation_noise_variance=obs_noise_nll)\n",
    "    return gprm_nll.mean()\n",
    "\n",
    "test_xs = tf.constant(rand.random(( 5,  2, 18)), dtype=np.float64)\n",
    "xs = tf.constant(rand.random((3, 2, 18)), dtype=np.float64)\n",
    "ys = rand.random(3)\n",
    "#ys[0] = [300 for y in ys[0]]\n",
    "ys = tf.constant(ys, dtype=np.float64)\n",
    "PrintNoScientificNotation(\"predicitons = \", gprm(xs, ys,test_xs))\n",
    "# This is not what we want\n",
    "# The first (batch) dimension is only used to predict corresponding outputs"
   ]
  },
  {
   "cell_type": "code",
   "execution_count": null,
   "metadata": {},
   "outputs": [],
   "source": []
  },
  {
   "cell_type": "markdown",
   "metadata": {},
   "source": [
    "# Save as script "
   ]
  },
  {
   "cell_type": "markdown",
   "metadata": {},
   "source": [
    "The following cell will save this notebook as a python script"
   ]
  },
  {
   "cell_type": "code",
   "execution_count": 1,
   "metadata": {},
   "outputs": [
    {
     "name": "stdout",
     "output_type": "stream",
     "text": [
      "[NbConvertApp] Converting notebook miniGAP.ipynb to script\n",
      "[NbConvertApp] Writing 69372 bytes to latest_miniGAP.py\n"
     ]
    }
   ],
   "source": [
    "!jupyter nbconvert --to script miniGAP.ipynb --output latest_miniGAP"
   ]
  }
 ],
 "metadata": {
  "kernelspec": {
   "display_name": "Python 3",
   "language": "python",
   "name": "python3"
  },
  "language_info": {
   "codemirror_mode": {
    "name": "ipython",
    "version": 3
   },
   "file_extension": ".py",
   "mimetype": "text/x-python",
   "name": "python",
   "nbconvert_exporter": "python",
   "pygments_lexer": "ipython3",
   "version": "3.7.4"
  }
 },
 "nbformat": 4,
 "nbformat_minor": 4
}
