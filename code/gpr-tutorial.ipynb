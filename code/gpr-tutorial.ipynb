{
 "cells": [
  {
   "cell_type": "code",
   "execution_count": 1,
   "id": "e669d4d6",
   "metadata": {},
   "outputs": [
    {
     "name": "stdout",
     "output_type": "stream",
     "text": [
      "This will get logged  \n",
      "hola\n",
      "this \n",
      "0.0.1\n"
     ]
    }
   ],
   "source": [
    "%matplotlib inline\n",
    "%config InlineBackend.figure_format='retina'\n",
    "\n",
    "# Common libraries\n",
    "from IPython.display import display\n",
    "import matplotlib\n",
    "\n",
    "import matplotlib.pyplot as plt\n",
    "import numpy as np\n",
    "\n",
    "import os\n",
    "#os.environ['TF_CPP_MIN_LOG_LEVEL'] = '1'\n",
    "#export CUDA_VISIBLE_DEVICE=\n",
    "#export CUDA_VISIBLE_DEVICE=0\n",
    "#export CUDA_VISIBLE_DEVICE=0,1\n",
    "\n",
    "os.environ['CUDA_VISIBLE_DEVICES'] = '-1'\n",
    "\n",
    "import sys\n",
    "from os.path import isfile, basename, join\n",
    "SRC_DIR='.'\n",
    "sys.path.append(join(SRC_DIR,'../code/'))\n",
    "import pathlib\n",
    "\n",
    "import minigap\n",
    "#import importlib\n",
    "#importlib.reload(module) \n",
    "\n",
    "from minigap.logging import logger\n",
    "\n",
    "logger.debug(\"this\")\n",
    "\n",
    "print(minigap.__version__)"
   ]
  },
  {
   "cell_type": "code",
   "execution_count": 2,
   "id": "59102439",
   "metadata": {},
   "outputs": [
    {
     "name": "stdout",
     "output_type": "stream",
     "text": [
      "2.8.0\n",
      "0 GPU(s) recognized by tensorflow: []\n"
     ]
    },
    {
     "name": "stderr",
     "output_type": "stream",
     "text": [
      "2022-03-08 17:37:56.641749: E tensorflow/stream_executor/cuda/cuda_driver.cc:271] failed call to cuInit: CUDA_ERROR_NO_DEVICE: no CUDA-capable device is detected\n",
      "2022-03-08 17:37:56.641798: I tensorflow/stream_executor/cuda/cuda_diagnostics.cc:169] retrieving CUDA diagnostic information for host: logos\n",
      "2022-03-08 17:37:56.641806: I tensorflow/stream_executor/cuda/cuda_diagnostics.cc:176] hostname: logos\n",
      "2022-03-08 17:37:56.641924: I tensorflow/stream_executor/cuda/cuda_diagnostics.cc:200] libcuda reported version is: 440.118.2\n",
      "2022-03-08 17:37:56.641961: I tensorflow/stream_executor/cuda/cuda_diagnostics.cc:204] kernel reported version is: 440.118.2\n",
      "2022-03-08 17:37:56.641970: I tensorflow/stream_executor/cuda/cuda_diagnostics.cc:310] kernel version seems to match DSO: 440.118.2\n"
     ]
    }
   ],
   "source": [
    "import tensorflow as tf\n",
    "print(tf.__version__)\n",
    "print(\"{} GPU(s) recognized by tensorflow:\".format(len(tf.config.list_physical_devices('GPU'))), tf.config.list_physical_devices('GPU'))"
   ]
  },
  {
   "cell_type": "code",
   "execution_count": 3,
   "id": "aa19e88e",
   "metadata": {},
   "outputs": [
    {
     "data": {
      "text/plain": [
       "'/home/vama/soft/python-tests/minigap/minigap'"
      ]
     },
     "execution_count": 3,
     "metadata": {},
     "output_type": "execute_result"
    }
   ],
   "source": [
    "miniGAP_parent_directory = str(pathlib.Path(minigap.__file__).parents[2])\n",
    "miniGAP_parent_directory"
   ]
  },
  {
   "cell_type": "code",
   "execution_count": 4,
   "id": "08fe7a19",
   "metadata": {},
   "outputs": [
    {
     "data": {
      "text/plain": [
       "'/home/vama/soft/python-tests/minigap/minigap/data'"
      ]
     },
     "execution_count": 4,
     "metadata": {},
     "output_type": "execute_result"
    }
   ],
   "source": [
    "miniGAP_parent_directory + \"/data\""
   ]
  },
  {
   "cell_type": "code",
   "execution_count": 5,
   "id": "fa34de03",
   "metadata": {},
   "outputs": [],
   "source": [
    "filename='/home/vama/soft/python-tests/minigap/minigap/results/librascal_distorted_propenols/miniGAP.settings'\n",
    "import json\n",
    "with open(filename, encoding = 'utf-8') as f:\n",
    "    userset =json.load(f)"
   ]
  },
  {
   "cell_type": "code",
   "execution_count": 7,
   "id": "4a02aef8",
   "metadata": {},
   "outputs": [
    {
     "data": {
      "text/plain": [
       "Settings(date='_2022_03_08', verbose=True, print_timings=True, log_level='debug', title='librascal_distorted_propenols', make_output_files=True, save_dataset_animation=True, append_date_to_title=False, suppress_banner=False, output_energy_units='eV', output_force_units='eV/ang', color='mediumseagreen', energy_plots=['predicted_vs_true', 'global_log_error_histogram', 'global_log_error_per_atom_histogram', 'local_log_error_histogram'], crop_energy_outliers=True, energy_error_bars=True, force_plots=['predicted_vs_true', 'log_error_histogram'], force_plots_components=['x', 'y', 'z', 'magnitude', 'theta'], crop_force_outliers=True, error_stats=['rmse', 'mae', 'mxae', 'r2', 'logvae', 'linfit'], energy_type='binding', use_forces=True, dtype='float64', structure_file='distorted_propenol.db', alt_energy_keyword='U0', input_energy_units='eV', input_force_units='eV/ang', is_periodic=False, import_fraction=0.5, chemical_formula=None, diatomic_element='H', diatomic_bond_length=1.2, molecular_dynamics=False, md_index=0, md_temp=0, md_energy_calculator='EMT', md_algorithm='VelocityVerlet', md_time_step=0.1, md_seed=1, n_total=1000, rcut=4, nmax=4, lmax=4, smear=0.3, attach_SOAP_center=True, kernel_type='polynomial', sparse_gpflow=True, n_sparse=600, split_seed=20211217, n_train=600, train_fraction=0.7, isolated_energy_units='eV', isolated_energies='H:-6.492647589968434::C:-38.054950840332474::O:-83.97955098636527', scale_soaps=False, sparse_features=False, n_sparse_features=200, prediction_calculation='predict_f', valid_fraction=0.9, batch_size_max=10000, learn_rate=0.02, n_epochs=0, min_print_frequency=2, my_priority='consistency', valid_split_seed=2, shuffle_seed=2, tf_seed=2, in_notebook=True)"
      ]
     },
     "execution_count": 7,
     "metadata": {},
     "output_type": "execute_result"
    }
   ],
   "source": [
    "mgset = minigap.mgset\n",
    "userset['import_fraction'] = .5\n",
    "userset['train_fraction'] = 0.7\n",
    "userset['lmax'] = 4\n",
    "userset['nmax'] = 4\n",
    "userset['n_epochs'] = 0\n",
    "userset['use_forces'] = True\n",
    "userset['sparse_gpflow'] = True\n",
    "mgset =minigap.update_settings(mgset, userset)\n",
    "\n",
    "s=minigap.settings_tuple(mgset)\n",
    "s"
   ]
  },
  {
   "cell_type": "code",
   "execution_count": 8,
   "id": "b64e2679",
   "metadata": {},
   "outputs": [
    {
     "data": {
      "text/plain": [
       "'distorted_propenol.db'"
      ]
     },
     "execution_count": 8,
     "metadata": {},
     "output_type": "execute_result"
    }
   ],
   "source": [
    "s.structure_file"
   ]
  },
  {
   "cell_type": "code",
   "execution_count": 9,
   "id": "168b1265",
   "metadata": {},
   "outputs": [
    {
     "name": "stdout",
     "output_type": "stream",
     "text": [
      "If you plan to use miniGAP with this dataset more than once, it is recommended that you convert this file to a .db file.             \n",
      "The conversion may be slow, but this will save significant time each run of miniGAP thereafter.             \n",
      "To perform this conversion, run the command 'code/convert_to_db.py /home/vama/soft/python-tests/minigap/minigap/data/distorted_propenol.db' from the minigap parent directory \n",
      "Importing 50% of dataset... \n",
      "Imported 1000 structures from distorted_propenol.db. Structures were taken uniformly from throughout dataset which contains 2000 total structures. \n"
     ]
    }
   ],
   "source": [
    "StructureList = minigap.import_structs(s , miniGAP_parent_directory)"
   ]
  },
  {
   "cell_type": "code",
   "execution_count": 9,
   "id": "1cca955d",
   "metadata": {},
   "outputs": [],
   "source": [
    "#miniGAP_parent_directory='/home/vama/soft/python-tests/minigap/minigap/code'"
   ]
  },
  {
   "cell_type": "code",
   "execution_count": 10,
   "id": "f6a4ef11",
   "metadata": {},
   "outputs": [],
   "source": [
    "data = minigap.dataset(StructureList,s)"
   ]
  },
  {
   "cell_type": "code",
   "execution_count": 11,
   "id": "d3214c2d",
   "metadata": {},
   "outputs": [
    {
     "name": "stdout",
     "output_type": "stream",
     "text": [
      "300\n",
      "300\n",
      "shift list= (300,)\n"
     ]
    }
   ],
   "source": [
    "#data.get_testid()\n",
    "thedatatest  = minigap.mgtrain(data, 'test')"
   ]
  },
  {
   "cell_type": "code",
   "execution_count": 12,
   "id": "594e5875",
   "metadata": {},
   "outputs": [
    {
     "name": "stdout",
     "output_type": "stream",
     "text": [
      "700\n",
      "shift list= (700,)\n",
      "(7000, 390)\n"
     ]
    }
   ],
   "source": [
    "thedatatrain  = minigap.mgtrain(data, 'train')\n",
    "print(thedatatrain.sps_full.shape)"
   ]
  },
  {
   "cell_type": "code",
   "execution_count": 13,
   "id": "b6015082",
   "metadata": {},
   "outputs": [
    {
     "data": {
      "text/plain": [
       "(7000, 390)"
      ]
     },
     "execution_count": 13,
     "metadata": {},
     "output_type": "execute_result"
    }
   ],
   "source": [
    "thedatatrain.sps_full.shape"
   ]
  },
  {
   "cell_type": "code",
   "execution_count": 14,
   "id": "04162201",
   "metadata": {},
   "outputs": [
    {
     "name": "stdout",
     "output_type": "stream",
     "text": [
      "Using a degree 2 polynomial kernel.\n"
     ]
    },
    {
     "name": "stderr",
     "output_type": "stream",
     "text": [
      "2022-03-08 17:15:23.569380: I tensorflow/core/platform/cpu_feature_guard.cc:151] This TensorFlow binary is optimized with oneAPI Deep Neural Network Library (oneDNN) to use the following CPU instructions in performance-critical operations:  AVX2 FMA\n",
      "To enable them in other operations, rebuild TensorFlow with the appropriate compiler flags.\n",
      "2022-03-08 17:15:23.603080: W tensorflow/python/util/util.cc:368] Sets are not currently considered sequences, but this may change in the future, so consider avoiding using them.\n"
     ]
    }
   ],
   "source": [
    "degree=2\n",
    "#kernel = pick_kernel(s.kernel_type, amplitude=1, verbose=s.verbose, degree=degree\n",
    "kernel = minigap.pick_kernel(s.kernel_type, amplitude=1, verbose=s.verbose,  degree=degree)"
   ]
  },
  {
   "cell_type": "code",
   "execution_count": 15,
   "id": "20b78d58",
   "metadata": {},
   "outputs": [
    {
     "name": "stdout",
     "output_type": "stream",
     "text": [
      "Training using 3000 atoms without batching.\n"
     ]
    }
   ],
   "source": [
    "gg = minigap.gpr(kernel,thedatatest)\n",
    "gg.model()"
   ]
  },
  {
   "cell_type": "code",
   "execution_count": 16,
   "id": "a0eee3c6",
   "metadata": {},
   "outputs": [
    {
     "name": "stdout",
     "output_type": "stream",
     "text": [
      "Predicting final energies\n",
      "Predicting final forces\n",
      "rescale\n"
     ]
    }
   ],
   "source": [
    "#testt = thedatatest.sps_full\n",
    "import timeit\n",
    "\n",
    "predict_ens, predict_ens_var, predict_frcs =gg.predict(thedatatest)"
   ]
  },
  {
   "cell_type": "code",
   "execution_count": 17,
   "id": "2212893b",
   "metadata": {},
   "outputs": [
    {
     "data": {
      "text/plain": [
       "(300,)"
      ]
     },
     "execution_count": 17,
     "metadata": {},
     "output_type": "execute_result"
    }
   ],
   "source": [
    "#pred_ens_rescaled = thedatatest.ens_scaler.inverse_transform(predict_ens).flatten()\n",
    "#pred_ens_rescaled = minigap.convert_energy(pred_ens_rescaled, \"eV\", s.output_energy_units)\n",
    "\n",
    "def get_global_ens(pred_ens_local, dataobj):\n",
    "    pred_en_shifts = minigap.convert_energy(dataobj.en_shift_list, \"eV\", dataobj.settings.output_energy_units)\n",
    "    pred_global_ens = (dataobj.struct_bools @ pred_ens_local).flatten() + pred_en_shifts\n",
    "    return pred_global_ens\n",
    "\n",
    "pred_globale = get_global_ens(predict_ens, thedatatest)\n",
    "# pred_global_ens.shape\n",
    "    \n",
    "# pred_en_shfts = minigap.convert_energy(thedataval.en_shift_list, \"eV\", s.output_energy_units)\n",
    "# pred_global_ens = (thedataval.struct_bools @ pred_ens_rescaled).flatten() + pred_en_shfts\n",
    "pred_globale.shape"
   ]
  },
  {
   "cell_type": "code",
   "execution_count": 18,
   "id": "d08ef6f5",
   "metadata": {},
   "outputs": [
    {
     "data": {
      "text/plain": [
       "(300,)"
      ]
     },
     "execution_count": 18,
     "metadata": {},
     "output_type": "execute_result"
    }
   ],
   "source": [
    "structest = data.getstruc_test()\n",
    "truens=np.array([minigap.get_ase_energy(atoms) for atoms in structest])\n",
    "    \n",
    "truens.shape"
   ]
  },
  {
   "cell_type": "code",
   "execution_count": 19,
   "id": "74aeb669",
   "metadata": {},
   "outputs": [
    {
     "data": {
      "image/png": "[encoded data removed]",
      "text/plain": [
       "<Figure size 432x288 with 1 Axes>"
      ]
     },
     "metadata": {
      "image/png": {
       "height": 248,
       "width": 393
      },
      "needs_background": "light"
     },
     "output_type": "display_data"
    },
    {
     "data": {
      "text/plain": [
       "0.2067417975089423"
      ]
     },
     "execution_count": 19,
     "metadata": {},
     "output_type": "execute_result"
    }
   ],
   "source": [
    "\n",
    "# # Fixing random state for reproducibility\n",
    "# np.random.seed(19680801)\n",
    "\n",
    "x= truens\n",
    "y= pred_globale\n",
    "\n",
    "#x = np.array(truens)\n",
    "#y = predict_global_ens\n",
    "# s = np.random.rand(*x.shape) * 800 + 500\n",
    "\n",
    "plt.scatter(x, y)\n",
    "# plt.xlabel(\"Leprechauns\")\n",
    "# plt.ylabel(\"Gold\")\n",
    "# plt.legend(loc='upper left')\n",
    "plt.show()\n",
    "\n",
    "\n",
    "y =  truens -  pred_globale\n",
    "ms = np.sqrt(np.mean(y**2))\n",
    "ms"
   ]
  },
  {
   "cell_type": "code",
   "execution_count": 29,
   "id": "2dea6781",
   "metadata": {},
   "outputs": [
    {
     "data": {
      "text/plain": [
       "4"
      ]
     },
     "execution_count": 29,
     "metadata": {},
     "output_type": "execute_result"
    }
   ],
   "source": [
    "mgset = minigap.mgset\n",
    "userset['import_fraction'] = .5\n",
    "userset['train_fraction'] = 0.7\n",
    "userset['lmax'] = 4\n",
    "userset['nmax'] = 4\n",
    "userset['n_epochs'] = 1\n",
    "userset['use_forces'] = True\n",
    "userset['sparse_gpflow'] = True\n",
    "mgset =minigap.update_settings(mgset, userset)\n",
    "\n",
    "s=minigap.settings_tuple(mgset)\n",
    "s.lmax"
   ]
  },
  {
   "cell_type": "markdown",
   "id": "e6686373",
   "metadata": {},
   "source": [
    "Break Train set and get validation"
   ]
  },
  {
   "cell_type": "code",
   "execution_count": 30,
   "id": "dbadd890",
   "metadata": {},
   "outputs": [
    {
     "data": {
      "text/plain": [
       "489"
      ]
     },
     "execution_count": 30,
     "metadata": {},
     "output_type": "execute_result"
    }
   ],
   "source": [
    "dataval = minigap.dataset(data.getstruc_train(),s)\n",
    "len(dataval.getstruc_train())"
   ]
  },
  {
   "cell_type": "code",
   "execution_count": 31,
   "id": "9a0ccb4b",
   "metadata": {},
   "outputs": [
    {
     "name": "stdout",
     "output_type": "stream",
     "text": [
      "489\n",
      "shift list= (489,)\n"
     ]
    }
   ],
   "source": [
    "thedataval  = minigap.mgtrain(dataval, 'train')"
   ]
  },
  {
   "cell_type": "code",
   "execution_count": 32,
   "id": "35bc0c78",
   "metadata": {},
   "outputs": [
    {
     "name": "stdout",
     "output_type": "stream",
     "text": [
      "211\n",
      "211\n",
      "shift list= (211,)\n"
     ]
    }
   ],
   "source": [
    "thedataval2  = minigap.mgtrain(dataval, 'test')"
   ]
  },
  {
   "cell_type": "code",
   "execution_count": 33,
   "id": "6ab9017a",
   "metadata": {},
   "outputs": [
    {
     "name": "stdout",
     "output_type": "stream",
     "text": [
      "Training using 4890 atoms without batching.\n"
     ]
    }
   ],
   "source": [
    "gg = minigap.gpr(kernel,thedataval)"
   ]
  },
  {
   "cell_type": "code",
   "execution_count": 34,
   "id": "d00dee8e",
   "metadata": {},
   "outputs": [
    {
     "name": "stdout",
     "output_type": "stream",
     "text": [
      "here0\n",
      "here <minigap.data.mgtrain object at 0x7ff6dcc24460> 1\n",
      "Epoch 0\n",
      "Using older approach (not converted to tf.function yet)\n",
      "╒═════════════════════════╤══════════════════╤══════════════════╤═════════╤═════════════╤═════════════╤═════════╤══════════════════════════════════════════════════════╕\n",
      "│ name                    │ class            │ transform        │ prior   │ trainable   │ shape       │ dtype   │ value                                                │\n",
      "╞═════════════════════════╪══════════════════╪══════════════════╪═════════╪═════════════╪═════════════╪═════════╪══════════════════════════════════════════════════════╡\n",
      "│ GPR.kernel.variance     │ Parameter        │ Softplus         │         │ True        │ ()          │ float64 │ 1.0004824804495756                                   │\n",
      "├─────────────────────────┼──────────────────┼──────────────────┼─────────┼─────────────┼─────────────┼─────────┼──────────────────────────────────────────────────────┤\n",
      "│ GPR.kernel.degree       │ Parameter        │ Identity         │         │ False       │ ()          │ float64 │ 2.0                                                  │\n",
      "├─────────────────────────┼──────────────────┼──────────────────┼─────────┼─────────────┼─────────────┼─────────┼──────────────────────────────────────────────────────┤\n",
      "│ GPR.kernel.offset       │ Parameter        │ Softplus         │         │ False       │ ()          │ float64 │ 2.2250738585072626e-308                              │\n",
      "├─────────────────────────┼──────────────────┼──────────────────┼─────────┼─────────────┼─────────────┼─────────┼──────────────────────────────────────────────────────┤\n",
      "│ GPR.likelihood.variance │ Parameter        │ Softplus + Shift │         │ True        │ ()          │ float64 │ 9.994036572839575e-05                                │\n",
      "├─────────────────────────┼──────────────────┼──────────────────┼─────────┼─────────────┼─────────────┼─────────┼──────────────────────────────────────────────────────┤\n",
      "│ GPR.data[0]             │ ResourceVariable │                  │         │ False       │ (4890, 390) │ float64 │ [[8.63425604e-03, 4.93409142e-03, -2.84695793e-02... │\n",
      "├─────────────────────────┼──────────────────┼──────────────────┼─────────┼─────────────┼─────────────┼─────────┼──────────────────────────────────────────────────────┤\n",
      "│ GPR.data[1]             │ ResourceVariable │                  │         │ False       │ (4890, 1)   │ float64 │ [[0.59074866...                                      │\n",
      "╘═════════════════════════╧══════════════════╧══════════════════╧═════════╧═════════════╧═════════════╧═════════╧══════════════════════════════════════════════════════╛\n",
      "Adding mse_ens_j_i to mse_ens_j: 2.9786211463475694e-06 + 0 = 2.9786211463475694e-06 \n",
      "Epoch 0,  mse = 2.9786211463475694e-06\n"
     ]
    }
   ],
   "source": [
    "gg.optimize(thedataval2)"
   ]
  },
  {
   "cell_type": "code",
   "execution_count": 37,
   "id": "f5a55b6c",
   "metadata": {},
   "outputs": [
    {
     "data": {
      "image/png": "[encoded data removed]",
      "text/plain": [
       "<Figure size 432x288 with 1 Axes>"
      ]
     },
     "metadata": {
      "image/png": {
       "height": 261,
       "width": 406
      },
      "needs_background": "light"
     },
     "output_type": "display_data"
    },
    {
     "name": "stdout",
     "output_type": "stream",
     "text": [
      "MSE = 0.2067417975089423\n"
     ]
    }
   ],
   "source": [
    "#pred_ens_rescaled = thedatatest.ens_scaler.inverse_transform(predict_ens).flatten()\n",
    "#pred_ens_rescaled = minigap.convert_energy(pred_ens_rescaled, \"eV\", s.output_energy_units)\n",
    "\n",
    "def get_global_ens(pred_ens_local, dataobj):\n",
    "    pred_en_shifts = minigap.convert_energy(dataobj.en_shift_list, \"eV\", dataobj.settings.output_energy_units)\n",
    "    pred_global_ens = (dataobj.struct_bools @ pred_ens_local).flatten() + pred_en_shifts\n",
    "    return pred_global_ens\n",
    "\n",
    "pred_globale = get_global_ens(predict_ens, thedatatest)\n",
    "# pred_global_ens.shape\n",
    "    \n",
    "# pred_en_shfts = minigap.convert_energy(thedataval.en_shift_list, \"eV\", s.output_energy_units)\n",
    "# pred_global_ens = (thedataval.struct_bools @ pred_ens_rescaled).flatten() + pred_en_shfts\n",
    "pred_globale.shape\n",
    "\n",
    "structest = data.getstruc_test()\n",
    "truens=np.array([minigap.get_ase_energy(atoms) for atoms in structest])\n",
    "    \n",
    "truens.shape\n",
    "\n",
    "\n",
    "# # Fixing random state for reproducibility\n",
    "# np.random.seed(19680801)\n",
    "\n",
    "x= truens\n",
    "y= pred_globale\n",
    "\n",
    "#x = np.array(truens)\n",
    "#y = predict_global_ens\n",
    "# s = np.random.rand(*x.shape) * 800 + 500\n",
    "\n",
    "plt.scatter(x, y)\n",
    "plt.xlabel(\"Pred E\")\n",
    "plt.ylabel(\"True E\")\n",
    "#plt.legend(loc='upper left')\n",
    "plt.show()\n",
    "\n",
    "\n",
    "y =  truens -  pred_globale\n",
    "ms = np.sqrt(np.mean(y**2))\n",
    "print('MSE = {}'.format(ms))\n"
   ]
  },
  {
   "cell_type": "code",
   "execution_count": 79,
   "id": "d3d96aab",
   "metadata": {},
   "outputs": [
    {
     "name": "stdout",
     "output_type": "stream",
     "text": [
      "700\n",
      "shift list= (700,)\n",
      "(7000, 390)\n"
     ]
    }
   ],
   "source": [
    "thedatatrain  = minigap.mgtrain(data, 'train')\n",
    "print(thedatatrain.sps_full.shape)"
   ]
  },
  {
   "cell_type": "code",
   "execution_count": 96,
   "id": "de5161bc",
   "metadata": {},
   "outputs": [
    {
     "name": "stderr",
     "output_type": "stream",
     "text": [
      "/home/vama/install/local/anaconda3/envs/minigapcpu/lib/python3.9/site-packages/skcosmo/utils/_orthogonalizers.py:57: UserWarning: Column vector contains only zeros.\n",
      "  warnings.warn(\"Column vector contains only zeros.\")\n"
     ]
    },
    {
     "name": "stdout",
     "output_type": "stream",
     "text": [
      "CUR sample selection\n",
      "(365, 390)\n"
     ]
    }
   ],
   "source": [
    "#minigap.sparsify(thedatatrain,thedatatest,sparsify_samples=True, n_samples=100, sparsify_features=True, n_features=100)\n",
    "minigap.sparsify(thedatatrain,thedatatest,sparsify_samples=True, n_samples=600, sparsify_features=False)\n",
    "print(thedatatrain.sps_sparse.shape)"
   ]
  },
  {
   "cell_type": "code",
   "execution_count": 82,
   "id": "6b4607f6",
   "metadata": {},
   "outputs": [
    {
     "name": "stdout",
     "output_type": "stream",
     "text": [
      "Using a degree 2 polynomial kernel.\n"
     ]
    }
   ],
   "source": [
    "degree=2\n",
    "#kernel = pick_kernel(s.kernel_type, amplitude=1, verbose=s.verbose, degree=degree\n",
    "kernel = minigap.pick_kernel(s.kernel_type, amplitude=1, verbose=s.verbose,  degree=degree)"
   ]
  },
  {
   "cell_type": "code",
   "execution_count": 83,
   "id": "074f3403",
   "metadata": {},
   "outputs": [
    {
     "name": "stdout",
     "output_type": "stream",
     "text": [
      "Training using 7000 atoms without batching.\n"
     ]
    }
   ],
   "source": [
    "gg = sgpr(kernel,thedatatrain)"
   ]
  },
  {
   "cell_type": "code",
   "execution_count": 84,
   "id": "19abf386",
   "metadata": {},
   "outputs": [],
   "source": [
    "gg.model()"
   ]
  },
  {
   "cell_type": "code",
   "execution_count": 85,
   "id": "a40097e4",
   "metadata": {},
   "outputs": [
    {
     "data": {
      "text/plain": [
       "(3000, 390)"
      ]
     },
     "execution_count": 85,
     "metadata": {},
     "output_type": "execute_result"
    }
   ],
   "source": [
    "thedatatest.sps_full.shape"
   ]
  },
  {
   "cell_type": "code",
   "execution_count": 86,
   "id": "d0656d8a",
   "metadata": {},
   "outputs": [
    {
     "name": "stdout",
     "output_type": "stream",
     "text": [
      "Predicting final energies\n",
      "Predicting final forces\n",
      "rescale\n"
     ]
    }
   ],
   "source": [
    "#testt = thedatatest.sps_full\n",
    "predict_ens, predict_ens_var, predict_frcs =gg.predict(thedatatest)"
   ]
  },
  {
   "cell_type": "code",
   "execution_count": 87,
   "id": "511045b3",
   "metadata": {},
   "outputs": [
    {
     "data": {
      "text/plain": [
       "array([ 54.98645477,   9.02765086,   9.02690298,   9.01535162,\n",
       "       -22.50915369, -22.53900996, -22.498738  , -22.53252794,\n",
       "       -22.54307553, -22.53768419])"
      ]
     },
     "execution_count": 87,
     "metadata": {},
     "output_type": "execute_result"
    }
   ],
   "source": [
    "predict_ens[:10]"
   ]
  },
  {
   "cell_type": "code",
   "execution_count": 88,
   "id": "50b4cbe1",
   "metadata": {},
   "outputs": [
    {
     "data": {
      "text/plain": [
       "(300,)"
      ]
     },
     "execution_count": 88,
     "metadata": {},
     "output_type": "execute_result"
    }
   ],
   "source": [
    "#pred_ens_rescaled = thedatatest.ens_scaler.inverse_transform(predict_ens).flatten()\n",
    "#pred_ens_rescaled = minigap.convert_energy(pred_ens_rescaled, \"eV\", s.output_energy_units)\n",
    "\n",
    "def get_global_ens(pred_ens_local, dataobj):\n",
    "    pred_en_shifts = minigap.convert_energy(dataobj.en_shift_list, \"eV\", dataobj.settings.output_energy_units)\n",
    "    pred_global_ens = (dataobj.struct_bools @ pred_ens_local).flatten() + pred_en_shifts\n",
    "    return pred_global_ens\n",
    "\n",
    "pred_globale = get_global_ens(predict_ens, thedatatest)\n",
    "# pred_global_ens.shape\n",
    "    \n",
    "# pred_en_shfts = minigap.convert_energy(thedataval.en_shift_list, \"eV\", s.output_energy_units)\n",
    "# pred_global_ens = (thedataval.struct_bools @ pred_ens_rescaled).flatten() + pred_en_shfts\n",
    "pred_globale.shape"
   ]
  },
  {
   "cell_type": "code",
   "execution_count": 89,
   "id": "b4e11792",
   "metadata": {},
   "outputs": [
    {
     "data": {
      "text/plain": [
       "(300,)"
      ]
     },
     "execution_count": 89,
     "metadata": {},
     "output_type": "execute_result"
    }
   ],
   "source": [
    "structest = data.getstruc_test()\n",
    "truens=np.array([minigap.get_ase_energy(atoms) for atoms in structest])\n",
    "    \n",
    "truens.shape"
   ]
  },
  {
   "cell_type": "code",
   "execution_count": 54,
   "id": "0df32e5e",
   "metadata": {},
   "outputs": [
    {
     "data": {
      "image/png": "[encoded data removed]",
      "text/plain": [
       "<Figure size 432x288 with 1 Axes>"
      ]
     },
     "metadata": {
      "image/png": {
       "height": 248,
       "width": 393
      },
      "needs_background": "light"
     },
     "output_type": "display_data"
    },
    {
     "data": {
      "text/plain": [
       "0.3906781694498966"
      ]
     },
     "execution_count": 54,
     "metadata": {},
     "output_type": "execute_result"
    }
   ],
   "source": [
    "\n",
    "# # Fixing random state for reproducibility\n",
    "# np.random.seed(19680801)\n",
    "\n",
    "x= truens\n",
    "y= pred_globale\n",
    "\n",
    "#x = np.array(truens)\n",
    "#y = predict_global_ens\n",
    "# s = np.random.rand(*x.shape) * 800 + 500\n",
    "\n",
    "plt.scatter(x, y)\n",
    "# plt.xlabel(\"Leprechauns\")\n",
    "# plt.ylabel(\"Gold\")\n",
    "# plt.legend(loc='upper left')\n",
    "plt.show()\n",
    "\n",
    "\n",
    "y =  truens -  pred_globale\n",
    "ms = np.sqrt(np.mean(y**2))\n",
    "ms"
   ]
  },
  {
   "cell_type": "code",
   "execution_count": 90,
   "id": "593999c3",
   "metadata": {},
   "outputs": [
    {
     "data": {
      "text/plain": [
       "(3000, 3)"
      ]
     },
     "execution_count": 90,
     "metadata": {},
     "output_type": "execute_result"
    }
   ],
   "source": [
    "predict_frcs.shape"
   ]
  },
  {
   "cell_type": "code",
   "execution_count": 91,
   "id": "4215560e",
   "metadata": {},
   "outputs": [
    {
     "data": {
      "text/plain": [
       "array([[ 7.48672813, -3.86536187,  3.00928628],\n",
       "       [ 1.59677222, -1.77887099, -3.00883682],\n",
       "       [-5.65218511,  0.09596642,  1.7408573 ],\n",
       "       [ 0.901414  , -3.18075952,  2.20430072],\n",
       "       [-3.97460512, -2.97028122, -3.11350599]])"
      ]
     },
     "execution_count": 91,
     "metadata": {},
     "output_type": "execute_result"
    }
   ],
   "source": [
    "predict_frcs[:5]"
   ]
  },
  {
   "cell_type": "code",
   "execution_count": 92,
   "id": "bf413c8d",
   "metadata": {},
   "outputs": [
    {
     "data": {
      "text/plain": [
       "(3000,)"
      ]
     },
     "execution_count": 92,
     "metadata": {},
     "output_type": "execute_result"
    }
   ],
   "source": [
    "predict_frcs[:,0].shape"
   ]
  },
  {
   "cell_type": "code",
   "execution_count": 93,
   "id": "174dee84",
   "metadata": {},
   "outputs": [
    {
     "data": {
      "text/plain": [
       "array([ 0.22028894, -0.08014157, -0.07918235, ...,  0.07647048,\n",
       "        0.0037277 , -0.00488026])"
      ]
     },
     "execution_count": 93,
     "metadata": {},
     "output_type": "execute_result"
    }
   ],
   "source": [
    "thedatatest.frcs[:,0]"
   ]
  },
  {
   "cell_type": "code",
   "execution_count": 94,
   "id": "28b946df",
   "metadata": {},
   "outputs": [
    {
     "data": {
      "image/png": "[encoded data removed]",
      "text/plain": [
       "<Figure size 432x288 with 1 Axes>"
      ]
     },
     "metadata": {
      "image/png": {
       "height": 248,
       "width": 377
      },
      "needs_background": "light"
     },
     "output_type": "display_data"
    },
    {
     "data": {
      "text/plain": [
       "2.7628227473279816"
      ]
     },
     "execution_count": 94,
     "metadata": {},
     "output_type": "execute_result"
    }
   ],
   "source": [
    "\n",
    "# # Fixing random state for reproducibility\n",
    "# np.random.seed(19680801)\n",
    "\n",
    "x= thedatatest.frcs[:,0]\n",
    "y= predict_frcs[:,0]\n",
    "\n",
    "#x = np.array(truens)\n",
    "#y = predict_global_ens\n",
    "# s = np.random.rand(*x.shape) * 800 + 500\n",
    "\n",
    "plt.scatter(x, y)\n",
    "# plt.xlabel(\"Leprechauns\")\n",
    "# plt.ylabel(\"Gold\")\n",
    "# plt.legend(loc='upper left')\n",
    "plt.show()\n",
    "\n",
    "\n",
    "y =  thedatatest.frcs[:,0] -  predict_frcs[:,0]\n",
    "ms = np.sqrt(np.mean(y**2))\n",
    "ms"
   ]
  },
  {
   "cell_type": "code",
   "execution_count": null,
   "id": "d93bddf6",
   "metadata": {},
   "outputs": [],
   "source": []
  },
  {
   "cell_type": "code",
   "execution_count": null,
   "id": "627b58f9",
   "metadata": {},
   "outputs": [],
   "source": []
  }
 ],
 "metadata": {
  "kernelspec": {
   "display_name": "Python 3 (ipykernel)",
   "language": "python",
   "name": "python3"
  },
  "language_info": {
   "codemirror_mode": {
    "name": "ipython",
    "version": 3
   },
   "file_extension": ".py",
   "mimetype": "text/x-python",
   "name": "python",
   "nbconvert_exporter": "python",
   "pygments_lexer": "ipython3",
   "version": "3.9.12"
  }
 },
 "nbformat": 4,
 "nbformat_minor": 5
}
